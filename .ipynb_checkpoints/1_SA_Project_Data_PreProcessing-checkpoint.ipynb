{
 "cells": [
  {
   "cell_type": "markdown",
   "metadata": {
    "id": "fOTWSnhftGTv"
   },
   "source": [
    "# SENTIMENT ANALYSIS AND OPINION MINING PROJECT\n",
    "## PUBLIC OPINION ON NEWS\n",
    "\n",
    "https://island.ricerca.di.unimi.it/~alfio/shared/textsent/2020-21/projects.html\n",
    "\n",
    "The New York Times Comments dataset (https://www.kaggle.com/aashita/nyt-comments?select=CommentsApril2017.csv) contains articles published on the New York Times and the comments they received from readers. <br>\n",
    "The task of the project is to analyze, using the variables *editorsSelection*, *recommendations*, and *replyCount* as targets, the rate of success of a comment. This rate of success should be intepreted as a measure of how much controversial was the commented article. On this base, the project aims at studing which topics (indicated by the features sectionName and/or newDesk) were mostly controversial. Optionally, the project could also determine if a comment opinion is against or if favor of the article."
   ]
  },
  {
   "cell_type": "markdown",
   "metadata": {},
   "source": [
    "# 1. DATA PRE-PROCESSING"
   ]
  },
  {
   "cell_type": "code",
   "execution_count": 1,
   "metadata": {
    "id": "REm60DfxtGTy"
   },
   "outputs": [],
   "source": [
    "import pandas as pd\n",
    "import numpy as np\n",
    "import os"
   ]
  },
  {
   "cell_type": "code",
   "execution_count": 3,
   "metadata": {},
   "outputs": [
    {
     "name": "stdout",
     "output_type": "stream",
     "text": [
      "Collecting torchvision\n",
      "  Downloading torchvision-0.9.1-cp38-cp38-macosx_10_9_x86_64.whl (13.2 MB)\n",
      "\u001b[K     |████████████████████████████████| 13.2 MB 7.0 MB/s eta 0:00:01\n",
      "\u001b[?25hRequirement already satisfied: pillow>=4.1.1 in /Users/Niki/opt/anaconda3/lib/python3.8/site-packages (from torchvision) (8.0.1)\n",
      "Requirement already satisfied: numpy in /Users/Niki/opt/anaconda3/lib/python3.8/site-packages (from torchvision) (1.19.2)\n",
      "Requirement already satisfied: torch==1.8.1 in /Users/Niki/opt/anaconda3/lib/python3.8/site-packages (from torchvision) (1.8.1)\n",
      "Requirement already satisfied: typing-extensions in /Users/Niki/opt/anaconda3/lib/python3.8/site-packages (from torch==1.8.1->torchvision) (3.7.4.3)\n",
      "Installing collected packages: torchvision\n",
      "Successfully installed torchvision-0.9.1\n",
      "Note: you may need to restart the kernel to use updated packages.\n"
     ]
    }
   ],
   "source": [
    "pip install torchvision"
   ]
  },
  {
   "cell_type": "code",
   "execution_count": 4,
   "metadata": {
    "id": "MCTPuY7ctGTz"
   },
   "outputs": [],
   "source": [
    "import pandas as pd\n",
    "import numpy as np\n",
    "import seaborn as sns\n",
    "import matplotlib.pylab as plt\n",
    "\n",
    "import os\n",
    "import pickle\n",
    "from tqdm.auto import tqdm\n",
    "#from glob import glob\n",
    "import json\n",
    "from sklearn.model_selection import train_test_split\n",
    "\n",
    "import torch\n",
    "import torch.nn.functional as F\n",
    "#import torchvision\n",
    "#import torchvision.transforms as transforms\n",
    "from torch.utils.data import Dataset, DataLoader\n",
    "import gensim\n",
    "import random\n",
    "\n",
    "from sklearn.preprocessing import LabelEncoder\n",
    "from sklearn.preprocessing import OneHotEncoder\n",
    "from sklearn.preprocessing import RobustScaler\n",
    "from scipy.sparse import csr_matrix\n",
    "from scipy.sparse import coo_matrix, hstack\n",
    "from sklearn.feature_extraction.text import TfidfVectorizer"
   ]
  },
  {
   "cell_type": "markdown",
   "metadata": {
    "id": "siH6x1pAG7Sd"
   },
   "source": [
    "## DATA DOWNLOAD "
   ]
  },
  {
   "cell_type": "markdown",
   "metadata": {
    "id": "RL3A4JsTsTRO"
   },
   "source": [
    "Create a directory where the dataset is downloaded and remove the useless folders"
   ]
  },
  {
   "cell_type": "code",
   "execution_count": null,
   "metadata": {
    "id": "YpuoxuPqFzwp"
   },
   "outputs": [],
   "source": [
    "! mkdir -p 'PROJECT_SA/dataset'\n",
    "! unzip PROJECT_SA/data_NYTC.zip -d PROJECT_SA/dataset_NYTC &> /dev/null"
   ]
  },
  {
   "cell_type": "code",
   "execution_count": 8,
   "metadata": {},
   "outputs": [
    {
     "name": "stdout",
     "output_type": "stream",
     "text": [
      "ArticlesApril2017.csv ArticlesMarch2017.csv CommentsFeb2018.csv\n",
      "ArticlesApril2018.csv ArticlesMarch2018.csv CommentsJan2017.csv\n",
      "ArticlesFeb2017.csv   ArticlesMay2017.csv   CommentsJan2018.csv\n",
      "ArticlesFeb2018.csv   CommentsApril2017.csv CommentsMarch2017.csv\n",
      "ArticlesJan2017.csv   CommentsApril2018.csv CommentsMarch2018.csv\n",
      "ArticlesJan2018.csv   CommentsFeb2017.csv   CommentsMay2017.csv\n"
     ]
    }
   ],
   "source": [
    "!ls 'PROJECT_SA/dataset_NYTC'"
   ]
  },
  {
   "cell_type": "code",
   "execution_count": 9,
   "metadata": {
    "id": "QojHMTrxtGT0"
   },
   "outputs": [],
   "source": [
    "datasets = !ls 'PROJECT_SA/dataset_NYTC'\n",
    "datasets = functools.reduce(operator.iconcat, [d.split() for d in datasets], [])"
   ]
  },
  {
   "cell_type": "code",
   "execution_count": 10,
   "metadata": {
    "id": "CoDp58GNtGT1",
    "scrolled": true
   },
   "outputs": [],
   "source": [
    "def load_data():\n",
    "    \n",
    "    data = {}\n",
    "    for name,file in zip(['Comments', 'Articles'], ['/content/dataset/CommentsApril2017.csv','/content/dataset/ArticlesApril2017.csv']):\n",
    "        save_files = {}\n",
    "        for file in (d for d in datasets if d.startswith(name)) :\n",
    "          save_files[str(file)] = pd.read_csv(os.path.join('PROJECT_SA/dataset_NYTC',file), error_bad_lines=False)\n",
    "        p = pd.DataFrame(index=save_files[file].columns)\n",
    "\n",
    "        for key,value in save_files.items():\n",
    "          p = pd.concat([p,pd.DataFrame(save_files[key].dtypes)], axis='columns')\n",
    "\n",
    "        data[name] = pd.DataFrame(columns=save_files[file].columns)\n",
    "        for key,value in tqdm(save_files.items()):\n",
    "          data[name] = pd.concat([data[name],save_files[key]],join='outer')\n",
    "        \n",
    "    return data['Comments'], data['Articles'] "
   ]
  },
  {
   "cell_type": "code",
   "execution_count": null,
   "metadata": {
    "colab": {
     "base_uri": "https://localhost:8080/",
     "height": 417,
     "referenced_widgets": [
      "b4cf68560b2e4b559d90eeebd3e3727a",
      "c903cc64bda14432995865b6588b8096",
      "c20213321d5245f387cfc9b908bc1631",
      "56a00e4a01544d7fb702aa0e6ebbdaec",
      "012e0e5ac2ec4fada291b58249c7d6c2",
      "c7be550e974a487d8ae2398e03be8a7a",
      "a1a7093621f24a38b23a08b1a40d279d",
      "26320fde959f4656b5d455064bc6da50",
      "8daac3ffb6b040c8888be75abb6f5a3b",
      "9bceefc8e3cd409daa6a3d47b9b4ac04",
      "d24aa2e541e0471d9225877db3d7b3da",
      "ed4d8e6dae8542bdb24c5cfb299d0e93",
      "8c422275ab734cde8d47b53b06223c40",
      "8ef00da3dcca4f6c91a4124180c7823d",
      "47ff5ab2104a40cca61e7c9faac8d537",
      "7f86c3bdfa904690881b60f3381fcb19"
     ]
    },
    "id": "D_bAp0G8tGT1",
    "outputId": "e9b29e2d-6ee6-4fe2-b6a1-16c3efaab6ee"
   },
   "outputs": [
    {
     "name": "stderr",
     "output_type": "stream",
     "text": [
      "/usr/local/lib/python3.7/dist-packages/IPython/core/interactiveshell.py:2822: DtypeWarning: Columns (32) have mixed types.Specify dtype option on import or set low_memory=False.\n",
      "  if self.run_code(code, result):\n",
      "/usr/local/lib/python3.7/dist-packages/IPython/core/interactiveshell.py:2822: DtypeWarning: Columns (14,15,31,32) have mixed types.Specify dtype option on import or set low_memory=False.\n",
      "  if self.run_code(code, result):\n",
      "/usr/local/lib/python3.7/dist-packages/IPython/core/interactiveshell.py:2822: DtypeWarning: Columns (25,26) have mixed types.Specify dtype option on import or set low_memory=False.\n",
      "  if self.run_code(code, result):\n",
      "/usr/local/lib/python3.7/dist-packages/IPython/core/interactiveshell.py:2822: DtypeWarning: Columns (32,33) have mixed types.Specify dtype option on import or set low_memory=False.\n",
      "  if self.run_code(code, result):\n",
      "/usr/local/lib/python3.7/dist-packages/IPython/core/interactiveshell.py:2822: DtypeWarning: Columns (14,15,31) have mixed types.Specify dtype option on import or set low_memory=False.\n",
      "  if self.run_code(code, result):\n"
     ]
    },
    {
     "data": {
      "application/vnd.jupyter.widget-view+json": {
       "model_id": "b4cf68560b2e4b559d90eeebd3e3727a",
       "version_major": 2,
       "version_minor": 0
      },
      "text/plain": [
       "HBox(children=(FloatProgress(value=0.0, max=9.0), HTML(value='')))"
      ]
     },
     "metadata": {
      "tags": []
     },
     "output_type": "display_data"
    },
    {
     "name": "stdout",
     "output_type": "stream",
     "text": [
      "\n"
     ]
    },
    {
     "data": {
      "application/vnd.jupyter.widget-view+json": {
       "model_id": "8daac3ffb6b040c8888be75abb6f5a3b",
       "version_major": 2,
       "version_minor": 0
      },
      "text/plain": [
       "HBox(children=(FloatProgress(value=0.0, max=9.0), HTML(value='')))"
      ]
     },
     "metadata": {
      "tags": []
     },
     "output_type": "display_data"
    },
    {
     "name": "stdout",
     "output_type": "stream",
     "text": [
      "\n"
     ]
    }
   ],
   "source": [
    "comments, articles = load_data()"
   ]
  },
  {
   "cell_type": "markdown",
   "metadata": {
    "id": "pnvX-Y7ktGT2"
   },
   "source": [
    "## REMOVE NAN VALUES"
   ]
  },
  {
   "cell_type": "markdown",
   "metadata": {
    "id": "Y5yhG3G2uNZY"
   },
   "source": [
    "**COMMENTS TABLE**"
   ]
  },
  {
   "cell_type": "code",
   "execution_count": null,
   "metadata": {
    "colab": {
     "base_uri": "https://localhost:8080/"
    },
    "id": "amPkUrWEtGT2",
    "outputId": "836e0b0c-36f3-40cf-f739-9bd573bbb604"
   },
   "outputs": [
    {
     "data": {
      "text/plain": [
       "(2176364, 34)"
      ]
     },
     "execution_count": 16,
     "metadata": {
      "tags": []
     },
     "output_type": "execute_result"
    }
   ],
   "source": [
    "comments.shape"
   ]
  },
  {
   "cell_type": "code",
   "execution_count": null,
   "metadata": {
    "colab": {
     "base_uri": "https://localhost:8080/"
    },
    "id": "nxfAHid8tGT3",
    "outputId": "851d8443-219c-40c7-a7a1-86e8d939b8a1"
   },
   "outputs": [
    {
     "data": {
      "text/plain": [
       "(9335, 16)"
      ]
     },
     "execution_count": 17,
     "metadata": {
      "tags": []
     },
     "output_type": "execute_result"
    }
   ],
   "source": [
    "articles.shape"
   ]
  },
  {
   "cell_type": "code",
   "execution_count": null,
   "metadata": {
    "colab": {
     "base_uri": "https://localhost:8080/"
    },
    "id": "Vt89M4yOtGT4",
    "outputId": "37801b69-6e2f-478e-8f07-a5e88d52f8af"
   },
   "outputs": [
    {
     "data": {
      "text/plain": [
       "approveDate                    0\n",
       "commentBody                    0\n",
       "commentID                      0\n",
       "commentSequence                0\n",
       "commentTitle               76803\n",
       "commentType                    0\n",
       "createDate                     0\n",
       "depth                          0\n",
       "editorsSelection               0\n",
       "parentID                       0\n",
       "parentUserDisplayName    1596067\n",
       "permID                        22\n",
       "picURL                         0\n",
       "recommendations                0\n",
       "recommendedFlag          2176364\n",
       "replyCount                     0\n",
       "reportAbuseFlag          2176364\n",
       "sharing                        0\n",
       "status                         0\n",
       "timespeople                    0\n",
       "trusted                        0\n",
       "updateDate                     0\n",
       "userDisplayName              677\n",
       "userID                         0\n",
       "userLocation                 504\n",
       "userTitle                2176039\n",
       "userURL                  2176341\n",
       "inReplyTo                      0\n",
       "articleID                      0\n",
       "sectionName               149613\n",
       "newDesk                        0\n",
       "articleWordCount               0\n",
       "printPage                      0\n",
       "typeOfMaterial                 0\n",
       "dtype: int64"
      ]
     },
     "execution_count": 18,
     "metadata": {
      "tags": []
     },
     "output_type": "execute_result"
    }
   ],
   "source": [
    "comments.isna().sum(axis=0)"
   ]
  },
  {
   "cell_type": "code",
   "execution_count": null,
   "metadata": {
    "colab": {
     "base_uri": "https://localhost:8080/"
    },
    "id": "EhJLGHXUtGT4",
    "outputId": "cd5d7606-9f7e-4c09-d48d-1de261642dc8"
   },
   "outputs": [
    {
     "data": {
      "text/plain": [
       "array(['<br/>', nan], dtype=object)"
      ]
     },
     "execution_count": 19,
     "metadata": {
      "tags": []
     },
     "output_type": "execute_result"
    }
   ],
   "source": [
    "comments['commentTitle'].unique() #<br/>"
   ]
  },
  {
   "cell_type": "code",
   "execution_count": null,
   "metadata": {
    "colab": {
     "base_uri": "https://localhost:8080/"
    },
    "id": "FBQujKC2tGT5",
    "outputId": "f9786a31-d3aa-4830-aedd-7a8d61a5e2aa"
   },
   "outputs": [
    {
     "data": {
      "text/plain": [
       "array(['Unknown', 'Politics', 'Television', 'Europe', 'Middle East',\n",
       "       'Pro Football', 'Asia Pacific', 'Live', 'The Daily', 'Mind',\n",
       "       'Art & Design', 'Wine, Beer & Cocktails', 'Americas',\n",
       "       'Sunday Review', 'Economy', 'Family', 'Dance', 'Africa',\n",
       "       'Energy & Environment ', 'DealBook', 'Book Review', 'Music',\n",
       "       'Olympics', 'Move', 'Lesson Plans', 'Entrepreneurship', 'Baseball',\n",
       "       'Media', 'Entertainment', 'Opinion | Politics', 'Weddings',\n",
       "       'Real Estate', 'Eat', 'College Basketball', 'Australia',\n",
       "       'Retirement', 'Neighborhoods', 'Personal Tech', 'Pro Basketball',\n",
       "       'Soccer', 'College Football', 'Room For Debate', 'Tennis',\n",
       "       'Canada', 'Education Life', 'Editorials', 'Fashion & Beauty',\n",
       "       'World Cup', 'Hockey', 'Golf', 'Student Loans', 'Auto Racing',\n",
       "       \"401(k)'s and Similar Plans\", 'Rugby', 'Paying for College',\n",
       "       'Insider Events', 'Cycling', 'Learning', nan, 'Automobiles',\n",
       "       'Food', 'Art', 'Opinion | The World', 'Cricket'], dtype=object)"
      ]
     },
     "execution_count": 20,
     "metadata": {
      "tags": []
     },
     "output_type": "execute_result"
    }
   ],
   "source": [
    "comments['sectionName'].unique()"
   ]
  },
  {
   "cell_type": "markdown",
   "metadata": {
    "id": "SgETdigUtGT6"
   },
   "source": [
    "The columns to be dropped are parentUserDisplayName, recommendedFlag, reportAbuseFlag, userTitle, userURL, commentTitle. <br>\n",
    "columns containing some nan values are userLocation, userDisplayName, permID,sectionName.\n",
    "\n",
    "Check for columns containing '<br\\/>', which is the line break XHTML tag."
   ]
  },
  {
   "cell_type": "code",
   "execution_count": null,
   "metadata": {
    "colab": {
     "base_uri": "https://localhost:8080/"
    },
    "id": "k3t2eUM0tGT6",
    "outputId": "c450de98-6adf-48de-b39f-8316583edce7"
   },
   "outputs": [
    {
     "data": {
      "text/plain": [
       "approveDate                    0\n",
       "commentBody                    1\n",
       "commentID                      0\n",
       "commentSequence                0\n",
       "commentTitle             2099561\n",
       "commentType                    0\n",
       "createDate                     0\n",
       "depth                          0\n",
       "editorsSelection               0\n",
       "parentID                       0\n",
       "parentUserDisplayName          0\n",
       "permID                         0\n",
       "picURL                         0\n",
       "recommendations                0\n",
       "recommendedFlag                0\n",
       "replyCount                     0\n",
       "reportAbuseFlag                0\n",
       "sharing                        0\n",
       "status                         0\n",
       "timespeople                    0\n",
       "trusted                        0\n",
       "updateDate                     0\n",
       "userDisplayName                0\n",
       "userID                         0\n",
       "userLocation               16319\n",
       "userTitle                      0\n",
       "userURL                        0\n",
       "inReplyTo                      0\n",
       "articleID                      0\n",
       "sectionName                    0\n",
       "newDesk                        0\n",
       "articleWordCount               0\n",
       "printPage                      0\n",
       "typeOfMaterial                 0\n",
       "dtype: int64"
      ]
     },
     "execution_count": 21,
     "metadata": {
      "tags": []
     },
     "output_type": "execute_result"
    }
   ],
   "source": [
    "(comments == '<br/>').sum(axis=0)"
   ]
  },
  {
   "cell_type": "markdown",
   "metadata": {
    "id": "6fUvyB6ZtGT7"
   },
   "source": [
    "Column to be removed is commentTitle. moreover, drop rows in user location with '<br\\/>'"
   ]
  },
  {
   "cell_type": "markdown",
   "metadata": {
    "id": "T14CpJEGtGT7"
   },
   "source": [
    "Drop columns"
   ]
  },
  {
   "cell_type": "code",
   "execution_count": null,
   "metadata": {
    "id": "dfd7wmc7tGT7"
   },
   "outputs": [],
   "source": [
    "comments = comments.drop(['commentTitle','parentUserDisplayName','recommendedFlag','reportAbuseFlag','userURL'], axis='columns')"
   ]
  },
  {
   "cell_type": "markdown",
   "metadata": {
    "id": "JXANWoK8rk4j"
   },
   "source": [
    "Moreover columns *permID* and *userDisplayName* are useless, so we can remove them"
   ]
  },
  {
   "cell_type": "code",
   "execution_count": null,
   "metadata": {
    "id": "RnBxKL-lrkhm"
   },
   "outputs": [],
   "source": [
    "comments = comments.drop(['permID','userDisplayName'], axis='columns')"
   ]
  },
  {
   "cell_type": "code",
   "execution_count": null,
   "metadata": {
    "colab": {
     "base_uri": "https://localhost:8080/"
    },
    "id": "t-LwOnLUtGT8",
    "outputId": "2c3f742e-db98-4712-abe0-58126f52120e"
   },
   "outputs": [
    {
     "data": {
      "text/plain": [
       "Index(['approveDate', 'commentBody', 'commentID', 'commentSequence',\n",
       "       'commentType', 'createDate', 'depth', 'editorsSelection', 'parentID',\n",
       "       'picURL', 'recommendations', 'replyCount', 'sharing', 'status',\n",
       "       'timespeople', 'trusted', 'updateDate', 'userID', 'userLocation',\n",
       "       'userTitle', 'inReplyTo', 'articleID', 'sectionName', 'newDesk',\n",
       "       'articleWordCount', 'printPage', 'typeOfMaterial'],\n",
       "      dtype='object')"
      ]
     },
     "execution_count": 24,
     "metadata": {
      "tags": []
     },
     "output_type": "execute_result"
    }
   ],
   "source": [
    "comments.columns"
   ]
  },
  {
   "cell_type": "markdown",
   "metadata": {
    "id": "DuYKTh54o8t1"
   },
   "source": [
    "The columns *userLocation* and *sectionName* provide useful information. instead of removing the corresponding observations, the nan values will be transformed into the category 'unknown' to not loose too much information "
   ]
  },
  {
   "cell_type": "code",
   "execution_count": null,
   "metadata": {
    "colab": {
     "base_uri": "https://localhost:8080/"
    },
    "id": "SdVRusKwo7VS",
    "outputId": "8501fb75-9545-445a-dcef-90ce7cbd321a"
   },
   "outputs": [
    {
     "name": "stderr",
     "output_type": "stream",
     "text": [
      "/usr/local/lib/python3.7/dist-packages/ipykernel_launcher.py:1: SettingWithCopyWarning: \n",
      "A value is trying to be set on a copy of a slice from a DataFrame\n",
      "\n",
      "See the caveats in the documentation: https://pandas.pydata.org/pandas-docs/stable/user_guide/indexing.html#returning-a-view-versus-a-copy\n",
      "  \"\"\"Entry point for launching an IPython kernel.\n",
      "/usr/local/lib/python3.7/dist-packages/ipykernel_launcher.py:2: SettingWithCopyWarning: \n",
      "A value is trying to be set on a copy of a slice from a DataFrame\n",
      "\n",
      "See the caveats in the documentation: https://pandas.pydata.org/pandas-docs/stable/user_guide/indexing.html#returning-a-view-versus-a-copy\n",
      "  \n",
      "/usr/local/lib/python3.7/dist-packages/ipykernel_launcher.py:3: SettingWithCopyWarning: \n",
      "A value is trying to be set on a copy of a slice from a DataFrame\n",
      "\n",
      "See the caveats in the documentation: https://pandas.pydata.org/pandas-docs/stable/user_guide/indexing.html#returning-a-view-versus-a-copy\n",
      "  This is separate from the ipykernel package so we can avoid doing imports until\n",
      "/usr/local/lib/python3.7/dist-packages/ipykernel_launcher.py:4: SettingWithCopyWarning: \n",
      "A value is trying to be set on a copy of a slice from a DataFrame\n",
      "\n",
      "See the caveats in the documentation: https://pandas.pydata.org/pandas-docs/stable/user_guide/indexing.html#returning-a-view-versus-a-copy\n",
      "  after removing the cwd from sys.path.\n"
     ]
    }
   ],
   "source": [
    "comments['userLocation'][comments['userLocation'].isna()] = 'Unknown'\n",
    "comments['userLocation'][comments['userLocation'] == '<br/>'] = 'Unknown'\n",
    "comments['sectionName'][comments['sectionName'].isna()] = 'Unknown'\n",
    "comments['userTitle'][comments['userTitle'].isna()] = 'Unknown'"
   ]
  },
  {
   "cell_type": "code",
   "execution_count": null,
   "metadata": {
    "colab": {
     "base_uri": "https://localhost:8080/"
    },
    "id": "p5gNen1mseac",
    "outputId": "d0b58182-b7d3-41f9-e3f7-c962b64d2868"
   },
   "outputs": [
    {
     "data": {
      "text/plain": [
       "approveDate         0\n",
       "commentBody         0\n",
       "commentID           0\n",
       "commentSequence     0\n",
       "commentType         0\n",
       "createDate          0\n",
       "depth               0\n",
       "editorsSelection    0\n",
       "parentID            0\n",
       "picURL              0\n",
       "recommendations     0\n",
       "replyCount          0\n",
       "sharing             0\n",
       "status              0\n",
       "timespeople         0\n",
       "trusted             0\n",
       "updateDate          0\n",
       "userID              0\n",
       "userLocation        0\n",
       "userTitle           0\n",
       "inReplyTo           0\n",
       "articleID           0\n",
       "sectionName         0\n",
       "newDesk             0\n",
       "articleWordCount    0\n",
       "printPage           0\n",
       "typeOfMaterial      0\n",
       "dtype: int64"
      ]
     },
     "execution_count": 26,
     "metadata": {
      "tags": []
     },
     "output_type": "execute_result"
    }
   ],
   "source": [
    "comments.isna().sum(axis=0)"
   ]
  },
  {
   "cell_type": "markdown",
   "metadata": {
    "id": "7CR6T_qTuFI1"
   },
   "source": [
    "There is an empty observation for *commentBody* which we delete"
   ]
  },
  {
   "cell_type": "code",
   "execution_count": null,
   "metadata": {
    "id": "RNv7m8RRouJD"
   },
   "outputs": [],
   "source": [
    "i = comments['commentBody'][comments['commentBody'] == '<br/>'].index\n",
    "comments = comments.drop(i, axis=0)"
   ]
  },
  {
   "cell_type": "code",
   "execution_count": null,
   "metadata": {
    "colab": {
     "base_uri": "https://localhost:8080/"
    },
    "id": "QVaLzzkgoqgW",
    "outputId": "55236ba2-0d9d-484e-cefc-bb92c9b4d92a"
   },
   "outputs": [
    {
     "data": {
      "text/plain": [
       "approveDate         0\n",
       "commentBody         0\n",
       "commentID           0\n",
       "commentSequence     0\n",
       "commentType         0\n",
       "createDate          0\n",
       "depth               0\n",
       "editorsSelection    0\n",
       "parentID            0\n",
       "picURL              0\n",
       "recommendations     0\n",
       "replyCount          0\n",
       "sharing             0\n",
       "status              0\n",
       "timespeople         0\n",
       "trusted             0\n",
       "updateDate          0\n",
       "userID              0\n",
       "userLocation        0\n",
       "userTitle           0\n",
       "inReplyTo           0\n",
       "articleID           0\n",
       "sectionName         0\n",
       "newDesk             0\n",
       "articleWordCount    0\n",
       "printPage           0\n",
       "typeOfMaterial      0\n",
       "dtype: int64"
      ]
     },
     "execution_count": 28,
     "metadata": {
      "tags": []
     },
     "output_type": "execute_result"
    }
   ],
   "source": [
    "(comments == '<br/>').sum(axis=0)"
   ]
  },
  {
   "cell_type": "markdown",
   "metadata": {
    "id": "vdEpywwPuTb6"
   },
   "source": [
    "**ARTICLES TABLE**"
   ]
  },
  {
   "cell_type": "code",
   "execution_count": null,
   "metadata": {
    "colab": {
     "base_uri": "https://localhost:8080/"
    },
    "id": "XWUMVlvitGT8",
    "outputId": "808a24fe-d0bf-4d70-e35d-65f4fdb15d3e",
    "scrolled": true
   },
   "outputs": [
    {
     "data": {
      "text/plain": [
       "abstract            9168\n",
       "articleID              0\n",
       "articleWordCount       0\n",
       "byline                 0\n",
       "documentType           0\n",
       "headline               0\n",
       "keywords               0\n",
       "multimedia             0\n",
       "newDesk                0\n",
       "printPage              0\n",
       "pubDate                0\n",
       "sectionName            0\n",
       "snippet                0\n",
       "source                 0\n",
       "typeOfMaterial         0\n",
       "webURL                 0\n",
       "dtype: int64"
      ]
     },
     "execution_count": 29,
     "metadata": {
      "tags": []
     },
     "output_type": "execute_result"
    }
   ],
   "source": [
    "articles.isna().sum(axis=0)"
   ]
  },
  {
   "cell_type": "markdown",
   "metadata": {
    "id": "X7myr9rKvd9D"
   },
   "source": [
    "We can remove the column *abstract*, since the column is almost empty (the dataset has 9335 observations)"
   ]
  },
  {
   "cell_type": "code",
   "execution_count": null,
   "metadata": {
    "id": "laITmpIdvoQv"
   },
   "outputs": [],
   "source": [
    "articles = articles.drop(['abstract'], axis=1)"
   ]
  },
  {
   "cell_type": "code",
   "execution_count": null,
   "metadata": {
    "colab": {
     "base_uri": "https://localhost:8080/"
    },
    "id": "y1oOn_GltGT9",
    "outputId": "27070139-0ecd-42cb-99e7-2913e3d50983"
   },
   "outputs": [
    {
     "data": {
      "text/plain": [
       "articleID           0\n",
       "articleWordCount    0\n",
       "byline              0\n",
       "documentType        0\n",
       "headline            0\n",
       "keywords            0\n",
       "multimedia          0\n",
       "newDesk             0\n",
       "printPage           0\n",
       "pubDate             0\n",
       "sectionName         0\n",
       "snippet             0\n",
       "source              0\n",
       "typeOfMaterial      0\n",
       "webURL              0\n",
       "dtype: int64"
      ]
     },
     "execution_count": 31,
     "metadata": {
      "tags": []
     },
     "output_type": "execute_result"
    }
   ],
   "source": [
    "(articles == '<br/>').sum(axis=0)"
   ]
  },
  {
   "cell_type": "markdown",
   "metadata": {
    "id": "RrNPwlwXtGT9"
   },
   "source": [
    "## VISUAL EXPLORATION AND DISCRETISATION OF TARGET VARIABLES"
   ]
  },
  {
   "cell_type": "code",
   "execution_count": null,
   "metadata": {
    "colab": {
     "base_uri": "https://localhost:8080/",
     "height": 241
    },
    "id": "e05bjNmxtGT-",
    "outputId": "ec2ada06-a4b6-4f48-c692-f3385b30713b"
   },
   "outputs": [
    {
     "data": {
      "text/plain": [
       "0         The snake-filled heads comment made me think o...\n",
       "1                             She-devil reporting for duty!\n",
       "2                          XX is the new mark of the devil.\n",
       "3         \"Courtland Sykes\" should be writing for The On...\n",
       "4         I happen to descend for a few of them, because...\n",
       "                                ...                        \n",
       "276384    C'mon Connecticut...let's add ourselves to the...\n",
       "276385    Write or call Hickenlooper's office! It was on...\n",
       "276386       C'mon North Carolina! -- oh, who am I kidding.\n",
       "276387    California is the federal government's #1 \"don...\n",
       "276388                           Or stop Earth First . . . \n",
       "Name: commentBody, Length: 2176355, dtype: object"
      ]
     },
     "metadata": {
      "tags": []
     },
     "output_type": "display_data"
    }
   ],
   "source": [
    "display(comments['commentBody'])"
   ]
  },
  {
   "cell_type": "code",
   "execution_count": null,
   "metadata": {
    "colab": {
     "base_uri": "https://localhost:8080/",
     "height": 507
    },
    "id": "oEp1aZBQtGT-",
    "outputId": "63240004-9943-4b6b-dbec-12c93850d298",
    "scrolled": true
   },
   "outputs": [
    {
     "data": {
      "text/html": [
       "<div>\n",
       "<style scoped>\n",
       "    .dataframe tbody tr th:only-of-type {\n",
       "        vertical-align: middle;\n",
       "    }\n",
       "\n",
       "    .dataframe tbody tr th {\n",
       "        vertical-align: top;\n",
       "    }\n",
       "\n",
       "    .dataframe thead th {\n",
       "        text-align: right;\n",
       "    }\n",
       "</style>\n",
       "<table border=\"1\" class=\"dataframe\">\n",
       "  <thead>\n",
       "    <tr style=\"text-align: right;\">\n",
       "      <th></th>\n",
       "      <th>editorsSelection</th>\n",
       "      <th>recommendations</th>\n",
       "      <th>replyCount</th>\n",
       "    </tr>\n",
       "  </thead>\n",
       "  <tbody>\n",
       "    <tr>\n",
       "      <th>0</th>\n",
       "      <td>False</td>\n",
       "      <td>5</td>\n",
       "      <td>0</td>\n",
       "    </tr>\n",
       "    <tr>\n",
       "      <th>1</th>\n",
       "      <td>False</td>\n",
       "      <td>2</td>\n",
       "      <td>0</td>\n",
       "    </tr>\n",
       "    <tr>\n",
       "      <th>2</th>\n",
       "      <td>False</td>\n",
       "      <td>1</td>\n",
       "      <td>0</td>\n",
       "    </tr>\n",
       "    <tr>\n",
       "      <th>3</th>\n",
       "      <td>False</td>\n",
       "      <td>6</td>\n",
       "      <td>0</td>\n",
       "    </tr>\n",
       "    <tr>\n",
       "      <th>4</th>\n",
       "      <td>False</td>\n",
       "      <td>2</td>\n",
       "      <td>0</td>\n",
       "    </tr>\n",
       "    <tr>\n",
       "      <th>...</th>\n",
       "      <td>...</td>\n",
       "      <td>...</td>\n",
       "      <td>...</td>\n",
       "    </tr>\n",
       "    <tr>\n",
       "      <th>276384</th>\n",
       "      <td>False</td>\n",
       "      <td>2</td>\n",
       "      <td>0</td>\n",
       "    </tr>\n",
       "    <tr>\n",
       "      <th>276385</th>\n",
       "      <td>False</td>\n",
       "      <td>2</td>\n",
       "      <td>0</td>\n",
       "    </tr>\n",
       "    <tr>\n",
       "      <th>276386</th>\n",
       "      <td>False</td>\n",
       "      <td>2</td>\n",
       "      <td>0</td>\n",
       "    </tr>\n",
       "    <tr>\n",
       "      <th>276387</th>\n",
       "      <td>False</td>\n",
       "      <td>3</td>\n",
       "      <td>0</td>\n",
       "    </tr>\n",
       "    <tr>\n",
       "      <th>276388</th>\n",
       "      <td>False</td>\n",
       "      <td>4</td>\n",
       "      <td>0</td>\n",
       "    </tr>\n",
       "  </tbody>\n",
       "</table>\n",
       "<p>2176355 rows × 3 columns</p>\n",
       "</div>"
      ],
      "text/plain": [
       "       editorsSelection recommendations replyCount\n",
       "0                 False               5          0\n",
       "1                 False               2          0\n",
       "2                 False               1          0\n",
       "3                 False               6          0\n",
       "4                 False               2          0\n",
       "...                 ...             ...        ...\n",
       "276384            False               2          0\n",
       "276385            False               2          0\n",
       "276386            False               2          0\n",
       "276387            False               3          0\n",
       "276388            False               4          0\n",
       "\n",
       "[2176355 rows x 3 columns]"
      ]
     },
     "metadata": {
      "tags": []
     },
     "output_type": "display_data"
    }
   ],
   "source": [
    "display(comments[['editorsSelection', 'recommendations','replyCount']])"
   ]
  },
  {
   "cell_type": "markdown",
   "metadata": {
    "id": "wd0J24a3tGT_"
   },
   "source": [
    "Comments with more engagement have true *editorSelection* and a high value for *recommendations* and *replyCount*.\n",
    "\n",
    "Discreitse classes in quantiles?"
   ]
  },
  {
   "cell_type": "code",
   "execution_count": null,
   "metadata": {
    "colab": {
     "base_uri": "https://localhost:8080/",
     "height": 71
    },
    "id": "px-GcGIWtGT_",
    "outputId": "937147bb-bb31-41e4-ab3b-2c983ebd665a"
   },
   "outputs": [
    {
     "data": {
      "text/plain": [
       "[Text(0, 0, 'False'), Text(0, 0, 'True')]"
      ]
     },
     "execution_count": 34,
     "metadata": {
      "tags": []
     },
     "output_type": "execute_result"
    },
    {
     "data": {
      "image/png": "[encoded data removed]",
      "text/plain": [
       "<Figure size 1296x1080 with 1 Axes>"
      ]
     },
     "metadata": {
      "tags": []
     },
     "output_type": "display_data"
    }
   ],
   "source": [
    "import seaborn as sns\n",
    "\n",
    "sns.set(rc={\"figure.figsize\":(18,15)})\n",
    "sns.set_theme(palette='Set2')\n",
    "ax = sns.countplot(data=comments, x='editorsSelection')\n",
    "ax.set_title(\"Countplot for Editor Selection\",fontsize=40)\n",
    "ax.set_xlabel('Editors Selection', fontsize=30)\n",
    "ax.set_ylabel('Count')\n",
    "ax.set_xticklabels(ax.get_xmajorticklabels(), fontsize = 18)"
   ]
  },
  {
   "cell_type": "code",
   "execution_count": null,
   "metadata": {
    "colab": {
     "base_uri": "https://localhost:8080/",
     "height": 71
    },
    "id": "JS3nCiBotGUA",
    "outputId": "151b06a9-672a-44a8-9ae7-39defa16bfa3"
   },
   "outputs": [
    {
     "data": {
      "text/plain": [
       "Text(0, 0.5, 'Count (logscale)')"
      ]
     },
     "execution_count": 35,
     "metadata": {
      "tags": []
     },
     "output_type": "execute_result"
    },
    {
     "data": {
      "image/png": "[encoded data removed]",
      "text/plain": [
       "<Figure size 1296x1080 with 1 Axes>"
      ]
     },
     "metadata": {
      "tags": []
     },
     "output_type": "display_data"
    }
   ],
   "source": [
    "sns.set(rc={\"figure.figsize\":(18,15)})\n",
    "sns.set_theme(palette='Set2')\n",
    "ax = sns.histplot(data=comments, x='recommendations', binwidth=100)\n",
    "# ax.set(title = \" \", xlabel = \"dimension\", ylabel = \"runtime (minutes)\")\n",
    "ax.set(yscale=\"log\")\n",
    "ax.set_title(\"Histogram for Recommendations\",fontsize=40)\n",
    "ax.set_xlabel('Recommendations', fontsize=30)\n",
    "ax.set_ylabel('Count (logscale)', fontsize=30)"
   ]
  },
  {
   "cell_type": "code",
   "execution_count": null,
   "metadata": {
    "colab": {
     "base_uri": "https://localhost:8080/",
     "height": 71
    },
    "id": "Q4cTql1gtGUA",
    "outputId": "5a8ae4ff-fefc-4a69-e3ae-21fab1cb5629"
   },
   "outputs": [
    {
     "data": {
      "text/plain": [
       "Text(0, 0.5, 'Count (logscale)')"
      ]
     },
     "execution_count": 36,
     "metadata": {
      "tags": []
     },
     "output_type": "execute_result"
    },
    {
     "data": {
      "image/png": "[encoded data removed]",
      "text/plain": [
       "<Figure size 1296x1080 with 1 Axes>"
      ]
     },
     "metadata": {
      "tags": []
     },
     "output_type": "display_data"
    }
   ],
   "source": [
    "sns.set(rc={\"figure.figsize\":(18,15)})\n",
    "sns.set_theme(palette='Set2')\n",
    "ax = sns.histplot(data=comments, x='replyCount')\n",
    "# ax.set(title = \" \", xlabel = \"dimension\", ylabel = \"runtime (minutes)\")\n",
    "ax.set(yscale=\"log\")\n",
    "ax.set_title(\"Histogram for Replies\",fontsize=40)\n",
    "ax.set_xlabel('Replies', fontsize=30)\n",
    "ax.set_ylabel('Count (logscale)', fontsize=30)"
   ]
  },
  {
   "cell_type": "code",
   "execution_count": null,
   "metadata": {
    "id": "AyZBNt0GtGUB"
   },
   "outputs": [],
   "source": [
    "comments['replyCount'][comments['replyCount'] < 0] = 0"
   ]
  },
  {
   "cell_type": "code",
   "execution_count": null,
   "metadata": {
    "colab": {
     "base_uri": "https://localhost:8080/",
     "height": 71
    },
    "id": "-_vmEGqltGUB",
    "outputId": "d057e8ed-69d5-4eda-bd0f-8405fbd471a2"
   },
   "outputs": [
    {
     "data": {
      "text/plain": [
       "[None]"
      ]
     },
     "execution_count": 38,
     "metadata": {
      "tags": []
     },
     "output_type": "execute_result"
    },
    {
     "data": {
      "image/png": "[encoded data removed]",
      "text/plain": [
       "<Figure size 1296x1080 with 1 Axes>"
      ]
     },
     "metadata": {
      "tags": []
     },
     "output_type": "display_data"
    }
   ],
   "source": [
    "sns.set(rc={\"figure.figsize\":(18,15)})\n",
    "sns.set_theme(palette='Set2')\n",
    "ax = sns.histplot(data=comments, x='replyCount')\n",
    "# ax.set(title = \" \", xlabel = \"dimension\", ylabel = \"runtime (minutes)\")\n",
    "ax.set(yscale=\"log\")"
   ]
  },
  {
   "cell_type": "markdown",
   "metadata": {
    "id": "ABqgolPDtGUH"
   },
   "source": [
    "Discretise target labels"
   ]
  },
  {
   "cell_type": "markdown",
   "metadata": {
    "id": "r6GluJPcu1_K"
   },
   "source": [
    "- **recommendations**: Predicting the number of upvotes a comment will receive using the feature recommendations as the target variable. With enough training set for the model, we can make a guess of how a hypothetical comment on a certain topic will be received by the community of NYT readers' and this can be considered a tool to gauge public opinion\n",
    "- **editorSelection**: Predicting whether a comment will be editor's pick using feature editorsSelection as the target variable. It gives a clue to what NYT considers worth promoting.\n",
    "- **replyCount**: Predicting how likely it is for a comment to get replies\n",
    "\n",
    "Use both data about comments and data about the articles to predict which comments are more likely to be engaging, along with their underlying sentiment"
   ]
  },
  {
   "cell_type": "code",
   "execution_count": null,
   "metadata": {
    "colab": {
     "base_uri": "https://localhost:8080/"
    },
    "id": "xIAL4RuNtGUH",
    "outputId": "3c35cf65-0d00-458d-eca6-2cd80ee1fc04"
   },
   "outputs": [
    {
     "data": {
      "text/plain": [
       "count    2176355.000\n",
       "mean          19.737\n",
       "std          105.211\n",
       "min            0.000\n",
       "25%            1.000\n",
       "50%            4.000\n",
       "75%           10.000\n",
       "max        10472.000\n",
       "Name: recommendations, dtype: float64"
      ]
     },
     "execution_count": 39,
     "metadata": {
      "tags": []
     },
     "output_type": "execute_result"
    }
   ],
   "source": [
    "comments['recommendations'] = comments['recommendations'].astype(float)\n",
    "round(comments['recommendations'].describe(),3)"
   ]
  },
  {
   "cell_type": "code",
   "execution_count": null,
   "metadata": {
    "colab": {
     "base_uri": "https://localhost:8080/"
    },
    "id": "RUa3z_rjtGUI",
    "outputId": "a37aadeb-c7ba-4c21-e77d-a7a19f4a6654"
   },
   "outputs": [
    {
     "data": {
      "text/plain": [
       "count    2176355.000\n",
       "mean           0.436\n",
       "std            2.247\n",
       "min            0.000\n",
       "25%            0.000\n",
       "50%            0.000\n",
       "75%            0.000\n",
       "max          668.000\n",
       "Name: replyCount, dtype: float64"
      ]
     },
     "execution_count": 40,
     "metadata": {
      "tags": []
     },
     "output_type": "execute_result"
    }
   ],
   "source": [
    "comments['replyCount'] = comments['replyCount'].astype(float)\n",
    "round(comments['replyCount'].describe(),3)"
   ]
  },
  {
   "cell_type": "code",
   "execution_count": null,
   "metadata": {
    "colab": {
     "base_uri": "https://localhost:8080/"
    },
    "id": "5BFgVXSTtGUI",
    "outputId": "18a10b9a-228d-4d9c-a4c6-37a17324f8e5"
   },
   "outputs": [
    {
     "data": {
      "text/plain": [
       "(array([False, True], dtype=object), array([2134782,   41573]))"
      ]
     },
     "execution_count": 41,
     "metadata": {
      "tags": []
     },
     "output_type": "execute_result"
    }
   ],
   "source": [
    "np.unique(comments['editorsSelection'], return_counts=True)"
   ]
  },
  {
   "cell_type": "markdown",
   "metadata": {
    "id": "1LTOvdPLtGUI"
   },
   "source": [
    "Discretize labels"
   ]
  },
  {
   "cell_type": "code",
   "execution_count": null,
   "metadata": {
    "colab": {
     "base_uri": "https://localhost:8080/"
    },
    "id": "eRTm0kbltGUJ",
    "outputId": "a99a7ea0-1f2f-441c-ae08-a2e8eabb7ce3"
   },
   "outputs": [
    {
     "name": "stderr",
     "output_type": "stream",
     "text": [
      "/usr/local/lib/python3.7/dist-packages/ipykernel_launcher.py:2: SettingWithCopyWarning: \n",
      "A value is trying to be set on a copy of a slice from a DataFrame\n",
      "\n",
      "See the caveats in the documentation: https://pandas.pydata.org/pandas-docs/stable/user_guide/indexing.html#returning-a-view-versus-a-copy\n",
      "  \n"
     ]
    }
   ],
   "source": [
    "comments['recommendations_TARGET'] = 0\n",
    "comments['recommendations_TARGET'][comments['recommendations']>=4] = 1"
   ]
  },
  {
   "cell_type": "code",
   "execution_count": null,
   "metadata": {
    "colab": {
     "base_uri": "https://localhost:8080/"
    },
    "id": "xRFG3jFntGUJ",
    "outputId": "cb2a7684-447e-4e77-9c67-a328e283178a"
   },
   "outputs": [
    {
     "data": {
      "text/plain": [
       "recommendations_TARGET\n",
       "0    1076677\n",
       "1    1099678\n",
       "Name: approveDate, dtype: int64"
      ]
     },
     "execution_count": 43,
     "metadata": {
      "tags": []
     },
     "output_type": "execute_result"
    }
   ],
   "source": [
    "comments.groupby('recommendations_TARGET').count().iloc[:,0]"
   ]
  },
  {
   "cell_type": "code",
   "execution_count": null,
   "metadata": {
    "colab": {
     "base_uri": "https://localhost:8080/"
    },
    "id": "UkKKyrzHtGUK",
    "outputId": "95b475c4-e9bd-487f-c71a-c1ec8b785964"
   },
   "outputs": [
    {
     "name": "stderr",
     "output_type": "stream",
     "text": [
      "/usr/local/lib/python3.7/dist-packages/ipykernel_launcher.py:2: SettingWithCopyWarning: \n",
      "A value is trying to be set on a copy of a slice from a DataFrame\n",
      "\n",
      "See the caveats in the documentation: https://pandas.pydata.org/pandas-docs/stable/user_guide/indexing.html#returning-a-view-versus-a-copy\n",
      "  \n"
     ]
    }
   ],
   "source": [
    "comments['replyCount_TARGET'] = 0\n",
    "comments['replyCount_TARGET'][comments['replyCount']>=1] = 1"
   ]
  },
  {
   "cell_type": "code",
   "execution_count": null,
   "metadata": {
    "colab": {
     "base_uri": "https://localhost:8080/"
    },
    "id": "h3K__hYjtGUK",
    "outputId": "67590e4a-17a9-4f78-d569-ffccb0c9997f"
   },
   "outputs": [
    {
     "data": {
      "text/plain": [
       "replyCount_TARGET\n",
       "0    1789347\n",
       "1     387008\n",
       "Name: approveDate, dtype: int64"
      ]
     },
     "execution_count": 45,
     "metadata": {
      "tags": []
     },
     "output_type": "execute_result"
    }
   ],
   "source": [
    "comments.groupby('replyCount_TARGET').count().iloc[:,0]"
   ]
  },
  {
   "cell_type": "code",
   "execution_count": null,
   "metadata": {
    "colab": {
     "base_uri": "https://localhost:8080/"
    },
    "id": "-okiSqJmtGUK",
    "outputId": "024bd995-dd90-45b8-ef5b-e2f6a7d9139e"
   },
   "outputs": [
    {
     "name": "stderr",
     "output_type": "stream",
     "text": [
      "/usr/local/lib/python3.7/dist-packages/ipykernel_launcher.py:2: SettingWithCopyWarning: \n",
      "A value is trying to be set on a copy of a slice from a DataFrame\n",
      "\n",
      "See the caveats in the documentation: https://pandas.pydata.org/pandas-docs/stable/user_guide/indexing.html#returning-a-view-versus-a-copy\n",
      "  \n"
     ]
    }
   ],
   "source": [
    "comments['editorsSelection_TARGET'] = 0\n",
    "comments['editorsSelection_TARGET'][comments['editorsSelection']==1] = 1"
   ]
  },
  {
   "cell_type": "code",
   "execution_count": null,
   "metadata": {
    "colab": {
     "base_uri": "https://localhost:8080/"
    },
    "id": "dFBHapeKtGUL",
    "outputId": "35407d64-c353-48b6-9351-b61f61249aca"
   },
   "outputs": [
    {
     "data": {
      "text/plain": [
       "editorsSelection_TARGET\n",
       "0    2134782\n",
       "1      41573\n",
       "Name: approveDate, dtype: int64"
      ]
     },
     "execution_count": 47,
     "metadata": {
      "tags": []
     },
     "output_type": "execute_result"
    }
   ],
   "source": [
    "comments.groupby('editorsSelection_TARGET').count().iloc[:,0]"
   ]
  },
  {
   "cell_type": "code",
   "execution_count": null,
   "metadata": {
    "id": "mmuRI2Xw0_Wc"
   },
   "outputs": [],
   "source": [
    "comments = comments.drop(['recommendations','replyCount','editorsSelection'], axis='columns')"
   ]
  },
  {
   "cell_type": "code",
   "execution_count": null,
   "metadata": {
    "colab": {
     "base_uri": "https://localhost:8080/"
    },
    "id": "7nkjWEaB1RhT",
    "outputId": "aa310539-d812-409f-dd09-e8b4f6904f04"
   },
   "outputs": [
    {
     "data": {
      "text/plain": [
       "Index(['approveDate', 'commentBody', 'commentID', 'commentSequence',\n",
       "       'commentType', 'createDate', 'depth', 'parentID', 'picURL', 'sharing',\n",
       "       'status', 'timespeople', 'trusted', 'updateDate', 'userID',\n",
       "       'userLocation', 'userTitle', 'inReplyTo', 'articleID', 'sectionName',\n",
       "       'newDesk', 'articleWordCount', 'printPage', 'typeOfMaterial',\n",
       "       'recommendations_TARGET', 'replyCount_TARGET',\n",
       "       'editorsSelection_TARGET'],\n",
       "      dtype='object')"
      ]
     },
     "execution_count": 49,
     "metadata": {
      "tags": []
     },
     "output_type": "execute_result"
    }
   ],
   "source": [
    "comments.columns"
   ]
  },
  {
   "cell_type": "code",
   "execution_count": null,
   "metadata": {
    "colab": {
     "base_uri": "https://localhost:8080/"
    },
    "id": "Z05SItmH2P2p",
    "outputId": "eacc048e-8ba0-4dfa-d379-9bf1ac19e43b"
   },
   "outputs": [
    {
     "data": {
      "text/plain": [
       "recommendations_TARGET\n",
       "0    1076677\n",
       "1    1099678\n",
       "Name: approveDate, dtype: int64"
      ]
     },
     "execution_count": 50,
     "metadata": {
      "tags": []
     },
     "output_type": "execute_result"
    }
   ],
   "source": [
    "comments.groupby('recommendations_TARGET').count().iloc[:,0]"
   ]
  },
  {
   "cell_type": "markdown",
   "metadata": {
    "id": "9dAnZBHT0ljV"
   },
   "source": [
    "Pie charts for the labels to see the proportion"
   ]
  },
  {
   "cell_type": "code",
   "execution_count": null,
   "metadata": {
    "colab": {
     "base_uri": "https://localhost:8080/",
     "height": 54
    },
    "id": "zrSRwu1e0pM9",
    "outputId": "ffd1f28c-1361-4e78-c84d-02bb5daa3a38"
   },
   "outputs": [
    {
     "data": {
      "image/png": "[encoded data removed]",
      "text/plain": [
       "<Figure size 720x432 with 1 Axes>"
      ]
     },
     "metadata": {
      "tags": []
     },
     "output_type": "display_data"
    }
   ],
   "source": [
    "pie, ax = plt.subplots(figsize=[10,6])\n",
    "x = comments.groupby('recommendations_TARGET').count().iloc[:,0]\n",
    "labels = ['0','1']\n",
    "plt.pie(x=x, autopct=\"%.1f%%\", explode=[0.03]*2,  labels=labels, pctdistance=0.5)\n",
    "plt.title(\"Recommendations\", fontsize=14);"
   ]
  },
  {
   "cell_type": "code",
   "execution_count": null,
   "metadata": {
    "colab": {
     "base_uri": "https://localhost:8080/",
     "height": 54
    },
    "id": "b6aoLeSU2yxh",
    "outputId": "776589ff-7c3b-48c5-e6c0-fc8c2bc2f6d8"
   },
   "outputs": [
    {
     "data": {
      "image/png": "[encoded data removed]",
      "text/plain": [
       "<Figure size 720x432 with 1 Axes>"
      ]
     },
     "metadata": {
      "tags": []
     },
     "output_type": "display_data"
    }
   ],
   "source": [
    "pie, ax = plt.subplots(figsize=[10,6])\n",
    "x = comments.groupby('replyCount_TARGET').count().iloc[:,0]\n",
    "labels = ['0','1']\n",
    "plt.pie(x=x, autopct=\"%.1f%%\", explode=[0.03]*2,  labels=labels, pctdistance=0.5)\n",
    "plt.title(\"Reply Count\", fontsize=14);"
   ]
  },
  {
   "cell_type": "code",
   "execution_count": null,
   "metadata": {
    "colab": {
     "base_uri": "https://localhost:8080/",
     "height": 54
    },
    "id": "cWRFcKOd2-sZ",
    "outputId": "d8c7e5b4-a3a3-491f-cf80-2ad44819da41"
   },
   "outputs": [
    {
     "data": {
      "image/png": "[encoded data removed]",
      "text/plain": [
       "<Figure size 720x432 with 1 Axes>"
      ]
     },
     "metadata": {
      "tags": []
     },
     "output_type": "display_data"
    }
   ],
   "source": [
    "pie, ax = plt.subplots(figsize=[10,6])\n",
    "x = comments.groupby('editorsSelection_TARGET').count().iloc[:,0]\n",
    "labels = ['0','1']\n",
    "plt.pie(x=x, autopct=\"%.1f%%\", explode=[0.03]*2,  labels=labels, pctdistance=0.5)\n",
    "plt.title(\"Editors Selection\", fontsize=14);"
   ]
  },
  {
   "cell_type": "markdown",
   "metadata": {
    "id": "hHQ1YVmt3M5t"
   },
   "source": [
    "Recommendations is perfectly balanced, while Reply count is somewhat unbalanced with a proportion 1:4. On the other hand, Editor selection is pathologically unbalanced with a proportion 1:49."
   ]
  },
  {
   "cell_type": "markdown",
   "metadata": {
    "id": "_vGdFxJLtGUG"
   },
   "source": [
    "---"
   ]
  },
  {
   "cell_type": "markdown",
   "metadata": {
    "id": "QQ-Y2sxstGUG"
   },
   "source": [
    "For freezing layers https://learnopencv.com/keras-tutorial-fine-tuning-using-pre-trained-models/\n",
    "\n",
    "Discard last layers https://stackoverflow.com/questions/41668813/how-to-add-and-remove-new-layers-in-keras-after-loading-weights\n",
    "\n",
    "https://stackoverflow.com/questions/55335228/how-to-remove-the-last-layer-from-a-pre-trained-model-i-have-tried-model-layers"
   ]
  },
  {
   "cell_type": "markdown",
   "metadata": {
    "id": "lnqCQkSztGUL"
   },
   "source": [
    "## FEATURE SELECTION\n",
    "It will be done partly manually by eliminating useless columns and partly by using some importance metrics (such as Boruta?)"
   ]
  },
  {
   "cell_type": "code",
   "execution_count": null,
   "metadata": {
    "id": "EZM3UZSztGUL"
   },
   "outputs": [],
   "source": [
    "# concatenate the datasets\n",
    "\n",
    "dataset = pd.merge(comments, articles, how='inner', on='articleID')"
   ]
  },
  {
   "cell_type": "code",
   "execution_count": null,
   "metadata": {
    "colab": {
     "base_uri": "https://localhost:8080/",
     "height": 734
    },
    "id": "5lK-aRjKtGUM",
    "outputId": "9ce3f507-b34e-4819-d3d0-1fca4a1ea27e"
   },
   "outputs": [
    {
     "data": {
      "text/html": [
       "<div>\n",
       "<style scoped>\n",
       "    .dataframe tbody tr th:only-of-type {\n",
       "        vertical-align: middle;\n",
       "    }\n",
       "\n",
       "    .dataframe tbody tr th {\n",
       "        vertical-align: top;\n",
       "    }\n",
       "\n",
       "    .dataframe thead th {\n",
       "        text-align: right;\n",
       "    }\n",
       "</style>\n",
       "<table border=\"1\" class=\"dataframe\">\n",
       "  <thead>\n",
       "    <tr style=\"text-align: right;\">\n",
       "      <th></th>\n",
       "      <th>approveDate</th>\n",
       "      <th>commentBody</th>\n",
       "      <th>commentID</th>\n",
       "      <th>commentSequence</th>\n",
       "      <th>commentType</th>\n",
       "      <th>createDate</th>\n",
       "      <th>depth</th>\n",
       "      <th>parentID</th>\n",
       "      <th>picURL</th>\n",
       "      <th>sharing</th>\n",
       "      <th>status</th>\n",
       "      <th>timespeople</th>\n",
       "      <th>trusted</th>\n",
       "      <th>updateDate</th>\n",
       "      <th>userID</th>\n",
       "      <th>userLocation</th>\n",
       "      <th>userTitle</th>\n",
       "      <th>inReplyTo</th>\n",
       "      <th>articleID</th>\n",
       "      <th>sectionName_x</th>\n",
       "      <th>newDesk_x</th>\n",
       "      <th>articleWordCount_x</th>\n",
       "      <th>printPage_x</th>\n",
       "      <th>typeOfMaterial_x</th>\n",
       "      <th>recommendations_TARGET</th>\n",
       "      <th>replyCount_TARGET</th>\n",
       "      <th>editorsSelection_TARGET</th>\n",
       "      <th>articleWordCount_y</th>\n",
       "      <th>byline</th>\n",
       "      <th>documentType</th>\n",
       "      <th>headline</th>\n",
       "      <th>keywords</th>\n",
       "      <th>multimedia</th>\n",
       "      <th>newDesk_y</th>\n",
       "      <th>printPage_y</th>\n",
       "      <th>pubDate</th>\n",
       "      <th>sectionName_y</th>\n",
       "      <th>snippet</th>\n",
       "      <th>source</th>\n",
       "      <th>typeOfMaterial_y</th>\n",
       "      <th>webURL</th>\n",
       "    </tr>\n",
       "  </thead>\n",
       "  <tbody>\n",
       "    <tr>\n",
       "      <th>0</th>\n",
       "      <td>1517529462</td>\n",
       "      <td>The snake-filled heads comment made me think o...</td>\n",
       "      <td>25791250.0</td>\n",
       "      <td>25791250.0</td>\n",
       "      <td>comment</td>\n",
       "      <td>1517508359</td>\n",
       "      <td>1.0</td>\n",
       "      <td>0.0</td>\n",
       "      <td>https://graphics8.nytimes.com/images/apps/time...</td>\n",
       "      <td>0</td>\n",
       "      <td>approved</td>\n",
       "      <td>1</td>\n",
       "      <td>0</td>\n",
       "      <td>1517529462</td>\n",
       "      <td>79172841.0</td>\n",
       "      <td>WA</td>\n",
       "      <td>Unknown</td>\n",
       "      <td>0</td>\n",
       "      <td>5a7258e410f40f00018bed7d</td>\n",
       "      <td>Unknown</td>\n",
       "      <td>OpEd</td>\n",
       "      <td>835</td>\n",
       "      <td>23</td>\n",
       "      <td>Op-Ed</td>\n",
       "      <td>1</td>\n",
       "      <td>0</td>\n",
       "      <td>0</td>\n",
       "      <td>835</td>\n",
       "      <td>By NICHOLAS KRISTOF</td>\n",
       "      <td>article</td>\n",
       "      <td>I Stand  With the ‘She-Devils’</td>\n",
       "      <td>['Women and Girls', \"Women's Rights\", 'United ...</td>\n",
       "      <td>68</td>\n",
       "      <td>OpEd</td>\n",
       "      <td>23</td>\n",
       "      <td>2018-02-01 00:01:36</td>\n",
       "      <td>Unknown</td>\n",
       "      <td>Progress on women’s rights was stalling, and t...</td>\n",
       "      <td>The New York Times</td>\n",
       "      <td>Op-Ed</td>\n",
       "      <td>https://www.nytimes.com/2018/01/31/opinion/cou...</td>\n",
       "    </tr>\n",
       "    <tr>\n",
       "      <th>1</th>\n",
       "      <td>1517529428</td>\n",
       "      <td>She-devil reporting for duty!</td>\n",
       "      <td>25795675.0</td>\n",
       "      <td>25795675.0</td>\n",
       "      <td>comment</td>\n",
       "      <td>1517527262</td>\n",
       "      <td>1.0</td>\n",
       "      <td>0.0</td>\n",
       "      <td>https://graphics8.nytimes.com/images/apps/time...</td>\n",
       "      <td>0</td>\n",
       "      <td>approved</td>\n",
       "      <td>1</td>\n",
       "      <td>0</td>\n",
       "      <td>1517529428</td>\n",
       "      <td>66376882.0</td>\n",
       "      <td>Seattle</td>\n",
       "      <td>Unknown</td>\n",
       "      <td>0</td>\n",
       "      <td>5a7258e410f40f00018bed7d</td>\n",
       "      <td>Unknown</td>\n",
       "      <td>OpEd</td>\n",
       "      <td>835</td>\n",
       "      <td>23</td>\n",
       "      <td>Op-Ed</td>\n",
       "      <td>0</td>\n",
       "      <td>0</td>\n",
       "      <td>0</td>\n",
       "      <td>835</td>\n",
       "      <td>By NICHOLAS KRISTOF</td>\n",
       "      <td>article</td>\n",
       "      <td>I Stand  With the ‘She-Devils’</td>\n",
       "      <td>['Women and Girls', \"Women's Rights\", 'United ...</td>\n",
       "      <td>68</td>\n",
       "      <td>OpEd</td>\n",
       "      <td>23</td>\n",
       "      <td>2018-02-01 00:01:36</td>\n",
       "      <td>Unknown</td>\n",
       "      <td>Progress on women’s rights was stalling, and t...</td>\n",
       "      <td>The New York Times</td>\n",
       "      <td>Op-Ed</td>\n",
       "      <td>https://www.nytimes.com/2018/01/31/opinion/cou...</td>\n",
       "    </tr>\n",
       "    <tr>\n",
       "      <th>2</th>\n",
       "      <td>1517529427</td>\n",
       "      <td>XX is the new mark of the devil.</td>\n",
       "      <td>25792078.0</td>\n",
       "      <td>25792078.0</td>\n",
       "      <td>comment</td>\n",
       "      <td>1517511368</td>\n",
       "      <td>1.0</td>\n",
       "      <td>0.0</td>\n",
       "      <td>https://graphics8.nytimes.com/images/apps/time...</td>\n",
       "      <td>0</td>\n",
       "      <td>approved</td>\n",
       "      <td>1</td>\n",
       "      <td>0</td>\n",
       "      <td>1517529427</td>\n",
       "      <td>27924638.0</td>\n",
       "      <td>Westchester County, NY</td>\n",
       "      <td>Unknown</td>\n",
       "      <td>0</td>\n",
       "      <td>5a7258e410f40f00018bed7d</td>\n",
       "      <td>Unknown</td>\n",
       "      <td>OpEd</td>\n",
       "      <td>835</td>\n",
       "      <td>23</td>\n",
       "      <td>Op-Ed</td>\n",
       "      <td>0</td>\n",
       "      <td>0</td>\n",
       "      <td>0</td>\n",
       "      <td>835</td>\n",
       "      <td>By NICHOLAS KRISTOF</td>\n",
       "      <td>article</td>\n",
       "      <td>I Stand  With the ‘She-Devils’</td>\n",
       "      <td>['Women and Girls', \"Women's Rights\", 'United ...</td>\n",
       "      <td>68</td>\n",
       "      <td>OpEd</td>\n",
       "      <td>23</td>\n",
       "      <td>2018-02-01 00:01:36</td>\n",
       "      <td>Unknown</td>\n",
       "      <td>Progress on women’s rights was stalling, and t...</td>\n",
       "      <td>The New York Times</td>\n",
       "      <td>Op-Ed</td>\n",
       "      <td>https://www.nytimes.com/2018/01/31/opinion/cou...</td>\n",
       "    </tr>\n",
       "    <tr>\n",
       "      <th>3</th>\n",
       "      <td>1517529425</td>\n",
       "      <td>\"Courtland Sykes\" should be writing for The On...</td>\n",
       "      <td>25791604.0</td>\n",
       "      <td>25791604.0</td>\n",
       "      <td>comment</td>\n",
       "      <td>1517509557</td>\n",
       "      <td>1.0</td>\n",
       "      <td>0.0</td>\n",
       "      <td>https://graphics8.nytimes.com/images/apps/time...</td>\n",
       "      <td>0</td>\n",
       "      <td>approved</td>\n",
       "      <td>1</td>\n",
       "      <td>0</td>\n",
       "      <td>1517529425</td>\n",
       "      <td>31909107.0</td>\n",
       "      <td>Denver</td>\n",
       "      <td>Unknown</td>\n",
       "      <td>0</td>\n",
       "      <td>5a7258e410f40f00018bed7d</td>\n",
       "      <td>Unknown</td>\n",
       "      <td>OpEd</td>\n",
       "      <td>835</td>\n",
       "      <td>23</td>\n",
       "      <td>Op-Ed</td>\n",
       "      <td>1</td>\n",
       "      <td>0</td>\n",
       "      <td>0</td>\n",
       "      <td>835</td>\n",
       "      <td>By NICHOLAS KRISTOF</td>\n",
       "      <td>article</td>\n",
       "      <td>I Stand  With the ‘She-Devils’</td>\n",
       "      <td>['Women and Girls', \"Women's Rights\", 'United ...</td>\n",
       "      <td>68</td>\n",
       "      <td>OpEd</td>\n",
       "      <td>23</td>\n",
       "      <td>2018-02-01 00:01:36</td>\n",
       "      <td>Unknown</td>\n",
       "      <td>Progress on women’s rights was stalling, and t...</td>\n",
       "      <td>The New York Times</td>\n",
       "      <td>Op-Ed</td>\n",
       "      <td>https://www.nytimes.com/2018/01/31/opinion/cou...</td>\n",
       "    </tr>\n",
       "    <tr>\n",
       "      <th>4</th>\n",
       "      <td>1517529418</td>\n",
       "      <td>I happen to descend for a few of them, because...</td>\n",
       "      <td>25795241.0</td>\n",
       "      <td>25795241.0</td>\n",
       "      <td>comment</td>\n",
       "      <td>1517524825</td>\n",
       "      <td>1.0</td>\n",
       "      <td>0.0</td>\n",
       "      <td>https://graphics8.nytimes.com/images/apps/time...</td>\n",
       "      <td>0</td>\n",
       "      <td>approved</td>\n",
       "      <td>1</td>\n",
       "      <td>0</td>\n",
       "      <td>1517529418</td>\n",
       "      <td>55271958.0</td>\n",
       "      <td>Tucson</td>\n",
       "      <td>Unknown</td>\n",
       "      <td>0</td>\n",
       "      <td>5a7258e410f40f00018bed7d</td>\n",
       "      <td>Unknown</td>\n",
       "      <td>OpEd</td>\n",
       "      <td>835</td>\n",
       "      <td>23</td>\n",
       "      <td>Op-Ed</td>\n",
       "      <td>0</td>\n",
       "      <td>0</td>\n",
       "      <td>0</td>\n",
       "      <td>835</td>\n",
       "      <td>By NICHOLAS KRISTOF</td>\n",
       "      <td>article</td>\n",
       "      <td>I Stand  With the ‘She-Devils’</td>\n",
       "      <td>['Women and Girls', \"Women's Rights\", 'United ...</td>\n",
       "      <td>68</td>\n",
       "      <td>OpEd</td>\n",
       "      <td>23</td>\n",
       "      <td>2018-02-01 00:01:36</td>\n",
       "      <td>Unknown</td>\n",
       "      <td>Progress on women’s rights was stalling, and t...</td>\n",
       "      <td>The New York Times</td>\n",
       "      <td>Op-Ed</td>\n",
       "      <td>https://www.nytimes.com/2018/01/31/opinion/cou...</td>\n",
       "    </tr>\n",
       "  </tbody>\n",
       "</table>\n",
       "</div>"
      ],
      "text/plain": [
       "  approveDate                                        commentBody   commentID  \\\n",
       "0  1517529462  The snake-filled heads comment made me think o...  25791250.0   \n",
       "1  1517529428                      She-devil reporting for duty!  25795675.0   \n",
       "2  1517529427                   XX is the new mark of the devil.  25792078.0   \n",
       "3  1517529425  \"Courtland Sykes\" should be writing for The On...  25791604.0   \n",
       "4  1517529418  I happen to descend for a few of them, because...  25795241.0   \n",
       "\n",
       "   commentSequence commentType  createDate  depth  parentID  \\\n",
       "0       25791250.0     comment  1517508359    1.0       0.0   \n",
       "1       25795675.0     comment  1517527262    1.0       0.0   \n",
       "2       25792078.0     comment  1517511368    1.0       0.0   \n",
       "3       25791604.0     comment  1517509557    1.0       0.0   \n",
       "4       25795241.0     comment  1517524825    1.0       0.0   \n",
       "\n",
       "                                              picURL sharing    status  \\\n",
       "0  https://graphics8.nytimes.com/images/apps/time...       0  approved   \n",
       "1  https://graphics8.nytimes.com/images/apps/time...       0  approved   \n",
       "2  https://graphics8.nytimes.com/images/apps/time...       0  approved   \n",
       "3  https://graphics8.nytimes.com/images/apps/time...       0  approved   \n",
       "4  https://graphics8.nytimes.com/images/apps/time...       0  approved   \n",
       "\n",
       "  timespeople trusted  updateDate      userID            userLocation  \\\n",
       "0           1       0  1517529462  79172841.0                      WA   \n",
       "1           1       0  1517529428  66376882.0                 Seattle   \n",
       "2           1       0  1517529427  27924638.0  Westchester County, NY   \n",
       "3           1       0  1517529425  31909107.0                  Denver   \n",
       "4           1       0  1517529418  55271958.0                  Tucson   \n",
       "\n",
       "  userTitle inReplyTo                 articleID sectionName_x newDesk_x  \\\n",
       "0   Unknown         0  5a7258e410f40f00018bed7d       Unknown      OpEd   \n",
       "1   Unknown         0  5a7258e410f40f00018bed7d       Unknown      OpEd   \n",
       "2   Unknown         0  5a7258e410f40f00018bed7d       Unknown      OpEd   \n",
       "3   Unknown         0  5a7258e410f40f00018bed7d       Unknown      OpEd   \n",
       "4   Unknown         0  5a7258e410f40f00018bed7d       Unknown      OpEd   \n",
       "\n",
       "  articleWordCount_x printPage_x typeOfMaterial_x  recommendations_TARGET  \\\n",
       "0                835          23            Op-Ed                       1   \n",
       "1                835          23            Op-Ed                       0   \n",
       "2                835          23            Op-Ed                       0   \n",
       "3                835          23            Op-Ed                       1   \n",
       "4                835          23            Op-Ed                       0   \n",
       "\n",
       "   replyCount_TARGET  editorsSelection_TARGET articleWordCount_y  \\\n",
       "0                  0                        0                835   \n",
       "1                  0                        0                835   \n",
       "2                  0                        0                835   \n",
       "3                  0                        0                835   \n",
       "4                  0                        0                835   \n",
       "\n",
       "                byline documentType                        headline  \\\n",
       "0  By NICHOLAS KRISTOF      article  I Stand  With the ‘She-Devils’   \n",
       "1  By NICHOLAS KRISTOF      article  I Stand  With the ‘She-Devils’   \n",
       "2  By NICHOLAS KRISTOF      article  I Stand  With the ‘She-Devils’   \n",
       "3  By NICHOLAS KRISTOF      article  I Stand  With the ‘She-Devils’   \n",
       "4  By NICHOLAS KRISTOF      article  I Stand  With the ‘She-Devils’   \n",
       "\n",
       "                                            keywords multimedia newDesk_y  \\\n",
       "0  ['Women and Girls', \"Women's Rights\", 'United ...         68      OpEd   \n",
       "1  ['Women and Girls', \"Women's Rights\", 'United ...         68      OpEd   \n",
       "2  ['Women and Girls', \"Women's Rights\", 'United ...         68      OpEd   \n",
       "3  ['Women and Girls', \"Women's Rights\", 'United ...         68      OpEd   \n",
       "4  ['Women and Girls', \"Women's Rights\", 'United ...         68      OpEd   \n",
       "\n",
       "  printPage_y              pubDate sectionName_y  \\\n",
       "0          23  2018-02-01 00:01:36       Unknown   \n",
       "1          23  2018-02-01 00:01:36       Unknown   \n",
       "2          23  2018-02-01 00:01:36       Unknown   \n",
       "3          23  2018-02-01 00:01:36       Unknown   \n",
       "4          23  2018-02-01 00:01:36       Unknown   \n",
       "\n",
       "                                             snippet              source  \\\n",
       "0  Progress on women’s rights was stalling, and t...  The New York Times   \n",
       "1  Progress on women’s rights was stalling, and t...  The New York Times   \n",
       "2  Progress on women’s rights was stalling, and t...  The New York Times   \n",
       "3  Progress on women’s rights was stalling, and t...  The New York Times   \n",
       "4  Progress on women’s rights was stalling, and t...  The New York Times   \n",
       "\n",
       "  typeOfMaterial_y                                             webURL  \n",
       "0            Op-Ed  https://www.nytimes.com/2018/01/31/opinion/cou...  \n",
       "1            Op-Ed  https://www.nytimes.com/2018/01/31/opinion/cou...  \n",
       "2            Op-Ed  https://www.nytimes.com/2018/01/31/opinion/cou...  \n",
       "3            Op-Ed  https://www.nytimes.com/2018/01/31/opinion/cou...  \n",
       "4            Op-Ed  https://www.nytimes.com/2018/01/31/opinion/cou...  "
      ]
     },
     "execution_count": 55,
     "metadata": {
      "tags": []
     },
     "output_type": "execute_result"
    }
   ],
   "source": [
    "pd.set_option('display.max_columns', 100)\n",
    "dataset.head(5)"
   ]
  },
  {
   "cell_type": "code",
   "execution_count": null,
   "metadata": {
    "colab": {
     "base_uri": "https://localhost:8080/"
    },
    "id": "p2wbjqLqtGUM",
    "outputId": "0aae322b-4404-45dc-ced4-3d487c73e8ec"
   },
   "outputs": [
    {
     "data": {
      "text/plain": [
       "(2171172, 41)"
      ]
     },
     "execution_count": 56,
     "metadata": {
      "tags": []
     },
     "output_type": "execute_result"
    }
   ],
   "source": [
    "dataset.shape"
   ]
  },
  {
   "cell_type": "code",
   "execution_count": null,
   "metadata": {
    "colab": {
     "base_uri": "https://localhost:8080/"
    },
    "id": "Q5fqMhMDwtti",
    "outputId": "b80badec-315b-4745-bbd2-f7c96b295db9"
   },
   "outputs": [
    {
     "data": {
      "text/plain": [
       "approveDate                0\n",
       "commentBody                0\n",
       "commentID                  0\n",
       "commentSequence            0\n",
       "commentType                0\n",
       "createDate                 0\n",
       "depth                      0\n",
       "parentID                   0\n",
       "picURL                     0\n",
       "sharing                    0\n",
       "status                     0\n",
       "timespeople                0\n",
       "trusted                    0\n",
       "updateDate                 0\n",
       "userID                     0\n",
       "userLocation               0\n",
       "userTitle                  0\n",
       "inReplyTo                  0\n",
       "articleID                  0\n",
       "sectionName_x              0\n",
       "newDesk_x                  0\n",
       "articleWordCount_x         0\n",
       "printPage_x                0\n",
       "typeOfMaterial_x           0\n",
       "recommendations_TARGET     0\n",
       "replyCount_TARGET          0\n",
       "editorsSelection_TARGET    0\n",
       "articleWordCount_y         0\n",
       "byline                     0\n",
       "documentType               0\n",
       "headline                   0\n",
       "keywords                   0\n",
       "multimedia                 0\n",
       "newDesk_y                  0\n",
       "printPage_y                0\n",
       "pubDate                    0\n",
       "sectionName_y              0\n",
       "snippet                    0\n",
       "source                     0\n",
       "typeOfMaterial_y           0\n",
       "webURL                     0\n",
       "dtype: int64"
      ]
     },
     "execution_count": 57,
     "metadata": {
      "tags": []
     },
     "output_type": "execute_result"
    }
   ],
   "source": [
    "dataset.isna().sum(axis=0)"
   ]
  },
  {
   "cell_type": "code",
   "execution_count": null,
   "metadata": {
    "colab": {
     "base_uri": "https://localhost:8080/"
    },
    "id": "Lbo4gcWZtGUM",
    "outputId": "3d3abf2e-1daf-4f23-ff04-f99d6b363513"
   },
   "outputs": [
    {
     "data": {
      "text/plain": [
       "Index(['approveDate', 'commentBody', 'commentID', 'commentSequence',\n",
       "       'commentType', 'createDate', 'depth', 'parentID', 'picURL', 'sharing',\n",
       "       'status', 'timespeople', 'trusted', 'updateDate', 'userID',\n",
       "       'userLocation', 'userTitle', 'inReplyTo', 'articleID', 'sectionName_x',\n",
       "       'newDesk_x', 'articleWordCount_x', 'printPage_x', 'typeOfMaterial_x',\n",
       "       'recommendations_TARGET', 'replyCount_TARGET',\n",
       "       'editorsSelection_TARGET', 'articleWordCount_y', 'byline',\n",
       "       'documentType', 'headline', 'keywords', 'multimedia', 'newDesk_y',\n",
       "       'printPage_y', 'pubDate', 'sectionName_y', 'snippet', 'source',\n",
       "       'typeOfMaterial_y', 'webURL'],\n",
       "      dtype='object')"
      ]
     },
     "execution_count": 58,
     "metadata": {
      "tags": []
     },
     "output_type": "execute_result"
    }
   ],
   "source": [
    "dataset.columns"
   ]
  },
  {
   "cell_type": "markdown",
   "metadata": {
    "id": "9Rqahxk_tGUN"
   },
   "source": [
    "Informative columns:\n",
    "- approveDate: yes ? (categorical)\n",
    "- commentBody: textual data\n",
    "- commentID: NO\n",
    "- commentSequence: what is it (categorical)\n",
    "- commentType: ['comment', 'reporterReply', 'userReply']\n",
    "- createDate: yes ? (float)\n",
    "- depth: The depth of 2 would mean that the comment was posted as a reply to another comment whereas a depth of 3 would mean that comment was in reply to a comment that was itself a reply. \n",
    "- editorsSelection: TARGET\n",
    "- parentID: NO \n",
    "- permID: NO\n",
    "- picURL: NO\n",
    "- recommendations: TARGET\n",
    "- replyCount: TARGET\n",
    "- sharing: whether the comment has been shared or not [0, 1]\n",
    "- status: NO, it contains only the value ['approved']\n",
    "- timespeople: comments from people of the NYtimes [0., 1.]\n",
    "- trusted: if the comment comes from a trusted user [0., 1.]\n",
    "- updateDate: yes? (categorical)\n",
    "- userDisplayName: NO\n",
    "- userID: yes\n",
    "- userLocation: yes\n",
    "- userTitle: yes: title of the user\n",
    "- inReplyTo: NO, info already given by commentType\n",
    "- articleID: NO. we want to generalise the predictions\n",
    "- sectionName_x: type of article's section\n",
    "- newDesk_x, newDesk_y: type of article. difference?. check if they are the same\n",
    "- articleWordCount_x, articleWordCount_y: number of words of article\n",
    "- printPage_x, printPage_y: NO\n",
    "- typeOfMaterial_x, typeOfMaterial_y: type of article ['An Appraisal', 'Biography', 'Blog', 'Brief', 'Editorial','Interview', 'Letter', 'News', 'News Analysis', 'Obituary (Obit)','Op-Ed', 'Question', 'Review', 'briefing']\n",
    "- byline: YES? name of writers, photographer etc.. maybe extract only the name and surname which are in upper case? they might be useful\n",
    "- documentType: ['article', 'blogpost']\n",
    "- headline: NO\n",
    "- keywords: YES\n",
    "- multimedia: what is it? (int)\n",
    "- pubDate: yes, but transform into an integer since other dates are integers\n",
    "- snippet: NO\n",
    "- source: yes ['International New York Times', 'The New York Times']. he New York Times International Edition features more international news, an increased focus on deep, analytical reporting, enterprise stories and a broader selection of coverage from The Times including culture, technology, travel and other topics relevant to international audiences\n",
    "- webURL: NO"
   ]
  },
  {
   "cell_type": "code",
   "execution_count": null,
   "metadata": {
    "id": "G5uYg2w0zp9B"
   },
   "outputs": [],
   "source": [
    "zipped_duplicates = zip(['newDesk_x','sectionName_x','articleWordCount_x','printPage_x','typeOfMaterial_x']\n",
    "               ,['newDesk_y','sectionName_y','articleWordCount_y','printPage_y','typeOfMaterial_y'])\n",
    "\n",
    "def check_duplicates(zipped_duplicates):\n",
    "  for i,j in zipped_duplicates:\n",
    "    print(i,j, ': are they equal?', all(dataset[i] == dataset[j]), '\\n')"
   ]
  },
  {
   "cell_type": "code",
   "execution_count": null,
   "metadata": {
    "colab": {
     "base_uri": "https://localhost:8080/"
    },
    "id": "R2bka_mxHBsT",
    "outputId": "7ff6a5e1-38ea-4508-bc64-a5655ba9fadb"
   },
   "outputs": [
    {
     "name": "stdout",
     "output_type": "stream",
     "text": [
      "newDesk_x newDesk_y : are they equal? True \n",
      "\n",
      "sectionName_x sectionName_y : are they equal? True \n",
      "\n",
      "articleWordCount_x articleWordCount_y : are they equal? False \n",
      "\n",
      "printPage_x printPage_y : are they equal? False \n",
      "\n",
      "typeOfMaterial_x typeOfMaterial_y : are they equal? True \n",
      "\n"
     ]
    }
   ],
   "source": [
    "check_duplicates(zipped_duplicates)"
   ]
  },
  {
   "cell_type": "code",
   "execution_count": null,
   "metadata": {
    "colab": {
     "base_uri": "https://localhost:8080/",
     "height": 1000
    },
    "id": "vqm1wOuifR6q",
    "outputId": "da61415f-c799-4566-b8dc-38f4fc40787a"
   },
   "outputs": [
    {
     "data": {
      "text/html": [
       "<div>\n",
       "<style scoped>\n",
       "    .dataframe tbody tr th:only-of-type {\n",
       "        vertical-align: middle;\n",
       "    }\n",
       "\n",
       "    .dataframe tbody tr th {\n",
       "        vertical-align: top;\n",
       "    }\n",
       "\n",
       "    .dataframe thead th {\n",
       "        text-align: right;\n",
       "    }\n",
       "</style>\n",
       "<table border=\"1\" class=\"dataframe\">\n",
       "  <thead>\n",
       "    <tr style=\"text-align: right;\">\n",
       "      <th></th>\n",
       "      <th>sectionName_x</th>\n",
       "      <th>sectionName_y</th>\n",
       "    </tr>\n",
       "  </thead>\n",
       "  <tbody>\n",
       "  </tbody>\n",
       "</table>\n",
       "</div>"
      ],
      "text/plain": [
       "Empty DataFrame\n",
       "Columns: [sectionName_x, sectionName_y]\n",
       "Index: []"
      ]
     },
     "metadata": {
      "tags": []
     },
     "output_type": "display_data"
    },
    {
     "data": {
      "text/html": [
       "<div>\n",
       "<style scoped>\n",
       "    .dataframe tbody tr th:only-of-type {\n",
       "        vertical-align: middle;\n",
       "    }\n",
       "\n",
       "    .dataframe tbody tr th {\n",
       "        vertical-align: top;\n",
       "    }\n",
       "\n",
       "    .dataframe thead th {\n",
       "        text-align: right;\n",
       "    }\n",
       "</style>\n",
       "<table border=\"1\" class=\"dataframe\">\n",
       "  <thead>\n",
       "    <tr style=\"text-align: right;\">\n",
       "      <th></th>\n",
       "      <th>articleWordCount_x</th>\n",
       "      <th>articleWordCount_y</th>\n",
       "    </tr>\n",
       "  </thead>\n",
       "  <tbody>\n",
       "    <tr>\n",
       "      <th>906900</th>\n",
       "      <td>2660</td>\n",
       "      <td>2662</td>\n",
       "    </tr>\n",
       "    <tr>\n",
       "      <th>906901</th>\n",
       "      <td>2662</td>\n",
       "      <td>2660</td>\n",
       "    </tr>\n",
       "    <tr>\n",
       "      <th>906903</th>\n",
       "      <td>2662</td>\n",
       "      <td>2660</td>\n",
       "    </tr>\n",
       "    <tr>\n",
       "      <th>906905</th>\n",
       "      <td>2662</td>\n",
       "      <td>2660</td>\n",
       "    </tr>\n",
       "    <tr>\n",
       "      <th>906907</th>\n",
       "      <td>2662</td>\n",
       "      <td>2660</td>\n",
       "    </tr>\n",
       "    <tr>\n",
       "      <th>...</th>\n",
       "      <td>...</td>\n",
       "      <td>...</td>\n",
       "    </tr>\n",
       "    <tr>\n",
       "      <th>1211905</th>\n",
       "      <td>1246</td>\n",
       "      <td>1414</td>\n",
       "    </tr>\n",
       "    <tr>\n",
       "      <th>1211906</th>\n",
       "      <td>1246</td>\n",
       "      <td>1414</td>\n",
       "    </tr>\n",
       "    <tr>\n",
       "      <th>1211907</th>\n",
       "      <td>1246</td>\n",
       "      <td>1414</td>\n",
       "    </tr>\n",
       "    <tr>\n",
       "      <th>1211908</th>\n",
       "      <td>1246</td>\n",
       "      <td>1414</td>\n",
       "    </tr>\n",
       "    <tr>\n",
       "      <th>1211909</th>\n",
       "      <td>1246</td>\n",
       "      <td>1414</td>\n",
       "    </tr>\n",
       "  </tbody>\n",
       "</table>\n",
       "<p>3499 rows × 2 columns</p>\n",
       "</div>"
      ],
      "text/plain": [
       "        articleWordCount_x articleWordCount_y\n",
       "906900                2660               2662\n",
       "906901                2662               2660\n",
       "906903                2662               2660\n",
       "906905                2662               2660\n",
       "906907                2662               2660\n",
       "...                    ...                ...\n",
       "1211905               1246               1414\n",
       "1211906               1246               1414\n",
       "1211907               1246               1414\n",
       "1211908               1246               1414\n",
       "1211909               1246               1414\n",
       "\n",
       "[3499 rows x 2 columns]"
      ]
     },
     "metadata": {
      "tags": []
     },
     "output_type": "display_data"
    },
    {
     "data": {
      "text/html": [
       "<div>\n",
       "<style scoped>\n",
       "    .dataframe tbody tr th:only-of-type {\n",
       "        vertical-align: middle;\n",
       "    }\n",
       "\n",
       "    .dataframe tbody tr th {\n",
       "        vertical-align: top;\n",
       "    }\n",
       "\n",
       "    .dataframe thead th {\n",
       "        text-align: right;\n",
       "    }\n",
       "</style>\n",
       "<table border=\"1\" class=\"dataframe\">\n",
       "  <thead>\n",
       "    <tr style=\"text-align: right;\">\n",
       "      <th></th>\n",
       "      <th>printPage_x</th>\n",
       "      <th>printPage_y</th>\n",
       "    </tr>\n",
       "  </thead>\n",
       "  <tbody>\n",
       "    <tr>\n",
       "      <th>1172107</th>\n",
       "      <td>9</td>\n",
       "      <td>0</td>\n",
       "    </tr>\n",
       "    <tr>\n",
       "      <th>1172108</th>\n",
       "      <td>9</td>\n",
       "      <td>0</td>\n",
       "    </tr>\n",
       "    <tr>\n",
       "      <th>1172109</th>\n",
       "      <td>9</td>\n",
       "      <td>0</td>\n",
       "    </tr>\n",
       "    <tr>\n",
       "      <th>1172110</th>\n",
       "      <td>9</td>\n",
       "      <td>0</td>\n",
       "    </tr>\n",
       "    <tr>\n",
       "      <th>1172111</th>\n",
       "      <td>9</td>\n",
       "      <td>0</td>\n",
       "    </tr>\n",
       "    <tr>\n",
       "      <th>...</th>\n",
       "      <td>...</td>\n",
       "      <td>...</td>\n",
       "    </tr>\n",
       "    <tr>\n",
       "      <th>1231753</th>\n",
       "      <td>4</td>\n",
       "      <td>0</td>\n",
       "    </tr>\n",
       "    <tr>\n",
       "      <th>1231754</th>\n",
       "      <td>4</td>\n",
       "      <td>0</td>\n",
       "    </tr>\n",
       "    <tr>\n",
       "      <th>1231755</th>\n",
       "      <td>4</td>\n",
       "      <td>0</td>\n",
       "    </tr>\n",
       "    <tr>\n",
       "      <th>1233709</th>\n",
       "      <td>3</td>\n",
       "      <td>0</td>\n",
       "    </tr>\n",
       "    <tr>\n",
       "      <th>1233710</th>\n",
       "      <td>3</td>\n",
       "      <td>0</td>\n",
       "    </tr>\n",
       "  </tbody>\n",
       "</table>\n",
       "<p>2933 rows × 2 columns</p>\n",
       "</div>"
      ],
      "text/plain": [
       "        printPage_x printPage_y\n",
       "1172107           9           0\n",
       "1172108           9           0\n",
       "1172109           9           0\n",
       "1172110           9           0\n",
       "1172111           9           0\n",
       "...             ...         ...\n",
       "1231753           4           0\n",
       "1231754           4           0\n",
       "1231755           4           0\n",
       "1233709           3           0\n",
       "1233710           3           0\n",
       "\n",
       "[2933 rows x 2 columns]"
      ]
     },
     "metadata": {
      "tags": []
     },
     "output_type": "display_data"
    }
   ],
   "source": [
    "for i,j in zip(['sectionName_x','articleWordCount_x','printPage_x']\n",
    "               ,['sectionName_y','articleWordCount_y','printPage_y']):\n",
    "  display(dataset.loc[:, (i,j) ][dataset[i] != dataset[j]])"
   ]
  },
  {
   "cell_type": "code",
   "execution_count": null,
   "metadata": {
    "colab": {
     "base_uri": "https://localhost:8080/"
    },
    "id": "9cgmxl4fyKIY",
    "outputId": "941f24c9-920a-44f4-a272-42d5c8a28270"
   },
   "outputs": [
    {
     "name": "stderr",
     "output_type": "stream",
     "text": [
      "/usr/local/lib/python3.7/dist-packages/ipykernel_launcher.py:1: SettingWithCopyWarning: \n",
      "A value is trying to be set on a copy of a slice from a DataFrame\n",
      "\n",
      "See the caveats in the documentation: https://pandas.pydata.org/pandas-docs/stable/user_guide/indexing.html#returning-a-view-versus-a-copy\n",
      "  \"\"\"Entry point for launching an IPython kernel.\n"
     ]
    }
   ],
   "source": [
    "dataset['sectionName_x'][dataset['sectionName_x'] == 'unknown'] = 'Unknown'"
   ]
  },
  {
   "cell_type": "code",
   "execution_count": null,
   "metadata": {
    "colab": {
     "base_uri": "https://localhost:8080/",
     "height": 343
    },
    "id": "BEx3KTvQz1Ov",
    "outputId": "91337ab5-4acb-415c-d692-18daa80b9139"
   },
   "outputs": [
    {
     "data": {
      "text/plain": [
       "count    2171172.000\n",
       "mean        1262.012\n",
       "std          870.120\n",
       "min           11.000\n",
       "25%          834.000\n",
       "50%         1118.000\n",
       "75%         1429.000\n",
       "max        16336.000\n",
       "Name: articleWordCount_x, dtype: float64"
      ]
     },
     "metadata": {
      "tags": []
     },
     "output_type": "display_data"
    },
    {
     "data": {
      "text/plain": [
       "count    2171172.000\n",
       "mean        1261.559\n",
       "std          870.132\n",
       "min           11.000\n",
       "25%          833.000\n",
       "50%         1118.000\n",
       "75%         1429.000\n",
       "max        16336.000\n",
       "Name: articleWordCount_y, dtype: float64"
      ]
     },
     "metadata": {
      "tags": []
     },
     "output_type": "display_data"
    }
   ],
   "source": [
    "display( round(dataset['articleWordCount_x'].astype(float).describe(),3) )\n",
    "display( round(dataset['articleWordCount_y'].astype(float).describe(),3) )"
   ]
  },
  {
   "cell_type": "code",
   "execution_count": null,
   "metadata": {
    "colab": {
     "base_uri": "https://localhost:8080/",
     "height": 479
    },
    "id": "RHSdLiLg0_xm",
    "outputId": "dc1599fe-48bf-483f-82b6-1c7a4088e6bf"
   },
   "outputs": [
    {
     "data": {
      "text/plain": [
       "printPage_x\n",
       "0      394488\n",
       "1      731025\n",
       "2       20977\n",
       "3       41290\n",
       "4       28017\n",
       "        ...  \n",
       "94         42\n",
       "109         7\n",
       "115         7\n",
       "132         6\n",
       "198        75\n",
       "Name: approveDate, Length: 72, dtype: int64"
      ]
     },
     "metadata": {
      "tags": []
     },
     "output_type": "display_data"
    },
    {
     "data": {
      "text/plain": [
       "printPage_y\n",
       "0      397144\n",
       "1      729496\n",
       "2       20956\n",
       "3       41283\n",
       "4       28005\n",
       "        ...  \n",
       "94         42\n",
       "109         7\n",
       "115         7\n",
       "132         6\n",
       "198        75\n",
       "Name: approveDate, Length: 72, dtype: int64"
      ]
     },
     "metadata": {
      "tags": []
     },
     "output_type": "display_data"
    }
   ],
   "source": [
    "display(dataset.groupby('printPage_x').count().iloc[:,0])\n",
    "display(dataset.groupby('printPage_y').count().iloc[:,0])"
   ]
  },
  {
   "cell_type": "code",
   "execution_count": null,
   "metadata": {
    "colab": {
     "base_uri": "https://localhost:8080/",
     "height": 507
    },
    "id": "JCNMPgq017Xv",
    "outputId": "c52c2cb9-96f0-499e-c462-6b32b1185374"
   },
   "outputs": [
    {
     "data": {
      "text/html": [
       "<div>\n",
       "<style scoped>\n",
       "    .dataframe tbody tr th:only-of-type {\n",
       "        vertical-align: middle;\n",
       "    }\n",
       "\n",
       "    .dataframe tbody tr th {\n",
       "        vertical-align: top;\n",
       "    }\n",
       "\n",
       "    .dataframe thead th {\n",
       "        text-align: right;\n",
       "    }\n",
       "</style>\n",
       "<table border=\"1\" class=\"dataframe\">\n",
       "  <thead>\n",
       "    <tr style=\"text-align: right;\">\n",
       "      <th></th>\n",
       "      <th>printPage_x</th>\n",
       "      <th>printPage_y</th>\n",
       "    </tr>\n",
       "  </thead>\n",
       "  <tbody>\n",
       "    <tr>\n",
       "      <th>1172107</th>\n",
       "      <td>9</td>\n",
       "      <td>0</td>\n",
       "    </tr>\n",
       "    <tr>\n",
       "      <th>1172108</th>\n",
       "      <td>9</td>\n",
       "      <td>0</td>\n",
       "    </tr>\n",
       "    <tr>\n",
       "      <th>1172109</th>\n",
       "      <td>9</td>\n",
       "      <td>0</td>\n",
       "    </tr>\n",
       "    <tr>\n",
       "      <th>1172110</th>\n",
       "      <td>9</td>\n",
       "      <td>0</td>\n",
       "    </tr>\n",
       "    <tr>\n",
       "      <th>1172111</th>\n",
       "      <td>9</td>\n",
       "      <td>0</td>\n",
       "    </tr>\n",
       "    <tr>\n",
       "      <th>...</th>\n",
       "      <td>...</td>\n",
       "      <td>...</td>\n",
       "    </tr>\n",
       "    <tr>\n",
       "      <th>1231753</th>\n",
       "      <td>4</td>\n",
       "      <td>0</td>\n",
       "    </tr>\n",
       "    <tr>\n",
       "      <th>1231754</th>\n",
       "      <td>4</td>\n",
       "      <td>0</td>\n",
       "    </tr>\n",
       "    <tr>\n",
       "      <th>1231755</th>\n",
       "      <td>4</td>\n",
       "      <td>0</td>\n",
       "    </tr>\n",
       "    <tr>\n",
       "      <th>1233709</th>\n",
       "      <td>3</td>\n",
       "      <td>0</td>\n",
       "    </tr>\n",
       "    <tr>\n",
       "      <th>1233710</th>\n",
       "      <td>3</td>\n",
       "      <td>0</td>\n",
       "    </tr>\n",
       "  </tbody>\n",
       "</table>\n",
       "<p>2661 rows × 2 columns</p>\n",
       "</div>"
      ],
      "text/plain": [
       "        printPage_x printPage_y\n",
       "1172107           9           0\n",
       "1172108           9           0\n",
       "1172109           9           0\n",
       "1172110           9           0\n",
       "1172111           9           0\n",
       "...             ...         ...\n",
       "1231753           4           0\n",
       "1231754           4           0\n",
       "1231755           4           0\n",
       "1233709           3           0\n",
       "1233710           3           0\n",
       "\n",
       "[2661 rows x 2 columns]"
      ]
     },
     "execution_count": 65,
     "metadata": {
      "tags": []
     },
     "output_type": "execute_result"
    }
   ],
   "source": [
    "dataset.loc[:,('printPage_x','printPage_y')][(dataset['printPage_y']==0) & (dataset['printPage_y'] != dataset['printPage_x'])]"
   ]
  },
  {
   "cell_type": "code",
   "execution_count": null,
   "metadata": {
    "colab": {
     "base_uri": "https://localhost:8080/",
     "height": 224
    },
    "id": "yTC6gUOe28HY",
    "outputId": "d55470f6-0dfe-4f99-8ce9-3d9e97c92213"
   },
   "outputs": [
    {
     "data": {
      "text/html": [
       "<div>\n",
       "<style scoped>\n",
       "    .dataframe tbody tr th:only-of-type {\n",
       "        vertical-align: middle;\n",
       "    }\n",
       "\n",
       "    .dataframe tbody tr th {\n",
       "        vertical-align: top;\n",
       "    }\n",
       "\n",
       "    .dataframe thead th {\n",
       "        text-align: right;\n",
       "    }\n",
       "</style>\n",
       "<table border=\"1\" class=\"dataframe\">\n",
       "  <thead>\n",
       "    <tr style=\"text-align: right;\">\n",
       "      <th></th>\n",
       "      <th>printPage_x</th>\n",
       "      <th>printPage_y</th>\n",
       "    </tr>\n",
       "  </thead>\n",
       "  <tbody>\n",
       "    <tr>\n",
       "      <th>1176765</th>\n",
       "      <td>0</td>\n",
       "      <td>1</td>\n",
       "    </tr>\n",
       "    <tr>\n",
       "      <th>1190527</th>\n",
       "      <td>0</td>\n",
       "      <td>18</td>\n",
       "    </tr>\n",
       "    <tr>\n",
       "      <th>1190528</th>\n",
       "      <td>0</td>\n",
       "      <td>18</td>\n",
       "    </tr>\n",
       "    <tr>\n",
       "      <th>1197678</th>\n",
       "      <td>0</td>\n",
       "      <td>4</td>\n",
       "    </tr>\n",
       "    <tr>\n",
       "      <th>1197679</th>\n",
       "      <td>0</td>\n",
       "      <td>4</td>\n",
       "    </tr>\n",
       "  </tbody>\n",
       "</table>\n",
       "</div>"
      ],
      "text/plain": [
       "        printPage_x printPage_y\n",
       "1176765           0           1\n",
       "1190527           0          18\n",
       "1190528           0          18\n",
       "1197678           0           4\n",
       "1197679           0           4"
      ]
     },
     "execution_count": 66,
     "metadata": {
      "tags": []
     },
     "output_type": "execute_result"
    }
   ],
   "source": [
    "dataset.loc[:,('printPage_x','printPage_y')][(dataset['printPage_x']==0) & (dataset['printPage_x'] != dataset['printPage_y'])]"
   ]
  },
  {
   "cell_type": "markdown",
   "metadata": {
    "id": "HVr9fjL4z4sP"
   },
   "source": [
    "The distribution of values of *articleWordCount* is similar, so we can keep only of the two. their single value are very similar anyway. The same applies for *printPage*, where we only have around 2600 different values on a 3 millions observations dataset. we choose printPage_x since printPage y contains many 0. probably because for the same comments different indexes have been stored. 0 corresponds to unknown."
   ]
  },
  {
   "cell_type": "code",
   "execution_count": null,
   "metadata": {
    "id": "XYcZxv1X1tOJ"
   },
   "outputs": [],
   "source": [
    "dataset = dataset.drop(['newDesk_y', 'sectionName_y', 'articleWordCount_y', 'printPage_y', 'typeOfMaterial_y','userID'], axis=1)"
   ]
  },
  {
   "cell_type": "code",
   "execution_count": null,
   "metadata": {
    "colab": {
     "base_uri": "https://localhost:8080/"
    },
    "id": "h-tKMdEX4J_p",
    "outputId": "be81e050-345d-4c22-e83f-6bfb50f602cc"
   },
   "outputs": [
    {
     "name": "stderr",
     "output_type": "stream",
     "text": [
      "/usr/local/lib/python3.7/dist-packages/ipykernel_launcher.py:2: SettingWithCopyWarning: \n",
      "A value is trying to be set on a copy of a slice from a DataFrame\n",
      "\n",
      "See the caveats in the documentation: https://pandas.pydata.org/pandas-docs/stable/user_guide/indexing.html#returning-a-view-versus-a-copy\n",
      "  \n"
     ]
    }
   ],
   "source": [
    "dataset['printPage_x'] = dataset['printPage_x'].astype('int').astype('str')\n",
    "dataset['printPage_x'][dataset['printPage_x']== '0'] = 'Unknown'"
   ]
  },
  {
   "cell_type": "code",
   "execution_count": null,
   "metadata": {
    "id": "Q0bXb9Ogzvml"
   },
   "outputs": [],
   "source": [
    "check_duplicates(zipped_duplicates)"
   ]
  },
  {
   "cell_type": "markdown",
   "metadata": {
    "id": "epThRjrK75PI"
   },
   "source": [
    "We modify the column picURL and set to 0 users whose image is the default one ('https://graphics8.nytimes.com/images/apps/timespeople/none.png') and 1 users who have a personalised image"
   ]
  },
  {
   "cell_type": "code",
   "execution_count": null,
   "metadata": {
    "colab": {
     "base_uri": "https://localhost:8080/"
    },
    "id": "1B5HsazOtGUO",
    "outputId": "626468de-ea12-4e53-e960-ce6c09fd087d"
   },
   "outputs": [
    {
     "name": "stderr",
     "output_type": "stream",
     "text": [
      "/usr/local/lib/python3.7/dist-packages/ipykernel_launcher.py:1: SettingWithCopyWarning: \n",
      "A value is trying to be set on a copy of a slice from a DataFrame\n",
      "\n",
      "See the caveats in the documentation: https://pandas.pydata.org/pandas-docs/stable/user_guide/indexing.html#returning-a-view-versus-a-copy\n",
      "  \"\"\"Entry point for launching an IPython kernel.\n",
      "/usr/local/lib/python3.7/dist-packages/ipykernel_launcher.py:2: SettingWithCopyWarning: \n",
      "A value is trying to be set on a copy of a slice from a DataFrame\n",
      "\n",
      "See the caveats in the documentation: https://pandas.pydata.org/pandas-docs/stable/user_guide/indexing.html#returning-a-view-versus-a-copy\n",
      "  \n"
     ]
    }
   ],
   "source": [
    "dataset['picURL'][dataset['picURL'] =='https://graphics8.nytimes.com/images/apps/timespeople/none.png'] = 0\n",
    "dataset['picURL'][dataset['picURL'] != 0 ] = 1"
   ]
  },
  {
   "cell_type": "markdown",
   "metadata": {
    "id": "TUmdutsL2B4_"
   },
   "source": [
    "https://www.kaggle.com/aashita/exploratory-data-analysis-of-comments-on-nyt?scriptVersionId=3719954\n",
    "\n",
    "Now we drop all the other useless columns, namely: commentID, commentSequence (no info about it), parentID, status, inReplyTo, articleID, headline, multimedia (no info), snippet, webURL."
   ]
  },
  {
   "cell_type": "code",
   "execution_count": null,
   "metadata": {
    "id": "h_QfxG17-cjF"
   },
   "outputs": [],
   "source": [
    "dataset = dataset.drop(['commentID', 'commentSequence', 'parentID', 'status', 'inReplyTo', 'articleID', 'headline', 'multimedia', 'snippet', 'webURL'], axis=1)"
   ]
  },
  {
   "cell_type": "code",
   "execution_count": null,
   "metadata": {
    "colab": {
     "base_uri": "https://localhost:8080/"
    },
    "id": "kP0XBplx-36U",
    "outputId": "8dab9b59-deed-44a0-bfa3-7ba8b2031c64"
   },
   "outputs": [
    {
     "data": {
      "text/plain": [
       "Index(['approveDate', 'commentBody', 'commentType', 'createDate', 'depth',\n",
       "       'picURL', 'sharing', 'timespeople', 'trusted', 'updateDate',\n",
       "       'userLocation', 'userTitle', 'sectionName_x', 'newDesk_x',\n",
       "       'articleWordCount_x', 'printPage_x', 'typeOfMaterial_x',\n",
       "       'recommendations_TARGET', 'replyCount_TARGET',\n",
       "       'editorsSelection_TARGET', 'byline', 'documentType', 'keywords',\n",
       "       'pubDate', 'source'],\n",
       "      dtype='object')"
      ]
     },
     "execution_count": 72,
     "metadata": {
      "tags": []
     },
     "output_type": "execute_result"
    }
   ],
   "source": [
    "dataset.columns"
   ]
  },
  {
   "cell_type": "code",
   "execution_count": null,
   "metadata": {
    "colab": {
     "base_uri": "https://localhost:8080/"
    },
    "id": "4UV3sAcjAfYj",
    "outputId": "6475e3e9-1389-4247-dc01-2a9301a4b681"
   },
   "outputs": [
    {
     "data": {
      "text/plain": [
       "(2171172, 25)"
      ]
     },
     "execution_count": 73,
     "metadata": {
      "tags": []
     },
     "output_type": "execute_result"
    }
   ],
   "source": [
    "dataset.shape"
   ]
  },
  {
   "cell_type": "code",
   "execution_count": null,
   "metadata": {
    "id": "EyXLUOYD3obI"
   },
   "outputs": [],
   "source": []
  },
  {
   "cell_type": "markdown",
   "metadata": {
    "id": "wPhVL6Q5BCfs"
   },
   "source": [
    "## FIX DATA TYPES AND FORMATS"
   ]
  },
  {
   "cell_type": "code",
   "execution_count": null,
   "metadata": {
    "colab": {
     "base_uri": "https://localhost:8080/"
    },
    "id": "LqiI2YtNBcVs",
    "outputId": "f15cdf25-7fd6-4daf-9779-8bce8eab3412"
   },
   "outputs": [
    {
     "data": {
      "text/plain": [
       "Index(['approveDate', 'commentBody', 'commentType', 'createDate', 'depth',\n",
       "       'picURL', 'sharing', 'timespeople', 'trusted', 'updateDate',\n",
       "       'userLocation', 'userTitle', 'sectionName_x', 'newDesk_x',\n",
       "       'articleWordCount_x', 'printPage_x', 'typeOfMaterial_x',\n",
       "       'recommendations_TARGET', 'replyCount_TARGET',\n",
       "       'editorsSelection_TARGET', 'byline', 'documentType', 'keywords',\n",
       "       'pubDate', 'source'],\n",
       "      dtype='object')"
      ]
     },
     "execution_count": 68,
     "metadata": {
      "tags": []
     },
     "output_type": "execute_result"
    }
   ],
   "source": [
    "dataset.columns"
   ]
  },
  {
   "cell_type": "code",
   "execution_count": null,
   "metadata": {
    "id": "TA0LKiqoIEIn"
   },
   "outputs": [],
   "source": [
    "from datetime import datetime\n",
    "\n",
    "dataset['pubDate'] = pd.to_datetime(dataset['pubDate'], format='%Y-%m-%d %H:%M:%S')\n",
    "dataset['pubDate'] = (datetime.now() - dataset['pubDate']).apply(lambda x: x.total_seconds() / 3600)"
   ]
  },
  {
   "cell_type": "code",
   "execution_count": null,
   "metadata": {
    "colab": {
     "base_uri": "https://localhost:8080/"
    },
    "id": "7cL0PYBZBeCu",
    "outputId": "87c64543-d597-4fd0-f130-0e0dd843eda1"
   },
   "outputs": [
    {
     "data": {
      "text/plain": [
       "approveDate                 object\n",
       "commentBody                 object\n",
       "commentType                 object\n",
       "createDate                  object\n",
       "depth                      float64\n",
       "picURL                      object\n",
       "sharing                     object\n",
       "timespeople                 object\n",
       "trusted                     object\n",
       "updateDate                  object\n",
       "userLocation                object\n",
       "userTitle                   object\n",
       "sectionName_x               object\n",
       "newDesk_x                   object\n",
       "articleWordCount_x          object\n",
       "printPage_x                 object\n",
       "typeOfMaterial_x            object\n",
       "recommendations_TARGET       int64\n",
       "replyCount_TARGET            int64\n",
       "editorsSelection_TARGET      int64\n",
       "byline                      object\n",
       "documentType                object\n",
       "keywords                    object\n",
       "pubDate                    float64\n",
       "source                      object\n",
       "dtype: object"
      ]
     },
     "execution_count": 70,
     "metadata": {
      "tags": []
     },
     "output_type": "execute_result"
    }
   ],
   "source": [
    "dataset.dtypes"
   ]
  },
  {
   "cell_type": "code",
   "execution_count": null,
   "metadata": {
    "id": "0JRamCGD9u4Q"
   },
   "outputs": [],
   "source": []
  },
  {
   "cell_type": "code",
   "execution_count": null,
   "metadata": {
    "id": "Pxl44I9KDgPM"
   },
   "outputs": [],
   "source": [
    "dataset = dataset.astype({\n",
    "    'approveDate': 'float64',\n",
    "    'createDate': 'float64',\n",
    "    'depth': 'object',\n",
    "    'picURL': 'object',\n",
    "    'sharing': 'object',\n",
    "    'timespeople': 'object',\n",
    "    'trusted':'object',\n",
    "    'updateDate': 'float64',\n",
    "    'articleWordCount_x' : 'float64',\n",
    "    'recommendations_TARGET' :'object',\n",
    "    'replyCount_TARGET': 'object',\n",
    "    'editorsSelection_TARGET' : 'object',\n",
    "    'printPage_x' : 'object',\n",
    "    'byline' : 'object'\n",
    "                })"
   ]
  },
  {
   "cell_type": "code",
   "execution_count": null,
   "metadata": {
    "colab": {
     "base_uri": "https://localhost:8080/"
    },
    "id": "5dpnFOunHTv4",
    "outputId": "d7cfbb76-b1bd-4d10-8d4e-b8fbf96d32e4"
   },
   "outputs": [
    {
     "data": {
      "text/plain": [
       "approveDate                float64\n",
       "commentBody                 object\n",
       "commentType                 object\n",
       "createDate                 float64\n",
       "depth                       object\n",
       "picURL                      object\n",
       "sharing                     object\n",
       "timespeople                 object\n",
       "trusted                     object\n",
       "updateDate                 float64\n",
       "userLocation                object\n",
       "userTitle                   object\n",
       "sectionName_x               object\n",
       "newDesk_x                   object\n",
       "articleWordCount_x         float64\n",
       "printPage_x                 object\n",
       "typeOfMaterial_x            object\n",
       "recommendations_TARGET      object\n",
       "replyCount_TARGET           object\n",
       "editorsSelection_TARGET     object\n",
       "byline                      object\n",
       "documentType                object\n",
       "keywords                    object\n",
       "pubDate                    float64\n",
       "source                      object\n",
       "dtype: object"
      ]
     },
     "execution_count": 72,
     "metadata": {
      "tags": []
     },
     "output_type": "execute_result"
    }
   ],
   "source": [
    "dataset.dtypes"
   ]
  },
  {
   "cell_type": "markdown",
   "metadata": {
    "id": "BmSKOmsyNPdz"
   },
   "source": [
    "Sistema *byline*, *keywords*"
   ]
  },
  {
   "cell_type": "markdown",
   "metadata": {
    "id": "De5lb1EV0M1e"
   },
   "source": [
    "- BYLINE\n",
    "\n",
    "In order to reduce the number of classes, only the first writer is taken"
   ]
  },
  {
   "cell_type": "code",
   "execution_count": null,
   "metadata": {
    "id": "YwWfie2T7L2E"
   },
   "outputs": [],
   "source": [
    "import re\n",
    "def func(x):\n",
    "  if re.search(r\"and|,\", x):\n",
    "    x = re.split(r',|and', x)\n",
    "    x = x[0]\n",
    "    x = [i for i in x.split() if i.isupper()]\n",
    "    x = \" \".join(x)\n",
    "    return x\n",
    "  else:\n",
    "    x = [i for i in x.split() if i.isupper()]\n",
    "    x = \" \".join(x)\n",
    "    return x\n",
    "\n",
    "\n",
    "dataset['byline'] = dataset['byline'].apply(func)"
   ]
  },
  {
   "cell_type": "code",
   "execution_count": null,
   "metadata": {
    "colab": {
     "base_uri": "https://localhost:8080/"
    },
    "id": "8b2yF5dcAzY9",
    "outputId": "b4fa54ef-99c6-4ee8-bc22-b36f4067220c"
   },
   "outputs": [
    {
     "data": {
      "text/plain": [
       "byline\n",
       "                        375\n",
       "A. J. GOLDMANN           11\n",
       "A. O. SCOTT            1081\n",
       "A. ODYSSEUS PATRICK     751\n",
       "A.O. SCOTT              736\n",
       "                       ... \n",
       "ZAHID SARDAR             10\n",
       "ZEYNEP TUFEKCI         1038\n",
       "ZIAD RESLAN              41\n",
       "ZOE GREENBERG           175\n",
       "ÉDOUARD LOUIS             1\n",
       "Name: approveDate, Length: 2119, dtype: int64"
      ]
     },
     "execution_count": 77,
     "metadata": {
      "tags": []
     },
     "output_type": "execute_result"
    }
   ],
   "source": [
    "dataset.groupby('byline').count().iloc[:,0]"
   ]
  },
  {
   "cell_type": "code",
   "execution_count": null,
   "metadata": {
    "colab": {
     "base_uri": "https://localhost:8080/"
    },
    "id": "Jy2en-Z2AMEW",
    "outputId": "45b917af-2357-4c3b-8d50-5bb0dadb27f1"
   },
   "outputs": [
    {
     "data": {
      "text/plain": [
       "approveDate                0\n",
       "commentBody                0\n",
       "commentType                0\n",
       "createDate                 0\n",
       "depth                      0\n",
       "picURL                     0\n",
       "sharing                    0\n",
       "timespeople                0\n",
       "trusted                    0\n",
       "updateDate                 0\n",
       "userLocation               0\n",
       "userTitle                  0\n",
       "sectionName_x              0\n",
       "newDesk_x                  0\n",
       "articleWordCount_x         0\n",
       "printPage_x                0\n",
       "typeOfMaterial_x           0\n",
       "recommendations_TARGET     0\n",
       "replyCount_TARGET          0\n",
       "editorsSelection_TARGET    0\n",
       "byline                     0\n",
       "documentType               0\n",
       "keywords                   0\n",
       "pubDate                    0\n",
       "source                     0\n",
       "dtype: int64"
      ]
     },
     "execution_count": 78,
     "metadata": {
      "tags": []
     },
     "output_type": "execute_result"
    }
   ],
   "source": [
    "dataset.isna().sum(axis=0)"
   ]
  },
  {
   "cell_type": "code",
   "execution_count": null,
   "metadata": {
    "id": "PW8lIXWelCm2"
   },
   "outputs": [],
   "source": []
  },
  {
   "cell_type": "code",
   "execution_count": null,
   "metadata": {
    "id": "Zj-KroadIZiG"
   },
   "outputs": [],
   "source": [
    "import ast\n",
    "\n",
    "l = []\n",
    "\n",
    "for i in np.unique(dataset['keywords']):\n",
    "  for j in ast.literal_eval(i):\n",
    "    l.append(j)\n",
    "\n",
    "l = set(l)"
   ]
  },
  {
   "cell_type": "code",
   "execution_count": null,
   "metadata": {
    "colab": {
     "base_uri": "https://localhost:8080/"
    },
    "id": "Lw3neWyeJ5w4",
    "outputId": "977c25e5-cf55-4872-bdc7-f6d85d9f4ba8"
   },
   "outputs": [
    {
     "data": {
      "text/plain": [
       "9848"
      ]
     },
     "execution_count": 17,
     "metadata": {
      "tags": []
     },
     "output_type": "execute_result"
    }
   ],
   "source": [
    "len(l)"
   ]
  },
  {
   "cell_type": "markdown",
   "metadata": {
    "id": "v--DKEXgtGUC"
   },
   "source": [
    "# TEXT PREPROCESSING\n",
    "\n",
    "Process both commentBody and keywords. they will be fed to 2 different neural networks"
   ]
  },
  {
   "cell_type": "markdown",
   "metadata": {
    "id": "YsG4Z6dstGUO"
   },
   "source": [
    "---"
   ]
  },
  {
   "cell_type": "code",
   "execution_count": null,
   "metadata": {
    "colab": {
     "base_uri": "https://localhost:8080/",
     "height": 419
    },
    "id": "4Bqwp00PtGUD",
    "outputId": "e2b83389-bef7-4f82-bf9f-ce2279165c8c"
   },
   "outputs": [
    {
     "data": {
      "text/html": [
       "<div>\n",
       "<style scoped>\n",
       "    .dataframe tbody tr th:only-of-type {\n",
       "        vertical-align: middle;\n",
       "    }\n",
       "\n",
       "    .dataframe tbody tr th {\n",
       "        vertical-align: top;\n",
       "    }\n",
       "\n",
       "    .dataframe thead th {\n",
       "        text-align: right;\n",
       "    }\n",
       "</style>\n",
       "<table border=\"1\" class=\"dataframe\">\n",
       "  <thead>\n",
       "    <tr style=\"text-align: right;\">\n",
       "      <th></th>\n",
       "      <th>commentBody</th>\n",
       "    </tr>\n",
       "  </thead>\n",
       "  <tbody>\n",
       "    <tr>\n",
       "      <th>0</th>\n",
       "      <td>The snake-filled heads comment made me think o...</td>\n",
       "    </tr>\n",
       "    <tr>\n",
       "      <th>1</th>\n",
       "      <td>She-devil reporting for duty!</td>\n",
       "    </tr>\n",
       "    <tr>\n",
       "      <th>2</th>\n",
       "      <td>XX is the new mark of the devil.</td>\n",
       "    </tr>\n",
       "    <tr>\n",
       "      <th>3</th>\n",
       "      <td>\"Courtland Sykes\" should be writing for The On...</td>\n",
       "    </tr>\n",
       "    <tr>\n",
       "      <th>4</th>\n",
       "      <td>I happen to descend for a few of them, because...</td>\n",
       "    </tr>\n",
       "    <tr>\n",
       "      <th>...</th>\n",
       "      <td>...</td>\n",
       "    </tr>\n",
       "    <tr>\n",
       "      <th>2171167</th>\n",
       "      <td>C'mon Connecticut...let's add ourselves to the...</td>\n",
       "    </tr>\n",
       "    <tr>\n",
       "      <th>2171168</th>\n",
       "      <td>Write or call Hickenlooper's office! It was on...</td>\n",
       "    </tr>\n",
       "    <tr>\n",
       "      <th>2171169</th>\n",
       "      <td>C'mon North Carolina! -- oh, who am I kidding.</td>\n",
       "    </tr>\n",
       "    <tr>\n",
       "      <th>2171170</th>\n",
       "      <td>California is the federal government's #1 \"don...</td>\n",
       "    </tr>\n",
       "    <tr>\n",
       "      <th>2171171</th>\n",
       "      <td>Or stop Earth First . . .</td>\n",
       "    </tr>\n",
       "  </tbody>\n",
       "</table>\n",
       "<p>2171172 rows × 1 columns</p>\n",
       "</div>"
      ],
      "text/plain": [
       "                                               commentBody\n",
       "0        The snake-filled heads comment made me think o...\n",
       "1                            She-devil reporting for duty!\n",
       "2                         XX is the new mark of the devil.\n",
       "3        \"Courtland Sykes\" should be writing for The On...\n",
       "4        I happen to descend for a few of them, because...\n",
       "...                                                    ...\n",
       "2171167  C'mon Connecticut...let's add ourselves to the...\n",
       "2171168  Write or call Hickenlooper's office! It was on...\n",
       "2171169     C'mon North Carolina! -- oh, who am I kidding.\n",
       "2171170  California is the federal government's #1 \"don...\n",
       "2171171                         Or stop Earth First . . . \n",
       "\n",
       "[2171172 rows x 1 columns]"
      ]
     },
     "execution_count": 150,
     "metadata": {
      "tags": []
     },
     "output_type": "execute_result"
    }
   ],
   "source": [
    "pd.DataFrame(dataset['commentBody'])"
   ]
  },
  {
   "cell_type": "code",
   "execution_count": null,
   "metadata": {
    "colab": {
     "base_uri": "https://localhost:8080/"
    },
    "id": "oXSB9oRntGUE",
    "outputId": "e5a36e46-0562-4be7-b7a1-9c1bee7db2ff"
   },
   "outputs": [],
   "source": [
    "## BUILD A PIPELINE\n",
    "from sklearn.base import BaseEstimator\n",
    "from sklearn.base import TransformerMixin\n",
    "import nltk\n",
    "nltk.download('stopwords')\n",
    "from nltk.corpus import stopwords\n",
    "from nltk.tokenize import word_tokenize\n",
    "\n",
    "import spacy\n",
    "from nltk.corpus import stopwords \n",
    "import string\n",
    "\n",
    "\n",
    "class Preprocess( BaseEstimator, TransformerMixin ):\n",
    "    \n",
    "    \"\"\"\n",
    "      \n",
    "    Tokenization and Normalisation of textual data.\n",
    "\n",
    "    Parameters\n",
    "    ---------------------\n",
    "    lang: language of the textual data. By default 'english'\n",
    "    custom_stopwords: additional stop words to be removed from \n",
    "        the text.\n",
    "\n",
    "    Returns\n",
    "    ---------------------\n",
    "\n",
    "\n",
    "    Attributes\n",
    "    ---------------------\n",
    "    stop_words_en: return the stop words to be eliminated.\n",
    "    self.show_pos: return all possible part of speech tags.\n",
    "\n",
    "    \"\"\"\n",
    "\n",
    "    def __init__(self, \n",
    "                 lang = \"english\",\n",
    "                 spacy_language_model = \"en_core_web_sm\",\n",
    "                 custom_stopwords = [],\n",
    "                 POS = []\n",
    "                 ):\n",
    "        \n",
    "        self.lang = lang\n",
    "        self.custom_stopwords = custom_stopwords\n",
    "        self.spacy_language_model = spacy_language_model\n",
    "        self.stop_words_en = stopwords.words(self.lang) + list(string.punctuation) + self.custom_stopwords\n",
    "        self.POS = POS\n",
    "        \n",
    "        self.nlp = spacy.load(self.spacy_language_model)\n",
    "        self.show_pos = [(pos, spacy.explain(pos)) for pos in self.nlp.get_pipe(\"tagger\").labels]\n",
    "        \n",
    "      \n",
    "    def fit( self, X, y = None ):\n",
    "        return self \n",
    "    \n",
    "\n",
    "    def clean_lemmatize( self, x ):\n",
    "        \n",
    "        if self.POS:\n",
    "            text = [token.lemma_ for token in self.nlp(x.lower()) if token.lemma_ not in self.stop_words_en\n",
    "                   and token.tag_ in self.POS]\n",
    "        else:\n",
    "            text = [token.lemma_ for token in self.nlp(x.lower()) if token.lemma_ not in self.stop_words_en]\n",
    "        \n",
    "        text = ' '.join([elem for elem in text])\n",
    "        return str(text)\n",
    "    \n",
    "    \n",
    "    def transform( self, X, y = None ):\n",
    "        return X.apply(self.clean_lemmatize)"
   ]
  },
  {
   "cell_type": "code",
   "execution_count": null,
   "metadata": {
    "colab": {
     "base_uri": "https://localhost:8080/"
    },
    "id": "ziKCL2o8tGUF",
    "outputId": "1183068d-ef05-4b40-8719-e873f7087348"
   },
   "outputs": [
    {
     "data": {
      "text/plain": [
       "[('$', 'symbol, currency'),\n",
       " (\"''\", 'closing quotation mark'),\n",
       " (',', 'punctuation mark, comma'),\n",
       " ('-LRB-', 'left round bracket'),\n",
       " ('-RRB-', 'right round bracket'),\n",
       " ('.', 'punctuation mark, sentence closer'),\n",
       " (':', 'punctuation mark, colon or ellipsis'),\n",
       " ('ADD', 'email'),\n",
       " ('AFX', 'affix'),\n",
       " ('CC', 'conjunction, coordinating'),\n",
       " ('CD', 'cardinal number'),\n",
       " ('DT', 'determiner'),\n",
       " ('EX', 'existential there'),\n",
       " ('FW', 'foreign word'),\n",
       " ('HYPH', 'punctuation mark, hyphen'),\n",
       " ('IN', 'conjunction, subordinating or preposition'),\n",
       " ('JJ', 'adjective'),\n",
       " ('JJR', 'adjective, comparative'),\n",
       " ('JJS', 'adjective, superlative'),\n",
       " ('LS', 'list item marker'),\n",
       " ('MD', 'verb, modal auxiliary'),\n",
       " ('NFP', 'superfluous punctuation'),\n",
       " ('NN', 'noun, singular or mass'),\n",
       " ('NNP', 'noun, proper singular'),\n",
       " ('NNPS', 'noun, proper plural'),\n",
       " ('NNS', 'noun, plural'),\n",
       " ('PDT', 'predeterminer'),\n",
       " ('POS', 'possessive ending'),\n",
       " ('PRP', 'pronoun, personal'),\n",
       " ('PRP$', 'pronoun, possessive'),\n",
       " ('RB', 'adverb'),\n",
       " ('RBR', 'adverb, comparative'),\n",
       " ('RBS', 'adverb, superlative'),\n",
       " ('RP', 'adverb, particle'),\n",
       " ('SYM', 'symbol'),\n",
       " ('TO', 'infinitival \"to\"'),\n",
       " ('UH', 'interjection'),\n",
       " ('VB', 'verb, base form'),\n",
       " ('VBD', 'verb, past tense'),\n",
       " ('VBG', 'verb, gerund or present participle'),\n",
       " ('VBN', 'verb, past participle'),\n",
       " ('VBP', 'verb, non-3rd person singular present'),\n",
       " ('VBZ', 'verb, 3rd person singular present'),\n",
       " ('WDT', 'wh-determiner'),\n",
       " ('WP', 'wh-pronoun, personal'),\n",
       " ('WP$', 'wh-pronoun, possessive'),\n",
       " ('WRB', 'wh-adverb'),\n",
       " ('XX', 'unknown'),\n",
       " ('_SP', None),\n",
       " ('``', 'opening quotation mark')]"
      ]
     },
     "execution_count": 160,
     "metadata": {
      "tags": []
     },
     "output_type": "execute_result"
    }
   ],
   "source": [
    "Preprocess().show_pos"
   ]
  },
  {
   "cell_type": "code",
   "execution_count": null,
   "metadata": {
    "id": "i22ObZmitGUF"
   },
   "outputs": [],
   "source": [
    "POS = ['NN', 'JJ','JJR','JJS', 'MD', 'PRP', 'VB','NNP','NNPS','RBR','RBS','RP']\n",
    "dataset['commentBody'] = Preprocess(POS=POS).transform(dataset['commentBody'])"
   ]
  },
  {
   "cell_type": "code",
   "execution_count": null,
   "metadata": {
    "colab": {
     "base_uri": "https://localhost:8080/"
    },
    "id": "q2WFdP95hSxL",
    "outputId": "39a1f1cf-9fe9-4253-e4f3-0b9a3a65ac63"
   },
   "outputs": [
    {
     "data": {
      "text/plain": [
       "0          snake comment I think medusa br/><br/>i retrog...\n",
       "1                                       devil reporting duty\n",
       "2                                             new mark devil\n",
       "3                                     courtland onion office\n",
       "4          I descend nasty roam isabella margaret eleanor...\n",
       "                                 ...                        \n",
       "2171167                      c'm connecticut let 's add list\n",
       "2171168    write call hickenlooper office first I yesterd...\n",
       "2171169                                 c'm north carolina I\n",
       "2171170    california federal government donor state year...\n",
       "2171171                                           stop earth\n",
       "Name: commentBody, Length: 2171172, dtype: object"
      ]
     },
     "execution_count": 62,
     "metadata": {
      "tags": []
     },
     "output_type": "execute_result"
    }
   ],
   "source": [
    "dataset['commentBody']"
   ]
  },
  {
   "cell_type": "code",
   "execution_count": null,
   "metadata": {
    "id": "x8Eoz9KXF6dE"
   },
   "outputs": [],
   "source": [
    "dataset['keywords'] = Preprocess(POS=POS).transform(dataset['keywords'])"
   ]
  },
  {
   "cell_type": "code",
   "execution_count": null,
   "metadata": {
    "colab": {
     "base_uri": "https://localhost:8080/"
    },
    "id": "ND8ovVLxhv-G",
    "outputId": "1e2da383-0d0e-48d4-a34e-9b49eee35d37"
   },
   "outputs": [
    {
     "data": {
      "text/plain": [
       "0          united government metoo movement sexual harass...\n",
       "1          united government metoo movement sexual harass...\n",
       "2          united government metoo movement sexual harass...\n",
       "3          united government metoo movement sexual harass...\n",
       "4          united government metoo movement sexual harass...\n",
       "                                 ...                        \n",
       "2171167    united convention climate change global warmin...\n",
       "2171168    united convention climate change global warmin...\n",
       "2171169    united convention climate change global warmin...\n",
       "2171170    united convention climate change global warmin...\n",
       "2171171    united convention climate change global warmin...\n",
       "Name: keywords, Length: 2171172, dtype: object"
      ]
     },
     "execution_count": 141,
     "metadata": {
      "tags": []
     },
     "output_type": "execute_result"
    }
   ],
   "source": [
    "dataset['keywords']"
   ]
  },
  {
   "cell_type": "markdown",
   "metadata": {
    "id": "E_VmKKvbGcjt"
   },
   "source": [
    "- keywords: use TFIDF to vectorise documents as collection of words. in this case we don't need any context since the words are keywords, so they are to be found alone. or we should create a pseudo document for each observation and perform tfidf like this? use CNN\n",
    "- commentBody: use word embeddings to retrieve the context. use an embedding layer. use CNN + LSTM\n",
    "\n",
    "https://towardsdatascience.com/text-classification-rnns-or-cnn-s-98c86a0dd361\n",
    "\n",
    "https://arxiv.org/pdf/1511.08630.pdf\n"
   ]
  },
  {
   "cell_type": "code",
   "execution_count": null,
   "metadata": {
    "id": "bFJVXft-CPYf"
   },
   "outputs": [],
   "source": [
    "dataset.to_csv('PROJECT_SA/dataset_cleansed_version.csv')"
   ]
  }
 ],
 "metadata": {
  "accelerator": "GPU",
  "colab": {
   "collapsed_sections": [
    "siH6x1pAG7Sd",
    "RrNPwlwXtGT9",
    "lnqCQkSztGUL"
   ],
   "name": "Sentiment Analysis project.ipynb",
   "provenance": [],
   "toc_visible": true
  },
  "environment": {
   "name": "pytorch-gpu.1-8.m69",
   "type": "gcloud",
   "uri": "gcr.io/deeplearning-platform-release/pytorch-gpu.1-8:m69"
  },
  "kernelspec": {
   "display_name": "Python 3",
   "language": "python",
   "name": "python3"
  },
  "language_info": {
   "codemirror_mode": {
    "name": "ipython",
    "version": 3
   },
   "file_extension": ".py",
   "mimetype": "text/x-python",
   "name": "python",
   "nbconvert_exporter": "python",
   "pygments_lexer": "ipython3",
   "version": "3.7.10"
  },
  "latex_envs": {
   "LaTeX_envs_menu_present": true,
   "autoclose": false,
   "autocomplete": true,
   "bibliofile": "biblio.bib",
   "cite_by": "apalike",
   "current_citInitial": 1,
   "eqLabelWithNumbers": true,
   "eqNumInitial": 1,
   "hotkeys": {
    "equation": "Ctrl-E",
    "itemize": "Ctrl-I"
   },
   "labels_anchors": false,
   "latex_user_defs": false,
   "report_style_numbering": false,
   "user_envs_cfg": false
  },
  "widgets": {
   "application/vnd.jupyter.widget-state+json": {
    "0089e545bdae45e1be92e9291e1822ea": {
     "model_module": "@jupyter-widgets/base",
     "model_name": "LayoutModel",
     "state": {
      "_model_module": "@jupyter-widgets/base",
      "_model_module_version": "1.2.0",
      "_model_name": "LayoutModel",
      "_view_count": null,
      "_view_module": "@jupyter-widgets/base",
      "_view_module_version": "1.2.0",
      "_view_name": "LayoutView",
      "align_content": null,
      "align_items": null,
      "align_self": null,
      "border": null,
      "bottom": null,
      "display": null,
      "flex": null,
      "flex_flow": null,
      "grid_area": null,
      "grid_auto_columns": null,
      "grid_auto_flow": null,
      "grid_auto_rows": null,
      "grid_column": null,
      "grid_gap": null,
      "grid_row": null,
      "grid_template_areas": null,
      "grid_template_columns": null,
      "grid_template_rows": null,
      "height": null,
      "justify_content": null,
      "justify_items": null,
      "left": null,
      "margin": null,
      "max_height": null,
      "max_width": null,
      "min_height": null,
      "min_width": null,
      "object_fit": null,
      "object_position": null,
      "order": null,
      "overflow": null,
      "overflow_x": null,
      "overflow_y": null,
      "padding": null,
      "right": null,
      "top": null,
      "visibility": null,
      "width": null
     }
    },
    "012e0e5ac2ec4fada291b58249c7d6c2": {
     "model_module": "@jupyter-widgets/controls",
     "model_name": "ProgressStyleModel",
     "state": {
      "_model_module": "@jupyter-widgets/controls",
      "_model_module_version": "1.5.0",
      "_model_name": "ProgressStyleModel",
      "_view_count": null,
      "_view_module": "@jupyter-widgets/base",
      "_view_module_version": "1.2.0",
      "_view_name": "StyleView",
      "bar_color": null,
      "description_width": "initial"
     }
    },
    "0205cfa4a7d2444bbed2bae671c1936a": {
     "model_module": "@jupyter-widgets/base",
     "model_name": "LayoutModel",
     "state": {
      "_model_module": "@jupyter-widgets/base",
      "_model_module_version": "1.2.0",
      "_model_name": "LayoutModel",
      "_view_count": null,
      "_view_module": "@jupyter-widgets/base",
      "_view_module_version": "1.2.0",
      "_view_name": "LayoutView",
      "align_content": null,
      "align_items": null,
      "align_self": null,
      "border": null,
      "bottom": null,
      "display": null,
      "flex": null,
      "flex_flow": null,
      "grid_area": null,
      "grid_auto_columns": null,
      "grid_auto_flow": null,
      "grid_auto_rows": null,
      "grid_column": null,
      "grid_gap": null,
      "grid_row": null,
      "grid_template_areas": null,
      "grid_template_columns": null,
      "grid_template_rows": null,
      "height": null,
      "justify_content": null,
      "justify_items": null,
      "left": null,
      "margin": null,
      "max_height": null,
      "max_width": null,
      "min_height": null,
      "min_width": null,
      "object_fit": null,
      "object_position": null,
      "order": null,
      "overflow": null,
      "overflow_x": null,
      "overflow_y": null,
      "padding": null,
      "right": null,
      "top": null,
      "visibility": null,
      "width": null
     }
    },
    "0646ea6ea9c14236a68a9328deaba1a4": {
     "model_module": "@jupyter-widgets/controls",
     "model_name": "HTMLModel",
     "state": {
      "_dom_classes": [],
      "_model_module": "@jupyter-widgets/controls",
      "_model_module_version": "1.5.0",
      "_model_name": "HTMLModel",
      "_view_count": null,
      "_view_module": "@jupyter-widgets/controls",
      "_view_module_version": "1.5.0",
      "_view_name": "HTMLView",
      "description": "",
      "description_tooltip": null,
      "layout": "IPY_MODEL_4dc26b91240944d08187f6c909f7174a",
      "placeholder": "​",
      "style": "IPY_MODEL_fd587c922a224681a9964eead04cb878",
      "value": " 13842/13842 [20:53&lt;00:00, 11.04it/s]"
     }
    },
    "0cdf2591f2304b0ab4430941fe469734": {
     "model_module": "@jupyter-widgets/controls",
     "model_name": "DescriptionStyleModel",
     "state": {
      "_model_module": "@jupyter-widgets/controls",
      "_model_module_version": "1.5.0",
      "_model_name": "DescriptionStyleModel",
      "_view_count": null,
      "_view_module": "@jupyter-widgets/base",
      "_view_module_version": "1.2.0",
      "_view_name": "StyleView",
      "description_width": ""
     }
    },
    "0fcd25f365364a7b846145f04a9fced6": {
     "model_module": "@jupyter-widgets/controls",
     "model_name": "HTMLModel",
     "state": {
      "_dom_classes": [],
      "_model_module": "@jupyter-widgets/controls",
      "_model_module_version": "1.5.0",
      "_model_name": "HTMLModel",
      "_view_count": null,
      "_view_module": "@jupyter-widgets/controls",
      "_view_module_version": "1.5.0",
      "_view_name": "HTMLView",
      "description": "",
      "description_tooltip": null,
      "layout": "IPY_MODEL_7bf4114faae945d6abf14bea4301a541",
      "placeholder": "​",
      "style": "IPY_MODEL_8db8858db7214e468a8e9afcdbf6e9a2",
      "value": " 13842/13842 [21:25&lt;00:00, 10.77it/s]"
     }
    },
    "1022fa848b4c45a4b155a4d4c58f86a1": {
     "model_module": "@jupyter-widgets/base",
     "model_name": "LayoutModel",
     "state": {
      "_model_module": "@jupyter-widgets/base",
      "_model_module_version": "1.2.0",
      "_model_name": "LayoutModel",
      "_view_count": null,
      "_view_module": "@jupyter-widgets/base",
      "_view_module_version": "1.2.0",
      "_view_name": "LayoutView",
      "align_content": null,
      "align_items": null,
      "align_self": null,
      "border": null,
      "bottom": null,
      "display": null,
      "flex": null,
      "flex_flow": null,
      "grid_area": null,
      "grid_auto_columns": null,
      "grid_auto_flow": null,
      "grid_auto_rows": null,
      "grid_column": null,
      "grid_gap": null,
      "grid_row": null,
      "grid_template_areas": null,
      "grid_template_columns": null,
      "grid_template_rows": null,
      "height": null,
      "justify_content": null,
      "justify_items": null,
      "left": null,
      "margin": null,
      "max_height": null,
      "max_width": null,
      "min_height": null,
      "min_width": null,
      "object_fit": null,
      "object_position": null,
      "order": null,
      "overflow": null,
      "overflow_x": null,
      "overflow_y": null,
      "padding": null,
      "right": null,
      "top": null,
      "visibility": null,
      "width": null
     }
    },
    "1672c4b6898c4b3e9f7740169477fcee": {
     "model_module": "@jupyter-widgets/base",
     "model_name": "LayoutModel",
     "state": {
      "_model_module": "@jupyter-widgets/base",
      "_model_module_version": "1.2.0",
      "_model_name": "LayoutModel",
      "_view_count": null,
      "_view_module": "@jupyter-widgets/base",
      "_view_module_version": "1.2.0",
      "_view_name": "LayoutView",
      "align_content": null,
      "align_items": null,
      "align_self": null,
      "border": null,
      "bottom": null,
      "display": null,
      "flex": null,
      "flex_flow": null,
      "grid_area": null,
      "grid_auto_columns": null,
      "grid_auto_flow": null,
      "grid_auto_rows": null,
      "grid_column": null,
      "grid_gap": null,
      "grid_row": null,
      "grid_template_areas": null,
      "grid_template_columns": null,
      "grid_template_rows": null,
      "height": null,
      "justify_content": null,
      "justify_items": null,
      "left": null,
      "margin": null,
      "max_height": null,
      "max_width": null,
      "min_height": null,
      "min_width": null,
      "object_fit": null,
      "object_position": null,
      "order": null,
      "overflow": null,
      "overflow_x": null,
      "overflow_y": null,
      "padding": null,
      "right": null,
      "top": null,
      "visibility": null,
      "width": null
     }
    },
    "18d3d2a128a7456aa8b49f34df5a637d": {
     "model_module": "@jupyter-widgets/base",
     "model_name": "LayoutModel",
     "state": {
      "_model_module": "@jupyter-widgets/base",
      "_model_module_version": "1.2.0",
      "_model_name": "LayoutModel",
      "_view_count": null,
      "_view_module": "@jupyter-widgets/base",
      "_view_module_version": "1.2.0",
      "_view_name": "LayoutView",
      "align_content": null,
      "align_items": null,
      "align_self": null,
      "border": null,
      "bottom": null,
      "display": null,
      "flex": null,
      "flex_flow": null,
      "grid_area": null,
      "grid_auto_columns": null,
      "grid_auto_flow": null,
      "grid_auto_rows": null,
      "grid_column": null,
      "grid_gap": null,
      "grid_row": null,
      "grid_template_areas": null,
      "grid_template_columns": null,
      "grid_template_rows": null,
      "height": null,
      "justify_content": null,
      "justify_items": null,
      "left": null,
      "margin": null,
      "max_height": null,
      "max_width": null,
      "min_height": null,
      "min_width": null,
      "object_fit": null,
      "object_position": null,
      "order": null,
      "overflow": null,
      "overflow_x": null,
      "overflow_y": null,
      "padding": null,
      "right": null,
      "top": null,
      "visibility": null,
      "width": null
     }
    },
    "19df7d834fb945d2895d1e830c384452": {
     "model_module": "@jupyter-widgets/base",
     "model_name": "LayoutModel",
     "state": {
      "_model_module": "@jupyter-widgets/base",
      "_model_module_version": "1.2.0",
      "_model_name": "LayoutModel",
      "_view_count": null,
      "_view_module": "@jupyter-widgets/base",
      "_view_module_version": "1.2.0",
      "_view_name": "LayoutView",
      "align_content": null,
      "align_items": null,
      "align_self": null,
      "border": null,
      "bottom": null,
      "display": null,
      "flex": null,
      "flex_flow": null,
      "grid_area": null,
      "grid_auto_columns": null,
      "grid_auto_flow": null,
      "grid_auto_rows": null,
      "grid_column": null,
      "grid_gap": null,
      "grid_row": null,
      "grid_template_areas": null,
      "grid_template_columns": null,
      "grid_template_rows": null,
      "height": null,
      "justify_content": null,
      "justify_items": null,
      "left": null,
      "margin": null,
      "max_height": null,
      "max_width": null,
      "min_height": null,
      "min_width": null,
      "object_fit": null,
      "object_position": null,
      "order": null,
      "overflow": null,
      "overflow_x": null,
      "overflow_y": null,
      "padding": null,
      "right": null,
      "top": null,
      "visibility": null,
      "width": null
     }
    },
    "1fac0f11109a4f4091662bdce1bdb63d": {
     "model_module": "@jupyter-widgets/base",
     "model_name": "LayoutModel",
     "state": {
      "_model_module": "@jupyter-widgets/base",
      "_model_module_version": "1.2.0",
      "_model_name": "LayoutModel",
      "_view_count": null,
      "_view_module": "@jupyter-widgets/base",
      "_view_module_version": "1.2.0",
      "_view_name": "LayoutView",
      "align_content": null,
      "align_items": null,
      "align_self": null,
      "border": null,
      "bottom": null,
      "display": null,
      "flex": null,
      "flex_flow": null,
      "grid_area": null,
      "grid_auto_columns": null,
      "grid_auto_flow": null,
      "grid_auto_rows": null,
      "grid_column": null,
      "grid_gap": null,
      "grid_row": null,
      "grid_template_areas": null,
      "grid_template_columns": null,
      "grid_template_rows": null,
      "height": null,
      "justify_content": null,
      "justify_items": null,
      "left": null,
      "margin": null,
      "max_height": null,
      "max_width": null,
      "min_height": null,
      "min_width": null,
      "object_fit": null,
      "object_position": null,
      "order": null,
      "overflow": null,
      "overflow_x": null,
      "overflow_y": null,
      "padding": null,
      "right": null,
      "top": null,
      "visibility": null,
      "width": null
     }
    },
    "20c67b023c314f459d83e74d1552987c": {
     "model_module": "@jupyter-widgets/controls",
     "model_name": "HBoxModel",
     "state": {
      "_dom_classes": [],
      "_model_module": "@jupyter-widgets/controls",
      "_model_module_version": "1.5.0",
      "_model_name": "HBoxModel",
      "_view_count": null,
      "_view_module": "@jupyter-widgets/controls",
      "_view_module_version": "1.5.0",
      "_view_name": "HBoxView",
      "box_style": "",
      "children": [
       "IPY_MODEL_d0a93a667d32494884e0dc4509c23d6c",
       "IPY_MODEL_6d5062101f604c37b742c05db0ae5ed7"
      ],
      "layout": "IPY_MODEL_c8e96d98a36f4a0e87bfab4fcdc734d3"
     }
    },
    "250ac763569f48949b5f3d4c29f85a66": {
     "model_module": "@jupyter-widgets/controls",
     "model_name": "FloatProgressModel",
     "state": {
      "_dom_classes": [],
      "_model_module": "@jupyter-widgets/controls",
      "_model_module_version": "1.5.0",
      "_model_name": "FloatProgressModel",
      "_view_count": null,
      "_view_module": "@jupyter-widgets/controls",
      "_view_module_version": "1.5.0",
      "_view_name": "ProgressView",
      "bar_style": "success",
      "description": "Passing dataset: 100%",
      "description_tooltip": null,
      "layout": "IPY_MODEL_d1f69fa601e543b48270e5451ee79acb",
      "max": 13842,
      "min": 0,
      "orientation": "horizontal",
      "style": "IPY_MODEL_85c44eeb249a4ea6846edc871811e9de",
      "value": 13842
     }
    },
    "259ee96f5679439b96ba77298f6f3533": {
     "model_module": "@jupyter-widgets/controls",
     "model_name": "FloatProgressModel",
     "state": {
      "_dom_classes": [],
      "_model_module": "@jupyter-widgets/controls",
      "_model_module_version": "1.5.0",
      "_model_name": "FloatProgressModel",
      "_view_count": null,
      "_view_module": "@jupyter-widgets/controls",
      "_view_module_version": "1.5.0",
      "_view_name": "ProgressView",
      "bar_style": "success",
      "description": "Passing dataset: 100%",
      "description_tooltip": null,
      "layout": "IPY_MODEL_c5ff7b1ffcb24cfeb0d2eee7ec61176b",
      "max": 13842,
      "min": 0,
      "orientation": "horizontal",
      "style": "IPY_MODEL_4a3aeb74174140e1adee2202777a3b43",
      "value": 13842
     }
    },
    "26320fde959f4656b5d455064bc6da50": {
     "model_module": "@jupyter-widgets/base",
     "model_name": "LayoutModel",
     "state": {
      "_model_module": "@jupyter-widgets/base",
      "_model_module_version": "1.2.0",
      "_model_name": "LayoutModel",
      "_view_count": null,
      "_view_module": "@jupyter-widgets/base",
      "_view_module_version": "1.2.0",
      "_view_name": "LayoutView",
      "align_content": null,
      "align_items": null,
      "align_self": null,
      "border": null,
      "bottom": null,
      "display": null,
      "flex": null,
      "flex_flow": null,
      "grid_area": null,
      "grid_auto_columns": null,
      "grid_auto_flow": null,
      "grid_auto_rows": null,
      "grid_column": null,
      "grid_gap": null,
      "grid_row": null,
      "grid_template_areas": null,
      "grid_template_columns": null,
      "grid_template_rows": null,
      "height": null,
      "justify_content": null,
      "justify_items": null,
      "left": null,
      "margin": null,
      "max_height": null,
      "max_width": null,
      "min_height": null,
      "min_width": null,
      "object_fit": null,
      "object_position": null,
      "order": null,
      "overflow": null,
      "overflow_x": null,
      "overflow_y": null,
      "padding": null,
      "right": null,
      "top": null,
      "visibility": null,
      "width": null
     }
    },
    "2ac21822f0614c21b8ea151600fc2b5e": {
     "model_module": "@jupyter-widgets/controls",
     "model_name": "DescriptionStyleModel",
     "state": {
      "_model_module": "@jupyter-widgets/controls",
      "_model_module_version": "1.5.0",
      "_model_name": "DescriptionStyleModel",
      "_view_count": null,
      "_view_module": "@jupyter-widgets/base",
      "_view_module_version": "1.2.0",
      "_view_name": "StyleView",
      "description_width": ""
     }
    },
    "30b1b66c3a8249d8a825cf7166fb869b": {
     "model_module": "@jupyter-widgets/controls",
     "model_name": "FloatProgressModel",
     "state": {
      "_dom_classes": [],
      "_model_module": "@jupyter-widgets/controls",
      "_model_module_version": "1.5.0",
      "_model_name": "FloatProgressModel",
      "_view_count": null,
      "_view_module": "@jupyter-widgets/controls",
      "_view_module_version": "1.5.0",
      "_view_name": "ProgressView",
      "bar_style": "success",
      "description": "Passing dataset: 100%",
      "description_tooltip": null,
      "layout": "IPY_MODEL_bf3a50a0e86b463fbbafd7aec5f4165e",
      "max": 13842,
      "min": 0,
      "orientation": "horizontal",
      "style": "IPY_MODEL_c04c1cb4e68746c797f2d3c3e25b8737",
      "value": 13842
     }
    },
    "3282ece5908744c49749eed81304037a": {
     "model_module": "@jupyter-widgets/controls",
     "model_name": "HTMLModel",
     "state": {
      "_dom_classes": [],
      "_model_module": "@jupyter-widgets/controls",
      "_model_module_version": "1.5.0",
      "_model_name": "HTMLModel",
      "_view_count": null,
      "_view_module": "@jupyter-widgets/controls",
      "_view_module_version": "1.5.0",
      "_view_name": "HTMLView",
      "description": "",
      "description_tooltip": null,
      "layout": "IPY_MODEL_3348c7b3fc624e9991ba7e8f47256a14",
      "placeholder": "​",
      "style": "IPY_MODEL_dad677ed8c1a420fb07054c0e9ea8016",
      "value": " 13842/13842 [21:48&lt;00:00, 10.58it/s]"
     }
    },
    "3348c7b3fc624e9991ba7e8f47256a14": {
     "model_module": "@jupyter-widgets/base",
     "model_name": "LayoutModel",
     "state": {
      "_model_module": "@jupyter-widgets/base",
      "_model_module_version": "1.2.0",
      "_model_name": "LayoutModel",
      "_view_count": null,
      "_view_module": "@jupyter-widgets/base",
      "_view_module_version": "1.2.0",
      "_view_name": "LayoutView",
      "align_content": null,
      "align_items": null,
      "align_self": null,
      "border": null,
      "bottom": null,
      "display": null,
      "flex": null,
      "flex_flow": null,
      "grid_area": null,
      "grid_auto_columns": null,
      "grid_auto_flow": null,
      "grid_auto_rows": null,
      "grid_column": null,
      "grid_gap": null,
      "grid_row": null,
      "grid_template_areas": null,
      "grid_template_columns": null,
      "grid_template_rows": null,
      "height": null,
      "justify_content": null,
      "justify_items": null,
      "left": null,
      "margin": null,
      "max_height": null,
      "max_width": null,
      "min_height": null,
      "min_width": null,
      "object_fit": null,
      "object_position": null,
      "order": null,
      "overflow": null,
      "overflow_x": null,
      "overflow_y": null,
      "padding": null,
      "right": null,
      "top": null,
      "visibility": null,
      "width": null
     }
    },
    "34606c824c9e4223a6c3d49e633583db": {
     "model_module": "@jupyter-widgets/base",
     "model_name": "LayoutModel",
     "state": {
      "_model_module": "@jupyter-widgets/base",
      "_model_module_version": "1.2.0",
      "_model_name": "LayoutModel",
      "_view_count": null,
      "_view_module": "@jupyter-widgets/base",
      "_view_module_version": "1.2.0",
      "_view_name": "LayoutView",
      "align_content": null,
      "align_items": null,
      "align_self": null,
      "border": null,
      "bottom": null,
      "display": null,
      "flex": null,
      "flex_flow": null,
      "grid_area": null,
      "grid_auto_columns": null,
      "grid_auto_flow": null,
      "grid_auto_rows": null,
      "grid_column": null,
      "grid_gap": null,
      "grid_row": null,
      "grid_template_areas": null,
      "grid_template_columns": null,
      "grid_template_rows": null,
      "height": null,
      "justify_content": null,
      "justify_items": null,
      "left": null,
      "margin": null,
      "max_height": null,
      "max_width": null,
      "min_height": null,
      "min_width": null,
      "object_fit": null,
      "object_position": null,
      "order": null,
      "overflow": null,
      "overflow_x": null,
      "overflow_y": null,
      "padding": null,
      "right": null,
      "top": null,
      "visibility": null,
      "width": null
     }
    },
    "387274a4fb294a7fa44efe51e5312e58": {
     "model_module": "@jupyter-widgets/controls",
     "model_name": "ProgressStyleModel",
     "state": {
      "_model_module": "@jupyter-widgets/controls",
      "_model_module_version": "1.5.0",
      "_model_name": "ProgressStyleModel",
      "_view_count": null,
      "_view_module": "@jupyter-widgets/base",
      "_view_module_version": "1.2.0",
      "_view_name": "StyleView",
      "bar_color": null,
      "description_width": "initial"
     }
    },
    "3d5602ae97ca4cd3b089df4ff1fb1b44": {
     "model_module": "@jupyter-widgets/controls",
     "model_name": "ProgressStyleModel",
     "state": {
      "_model_module": "@jupyter-widgets/controls",
      "_model_module_version": "1.5.0",
      "_model_name": "ProgressStyleModel",
      "_view_count": null,
      "_view_module": "@jupyter-widgets/base",
      "_view_module_version": "1.2.0",
      "_view_name": "StyleView",
      "bar_color": null,
      "description_width": "initial"
     }
    },
    "3dd50a68dd85483c9491672fddf01469": {
     "model_module": "@jupyter-widgets/controls",
     "model_name": "HTMLModel",
     "state": {
      "_dom_classes": [],
      "_model_module": "@jupyter-widgets/controls",
      "_model_module_version": "1.5.0",
      "_model_name": "HTMLModel",
      "_view_count": null,
      "_view_module": "@jupyter-widgets/controls",
      "_view_module_version": "1.5.0",
      "_view_name": "HTMLView",
      "description": "",
      "description_tooltip": null,
      "layout": "IPY_MODEL_0089e545bdae45e1be92e9291e1822ea",
      "placeholder": "​",
      "style": "IPY_MODEL_0cdf2591f2304b0ab4430941fe469734",
      "value": " 13842/13842 [22:41&lt;00:00, 10.16it/s]"
     }
    },
    "3deacf40722745229f45d5a066d670e7": {
     "model_module": "@jupyter-widgets/controls",
     "model_name": "DescriptionStyleModel",
     "state": {
      "_model_module": "@jupyter-widgets/controls",
      "_model_module_version": "1.5.0",
      "_model_name": "DescriptionStyleModel",
      "_view_count": null,
      "_view_module": "@jupyter-widgets/base",
      "_view_module_version": "1.2.0",
      "_view_name": "StyleView",
      "description_width": ""
     }
    },
    "4349994353f24b9385d858518c0966dc": {
     "model_module": "@jupyter-widgets/controls",
     "model_name": "ProgressStyleModel",
     "state": {
      "_model_module": "@jupyter-widgets/controls",
      "_model_module_version": "1.5.0",
      "_model_name": "ProgressStyleModel",
      "_view_count": null,
      "_view_module": "@jupyter-widgets/base",
      "_view_module_version": "1.2.0",
      "_view_name": "StyleView",
      "bar_color": null,
      "description_width": "initial"
     }
    },
    "477301649ba94280887d6cff639ccd50": {
     "model_module": "@jupyter-widgets/controls",
     "model_name": "HTMLModel",
     "state": {
      "_dom_classes": [],
      "_model_module": "@jupyter-widgets/controls",
      "_model_module_version": "1.5.0",
      "_model_name": "HTMLModel",
      "_view_count": null,
      "_view_module": "@jupyter-widgets/controls",
      "_view_module_version": "1.5.0",
      "_view_name": "HTMLView",
      "description": "",
      "description_tooltip": null,
      "layout": "IPY_MODEL_1fac0f11109a4f4091662bdce1bdb63d",
      "placeholder": "​",
      "style": "IPY_MODEL_48764457cd0a4561b0c18f92241f2cae",
      "value": " 13842/13842 [21:28&lt;00:00, 10.74it/s]"
     }
    },
    "47ff5ab2104a40cca61e7c9faac8d537": {
     "model_module": "@jupyter-widgets/controls",
     "model_name": "DescriptionStyleModel",
     "state": {
      "_model_module": "@jupyter-widgets/controls",
      "_model_module_version": "1.5.0",
      "_model_name": "DescriptionStyleModel",
      "_view_count": null,
      "_view_module": "@jupyter-widgets/base",
      "_view_module_version": "1.2.0",
      "_view_name": "StyleView",
      "description_width": ""
     }
    },
    "48764457cd0a4561b0c18f92241f2cae": {
     "model_module": "@jupyter-widgets/controls",
     "model_name": "DescriptionStyleModel",
     "state": {
      "_model_module": "@jupyter-widgets/controls",
      "_model_module_version": "1.5.0",
      "_model_name": "DescriptionStyleModel",
      "_view_count": null,
      "_view_module": "@jupyter-widgets/base",
      "_view_module_version": "1.2.0",
      "_view_name": "StyleView",
      "description_width": ""
     }
    },
    "4a3aeb74174140e1adee2202777a3b43": {
     "model_module": "@jupyter-widgets/controls",
     "model_name": "ProgressStyleModel",
     "state": {
      "_model_module": "@jupyter-widgets/controls",
      "_model_module_version": "1.5.0",
      "_model_name": "ProgressStyleModel",
      "_view_count": null,
      "_view_module": "@jupyter-widgets/base",
      "_view_module_version": "1.2.0",
      "_view_name": "StyleView",
      "bar_color": null,
      "description_width": "initial"
     }
    },
    "4c05e7c3717f4908866e04a98854d99b": {
     "model_module": "@jupyter-widgets/base",
     "model_name": "LayoutModel",
     "state": {
      "_model_module": "@jupyter-widgets/base",
      "_model_module_version": "1.2.0",
      "_model_name": "LayoutModel",
      "_view_count": null,
      "_view_module": "@jupyter-widgets/base",
      "_view_module_version": "1.2.0",
      "_view_name": "LayoutView",
      "align_content": null,
      "align_items": null,
      "align_self": null,
      "border": null,
      "bottom": null,
      "display": null,
      "flex": null,
      "flex_flow": null,
      "grid_area": null,
      "grid_auto_columns": null,
      "grid_auto_flow": null,
      "grid_auto_rows": null,
      "grid_column": null,
      "grid_gap": null,
      "grid_row": null,
      "grid_template_areas": null,
      "grid_template_columns": null,
      "grid_template_rows": null,
      "height": null,
      "justify_content": null,
      "justify_items": null,
      "left": null,
      "margin": null,
      "max_height": null,
      "max_width": null,
      "min_height": null,
      "min_width": null,
      "object_fit": null,
      "object_position": null,
      "order": null,
      "overflow": null,
      "overflow_x": null,
      "overflow_y": null,
      "padding": null,
      "right": null,
      "top": null,
      "visibility": null,
      "width": null
     }
    },
    "4dc26b91240944d08187f6c909f7174a": {
     "model_module": "@jupyter-widgets/base",
     "model_name": "LayoutModel",
     "state": {
      "_model_module": "@jupyter-widgets/base",
      "_model_module_version": "1.2.0",
      "_model_name": "LayoutModel",
      "_view_count": null,
      "_view_module": "@jupyter-widgets/base",
      "_view_module_version": "1.2.0",
      "_view_name": "LayoutView",
      "align_content": null,
      "align_items": null,
      "align_self": null,
      "border": null,
      "bottom": null,
      "display": null,
      "flex": null,
      "flex_flow": null,
      "grid_area": null,
      "grid_auto_columns": null,
      "grid_auto_flow": null,
      "grid_auto_rows": null,
      "grid_column": null,
      "grid_gap": null,
      "grid_row": null,
      "grid_template_areas": null,
      "grid_template_columns": null,
      "grid_template_rows": null,
      "height": null,
      "justify_content": null,
      "justify_items": null,
      "left": null,
      "margin": null,
      "max_height": null,
      "max_width": null,
      "min_height": null,
      "min_width": null,
      "object_fit": null,
      "object_position": null,
      "order": null,
      "overflow": null,
      "overflow_x": null,
      "overflow_y": null,
      "padding": null,
      "right": null,
      "top": null,
      "visibility": null,
      "width": null
     }
    },
    "4f267cf2688143c7a0b43fb11d35d1ba": {
     "model_module": "@jupyter-widgets/controls",
     "model_name": "DescriptionStyleModel",
     "state": {
      "_model_module": "@jupyter-widgets/controls",
      "_model_module_version": "1.5.0",
      "_model_name": "DescriptionStyleModel",
      "_view_count": null,
      "_view_module": "@jupyter-widgets/base",
      "_view_module_version": "1.2.0",
      "_view_name": "StyleView",
      "description_width": ""
     }
    },
    "50e0266e5a35458485313eca32ce7b9d": {
     "model_module": "@jupyter-widgets/base",
     "model_name": "LayoutModel",
     "state": {
      "_model_module": "@jupyter-widgets/base",
      "_model_module_version": "1.2.0",
      "_model_name": "LayoutModel",
      "_view_count": null,
      "_view_module": "@jupyter-widgets/base",
      "_view_module_version": "1.2.0",
      "_view_name": "LayoutView",
      "align_content": null,
      "align_items": null,
      "align_self": null,
      "border": null,
      "bottom": null,
      "display": null,
      "flex": null,
      "flex_flow": null,
      "grid_area": null,
      "grid_auto_columns": null,
      "grid_auto_flow": null,
      "grid_auto_rows": null,
      "grid_column": null,
      "grid_gap": null,
      "grid_row": null,
      "grid_template_areas": null,
      "grid_template_columns": null,
      "grid_template_rows": null,
      "height": null,
      "justify_content": null,
      "justify_items": null,
      "left": null,
      "margin": null,
      "max_height": null,
      "max_width": null,
      "min_height": null,
      "min_width": null,
      "object_fit": null,
      "object_position": null,
      "order": null,
      "overflow": null,
      "overflow_x": null,
      "overflow_y": null,
      "padding": null,
      "right": null,
      "top": null,
      "visibility": null,
      "width": null
     }
    },
    "56a00e4a01544d7fb702aa0e6ebbdaec": {
     "model_module": "@jupyter-widgets/controls",
     "model_name": "HTMLModel",
     "state": {
      "_dom_classes": [],
      "_model_module": "@jupyter-widgets/controls",
      "_model_module_version": "1.5.0",
      "_model_name": "HTMLModel",
      "_view_count": null,
      "_view_module": "@jupyter-widgets/controls",
      "_view_module_version": "1.5.0",
      "_view_name": "HTMLView",
      "description": "",
      "description_tooltip": null,
      "layout": "IPY_MODEL_26320fde959f4656b5d455064bc6da50",
      "placeholder": "​",
      "style": "IPY_MODEL_a1a7093621f24a38b23a08b1a40d279d",
      "value": " 9/9 [00:33&lt;00:00,  3.71s/it]"
     }
    },
    "5ac952142be14b728cf978ac353211c9": {
     "model_module": "@jupyter-widgets/base",
     "model_name": "LayoutModel",
     "state": {
      "_model_module": "@jupyter-widgets/base",
      "_model_module_version": "1.2.0",
      "_model_name": "LayoutModel",
      "_view_count": null,
      "_view_module": "@jupyter-widgets/base",
      "_view_module_version": "1.2.0",
      "_view_name": "LayoutView",
      "align_content": null,
      "align_items": null,
      "align_self": null,
      "border": null,
      "bottom": null,
      "display": null,
      "flex": null,
      "flex_flow": null,
      "grid_area": null,
      "grid_auto_columns": null,
      "grid_auto_flow": null,
      "grid_auto_rows": null,
      "grid_column": null,
      "grid_gap": null,
      "grid_row": null,
      "grid_template_areas": null,
      "grid_template_columns": null,
      "grid_template_rows": null,
      "height": null,
      "justify_content": null,
      "justify_items": null,
      "left": null,
      "margin": null,
      "max_height": null,
      "max_width": null,
      "min_height": null,
      "min_width": null,
      "object_fit": null,
      "object_position": null,
      "order": null,
      "overflow": null,
      "overflow_x": null,
      "overflow_y": null,
      "padding": null,
      "right": null,
      "top": null,
      "visibility": null,
      "width": null
     }
    },
    "5d1206039ab445c78aa9fec83fcde5ac": {
     "model_module": "@jupyter-widgets/base",
     "model_name": "LayoutModel",
     "state": {
      "_model_module": "@jupyter-widgets/base",
      "_model_module_version": "1.2.0",
      "_model_name": "LayoutModel",
      "_view_count": null,
      "_view_module": "@jupyter-widgets/base",
      "_view_module_version": "1.2.0",
      "_view_name": "LayoutView",
      "align_content": null,
      "align_items": null,
      "align_self": null,
      "border": null,
      "bottom": null,
      "display": null,
      "flex": null,
      "flex_flow": null,
      "grid_area": null,
      "grid_auto_columns": null,
      "grid_auto_flow": null,
      "grid_auto_rows": null,
      "grid_column": null,
      "grid_gap": null,
      "grid_row": null,
      "grid_template_areas": null,
      "grid_template_columns": null,
      "grid_template_rows": null,
      "height": null,
      "justify_content": null,
      "justify_items": null,
      "left": null,
      "margin": null,
      "max_height": null,
      "max_width": null,
      "min_height": null,
      "min_width": null,
      "object_fit": null,
      "object_position": null,
      "order": null,
      "overflow": null,
      "overflow_x": null,
      "overflow_y": null,
      "padding": null,
      "right": null,
      "top": null,
      "visibility": null,
      "width": null
     }
    },
    "5eb2418c5c0a4a1c80360da943666d00": {
     "model_module": "@jupyter-widgets/base",
     "model_name": "LayoutModel",
     "state": {
      "_model_module": "@jupyter-widgets/base",
      "_model_module_version": "1.2.0",
      "_model_name": "LayoutModel",
      "_view_count": null,
      "_view_module": "@jupyter-widgets/base",
      "_view_module_version": "1.2.0",
      "_view_name": "LayoutView",
      "align_content": null,
      "align_items": null,
      "align_self": null,
      "border": null,
      "bottom": null,
      "display": null,
      "flex": null,
      "flex_flow": null,
      "grid_area": null,
      "grid_auto_columns": null,
      "grid_auto_flow": null,
      "grid_auto_rows": null,
      "grid_column": null,
      "grid_gap": null,
      "grid_row": null,
      "grid_template_areas": null,
      "grid_template_columns": null,
      "grid_template_rows": null,
      "height": null,
      "justify_content": null,
      "justify_items": null,
      "left": null,
      "margin": null,
      "max_height": null,
      "max_width": null,
      "min_height": null,
      "min_width": null,
      "object_fit": null,
      "object_position": null,
      "order": null,
      "overflow": null,
      "overflow_x": null,
      "overflow_y": null,
      "padding": null,
      "right": null,
      "top": null,
      "visibility": null,
      "width": null
     }
    },
    "5edebaf68aa8499394dbd81bbc370dad": {
     "model_module": "@jupyter-widgets/controls",
     "model_name": "FloatProgressModel",
     "state": {
      "_dom_classes": [],
      "_model_module": "@jupyter-widgets/controls",
      "_model_module_version": "1.5.0",
      "_model_name": "FloatProgressModel",
      "_view_count": null,
      "_view_module": "@jupyter-widgets/controls",
      "_view_module_version": "1.5.0",
      "_view_name": "ProgressView",
      "bar_style": "",
      "description": "Epochs:  30%",
      "description_tooltip": null,
      "layout": "IPY_MODEL_50e0266e5a35458485313eca32ce7b9d",
      "max": 30,
      "min": 0,
      "orientation": "horizontal",
      "style": "IPY_MODEL_f7473e317c0646cba95e9a1a3d98c7c6",
      "value": 9
     }
    },
    "5ef3f251c7824b46b9ed98e7b94f1be6": {
     "model_module": "@jupyter-widgets/base",
     "model_name": "LayoutModel",
     "state": {
      "_model_module": "@jupyter-widgets/base",
      "_model_module_version": "1.2.0",
      "_model_name": "LayoutModel",
      "_view_count": null,
      "_view_module": "@jupyter-widgets/base",
      "_view_module_version": "1.2.0",
      "_view_name": "LayoutView",
      "align_content": null,
      "align_items": null,
      "align_self": null,
      "border": null,
      "bottom": null,
      "display": null,
      "flex": null,
      "flex_flow": null,
      "grid_area": null,
      "grid_auto_columns": null,
      "grid_auto_flow": null,
      "grid_auto_rows": null,
      "grid_column": null,
      "grid_gap": null,
      "grid_row": null,
      "grid_template_areas": null,
      "grid_template_columns": null,
      "grid_template_rows": null,
      "height": null,
      "justify_content": null,
      "justify_items": null,
      "left": null,
      "margin": null,
      "max_height": null,
      "max_width": null,
      "min_height": null,
      "min_width": null,
      "object_fit": null,
      "object_position": null,
      "order": null,
      "overflow": null,
      "overflow_x": null,
      "overflow_y": null,
      "padding": null,
      "right": null,
      "top": null,
      "visibility": null,
      "width": null
     }
    },
    "62f02610636848ff927a8fe18d1b985f": {
     "model_module": "@jupyter-widgets/controls",
     "model_name": "ProgressStyleModel",
     "state": {
      "_model_module": "@jupyter-widgets/controls",
      "_model_module_version": "1.5.0",
      "_model_name": "ProgressStyleModel",
      "_view_count": null,
      "_view_module": "@jupyter-widgets/base",
      "_view_module_version": "1.2.0",
      "_view_name": "StyleView",
      "bar_color": null,
      "description_width": "initial"
     }
    },
    "64667ad48efe4a5791babecf1b2f0d37": {
     "model_module": "@jupyter-widgets/controls",
     "model_name": "FloatProgressModel",
     "state": {
      "_dom_classes": [],
      "_model_module": "@jupyter-widgets/controls",
      "_model_module_version": "1.5.0",
      "_model_name": "FloatProgressModel",
      "_view_count": null,
      "_view_module": "@jupyter-widgets/controls",
      "_view_module_version": "1.5.0",
      "_view_name": "ProgressView",
      "bar_style": "success",
      "description": "Passing dataset: 100%",
      "description_tooltip": null,
      "layout": "IPY_MODEL_1672c4b6898c4b3e9f7740169477fcee",
      "max": 13842,
      "min": 0,
      "orientation": "horizontal",
      "style": "IPY_MODEL_4349994353f24b9385d858518c0966dc",
      "value": 13842
     }
    },
    "67dc24be7b8941ddb72ad27a9e22b0a3": {
     "model_module": "@jupyter-widgets/controls",
     "model_name": "DescriptionStyleModel",
     "state": {
      "_model_module": "@jupyter-widgets/controls",
      "_model_module_version": "1.5.0",
      "_model_name": "DescriptionStyleModel",
      "_view_count": null,
      "_view_module": "@jupyter-widgets/base",
      "_view_module_version": "1.2.0",
      "_view_name": "StyleView",
      "description_width": ""
     }
    },
    "6d5062101f604c37b742c05db0ae5ed7": {
     "model_module": "@jupyter-widgets/controls",
     "model_name": "HTMLModel",
     "state": {
      "_dom_classes": [],
      "_model_module": "@jupyter-widgets/controls",
      "_model_module_version": "1.5.0",
      "_model_name": "HTMLModel",
      "_view_count": null,
      "_view_module": "@jupyter-widgets/controls",
      "_view_module_version": "1.5.0",
      "_view_name": "HTMLView",
      "description": "",
      "description_tooltip": null,
      "layout": "IPY_MODEL_de79b220860e49a2b95b79295cc3ed5d",
      "placeholder": "​",
      "style": "IPY_MODEL_4f267cf2688143c7a0b43fb11d35d1ba",
      "value": " 13842/13842 [22:03&lt;00:00, 10.46it/s]"
     }
    },
    "73f860b608014ca9aa9727d1fb27025b": {
     "model_module": "@jupyter-widgets/controls",
     "model_name": "HBoxModel",
     "state": {
      "_dom_classes": [],
      "_model_module": "@jupyter-widgets/controls",
      "_model_module_version": "1.5.0",
      "_model_name": "HBoxModel",
      "_view_count": null,
      "_view_module": "@jupyter-widgets/controls",
      "_view_module_version": "1.5.0",
      "_view_name": "HBoxView",
      "box_style": "",
      "children": [
       "IPY_MODEL_30b1b66c3a8249d8a825cf7166fb869b",
       "IPY_MODEL_0646ea6ea9c14236a68a9328deaba1a4"
      ],
      "layout": "IPY_MODEL_99bc2386d6d94a878944c1f32b193360"
     }
    },
    "750a066732ac4c7982f2e09304213818": {
     "model_module": "@jupyter-widgets/controls",
     "model_name": "HBoxModel",
     "state": {
      "_dom_classes": [],
      "_model_module": "@jupyter-widgets/controls",
      "_model_module_version": "1.5.0",
      "_model_name": "HBoxModel",
      "_view_count": null,
      "_view_module": "@jupyter-widgets/controls",
      "_view_module_version": "1.5.0",
      "_view_name": "HBoxView",
      "box_style": "",
      "children": [
       "IPY_MODEL_bc07116ce5a942e89614969d1ad20d92",
       "IPY_MODEL_82b096b92a0e4fa0a3f7ca20b263caa3"
      ],
      "layout": "IPY_MODEL_8049aba760c84f42b7bc02e742ed1afa"
     }
    },
    "7aaffd14b5d246f69c21d4cfb723cca7": {
     "model_module": "@jupyter-widgets/controls",
     "model_name": "DescriptionStyleModel",
     "state": {
      "_model_module": "@jupyter-widgets/controls",
      "_model_module_version": "1.5.0",
      "_model_name": "DescriptionStyleModel",
      "_view_count": null,
      "_view_module": "@jupyter-widgets/base",
      "_view_module_version": "1.2.0",
      "_view_name": "StyleView",
      "description_width": ""
     }
    },
    "7b3c6455e0da4ce5aa5c6539c4d23c0b": {
     "model_module": "@jupyter-widgets/controls",
     "model_name": "HTMLModel",
     "state": {
      "_dom_classes": [],
      "_model_module": "@jupyter-widgets/controls",
      "_model_module_version": "1.5.0",
      "_model_name": "HTMLModel",
      "_view_count": null,
      "_view_module": "@jupyter-widgets/controls",
      "_view_module_version": "1.5.0",
      "_view_name": "HTMLView",
      "description": "",
      "description_tooltip": null,
      "layout": "IPY_MODEL_f52c7c6415d54f9eb673fd408f98a10e",
      "placeholder": "​",
      "style": "IPY_MODEL_7aaffd14b5d246f69c21d4cfb723cca7",
      "value": " 9/30 [3:26:05&lt;8:01:26, 1375.55s/it]"
     }
    },
    "7bb303db5dc340559427d49e9329b74f": {
     "model_module": "@jupyter-widgets/controls",
     "model_name": "HTMLModel",
     "state": {
      "_dom_classes": [],
      "_model_module": "@jupyter-widgets/controls",
      "_model_module_version": "1.5.0",
      "_model_name": "HTMLModel",
      "_view_count": null,
      "_view_module": "@jupyter-widgets/controls",
      "_view_module_version": "1.5.0",
      "_view_name": "HTMLView",
      "description": "",
      "description_tooltip": null,
      "layout": "IPY_MODEL_fb70942106a14758978d1a286ce4431b",
      "placeholder": "​",
      "style": "IPY_MODEL_3deacf40722745229f45d5a066d670e7",
      "value": " 13842/13842 [21:17&lt;00:00, 10.83it/s]"
     }
    },
    "7bf4114faae945d6abf14bea4301a541": {
     "model_module": "@jupyter-widgets/base",
     "model_name": "LayoutModel",
     "state": {
      "_model_module": "@jupyter-widgets/base",
      "_model_module_version": "1.2.0",
      "_model_name": "LayoutModel",
      "_view_count": null,
      "_view_module": "@jupyter-widgets/base",
      "_view_module_version": "1.2.0",
      "_view_name": "LayoutView",
      "align_content": null,
      "align_items": null,
      "align_self": null,
      "border": null,
      "bottom": null,
      "display": null,
      "flex": null,
      "flex_flow": null,
      "grid_area": null,
      "grid_auto_columns": null,
      "grid_auto_flow": null,
      "grid_auto_rows": null,
      "grid_column": null,
      "grid_gap": null,
      "grid_row": null,
      "grid_template_areas": null,
      "grid_template_columns": null,
      "grid_template_rows": null,
      "height": null,
      "justify_content": null,
      "justify_items": null,
      "left": null,
      "margin": null,
      "max_height": null,
      "max_width": null,
      "min_height": null,
      "min_width": null,
      "object_fit": null,
      "object_position": null,
      "order": null,
      "overflow": null,
      "overflow_x": null,
      "overflow_y": null,
      "padding": null,
      "right": null,
      "top": null,
      "visibility": null,
      "width": null
     }
    },
    "7ca8b621e5b445ae8a0963024ddc0a32": {
     "model_module": "@jupyter-widgets/base",
     "model_name": "LayoutModel",
     "state": {
      "_model_module": "@jupyter-widgets/base",
      "_model_module_version": "1.2.0",
      "_model_name": "LayoutModel",
      "_view_count": null,
      "_view_module": "@jupyter-widgets/base",
      "_view_module_version": "1.2.0",
      "_view_name": "LayoutView",
      "align_content": null,
      "align_items": null,
      "align_self": null,
      "border": null,
      "bottom": null,
      "display": null,
      "flex": null,
      "flex_flow": null,
      "grid_area": null,
      "grid_auto_columns": null,
      "grid_auto_flow": null,
      "grid_auto_rows": null,
      "grid_column": null,
      "grid_gap": null,
      "grid_row": null,
      "grid_template_areas": null,
      "grid_template_columns": null,
      "grid_template_rows": null,
      "height": null,
      "justify_content": null,
      "justify_items": null,
      "left": null,
      "margin": null,
      "max_height": null,
      "max_width": null,
      "min_height": null,
      "min_width": null,
      "object_fit": null,
      "object_position": null,
      "order": null,
      "overflow": null,
      "overflow_x": null,
      "overflow_y": null,
      "padding": null,
      "right": null,
      "top": null,
      "visibility": null,
      "width": null
     }
    },
    "7f86c3bdfa904690881b60f3381fcb19": {
     "model_module": "@jupyter-widgets/base",
     "model_name": "LayoutModel",
     "state": {
      "_model_module": "@jupyter-widgets/base",
      "_model_module_version": "1.2.0",
      "_model_name": "LayoutModel",
      "_view_count": null,
      "_view_module": "@jupyter-widgets/base",
      "_view_module_version": "1.2.0",
      "_view_name": "LayoutView",
      "align_content": null,
      "align_items": null,
      "align_self": null,
      "border": null,
      "bottom": null,
      "display": null,
      "flex": null,
      "flex_flow": null,
      "grid_area": null,
      "grid_auto_columns": null,
      "grid_auto_flow": null,
      "grid_auto_rows": null,
      "grid_column": null,
      "grid_gap": null,
      "grid_row": null,
      "grid_template_areas": null,
      "grid_template_columns": null,
      "grid_template_rows": null,
      "height": null,
      "justify_content": null,
      "justify_items": null,
      "left": null,
      "margin": null,
      "max_height": null,
      "max_width": null,
      "min_height": null,
      "min_width": null,
      "object_fit": null,
      "object_position": null,
      "order": null,
      "overflow": null,
      "overflow_x": null,
      "overflow_y": null,
      "padding": null,
      "right": null,
      "top": null,
      "visibility": null,
      "width": null
     }
    },
    "8049aba760c84f42b7bc02e742ed1afa": {
     "model_module": "@jupyter-widgets/base",
     "model_name": "LayoutModel",
     "state": {
      "_model_module": "@jupyter-widgets/base",
      "_model_module_version": "1.2.0",
      "_model_name": "LayoutModel",
      "_view_count": null,
      "_view_module": "@jupyter-widgets/base",
      "_view_module_version": "1.2.0",
      "_view_name": "LayoutView",
      "align_content": null,
      "align_items": null,
      "align_self": null,
      "border": null,
      "bottom": null,
      "display": null,
      "flex": null,
      "flex_flow": null,
      "grid_area": null,
      "grid_auto_columns": null,
      "grid_auto_flow": null,
      "grid_auto_rows": null,
      "grid_column": null,
      "grid_gap": null,
      "grid_row": null,
      "grid_template_areas": null,
      "grid_template_columns": null,
      "grid_template_rows": null,
      "height": null,
      "justify_content": null,
      "justify_items": null,
      "left": null,
      "margin": null,
      "max_height": null,
      "max_width": null,
      "min_height": null,
      "min_width": null,
      "object_fit": null,
      "object_position": null,
      "order": null,
      "overflow": null,
      "overflow_x": null,
      "overflow_y": null,
      "padding": null,
      "right": null,
      "top": null,
      "visibility": null,
      "width": null
     }
    },
    "82867a3d6e024b6fba88bf124dbd10b9": {
     "model_module": "@jupyter-widgets/controls",
     "model_name": "HBoxModel",
     "state": {
      "_dom_classes": [],
      "_model_module": "@jupyter-widgets/controls",
      "_model_module_version": "1.5.0",
      "_model_name": "HBoxModel",
      "_view_count": null,
      "_view_module": "@jupyter-widgets/controls",
      "_view_module_version": "1.5.0",
      "_view_name": "HBoxView",
      "box_style": "",
      "children": [
       "IPY_MODEL_259ee96f5679439b96ba77298f6f3533",
       "IPY_MODEL_3282ece5908744c49749eed81304037a"
      ],
      "layout": "IPY_MODEL_c9b98fe0b56d4b3c83d4bdf41636cebb"
     }
    },
    "82b096b92a0e4fa0a3f7ca20b263caa3": {
     "model_module": "@jupyter-widgets/controls",
     "model_name": "HTMLModel",
     "state": {
      "_dom_classes": [],
      "_model_module": "@jupyter-widgets/controls",
      "_model_module_version": "1.5.0",
      "_model_name": "HTMLModel",
      "_view_count": null,
      "_view_module": "@jupyter-widgets/controls",
      "_view_module_version": "1.5.0",
      "_view_name": "HTMLView",
      "description": "",
      "description_tooltip": null,
      "layout": "IPY_MODEL_5ef3f251c7824b46b9ed98e7b94f1be6",
      "placeholder": "​",
      "style": "IPY_MODEL_67dc24be7b8941ddb72ad27a9e22b0a3",
      "value": " 13842/13842 [21:06&lt;00:00, 10.93it/s]"
     }
    },
    "848468371cc14781bc93bfbb5315e457": {
     "model_module": "@jupyter-widgets/controls",
     "model_name": "ProgressStyleModel",
     "state": {
      "_model_module": "@jupyter-widgets/controls",
      "_model_module_version": "1.5.0",
      "_model_name": "ProgressStyleModel",
      "_view_count": null,
      "_view_module": "@jupyter-widgets/base",
      "_view_module_version": "1.2.0",
      "_view_name": "StyleView",
      "bar_color": null,
      "description_width": "initial"
     }
    },
    "8573753d4273422c8a2481a88ebfc43c": {
     "model_module": "@jupyter-widgets/controls",
     "model_name": "HBoxModel",
     "state": {
      "_dom_classes": [],
      "_model_module": "@jupyter-widgets/controls",
      "_model_module_version": "1.5.0",
      "_model_name": "HBoxModel",
      "_view_count": null,
      "_view_module": "@jupyter-widgets/controls",
      "_view_module_version": "1.5.0",
      "_view_name": "HBoxView",
      "box_style": "",
      "children": [
       "IPY_MODEL_97ab957b42b747e38507e29fcc19e301",
       "IPY_MODEL_adbcaac760aa43ad96e6389519b0c2ac"
      ],
      "layout": "IPY_MODEL_5ac952142be14b728cf978ac353211c9"
     }
    },
    "85c44eeb249a4ea6846edc871811e9de": {
     "model_module": "@jupyter-widgets/controls",
     "model_name": "ProgressStyleModel",
     "state": {
      "_model_module": "@jupyter-widgets/controls",
      "_model_module_version": "1.5.0",
      "_model_name": "ProgressStyleModel",
      "_view_count": null,
      "_view_module": "@jupyter-widgets/base",
      "_view_module_version": "1.2.0",
      "_view_name": "StyleView",
      "bar_color": null,
      "description_width": "initial"
     }
    },
    "89f3c617916249fbbf39799267653dd8": {
     "model_module": "@jupyter-widgets/base",
     "model_name": "LayoutModel",
     "state": {
      "_model_module": "@jupyter-widgets/base",
      "_model_module_version": "1.2.0",
      "_model_name": "LayoutModel",
      "_view_count": null,
      "_view_module": "@jupyter-widgets/base",
      "_view_module_version": "1.2.0",
      "_view_name": "LayoutView",
      "align_content": null,
      "align_items": null,
      "align_self": null,
      "border": null,
      "bottom": null,
      "display": null,
      "flex": null,
      "flex_flow": null,
      "grid_area": null,
      "grid_auto_columns": null,
      "grid_auto_flow": null,
      "grid_auto_rows": null,
      "grid_column": null,
      "grid_gap": null,
      "grid_row": null,
      "grid_template_areas": null,
      "grid_template_columns": null,
      "grid_template_rows": null,
      "height": null,
      "justify_content": null,
      "justify_items": null,
      "left": null,
      "margin": null,
      "max_height": null,
      "max_width": null,
      "min_height": null,
      "min_width": null,
      "object_fit": null,
      "object_position": null,
      "order": null,
      "overflow": null,
      "overflow_x": null,
      "overflow_y": null,
      "padding": null,
      "right": null,
      "top": null,
      "visibility": null,
      "width": null
     }
    },
    "8c422275ab734cde8d47b53b06223c40": {
     "model_module": "@jupyter-widgets/controls",
     "model_name": "ProgressStyleModel",
     "state": {
      "_model_module": "@jupyter-widgets/controls",
      "_model_module_version": "1.5.0",
      "_model_name": "ProgressStyleModel",
      "_view_count": null,
      "_view_module": "@jupyter-widgets/base",
      "_view_module_version": "1.2.0",
      "_view_name": "StyleView",
      "bar_color": null,
      "description_width": "initial"
     }
    },
    "8d314f331c5546f4a1282864b22ba329": {
     "model_module": "@jupyter-widgets/controls",
     "model_name": "HBoxModel",
     "state": {
      "_dom_classes": [],
      "_model_module": "@jupyter-widgets/controls",
      "_model_module_version": "1.5.0",
      "_model_name": "HBoxModel",
      "_view_count": null,
      "_view_module": "@jupyter-widgets/controls",
      "_view_module_version": "1.5.0",
      "_view_name": "HBoxView",
      "box_style": "",
      "children": [
       "IPY_MODEL_5edebaf68aa8499394dbd81bbc370dad",
       "IPY_MODEL_7b3c6455e0da4ce5aa5c6539c4d23c0b"
      ],
      "layout": "IPY_MODEL_7ca8b621e5b445ae8a0963024ddc0a32"
     }
    },
    "8daac3ffb6b040c8888be75abb6f5a3b": {
     "model_module": "@jupyter-widgets/controls",
     "model_name": "HBoxModel",
     "state": {
      "_dom_classes": [],
      "_model_module": "@jupyter-widgets/controls",
      "_model_module_version": "1.5.0",
      "_model_name": "HBoxModel",
      "_view_count": null,
      "_view_module": "@jupyter-widgets/controls",
      "_view_module_version": "1.5.0",
      "_view_name": "HBoxView",
      "box_style": "",
      "children": [
       "IPY_MODEL_d24aa2e541e0471d9225877db3d7b3da",
       "IPY_MODEL_ed4d8e6dae8542bdb24c5cfb299d0e93"
      ],
      "layout": "IPY_MODEL_9bceefc8e3cd409daa6a3d47b9b4ac04"
     }
    },
    "8db8858db7214e468a8e9afcdbf6e9a2": {
     "model_module": "@jupyter-widgets/controls",
     "model_name": "DescriptionStyleModel",
     "state": {
      "_model_module": "@jupyter-widgets/controls",
      "_model_module_version": "1.5.0",
      "_model_name": "DescriptionStyleModel",
      "_view_count": null,
      "_view_module": "@jupyter-widgets/base",
      "_view_module_version": "1.2.0",
      "_view_name": "StyleView",
      "description_width": ""
     }
    },
    "8e1e1de8303d4acbb33e6fc8b0c121a6": {
     "model_module": "@jupyter-widgets/controls",
     "model_name": "HBoxModel",
     "state": {
      "_dom_classes": [],
      "_model_module": "@jupyter-widgets/controls",
      "_model_module_version": "1.5.0",
      "_model_name": "HBoxModel",
      "_view_count": null,
      "_view_module": "@jupyter-widgets/controls",
      "_view_module_version": "1.5.0",
      "_view_name": "HBoxView",
      "box_style": "",
      "children": [
       "IPY_MODEL_fc80a094d0c54520bc09a0ede028d5e4",
       "IPY_MODEL_7bb303db5dc340559427d49e9329b74f"
      ],
      "layout": "IPY_MODEL_4c05e7c3717f4908866e04a98854d99b"
     }
    },
    "8ef00da3dcca4f6c91a4124180c7823d": {
     "model_module": "@jupyter-widgets/base",
     "model_name": "LayoutModel",
     "state": {
      "_model_module": "@jupyter-widgets/base",
      "_model_module_version": "1.2.0",
      "_model_name": "LayoutModel",
      "_view_count": null,
      "_view_module": "@jupyter-widgets/base",
      "_view_module_version": "1.2.0",
      "_view_name": "LayoutView",
      "align_content": null,
      "align_items": null,
      "align_self": null,
      "border": null,
      "bottom": null,
      "display": null,
      "flex": null,
      "flex_flow": null,
      "grid_area": null,
      "grid_auto_columns": null,
      "grid_auto_flow": null,
      "grid_auto_rows": null,
      "grid_column": null,
      "grid_gap": null,
      "grid_row": null,
      "grid_template_areas": null,
      "grid_template_columns": null,
      "grid_template_rows": null,
      "height": null,
      "justify_content": null,
      "justify_items": null,
      "left": null,
      "margin": null,
      "max_height": null,
      "max_width": null,
      "min_height": null,
      "min_width": null,
      "object_fit": null,
      "object_position": null,
      "order": null,
      "overflow": null,
      "overflow_x": null,
      "overflow_y": null,
      "padding": null,
      "right": null,
      "top": null,
      "visibility": null,
      "width": null
     }
    },
    "934cecc81b734fbb8e7f596bd60de3b0": {
     "model_module": "@jupyter-widgets/controls",
     "model_name": "ProgressStyleModel",
     "state": {
      "_model_module": "@jupyter-widgets/controls",
      "_model_module_version": "1.5.0",
      "_model_name": "ProgressStyleModel",
      "_view_count": null,
      "_view_module": "@jupyter-widgets/base",
      "_view_module_version": "1.2.0",
      "_view_name": "StyleView",
      "bar_color": null,
      "description_width": "initial"
     }
    },
    "97ab957b42b747e38507e29fcc19e301": {
     "model_module": "@jupyter-widgets/controls",
     "model_name": "FloatProgressModel",
     "state": {
      "_dom_classes": [],
      "_model_module": "@jupyter-widgets/controls",
      "_model_module_version": "1.5.0",
      "_model_name": "FloatProgressModel",
      "_view_count": null,
      "_view_module": "@jupyter-widgets/controls",
      "_view_module_version": "1.5.0",
      "_view_name": "ProgressView",
      "bar_style": "",
      "description": "Passing dataset:   2%",
      "description_tooltip": null,
      "layout": "IPY_MODEL_18d3d2a128a7456aa8b49f34df5a637d",
      "max": 13842,
      "min": 0,
      "orientation": "horizontal",
      "style": "IPY_MODEL_934cecc81b734fbb8e7f596bd60de3b0",
      "value": 234
     }
    },
    "99bc2386d6d94a878944c1f32b193360": {
     "model_module": "@jupyter-widgets/base",
     "model_name": "LayoutModel",
     "state": {
      "_model_module": "@jupyter-widgets/base",
      "_model_module_version": "1.2.0",
      "_model_name": "LayoutModel",
      "_view_count": null,
      "_view_module": "@jupyter-widgets/base",
      "_view_module_version": "1.2.0",
      "_view_name": "LayoutView",
      "align_content": null,
      "align_items": null,
      "align_self": null,
      "border": null,
      "bottom": null,
      "display": null,
      "flex": null,
      "flex_flow": null,
      "grid_area": null,
      "grid_auto_columns": null,
      "grid_auto_flow": null,
      "grid_auto_rows": null,
      "grid_column": null,
      "grid_gap": null,
      "grid_row": null,
      "grid_template_areas": null,
      "grid_template_columns": null,
      "grid_template_rows": null,
      "height": null,
      "justify_content": null,
      "justify_items": null,
      "left": null,
      "margin": null,
      "max_height": null,
      "max_width": null,
      "min_height": null,
      "min_width": null,
      "object_fit": null,
      "object_position": null,
      "order": null,
      "overflow": null,
      "overflow_x": null,
      "overflow_y": null,
      "padding": null,
      "right": null,
      "top": null,
      "visibility": null,
      "width": null
     }
    },
    "9bceefc8e3cd409daa6a3d47b9b4ac04": {
     "model_module": "@jupyter-widgets/base",
     "model_name": "LayoutModel",
     "state": {
      "_model_module": "@jupyter-widgets/base",
      "_model_module_version": "1.2.0",
      "_model_name": "LayoutModel",
      "_view_count": null,
      "_view_module": "@jupyter-widgets/base",
      "_view_module_version": "1.2.0",
      "_view_name": "LayoutView",
      "align_content": null,
      "align_items": null,
      "align_self": null,
      "border": null,
      "bottom": null,
      "display": null,
      "flex": null,
      "flex_flow": null,
      "grid_area": null,
      "grid_auto_columns": null,
      "grid_auto_flow": null,
      "grid_auto_rows": null,
      "grid_column": null,
      "grid_gap": null,
      "grid_row": null,
      "grid_template_areas": null,
      "grid_template_columns": null,
      "grid_template_rows": null,
      "height": null,
      "justify_content": null,
      "justify_items": null,
      "left": null,
      "margin": null,
      "max_height": null,
      "max_width": null,
      "min_height": null,
      "min_width": null,
      "object_fit": null,
      "object_position": null,
      "order": null,
      "overflow": null,
      "overflow_x": null,
      "overflow_y": null,
      "padding": null,
      "right": null,
      "top": null,
      "visibility": null,
      "width": null
     }
    },
    "a1a7093621f24a38b23a08b1a40d279d": {
     "model_module": "@jupyter-widgets/controls",
     "model_name": "DescriptionStyleModel",
     "state": {
      "_model_module": "@jupyter-widgets/controls",
      "_model_module_version": "1.5.0",
      "_model_name": "DescriptionStyleModel",
      "_view_count": null,
      "_view_module": "@jupyter-widgets/base",
      "_view_module_version": "1.2.0",
      "_view_name": "StyleView",
      "description_width": ""
     }
    },
    "a32bf766bd9347028d31182e968691d6": {
     "model_module": "@jupyter-widgets/base",
     "model_name": "LayoutModel",
     "state": {
      "_model_module": "@jupyter-widgets/base",
      "_model_module_version": "1.2.0",
      "_model_name": "LayoutModel",
      "_view_count": null,
      "_view_module": "@jupyter-widgets/base",
      "_view_module_version": "1.2.0",
      "_view_name": "LayoutView",
      "align_content": null,
      "align_items": null,
      "align_self": null,
      "border": null,
      "bottom": null,
      "display": null,
      "flex": null,
      "flex_flow": null,
      "grid_area": null,
      "grid_auto_columns": null,
      "grid_auto_flow": null,
      "grid_auto_rows": null,
      "grid_column": null,
      "grid_gap": null,
      "grid_row": null,
      "grid_template_areas": null,
      "grid_template_columns": null,
      "grid_template_rows": null,
      "height": null,
      "justify_content": null,
      "justify_items": null,
      "left": null,
      "margin": null,
      "max_height": null,
      "max_width": null,
      "min_height": null,
      "min_width": null,
      "object_fit": null,
      "object_position": null,
      "order": null,
      "overflow": null,
      "overflow_x": null,
      "overflow_y": null,
      "padding": null,
      "right": null,
      "top": null,
      "visibility": null,
      "width": null
     }
    },
    "a422e14f827a450b96e8af2255e9e4bf": {
     "model_module": "@jupyter-widgets/base",
     "model_name": "LayoutModel",
     "state": {
      "_model_module": "@jupyter-widgets/base",
      "_model_module_version": "1.2.0",
      "_model_name": "LayoutModel",
      "_view_count": null,
      "_view_module": "@jupyter-widgets/base",
      "_view_module_version": "1.2.0",
      "_view_name": "LayoutView",
      "align_content": null,
      "align_items": null,
      "align_self": null,
      "border": null,
      "bottom": null,
      "display": null,
      "flex": null,
      "flex_flow": null,
      "grid_area": null,
      "grid_auto_columns": null,
      "grid_auto_flow": null,
      "grid_auto_rows": null,
      "grid_column": null,
      "grid_gap": null,
      "grid_row": null,
      "grid_template_areas": null,
      "grid_template_columns": null,
      "grid_template_rows": null,
      "height": null,
      "justify_content": null,
      "justify_items": null,
      "left": null,
      "margin": null,
      "max_height": null,
      "max_width": null,
      "min_height": null,
      "min_width": null,
      "object_fit": null,
      "object_position": null,
      "order": null,
      "overflow": null,
      "overflow_x": null,
      "overflow_y": null,
      "padding": null,
      "right": null,
      "top": null,
      "visibility": null,
      "width": null
     }
    },
    "adbcaac760aa43ad96e6389519b0c2ac": {
     "model_module": "@jupyter-widgets/controls",
     "model_name": "HTMLModel",
     "state": {
      "_dom_classes": [],
      "_model_module": "@jupyter-widgets/controls",
      "_model_module_version": "1.5.0",
      "_model_name": "HTMLModel",
      "_view_count": null,
      "_view_module": "@jupyter-widgets/controls",
      "_view_module_version": "1.5.0",
      "_view_name": "HTMLView",
      "description": "",
      "description_tooltip": null,
      "layout": "IPY_MODEL_5d1206039ab445c78aa9fec83fcde5ac",
      "placeholder": "​",
      "style": "IPY_MODEL_d382e280b18842f6bfb3eb233af05fad",
      "value": " 234/13842 [00:21&lt;20:32, 11.04it/s]"
     }
    },
    "aff7b8b336ba4f41b5a0c196bae6224b": {
     "model_module": "@jupyter-widgets/controls",
     "model_name": "HBoxModel",
     "state": {
      "_dom_classes": [],
      "_model_module": "@jupyter-widgets/controls",
      "_model_module_version": "1.5.0",
      "_model_name": "HBoxModel",
      "_view_count": null,
      "_view_module": "@jupyter-widgets/controls",
      "_view_module_version": "1.5.0",
      "_view_name": "HBoxView",
      "box_style": "",
      "children": [
       "IPY_MODEL_fb70dbfa418743eebc47bdc4233cee43",
       "IPY_MODEL_e1f3c648bc4143d88cf781cfe6a7dd11"
      ],
      "layout": "IPY_MODEL_1022fa848b4c45a4b155a4d4c58f86a1"
     }
    },
    "b4cf68560b2e4b559d90eeebd3e3727a": {
     "model_module": "@jupyter-widgets/controls",
     "model_name": "HBoxModel",
     "state": {
      "_dom_classes": [],
      "_model_module": "@jupyter-widgets/controls",
      "_model_module_version": "1.5.0",
      "_model_name": "HBoxModel",
      "_view_count": null,
      "_view_module": "@jupyter-widgets/controls",
      "_view_module_version": "1.5.0",
      "_view_name": "HBoxView",
      "box_style": "",
      "children": [
       "IPY_MODEL_c20213321d5245f387cfc9b908bc1631",
       "IPY_MODEL_56a00e4a01544d7fb702aa0e6ebbdaec"
      ],
      "layout": "IPY_MODEL_c903cc64bda14432995865b6588b8096"
     }
    },
    "b5ad0e5f782143ffa8e9eb209365aa82": {
     "model_module": "@jupyter-widgets/base",
     "model_name": "LayoutModel",
     "state": {
      "_model_module": "@jupyter-widgets/base",
      "_model_module_version": "1.2.0",
      "_model_name": "LayoutModel",
      "_view_count": null,
      "_view_module": "@jupyter-widgets/base",
      "_view_module_version": "1.2.0",
      "_view_name": "LayoutView",
      "align_content": null,
      "align_items": null,
      "align_self": null,
      "border": null,
      "bottom": null,
      "display": null,
      "flex": null,
      "flex_flow": null,
      "grid_area": null,
      "grid_auto_columns": null,
      "grid_auto_flow": null,
      "grid_auto_rows": null,
      "grid_column": null,
      "grid_gap": null,
      "grid_row": null,
      "grid_template_areas": null,
      "grid_template_columns": null,
      "grid_template_rows": null,
      "height": null,
      "justify_content": null,
      "justify_items": null,
      "left": null,
      "margin": null,
      "max_height": null,
      "max_width": null,
      "min_height": null,
      "min_width": null,
      "object_fit": null,
      "object_position": null,
      "order": null,
      "overflow": null,
      "overflow_x": null,
      "overflow_y": null,
      "padding": null,
      "right": null,
      "top": null,
      "visibility": null,
      "width": null
     }
    },
    "bc07116ce5a942e89614969d1ad20d92": {
     "model_module": "@jupyter-widgets/controls",
     "model_name": "FloatProgressModel",
     "state": {
      "_dom_classes": [],
      "_model_module": "@jupyter-widgets/controls",
      "_model_module_version": "1.5.0",
      "_model_name": "FloatProgressModel",
      "_view_count": null,
      "_view_module": "@jupyter-widgets/controls",
      "_view_module_version": "1.5.0",
      "_view_name": "ProgressView",
      "bar_style": "success",
      "description": "Passing dataset: 100%",
      "description_tooltip": null,
      "layout": "IPY_MODEL_34606c824c9e4223a6c3d49e633583db",
      "max": 13842,
      "min": 0,
      "orientation": "horizontal",
      "style": "IPY_MODEL_62f02610636848ff927a8fe18d1b985f",
      "value": 13842
     }
    },
    "bf3a50a0e86b463fbbafd7aec5f4165e": {
     "model_module": "@jupyter-widgets/base",
     "model_name": "LayoutModel",
     "state": {
      "_model_module": "@jupyter-widgets/base",
      "_model_module_version": "1.2.0",
      "_model_name": "LayoutModel",
      "_view_count": null,
      "_view_module": "@jupyter-widgets/base",
      "_view_module_version": "1.2.0",
      "_view_name": "LayoutView",
      "align_content": null,
      "align_items": null,
      "align_self": null,
      "border": null,
      "bottom": null,
      "display": null,
      "flex": null,
      "flex_flow": null,
      "grid_area": null,
      "grid_auto_columns": null,
      "grid_auto_flow": null,
      "grid_auto_rows": null,
      "grid_column": null,
      "grid_gap": null,
      "grid_row": null,
      "grid_template_areas": null,
      "grid_template_columns": null,
      "grid_template_rows": null,
      "height": null,
      "justify_content": null,
      "justify_items": null,
      "left": null,
      "margin": null,
      "max_height": null,
      "max_width": null,
      "min_height": null,
      "min_width": null,
      "object_fit": null,
      "object_position": null,
      "order": null,
      "overflow": null,
      "overflow_x": null,
      "overflow_y": null,
      "padding": null,
      "right": null,
      "top": null,
      "visibility": null,
      "width": null
     }
    },
    "c04c1cb4e68746c797f2d3c3e25b8737": {
     "model_module": "@jupyter-widgets/controls",
     "model_name": "ProgressStyleModel",
     "state": {
      "_model_module": "@jupyter-widgets/controls",
      "_model_module_version": "1.5.0",
      "_model_name": "ProgressStyleModel",
      "_view_count": null,
      "_view_module": "@jupyter-widgets/base",
      "_view_module_version": "1.2.0",
      "_view_name": "StyleView",
      "bar_color": null,
      "description_width": "initial"
     }
    },
    "c0cf746b54024c47b07c74a9f92f36ea": {
     "model_module": "@jupyter-widgets/controls",
     "model_name": "HBoxModel",
     "state": {
      "_dom_classes": [],
      "_model_module": "@jupyter-widgets/controls",
      "_model_module_version": "1.5.0",
      "_model_name": "HBoxModel",
      "_view_count": null,
      "_view_module": "@jupyter-widgets/controls",
      "_view_module_version": "1.5.0",
      "_view_name": "HBoxView",
      "box_style": "",
      "children": [
       "IPY_MODEL_250ac763569f48949b5f3d4c29f85a66",
       "IPY_MODEL_477301649ba94280887d6cff639ccd50"
      ],
      "layout": "IPY_MODEL_89f3c617916249fbbf39799267653dd8"
     }
    },
    "c20213321d5245f387cfc9b908bc1631": {
     "model_module": "@jupyter-widgets/controls",
     "model_name": "FloatProgressModel",
     "state": {
      "_dom_classes": [],
      "_model_module": "@jupyter-widgets/controls",
      "_model_module_version": "1.5.0",
      "_model_name": "FloatProgressModel",
      "_view_count": null,
      "_view_module": "@jupyter-widgets/controls",
      "_view_module_version": "1.5.0",
      "_view_name": "ProgressView",
      "bar_style": "success",
      "description": "100%",
      "description_tooltip": null,
      "layout": "IPY_MODEL_c7be550e974a487d8ae2398e03be8a7a",
      "max": 9,
      "min": 0,
      "orientation": "horizontal",
      "style": "IPY_MODEL_012e0e5ac2ec4fada291b58249c7d6c2",
      "value": 9
     }
    },
    "c5b26750d1e9483a827943a97f313a24": {
     "model_module": "@jupyter-widgets/base",
     "model_name": "LayoutModel",
     "state": {
      "_model_module": "@jupyter-widgets/base",
      "_model_module_version": "1.2.0",
      "_model_name": "LayoutModel",
      "_view_count": null,
      "_view_module": "@jupyter-widgets/base",
      "_view_module_version": "1.2.0",
      "_view_name": "LayoutView",
      "align_content": null,
      "align_items": null,
      "align_self": null,
      "border": null,
      "bottom": null,
      "display": null,
      "flex": null,
      "flex_flow": null,
      "grid_area": null,
      "grid_auto_columns": null,
      "grid_auto_flow": null,
      "grid_auto_rows": null,
      "grid_column": null,
      "grid_gap": null,
      "grid_row": null,
      "grid_template_areas": null,
      "grid_template_columns": null,
      "grid_template_rows": null,
      "height": null,
      "justify_content": null,
      "justify_items": null,
      "left": null,
      "margin": null,
      "max_height": null,
      "max_width": null,
      "min_height": null,
      "min_width": null,
      "object_fit": null,
      "object_position": null,
      "order": null,
      "overflow": null,
      "overflow_x": null,
      "overflow_y": null,
      "padding": null,
      "right": null,
      "top": null,
      "visibility": null,
      "width": null
     }
    },
    "c5ff7b1ffcb24cfeb0d2eee7ec61176b": {
     "model_module": "@jupyter-widgets/base",
     "model_name": "LayoutModel",
     "state": {
      "_model_module": "@jupyter-widgets/base",
      "_model_module_version": "1.2.0",
      "_model_name": "LayoutModel",
      "_view_count": null,
      "_view_module": "@jupyter-widgets/base",
      "_view_module_version": "1.2.0",
      "_view_name": "LayoutView",
      "align_content": null,
      "align_items": null,
      "align_self": null,
      "border": null,
      "bottom": null,
      "display": null,
      "flex": null,
      "flex_flow": null,
      "grid_area": null,
      "grid_auto_columns": null,
      "grid_auto_flow": null,
      "grid_auto_rows": null,
      "grid_column": null,
      "grid_gap": null,
      "grid_row": null,
      "grid_template_areas": null,
      "grid_template_columns": null,
      "grid_template_rows": null,
      "height": null,
      "justify_content": null,
      "justify_items": null,
      "left": null,
      "margin": null,
      "max_height": null,
      "max_width": null,
      "min_height": null,
      "min_width": null,
      "object_fit": null,
      "object_position": null,
      "order": null,
      "overflow": null,
      "overflow_x": null,
      "overflow_y": null,
      "padding": null,
      "right": null,
      "top": null,
      "visibility": null,
      "width": null
     }
    },
    "c7be550e974a487d8ae2398e03be8a7a": {
     "model_module": "@jupyter-widgets/base",
     "model_name": "LayoutModel",
     "state": {
      "_model_module": "@jupyter-widgets/base",
      "_model_module_version": "1.2.0",
      "_model_name": "LayoutModel",
      "_view_count": null,
      "_view_module": "@jupyter-widgets/base",
      "_view_module_version": "1.2.0",
      "_view_name": "LayoutView",
      "align_content": null,
      "align_items": null,
      "align_self": null,
      "border": null,
      "bottom": null,
      "display": null,
      "flex": null,
      "flex_flow": null,
      "grid_area": null,
      "grid_auto_columns": null,
      "grid_auto_flow": null,
      "grid_auto_rows": null,
      "grid_column": null,
      "grid_gap": null,
      "grid_row": null,
      "grid_template_areas": null,
      "grid_template_columns": null,
      "grid_template_rows": null,
      "height": null,
      "justify_content": null,
      "justify_items": null,
      "left": null,
      "margin": null,
      "max_height": null,
      "max_width": null,
      "min_height": null,
      "min_width": null,
      "object_fit": null,
      "object_position": null,
      "order": null,
      "overflow": null,
      "overflow_x": null,
      "overflow_y": null,
      "padding": null,
      "right": null,
      "top": null,
      "visibility": null,
      "width": null
     }
    },
    "c8e96d98a36f4a0e87bfab4fcdc734d3": {
     "model_module": "@jupyter-widgets/base",
     "model_name": "LayoutModel",
     "state": {
      "_model_module": "@jupyter-widgets/base",
      "_model_module_version": "1.2.0",
      "_model_name": "LayoutModel",
      "_view_count": null,
      "_view_module": "@jupyter-widgets/base",
      "_view_module_version": "1.2.0",
      "_view_name": "LayoutView",
      "align_content": null,
      "align_items": null,
      "align_self": null,
      "border": null,
      "bottom": null,
      "display": null,
      "flex": null,
      "flex_flow": null,
      "grid_area": null,
      "grid_auto_columns": null,
      "grid_auto_flow": null,
      "grid_auto_rows": null,
      "grid_column": null,
      "grid_gap": null,
      "grid_row": null,
      "grid_template_areas": null,
      "grid_template_columns": null,
      "grid_template_rows": null,
      "height": null,
      "justify_content": null,
      "justify_items": null,
      "left": null,
      "margin": null,
      "max_height": null,
      "max_width": null,
      "min_height": null,
      "min_width": null,
      "object_fit": null,
      "object_position": null,
      "order": null,
      "overflow": null,
      "overflow_x": null,
      "overflow_y": null,
      "padding": null,
      "right": null,
      "top": null,
      "visibility": null,
      "width": null
     }
    },
    "c903cc64bda14432995865b6588b8096": {
     "model_module": "@jupyter-widgets/base",
     "model_name": "LayoutModel",
     "state": {
      "_model_module": "@jupyter-widgets/base",
      "_model_module_version": "1.2.0",
      "_model_name": "LayoutModel",
      "_view_count": null,
      "_view_module": "@jupyter-widgets/base",
      "_view_module_version": "1.2.0",
      "_view_name": "LayoutView",
      "align_content": null,
      "align_items": null,
      "align_self": null,
      "border": null,
      "bottom": null,
      "display": null,
      "flex": null,
      "flex_flow": null,
      "grid_area": null,
      "grid_auto_columns": null,
      "grid_auto_flow": null,
      "grid_auto_rows": null,
      "grid_column": null,
      "grid_gap": null,
      "grid_row": null,
      "grid_template_areas": null,
      "grid_template_columns": null,
      "grid_template_rows": null,
      "height": null,
      "justify_content": null,
      "justify_items": null,
      "left": null,
      "margin": null,
      "max_height": null,
      "max_width": null,
      "min_height": null,
      "min_width": null,
      "object_fit": null,
      "object_position": null,
      "order": null,
      "overflow": null,
      "overflow_x": null,
      "overflow_y": null,
      "padding": null,
      "right": null,
      "top": null,
      "visibility": null,
      "width": null
     }
    },
    "c9b98fe0b56d4b3c83d4bdf41636cebb": {
     "model_module": "@jupyter-widgets/base",
     "model_name": "LayoutModel",
     "state": {
      "_model_module": "@jupyter-widgets/base",
      "_model_module_version": "1.2.0",
      "_model_name": "LayoutModel",
      "_view_count": null,
      "_view_module": "@jupyter-widgets/base",
      "_view_module_version": "1.2.0",
      "_view_name": "LayoutView",
      "align_content": null,
      "align_items": null,
      "align_self": null,
      "border": null,
      "bottom": null,
      "display": null,
      "flex": null,
      "flex_flow": null,
      "grid_area": null,
      "grid_auto_columns": null,
      "grid_auto_flow": null,
      "grid_auto_rows": null,
      "grid_column": null,
      "grid_gap": null,
      "grid_row": null,
      "grid_template_areas": null,
      "grid_template_columns": null,
      "grid_template_rows": null,
      "height": null,
      "justify_content": null,
      "justify_items": null,
      "left": null,
      "margin": null,
      "max_height": null,
      "max_width": null,
      "min_height": null,
      "min_width": null,
      "object_fit": null,
      "object_position": null,
      "order": null,
      "overflow": null,
      "overflow_x": null,
      "overflow_y": null,
      "padding": null,
      "right": null,
      "top": null,
      "visibility": null,
      "width": null
     }
    },
    "ced9ae55f15240d69704ccd9b7c6c3b0": {
     "model_module": "@jupyter-widgets/controls",
     "model_name": "ProgressStyleModel",
     "state": {
      "_model_module": "@jupyter-widgets/controls",
      "_model_module_version": "1.5.0",
      "_model_name": "ProgressStyleModel",
      "_view_count": null,
      "_view_module": "@jupyter-widgets/base",
      "_view_module_version": "1.2.0",
      "_view_name": "StyleView",
      "bar_color": null,
      "description_width": "initial"
     }
    },
    "d0a93a667d32494884e0dc4509c23d6c": {
     "model_module": "@jupyter-widgets/controls",
     "model_name": "FloatProgressModel",
     "state": {
      "_dom_classes": [],
      "_model_module": "@jupyter-widgets/controls",
      "_model_module_version": "1.5.0",
      "_model_name": "FloatProgressModel",
      "_view_count": null,
      "_view_module": "@jupyter-widgets/controls",
      "_view_module_version": "1.5.0",
      "_view_name": "ProgressView",
      "bar_style": "success",
      "description": "Passing dataset: 100%",
      "description_tooltip": null,
      "layout": "IPY_MODEL_19df7d834fb945d2895d1e830c384452",
      "max": 13842,
      "min": 0,
      "orientation": "horizontal",
      "style": "IPY_MODEL_ced9ae55f15240d69704ccd9b7c6c3b0",
      "value": 13842
     }
    },
    "d1f69fa601e543b48270e5451ee79acb": {
     "model_module": "@jupyter-widgets/base",
     "model_name": "LayoutModel",
     "state": {
      "_model_module": "@jupyter-widgets/base",
      "_model_module_version": "1.2.0",
      "_model_name": "LayoutModel",
      "_view_count": null,
      "_view_module": "@jupyter-widgets/base",
      "_view_module_version": "1.2.0",
      "_view_name": "LayoutView",
      "align_content": null,
      "align_items": null,
      "align_self": null,
      "border": null,
      "bottom": null,
      "display": null,
      "flex": null,
      "flex_flow": null,
      "grid_area": null,
      "grid_auto_columns": null,
      "grid_auto_flow": null,
      "grid_auto_rows": null,
      "grid_column": null,
      "grid_gap": null,
      "grid_row": null,
      "grid_template_areas": null,
      "grid_template_columns": null,
      "grid_template_rows": null,
      "height": null,
      "justify_content": null,
      "justify_items": null,
      "left": null,
      "margin": null,
      "max_height": null,
      "max_width": null,
      "min_height": null,
      "min_width": null,
      "object_fit": null,
      "object_position": null,
      "order": null,
      "overflow": null,
      "overflow_x": null,
      "overflow_y": null,
      "padding": null,
      "right": null,
      "top": null,
      "visibility": null,
      "width": null
     }
    },
    "d24aa2e541e0471d9225877db3d7b3da": {
     "model_module": "@jupyter-widgets/controls",
     "model_name": "FloatProgressModel",
     "state": {
      "_dom_classes": [],
      "_model_module": "@jupyter-widgets/controls",
      "_model_module_version": "1.5.0",
      "_model_name": "FloatProgressModel",
      "_view_count": null,
      "_view_module": "@jupyter-widgets/controls",
      "_view_module_version": "1.5.0",
      "_view_name": "ProgressView",
      "bar_style": "success",
      "description": "100%",
      "description_tooltip": null,
      "layout": "IPY_MODEL_8ef00da3dcca4f6c91a4124180c7823d",
      "max": 9,
      "min": 0,
      "orientation": "horizontal",
      "style": "IPY_MODEL_8c422275ab734cde8d47b53b06223c40",
      "value": 9
     }
    },
    "d382e280b18842f6bfb3eb233af05fad": {
     "model_module": "@jupyter-widgets/controls",
     "model_name": "DescriptionStyleModel",
     "state": {
      "_model_module": "@jupyter-widgets/controls",
      "_model_module_version": "1.5.0",
      "_model_name": "DescriptionStyleModel",
      "_view_count": null,
      "_view_module": "@jupyter-widgets/base",
      "_view_module_version": "1.2.0",
      "_view_name": "StyleView",
      "description_width": ""
     }
    },
    "dad677ed8c1a420fb07054c0e9ea8016": {
     "model_module": "@jupyter-widgets/controls",
     "model_name": "DescriptionStyleModel",
     "state": {
      "_model_module": "@jupyter-widgets/controls",
      "_model_module_version": "1.5.0",
      "_model_name": "DescriptionStyleModel",
      "_view_count": null,
      "_view_module": "@jupyter-widgets/base",
      "_view_module_version": "1.2.0",
      "_view_name": "StyleView",
      "description_width": ""
     }
    },
    "db03b1638462468d986ec3411d243548": {
     "model_module": "@jupyter-widgets/controls",
     "model_name": "FloatProgressModel",
     "state": {
      "_dom_classes": [],
      "_model_module": "@jupyter-widgets/controls",
      "_model_module_version": "1.5.0",
      "_model_name": "FloatProgressModel",
      "_view_count": null,
      "_view_module": "@jupyter-widgets/controls",
      "_view_module_version": "1.5.0",
      "_view_name": "ProgressView",
      "bar_style": "success",
      "description": "Passing dataset: 100%",
      "description_tooltip": null,
      "layout": "IPY_MODEL_b5ad0e5f782143ffa8e9eb209365aa82",
      "max": 13842,
      "min": 0,
      "orientation": "horizontal",
      "style": "IPY_MODEL_387274a4fb294a7fa44efe51e5312e58",
      "value": 13842
     }
    },
    "de79b220860e49a2b95b79295cc3ed5d": {
     "model_module": "@jupyter-widgets/base",
     "model_name": "LayoutModel",
     "state": {
      "_model_module": "@jupyter-widgets/base",
      "_model_module_version": "1.2.0",
      "_model_name": "LayoutModel",
      "_view_count": null,
      "_view_module": "@jupyter-widgets/base",
      "_view_module_version": "1.2.0",
      "_view_name": "LayoutView",
      "align_content": null,
      "align_items": null,
      "align_self": null,
      "border": null,
      "bottom": null,
      "display": null,
      "flex": null,
      "flex_flow": null,
      "grid_area": null,
      "grid_auto_columns": null,
      "grid_auto_flow": null,
      "grid_auto_rows": null,
      "grid_column": null,
      "grid_gap": null,
      "grid_row": null,
      "grid_template_areas": null,
      "grid_template_columns": null,
      "grid_template_rows": null,
      "height": null,
      "justify_content": null,
      "justify_items": null,
      "left": null,
      "margin": null,
      "max_height": null,
      "max_width": null,
      "min_height": null,
      "min_width": null,
      "object_fit": null,
      "object_position": null,
      "order": null,
      "overflow": null,
      "overflow_x": null,
      "overflow_y": null,
      "padding": null,
      "right": null,
      "top": null,
      "visibility": null,
      "width": null
     }
    },
    "e1f3c648bc4143d88cf781cfe6a7dd11": {
     "model_module": "@jupyter-widgets/controls",
     "model_name": "HTMLModel",
     "state": {
      "_dom_classes": [],
      "_model_module": "@jupyter-widgets/controls",
      "_model_module_version": "1.5.0",
      "_model_name": "HTMLModel",
      "_view_count": null,
      "_view_module": "@jupyter-widgets/controls",
      "_view_module_version": "1.5.0",
      "_view_name": "HTMLView",
      "description": "",
      "description_tooltip": null,
      "layout": "IPY_MODEL_c5b26750d1e9483a827943a97f313a24",
      "placeholder": "​",
      "style": "IPY_MODEL_2ac21822f0614c21b8ea151600fc2b5e",
      "value": " 13842/13842 [20:38&lt;00:00, 11.17it/s]"
     }
    },
    "ecc5c4f810a44771936da0cbef99581e": {
     "model_module": "@jupyter-widgets/controls",
     "model_name": "HBoxModel",
     "state": {
      "_dom_classes": [],
      "_model_module": "@jupyter-widgets/controls",
      "_model_module_version": "1.5.0",
      "_model_name": "HBoxModel",
      "_view_count": null,
      "_view_module": "@jupyter-widgets/controls",
      "_view_module_version": "1.5.0",
      "_view_name": "HBoxView",
      "box_style": "",
      "children": [
       "IPY_MODEL_64667ad48efe4a5791babecf1b2f0d37",
       "IPY_MODEL_0fcd25f365364a7b846145f04a9fced6"
      ],
      "layout": "IPY_MODEL_a422e14f827a450b96e8af2255e9e4bf"
     }
    },
    "ed4d8e6dae8542bdb24c5cfb299d0e93": {
     "model_module": "@jupyter-widgets/controls",
     "model_name": "HTMLModel",
     "state": {
      "_dom_classes": [],
      "_model_module": "@jupyter-widgets/controls",
      "_model_module_version": "1.5.0",
      "_model_name": "HTMLModel",
      "_view_count": null,
      "_view_module": "@jupyter-widgets/controls",
      "_view_module_version": "1.5.0",
      "_view_name": "HTMLView",
      "description": "",
      "description_tooltip": null,
      "layout": "IPY_MODEL_7f86c3bdfa904690881b60f3381fcb19",
      "placeholder": "​",
      "style": "IPY_MODEL_47ff5ab2104a40cca61e7c9faac8d537",
      "value": " 9/9 [00:17&lt;00:00,  1.95s/it]"
     }
    },
    "f126796ac82448c186d59e2058c74c38": {
     "model_module": "@jupyter-widgets/controls",
     "model_name": "HBoxModel",
     "state": {
      "_dom_classes": [],
      "_model_module": "@jupyter-widgets/controls",
      "_model_module_version": "1.5.0",
      "_model_name": "HBoxModel",
      "_view_count": null,
      "_view_module": "@jupyter-widgets/controls",
      "_view_module_version": "1.5.0",
      "_view_name": "HBoxView",
      "box_style": "",
      "children": [
       "IPY_MODEL_db03b1638462468d986ec3411d243548",
       "IPY_MODEL_3dd50a68dd85483c9491672fddf01469"
      ],
      "layout": "IPY_MODEL_5eb2418c5c0a4a1c80360da943666d00"
     }
    },
    "f52c7c6415d54f9eb673fd408f98a10e": {
     "model_module": "@jupyter-widgets/base",
     "model_name": "LayoutModel",
     "state": {
      "_model_module": "@jupyter-widgets/base",
      "_model_module_version": "1.2.0",
      "_model_name": "LayoutModel",
      "_view_count": null,
      "_view_module": "@jupyter-widgets/base",
      "_view_module_version": "1.2.0",
      "_view_name": "LayoutView",
      "align_content": null,
      "align_items": null,
      "align_self": null,
      "border": null,
      "bottom": null,
      "display": null,
      "flex": null,
      "flex_flow": null,
      "grid_area": null,
      "grid_auto_columns": null,
      "grid_auto_flow": null,
      "grid_auto_rows": null,
      "grid_column": null,
      "grid_gap": null,
      "grid_row": null,
      "grid_template_areas": null,
      "grid_template_columns": null,
      "grid_template_rows": null,
      "height": null,
      "justify_content": null,
      "justify_items": null,
      "left": null,
      "margin": null,
      "max_height": null,
      "max_width": null,
      "min_height": null,
      "min_width": null,
      "object_fit": null,
      "object_position": null,
      "order": null,
      "overflow": null,
      "overflow_x": null,
      "overflow_y": null,
      "padding": null,
      "right": null,
      "top": null,
      "visibility": null,
      "width": null
     }
    },
    "f7473e317c0646cba95e9a1a3d98c7c6": {
     "model_module": "@jupyter-widgets/controls",
     "model_name": "ProgressStyleModel",
     "state": {
      "_model_module": "@jupyter-widgets/controls",
      "_model_module_version": "1.5.0",
      "_model_name": "ProgressStyleModel",
      "_view_count": null,
      "_view_module": "@jupyter-widgets/base",
      "_view_module_version": "1.2.0",
      "_view_name": "StyleView",
      "bar_color": null,
      "description_width": "initial"
     }
    },
    "fb70942106a14758978d1a286ce4431b": {
     "model_module": "@jupyter-widgets/base",
     "model_name": "LayoutModel",
     "state": {
      "_model_module": "@jupyter-widgets/base",
      "_model_module_version": "1.2.0",
      "_model_name": "LayoutModel",
      "_view_count": null,
      "_view_module": "@jupyter-widgets/base",
      "_view_module_version": "1.2.0",
      "_view_name": "LayoutView",
      "align_content": null,
      "align_items": null,
      "align_self": null,
      "border": null,
      "bottom": null,
      "display": null,
      "flex": null,
      "flex_flow": null,
      "grid_area": null,
      "grid_auto_columns": null,
      "grid_auto_flow": null,
      "grid_auto_rows": null,
      "grid_column": null,
      "grid_gap": null,
      "grid_row": null,
      "grid_template_areas": null,
      "grid_template_columns": null,
      "grid_template_rows": null,
      "height": null,
      "justify_content": null,
      "justify_items": null,
      "left": null,
      "margin": null,
      "max_height": null,
      "max_width": null,
      "min_height": null,
      "min_width": null,
      "object_fit": null,
      "object_position": null,
      "order": null,
      "overflow": null,
      "overflow_x": null,
      "overflow_y": null,
      "padding": null,
      "right": null,
      "top": null,
      "visibility": null,
      "width": null
     }
    },
    "fb70dbfa418743eebc47bdc4233cee43": {
     "model_module": "@jupyter-widgets/controls",
     "model_name": "FloatProgressModel",
     "state": {
      "_dom_classes": [],
      "_model_module": "@jupyter-widgets/controls",
      "_model_module_version": "1.5.0",
      "_model_name": "FloatProgressModel",
      "_view_count": null,
      "_view_module": "@jupyter-widgets/controls",
      "_view_module_version": "1.5.0",
      "_view_name": "ProgressView",
      "bar_style": "success",
      "description": "Passing dataset: 100%",
      "description_tooltip": null,
      "layout": "IPY_MODEL_0205cfa4a7d2444bbed2bae671c1936a",
      "max": 13842,
      "min": 0,
      "orientation": "horizontal",
      "style": "IPY_MODEL_848468371cc14781bc93bfbb5315e457",
      "value": 13842
     }
    },
    "fc80a094d0c54520bc09a0ede028d5e4": {
     "model_module": "@jupyter-widgets/controls",
     "model_name": "FloatProgressModel",
     "state": {
      "_dom_classes": [],
      "_model_module": "@jupyter-widgets/controls",
      "_model_module_version": "1.5.0",
      "_model_name": "FloatProgressModel",
      "_view_count": null,
      "_view_module": "@jupyter-widgets/controls",
      "_view_module_version": "1.5.0",
      "_view_name": "ProgressView",
      "bar_style": "success",
      "description": "Passing dataset: 100%",
      "description_tooltip": null,
      "layout": "IPY_MODEL_a32bf766bd9347028d31182e968691d6",
      "max": 13842,
      "min": 0,
      "orientation": "horizontal",
      "style": "IPY_MODEL_3d5602ae97ca4cd3b089df4ff1fb1b44",
      "value": 13842
     }
    },
    "fd587c922a224681a9964eead04cb878": {
     "model_module": "@jupyter-widgets/controls",
     "model_name": "DescriptionStyleModel",
     "state": {
      "_model_module": "@jupyter-widgets/controls",
      "_model_module_version": "1.5.0",
      "_model_name": "DescriptionStyleModel",
      "_view_count": null,
      "_view_module": "@jupyter-widgets/base",
      "_view_module_version": "1.2.0",
      "_view_name": "StyleView",
      "description_width": ""
     }
    }
   }
  }
 },
 "nbformat": 4,
 "nbformat_minor": 4
}
