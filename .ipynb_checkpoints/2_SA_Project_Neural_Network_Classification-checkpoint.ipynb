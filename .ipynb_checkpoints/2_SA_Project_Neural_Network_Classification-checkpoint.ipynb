{
 "cells": [
  {
   "cell_type": "markdown",
   "metadata": {
    "id": "fOTWSnhftGTv"
   },
   "source": [
    "# SENTIMENT ANALYSIS AND OPINION MINING PROJECT\n",
    "## PUBLIC OPINION ON NEWS\n",
    "\n",
    "https://island.ricerca.di.unimi.it/~alfio/shared/textsent/2020-21/projects.html\n",
    "\n",
    "The New York Times Comments dataset (https://www.kaggle.com/aashita/nyt-comments?select=CommentsApril2017.csv) contains articles published on the New York Times and the comments they received from readers. <br>\n",
    "The task of the project is to analyze, using the variables *editorsSelection*, *recommendations*, and *replyCount* as targets, the rate of success of a comment. This rate of success should be intepreted as a measure of how much controversial was the commented article. On this base, the project aims at studing which topics (indicated by the features sectionName and/or newDesk) were mostly controversial. Optionally, the project could also determine if a comment opinion is against or if favor of the article."
   ]
  },
  {
   "cell_type": "markdown",
   "metadata": {},
   "source": [
    "# 2. CLASSIFICATION OF CONTROVERSIAL COMMENTS WITH A MULTIMODAL NEURAL NETWORK"
   ]
  },
  {
   "cell_type": "code",
   "execution_count": 2,
   "metadata": {
    "id": "MCTPuY7ctGTz"
   },
   "outputs": [],
   "source": [
    "import pandas as pd\n",
    "import numpy as np\n",
    "import seaborn as sns\n",
    "import matplotlib.pylab as plt\n",
    "\n",
    "import os\n",
    "import pickle\n",
    "from tqdm.auto import tqdm\n",
    "#from glob import glob\n",
    "import json\n",
    "from sklearn.model_selection import train_test_split\n",
    "\n",
    "import torch\n",
    "import torch.nn.functional as F\n",
    "#import torchvision\n",
    "#import torchvision.transforms as transforms\n",
    "from torch.utils.data import Dataset, DataLoader\n",
    "import gensim\n",
    "import random\n",
    "\n",
    "from sklearn.preprocessing import LabelEncoder\n",
    "from sklearn.preprocessing import OneHotEncoder\n",
    "from sklearn.preprocessing import RobustScaler\n",
    "from scipy.sparse import csr_matrix\n",
    "from scipy.sparse import coo_matrix, hstack\n",
    "from sklearn.feature_extraction.text import TfidfVectorizer"
   ]
  },
  {
   "cell_type": "markdown",
   "metadata": {
    "id": "y2LbhCFZDP_g"
   },
   "source": [
    "## DATA LOADER"
   ]
  },
  {
   "cell_type": "code",
   "execution_count": 4,
   "metadata": {},
   "outputs": [
    {
     "name": "stdout",
     "output_type": "stream",
     "text": [
      "Collecting gensim\n",
      "  Downloading gensim-4.0.1-cp37-cp37m-manylinux1_x86_64.whl (23.9 MB)\n",
      "\u001b[K     |████████████████████████████████| 23.9 MB 7.5 MB/s eta 0:00:01\n",
      "\u001b[?25hRequirement already satisfied: scipy>=0.18.1 in /opt/conda/lib/python3.7/site-packages (from gensim) (1.6.3)\n",
      "Requirement already satisfied: numpy>=1.11.3 in /opt/conda/lib/python3.7/site-packages (from gensim) (1.19.5)\n",
      "Collecting smart-open>=1.8.1\n",
      "  Downloading smart_open-5.0.0-py3-none-any.whl (56 kB)\n",
      "\u001b[K     |████████████████████████████████| 56 kB 7.5 MB/s  eta 0:00:01\n",
      "\u001b[?25hInstalling collected packages: smart-open, gensim\n",
      "Successfully installed gensim-4.0.1 smart-open-5.0.0\n",
      "Note: you may need to restart the kernel to use updated packages.\n"
     ]
    }
   ],
   "source": [
    "pip install gensim"
   ]
  },
  {
   "cell_type": "code",
   "execution_count": 6,
   "metadata": {},
   "outputs": [
    {
     "name": "stdout",
     "output_type": "stream",
     "text": [
      "Archive:  PROJECT_SA/dataset_cleansed_version.csv.zip\n",
      "  End-of-central-directory signature not found.  Either this file is not\n",
      "  a zipfile, or it constitutes one disk of a multi-part archive.  In the\n",
      "  latter case the central directory and zipfile comment will be found on\n",
      "  the last disk(s) of this archive.\n",
      "unzip:  cannot find zipfile directory in one of PROJECT_SA/dataset_cleansed_version.csv.zip or\n",
      "        PROJECT_SA/dataset_cleansed_version.csv.zip.zip, and cannot find PROJECT_SA/dataset_cleansed_version.csv.zip.ZIP, period.\n"
     ]
    }
   ],
   "source": [
    "!unzip PROJECT_SA/dataset_cleansed_version.csv.zip -d PROJECT_SA"
   ]
  },
  {
   "cell_type": "code",
   "execution_count": 6,
   "metadata": {
    "id": "_OiEWIrsxOTO"
   },
   "outputs": [
    {
     "name": "stderr",
     "output_type": "stream",
     "text": [
      "/Users/Niki/opt/anaconda3/lib/python3.8/site-packages/gensim/similarities/__init__.py:15: UserWarning: The gensim.similarities.levenshtein submodule is disabled, because the optional Levenshtein package <https://pypi.org/project/python-Levenshtein/> is unavailable. Install Levenhstein (e.g. `pip install python-Levenshtein`) to suppress this warning.\n",
      "  warnings.warn(msg)\n"
     ]
    }
   ],
   "source": [
    "device = 'cuda' if torch.cuda.is_available() else 'cpu'\n",
    "\n",
    "\n",
    "class Data_Load():\n",
    "  def  __init__(self, \n",
    "               data_path, \n",
    "               network_type=None):\n",
    "    self.data_path = data_path\n",
    "    self.network_type = network_type\n",
    "    self.X = []\n",
    "    self.y =  []\n",
    "\n",
    "    if (self.network_type != 'FFNN' and self.network_type != 'CNN' and self.network_type != 'ENC_CNN'):\n",
    "            raise ValueError(\n",
    "            \"Argument 'network_type' has an incorrect value: use 'FFNN', 'CNN', 'ENC_CNN'\")\n",
    "\n",
    "\n",
    "  def load(self):\n",
    "    \n",
    "    self.y =  pd.read_csv(\n",
    "      os.path.join('PROJECT_SA', self.data_path),\n",
    "      usecols = ['editorsSelection_TARGET','recommendations_TARGET','replyCount_TARGET']\n",
    "      ) \n",
    "    \n",
    "    self.y  = self.y .astype({\n",
    "        'editorsSelection_TARGET': 'int',\n",
    "        'recommendations_TARGET': 'int',\n",
    "        'replyCount_TARGET': 'int'})\n",
    " \n",
    "    \n",
    "    # retrieve part of the dataset needed\n",
    "    if self.network_type == 'FFNN':\n",
    "      self.X  = pd.read_csv(\n",
    "        os.path.join('PROJECT_SA',self.data_path),\n",
    "        usecols = ['approveDate','commentType','createDate','depth','picURL','sharing','timespeople',\n",
    "                  'trusted','updateDate','userTitle','sectionName_x','newDesk_x','articleWordCount_x','printPage_x',\n",
    "                  'typeOfMaterial_x','documentType','pubDate','source']\n",
    "        ) \n",
    "    \n",
    "      self.X  = self.X .astype({\n",
    "        'approveDate': 'float64',\n",
    "        'createDate': 'float64',\n",
    "        'depth': 'object',\n",
    "        'picURL': 'object',\n",
    "        'sharing': 'object',\n",
    "        'timespeople': 'object',\n",
    "        'trusted':'object',\n",
    "        'updateDate': 'float64',\n",
    "        'articleWordCount_x' : 'float64',\n",
    "        'printPage_x' : 'object'\n",
    "                    })\n",
    "      \n",
    "    elif self.network_type == 'CNN':\n",
    "      self.X = pd.read_csv(\n",
    "        os.path.join('PROJECT_SA',self.data_path),\n",
    "        usecols = ['keywords']\n",
    "        ) \n",
    "    \n",
    "    elif self.network_type == 'ENC_CNN':\n",
    "      self.X = pd.read_csv(\n",
    "        os.path.join('PROJECT_SA',self.data_path),\n",
    "        usecols = ['commentBody']\n",
    "        ) \n",
    "    \n",
    "\n",
    "    random.seed(123)\n",
    "    self.X = self.X.sample(frac=1)\n",
    "    self.y = self.y.iloc[self.X.index]\n",
    "    self.X = self.X.reset_index(drop=True)\n",
    "    self.y = self.y.reset_index(drop=True)\n",
    "\n",
    "    return self.X, self.y\n",
    "\n",
    "\n",
    "\n",
    "\n",
    "class Data_Preprocess():\n",
    "  def __init__(self, \n",
    "               X,\n",
    "               y, \n",
    "               network_type=None,\n",
    "               usage=None, \n",
    "               test_size=0.25, \n",
    "               validation_size=0.15):\n",
    "  \n",
    "    self.X = X\n",
    "    self.y = y\n",
    "    self.network_type = network_type\n",
    "    self.usage = usage\n",
    "    self.test_size = test_size\n",
    "    self.validation_size = validation_size\n",
    "\n",
    "    self.vectorizer = TfidfVectorizer()\n",
    "    self.robust_scaler = RobustScaler()\n",
    "    self.onehot_encoder = OneHotEncoder(sparse=False)\n",
    "    self.label_encoder = LabelEncoder()\n",
    "\n",
    "    self.X_processed = torch.empty((0))\n",
    "      \n",
    "    self.X_train = []\n",
    "    self.y_train = []\n",
    "    self.X_val = []\n",
    "    self.y_val = []\n",
    "    self.X_test = []\n",
    "    self.y_test = []\n",
    "\n",
    "    if (self.network_type != 'FFNN' and self.network_type != 'CNN' and self.network_type != 'ENC_CNN'):\n",
    "            raise ValueError(\n",
    "            \"Argument 'network_type' has an incorrect value: use 'FFNN', 'CNN', 'ENC_CNN'\")\n",
    "\n",
    "    if (self.usage != 'hyper_tuning' and self.usage != 'model_testing'):\n",
    "            raise ValueError(\n",
    "            \"Argument 'usage' has an incorrect value: use 'hyper_tuning', 'model_testing'\")\n",
    "\n",
    "\n",
    "\n",
    "  def data_process_features(self):\n",
    "\n",
    "    assert not ( (self.X.isna().sum(axis=0)).any() )\n",
    "    assert not ( (self.y.isna().sum(axis=0)).any() )\n",
    "\n",
    "    if self.X_processed.shape[0] == 0:\n",
    "\n",
    "        # process data\n",
    "      for col in sorted(self.X.columns):\n",
    "\n",
    "        if self.X[col].dtype == object:\n",
    "\n",
    "            # one hot encoding \n",
    "            # (resulting matrix is stored in an efficient way since it is sparse)\n",
    "          X = ( csr_matrix( \n",
    "                      self.onehot_encoder\n",
    "                      .fit_transform( \n",
    "                          self.label_encoder\n",
    "                          .fit_transform(self.X[col])\n",
    "                          .reshape(X.shape[0], 1) )))\n",
    "              \n",
    "          if self.X_processed.shape[0] == 0:\n",
    "            self.X_processed = X\n",
    "          else:\n",
    "            assert (self.X_processed.shape[0] == X.shape[0])\n",
    "            self.X_processed = hstack((self.X_processed, X))\n",
    "\n",
    "        elif self.X[col].dtype == np.float64:\n",
    "\n",
    "              # robust scaling of data, which might not be normally distributed\n",
    "              # (resulting matrix is stored in an efficient way since it is sparse)\n",
    "          X = csr_matrix( self.robust_scaler\n",
    "                              .fit_transform(\n",
    "                                  self.X[col].values.reshape(-1,1)\n",
    "                              ) )\n",
    "              \n",
    "          if self.X_processed.shape[0] == 0:\n",
    "            self.X_processed = X\n",
    "          else:\n",
    "            assert(self.X_processed.shape[0] == X.shape[0])\n",
    "            self.X_processed = hstack((self.X_processed, X))\n",
    "\n",
    "    self.X = []\n",
    "\n",
    "      # change compressed matrix format for allowing slicing\n",
    "    self.X_processed = self.X_processed.tocsr()\n",
    "    \n",
    "\n",
    "  def data_process_tfidf_doc_embedding(self):\n",
    "    self.X_processed = self.vectorizer.fit_transform(self.X['keywords'].values.astype('U'))\n",
    "\n",
    "    self.X = []\n",
    "\n",
    "\n",
    "  def tag_docs(self):\n",
    "    for i, line in enumerate(self.X):\n",
    "      tokens = gensim.utils.simple_preprocess(line)\n",
    "      yield gensim.models.doc2vec.TaggedDocument(tokens, [i])\n",
    "\n",
    "  def data_process_doc2vec_embedding(self):\n",
    "    # retrieve the word context with skipgram\n",
    "    X = list(self.tag_docs())\n",
    "\n",
    "    model = gensim.models.doc2vec.Doc2Vec(vector_size=50, min_count=1, epochs=50, dbow_words=0, window=5) #max_vocab_size\n",
    "    model.build_vocab(X)\n",
    "    model.train(X, total_examples=model.corpus_count, epochs=model.epochs)\n",
    "\n",
    "    self.X_processed = csr_matrix( [ np.array( model.infer_vector( str(x).split()), dtype=float) for x in tqdm( self.X['commentBody'],\n",
    "                                                                                     desc='Vectorising Documents' ) ] ).tocsr() Documents' ) ] )\n",
    "\n",
    "    self.X = []\n",
    "\n",
    "\n",
    "  def split_data(self):\n",
    "\n",
    "    assert (self.X_processed.shape[0] == self.y.shape[0])\n",
    "    self.X_train, self.X_test, self.y_train, self.y_test = train_test_split(self.X_processed, self.y,\n",
    "                                                      test_size=self.test_size, \n",
    "                                                      shuffle=False) \n",
    "    del self.X_processed\n",
    "    del self.y\n",
    "\n",
    "\n",
    "    if self.usage == 'hyper_tuning':\n",
    "      assert (self.X_train.shape[0] == self.y_train.shape[0])\n",
    "\n",
    "      del self.X_test\n",
    "      del self.y_test\n",
    "\n",
    "      self.X_train, self.X_val, self.y_train, self.y_val = train_test_split(self.X_train, self.y_train,\n",
    "                                                      test_size=self.validation_size, \n",
    "                                                      shuffle=False) \n",
    "      \n",
    "  def process(self):\n",
    "\n",
    "    if self.network_type == 'FFNN':\n",
    "      self.data_process_features()\n",
    "\n",
    "    elif self.network_type == 'CNN':\n",
    "      self.data_process_tfidf_doc_embedding()\n",
    "\n",
    "    elif self.network_type == 'ENC_CNN':\n",
    "      self.data_process_doc2vec_embedding()\n",
    "\n",
    "    self.split_data()\n",
    "    \n",
    "    if self.usage == 'model_testing':\n",
    "      return self.X_train, self.y_train, self.X_test, self.y_test\n",
    "    if self.usage == 'hyper_tuning':\n",
    "      return self.X_train, self.y_train, self.X_val, self.y_val\n",
    "\n",
    "\n",
    "class Dataset_Wrap(Dataset):\n",
    "  def __init__(self, X, y, network_type):\n",
    "    self.X = X\n",
    "    self.y = y\n",
    "    self.network_type = network_type\n",
    "\n",
    "  def __len__(self):\n",
    "    return (self.X.shape[0])  \n",
    "\n",
    "  def __getitem__(self, i):\n",
    "    assert not ( self.X.shape[0] == 0 )\n",
    "      # return corresponding data in the sparse format\n",
    "    data = ( torch.tensor(self.X[i].todense()) ).reshape(-1)\n",
    "    \n",
    "    if self.network_type != 'FFNN':\n",
    "      data = torch.reshape(data, (1, len(data)))\n",
    "\n",
    "      \n",
    "    labels = torch.tensor(self.y.values[i].astype(int))\n",
    "    y_1, y_2, y_3 = labels\n",
    "          \n",
    "    return (data.to(device), y_1.to(device), y_2.to(device), y_3.to(device))\n"
   ]
  },
  {
   "cell_type": "markdown",
   "metadata": {
    "id": "UZq-6yARJuvi"
   },
   "source": [
    "Remove userLocation and inline due to RAM problems in processing them since they have too many features"
   ]
  },
  {
   "cell_type": "code",
   "execution_count": 7,
   "metadata": {
    "id": "EhJCzEhor8AU"
   },
   "outputs": [],
   "source": [
    "def build_DataLoader(\n",
    "    data_path, \n",
    "    network_type, \n",
    "    usage, \n",
    "    test_size=0.25, \n",
    "    validation_size=0.15,\n",
    "    batch_size = 100):\n",
    "\n",
    "  X, y = Data_Load(\n",
    "        data_path=data_path,\n",
    "        network_type=network_type).load()\n",
    "  \n",
    "  X_train, y_train, X_test, y_test = Data_Preprocess(\n",
    "      X=X,\n",
    "      y=y, \n",
    "      network_type=network_type,\n",
    "      usage=usage, \n",
    "      test_size=test_size, \n",
    "      validation_size=validation_size).process()\n",
    "  \n",
    "  train_wrap = Dataset_Wrap(X_train, y_train, network_type=network_type)\n",
    "  test_wrap = Dataset_Wrap(X_test, y_test, network_type=network_type)\n",
    "  loader_train = DataLoader(dataset = train_wrap, batch_size = batch_size, shuffle=True)             \n",
    "  loader_test = DataLoader(dataset = test_wrap, batch_size = batch_size*2, shuffle=False)     \n",
    "\n",
    "  return  loader_train, loader_test\n",
    "  #return  X_test, y_test"
   ]
  },
  {
   "cell_type": "markdown",
   "metadata": {
    "id": "K7ASnEsZiHAq"
   },
   "source": [
    "## FUNCTIONS SETUP"
   ]
  },
  {
   "cell_type": "code",
   "execution_count": 8,
   "metadata": {},
   "outputs": [
    {
     "name": "stdout",
     "output_type": "stream",
     "text": [
      "Requirement already satisfied: optuna in /Users/Niki/opt/anaconda3/lib/python3.8/site-packages (2.7.0)\n",
      "Requirement already satisfied: cliff in /Users/Niki/opt/anaconda3/lib/python3.8/site-packages (from optuna) (3.7.0)\n",
      "Requirement already satisfied: packaging>=20.0 in /Users/Niki/opt/anaconda3/lib/python3.8/site-packages (from optuna) (20.4)\n",
      "Requirement already satisfied: colorlog in /Users/Niki/opt/anaconda3/lib/python3.8/site-packages (from optuna) (5.0.1)\n",
      "Requirement already satisfied: scipy!=1.4.0 in /Users/Niki/opt/anaconda3/lib/python3.8/site-packages (from optuna) (1.5.2)\n",
      "Requirement already satisfied: sqlalchemy>=1.1.0 in /Users/Niki/opt/anaconda3/lib/python3.8/site-packages (from optuna) (1.3.20)\n",
      "Requirement already satisfied: cmaes>=0.8.2 in /Users/Niki/opt/anaconda3/lib/python3.8/site-packages (from optuna) (0.8.2)\n",
      "Requirement already satisfied: tqdm in /Users/Niki/opt/anaconda3/lib/python3.8/site-packages (from optuna) (4.50.2)\n",
      "Requirement already satisfied: alembic in /Users/Niki/opt/anaconda3/lib/python3.8/site-packages (from optuna) (1.6.2)\n",
      "Requirement already satisfied: numpy in /Users/Niki/opt/anaconda3/lib/python3.8/site-packages (from optuna) (1.19.2)\n",
      "Requirement already satisfied: PyYAML>=3.12 in /Users/Niki/opt/anaconda3/lib/python3.8/site-packages (from cliff->optuna) (5.3.1)\n",
      "Requirement already satisfied: PrettyTable>=0.7.2 in /Users/Niki/opt/anaconda3/lib/python3.8/site-packages (from cliff->optuna) (2.1.0)\n",
      "Requirement already satisfied: pbr!=2.1.0,>=2.0.0 in /Users/Niki/opt/anaconda3/lib/python3.8/site-packages (from cliff->optuna) (5.6.0)\n",
      "Requirement already satisfied: cmd2>=1.0.0 in /Users/Niki/opt/anaconda3/lib/python3.8/site-packages (from cliff->optuna) (1.5.0)\n",
      "Requirement already satisfied: stevedore>=2.0.1 in /Users/Niki/opt/anaconda3/lib/python3.8/site-packages (from cliff->optuna) (3.3.0)\n",
      "Requirement already satisfied: pyparsing>=2.1.0 in /Users/Niki/opt/anaconda3/lib/python3.8/site-packages (from cliff->optuna) (2.4.7)\n",
      "Requirement already satisfied: six in /Users/Niki/opt/anaconda3/lib/python3.8/site-packages (from packaging>=20.0->optuna) (1.15.0)\n",
      "Requirement already satisfied: Mako in /Users/Niki/opt/anaconda3/lib/python3.8/site-packages (from alembic->optuna) (1.1.4)\n",
      "Requirement already satisfied: python-dateutil in /Users/Niki/opt/anaconda3/lib/python3.8/site-packages (from alembic->optuna) (2.8.1)\n",
      "Requirement already satisfied: python-editor>=0.3 in /Users/Niki/opt/anaconda3/lib/python3.8/site-packages (from alembic->optuna) (1.0.4)\n",
      "Requirement already satisfied: wcwidth in /Users/Niki/opt/anaconda3/lib/python3.8/site-packages (from PrettyTable>=0.7.2->cliff->optuna) (0.2.5)\n",
      "Requirement already satisfied: attrs>=16.3.0 in /Users/Niki/opt/anaconda3/lib/python3.8/site-packages (from cmd2>=1.0.0->cliff->optuna) (20.3.0)\n",
      "Requirement already satisfied: colorama>=0.3.7 in /Users/Niki/opt/anaconda3/lib/python3.8/site-packages (from cmd2>=1.0.0->cliff->optuna) (0.4.4)\n",
      "Requirement already satisfied: pyperclip>=1.6 in /Users/Niki/opt/anaconda3/lib/python3.8/site-packages (from cmd2>=1.0.0->cliff->optuna) (1.8.2)\n",
      "Requirement already satisfied: MarkupSafe>=0.9.2 in /Users/Niki/opt/anaconda3/lib/python3.8/site-packages (from Mako->alembic->optuna) (1.1.1)\n",
      "Note: you may need to restart the kernel to use updated packages.\n"
     ]
    }
   ],
   "source": [
    "pip install optuna"
   ]
  },
  {
   "cell_type": "code",
   "execution_count": 9,
   "metadata": {
    "id": "1B4_N2qlgmoy"
   },
   "outputs": [],
   "source": [
    "from sklearn.metrics import f1_score\n",
    "\n",
    "def F1(output, target):\n",
    "  pred = torch.argmax(output, dim=1)\n",
    "  return f1_score(pred.cpu().detach().numpy(), target.cpu().detach().numpy(), average='weighted')"
   ]
  },
  {
   "cell_type": "code",
   "execution_count": 62,
   "metadata": {
    "id": "v49PJG0HhW3S"
   },
   "outputs": [],
   "source": [
    "import optuna\n",
    "import torch.nn as nn\n",
    "#import thop\n",
    "import torch.optim as optim\n",
    "import pickle\n",
    "import re\n",
    "\n",
    "import sqlite3\n",
    "from sqlalchemy import create_engine\n",
    "engine = create_engine('sqlite:///SA_optuna_tuning.db')\n",
    "\n",
    "\n",
    "class Param_Search():\n",
    "\n",
    "  def __init__(self, \n",
    "               model, \n",
    "               train_loader, \n",
    "               test_loader,\n",
    "               criterion,\n",
    "               num_epochs,\n",
    "               study_name,\n",
    "               n_trials=4,\n",
    "               ):\n",
    "    self.model = model\n",
    "    self.train_loader = train_loader\n",
    "    self.test_loader = test_loader\n",
    "    self.criterion = criterion\n",
    "    self.num_epochs = num_epochs\n",
    "    self.study_name = study_name\n",
    "    self.n_trials = n_trials\n",
    "    self.best_model = None\n",
    "\n",
    "  def objective(self, trial):\n",
    "\n",
    "    # Generate the model.\n",
    "    model = self.model\n",
    "\n",
    "    # Generate the optimizers.\n",
    "    optimizer_name = trial.suggest_categorical(\"optimizer\", [\"Adam\", \"RMSprop\"])\n",
    "    lr = trial.suggest_loguniform(\"lr\", 1e-5, 1e-1)\n",
    "    optimizer = getattr(optim, optimizer_name)(model.parameters(), lr=lr)\n",
    "\n",
    "    model = model.double()\n",
    "\n",
    "    \n",
    "    for epoch in tqdm(range(1, self.num_epochs + 1), desc='Epochs'):\n",
    "      train_loss = 0.0\n",
    "      test_loss = 0.0\n",
    "      f1_test = 0.0\n",
    "    \n",
    "      model.train()\n",
    "      for data, target1, target2, target3 in tqdm(self.train_loader, desc='Passing dataset'):\n",
    "        \n",
    "        # clear-the-gradients-of-all-optimized-variables\n",
    "        optimizer.zero_grad()\n",
    "        # forward-pass: compute-predicted-outputs-by-passing-inputs-to-the-model\n",
    "        output1, output2, output3 = model(data.double())\n",
    "        # calculate-the-batch-loss\n",
    "        loss = self.criterion(output1, target1) + self.criterion(output2, target2) + self.criterion(output3, target3)\n",
    "        # backward-pass: compute-gradient-of-the-loss-wrt-model-parameters\n",
    "        loss.backward()\n",
    "        # perform-a-ingle-optimization-step (parameter-update)\n",
    "        optimizer.step()\n",
    "        # update-training-loss\n",
    "        train_loss += loss.item()\n",
    "        \n",
    "    # validate-the-model\n",
    "      model.eval()\n",
    "      for data, target1, target2, target3 in self.test_loader:  \n",
    "        output1, output2, output3 = model(data.double())\n",
    "        loss = self.criterion(output1, target1) + self.criterion(output2, target2) + self.criterion(output3, target3)\n",
    "        # update-average-validation-loss \n",
    "        test_loss += loss.item()\n",
    "        f1_test += (( F1(output1,target1) + F1(output2,target2) + F1(output3,target3) )/3)*len(target1)\n",
    "\n",
    "      f1_test /= len(self.test_loader)\n",
    "    # moltiplica x label e dividi per test o train loader\n",
    "    \n",
    "      trial.report(f1_test, epoch)\n",
    "\n",
    "    # save all models\n",
    "    with open(\"{}.pickle\".format(trial.number), \"wb\") as fout:\n",
    "      pickle.dump(model, fout)\n",
    "        \n",
    "    return f1_test\n",
    "\n",
    "\n",
    "\n",
    "  def run_trial(self):\n",
    "    # use sqlite backend to save the study\n",
    "    study = optuna.create_study(study_name=self.study_name, direction=\"maximize\", \n",
    "                                storage='sqlite:///SA_optuna_tuning.db', load_if_exists=True)\n",
    "\n",
    "    study.optimize(self.objective, n_trials=self.n_trials)\n",
    "    pruned_trials = [t for t in study.trials if t.state == optuna.structs.TrialState.PRUNED]\n",
    "    complete_trials = [t for t in study.trials if t.state == optuna.structs.TrialState.COMPLETE]\n",
    "\n",
    "    print(\"Study statistics: \")\n",
    "    print(\"  Number of finished trials: \", len(study.trials))\n",
    "    print(\"  Number of pruned trials: \", len(pruned_trials))\n",
    "    print(\"  Number of complete trials: \", len(complete_trials))\n",
    "\n",
    "    print(\"Best trial:\")\n",
    "    trial = study.best_trial\n",
    "\n",
    "    print(\"  Value: \", trial.value)\n",
    "\n",
    "    print(\"  Params: \")\n",
    "    for key, value in trial.params.items():\n",
    "      print(\"    {}: {}\".format(key, value))\n",
    "    \n",
    "    with open('PROJECT_SA/params_best_model_FFNN_hp', 'wb') as f:\n",
    "      pickle.dump(trial.params, f)\n",
    "# moltiplica per il batch size!\n",
    "    with open(\"{}.pickle\".format(study.best_trial.number), \"rb\") as fin:\n",
    "      best_model = pickle.load(fin)\n",
    "    \n",
    "    # store only best model\n",
    "    self.best_model = best_model\n",
    "\n",
    "  def save_best_model(self, path):\n",
    "    # remove last layers of the model\n",
    "    model_param = self.best_model.state_dict()\n",
    "    \n",
    "    for key,value in model_param.copy().items():\n",
    "      if re.findall('single', key):\n",
    "        del model_param[str(key)]\n",
    "\n",
    "    # save model with best hyperparameters on google drive\n",
    "    basepath = 'PROJECT_SA'\n",
    "    path = os.path.join(basepath, path)\n",
    "\n",
    "    torch.save(model_param, path)\n",
    "\n",
    "    return model_param"
   ]
  },
  {
   "cell_type": "code",
   "execution_count": 63,
   "metadata": {
    "id": "LP3_oK7WeUfx"
   },
   "outputs": [],
   "source": [
    "from tqdm.auto import tqdm\n",
    "\n",
    "def fit(model, train_loader, test_loader, criterion, optimizer, num_epochs, filename_path, verbose=True): \n",
    "\n",
    "  basepath = 'PROJECT_SA'\n",
    "\n",
    "  # keeping track of losses \n",
    "  train_losses = []\n",
    "  test_losses = []\n",
    "  f1_train_scores = []\n",
    "  f1_test_scores = []\n",
    "\n",
    "  model = model.double()\n",
    "\n",
    "  for epoch in tqdm(range(1, num_epochs + 1), desc='Epochs'):\n",
    "    # keep track of training and validation loss\n",
    "    train_loss = 0.0\n",
    "    test_loss = 0.0\n",
    "    \n",
    "    f1_train = 0.0\n",
    "    f1_test = 0.0\n",
    "    \n",
    "    PATH = os.path.join(basepath, filename_path)\n",
    "    \n",
    "    if os.path.exists(PATH):\n",
    "      checkpoint = torch.load(PATH)\n",
    "      model.load_state_dict(checkpoint)\n",
    "        \n",
    "    else:\n",
    "      model.train()\n",
    "      for data, target1, target2, target3 in tqdm(train_loader, desc='Training model'):\n",
    "        \n",
    "        # clear-the-gradients-of-all-optimized-variables\n",
    "        optimizer.zero_grad()\n",
    "        # forward-pass: compute-predicted-outputs-by-passing-inputs-to-the-model\n",
    "        output1, output2, output3 = model(data.double())\n",
    "        # calculate-the-batch-loss\n",
    "        loss = criterion(output1, target1) + criterion(output2, target2) + criterion(output3, target3)\n",
    "        # backward-pass: compute-gradient-of-the-loss-wrt-model-parameters\n",
    "        loss.backward()\n",
    "        # perform-a-ingle-optimization-step (parameter-update)\n",
    "        optimizer.step()\n",
    "        # update-training-loss\n",
    "        train_loss += loss.item()\n",
    "\n",
    "        f1_train += (( F1(output1,target1) + F1(output2,target2) + F1(output3,target3) )/3)*len(target1)\n",
    "\n",
    "        \n",
    "    # validate-the-model\n",
    "    model.eval()\n",
    "    for data, target1, target2, target3 in tqdm(test_loader, desc='Testing model'):\n",
    "      \n",
    "      output1, output2, output3 = model(data.double())\n",
    "        \n",
    "      loss = criterion(output1, target1) + criterion(output2, target2) + criterion(output3, target3)\n",
    "        \n",
    "        # update-average-validation-loss \n",
    "      test_loss += loss.item()\n",
    "          \n",
    "      f1_test += (( F1(output1,target1) + F1(output2,target2) + F1(output3,target3) ) /3)*len(target1)\n",
    "    \n",
    "    # append losses\n",
    "    train_losses.append(train_loss)\n",
    "    test_losses.append(test_loss)\n",
    "\n",
    "    f1_train /= len(train_loader)\n",
    "    f1_test /= len(test_loader)\n",
    "    \n",
    "    f1_train_scores.append(f1_train)    \n",
    "    f1_test_scores.append(f1_test)\n",
    "        \n",
    "    # save the model at each epoch\n",
    "    model_param = model.state_dict()\n",
    "    path = os.path.join(basepath, filename_path)\n",
    "    torch.save(model_param, path)\n",
    "      \n",
    "    # print-training/validation-statistics \n",
    "    if verbose == True:\n",
    "      print('Epoch: {} \\tTraining Loss: {:.6f} \\tTest Loss: {:.6f} \\tTraining F1 score: {:.6f} \\tTest F1 score: {:.6f}'.format(\n",
    "      epoch, train_loss, test_loss, f1_train, f1_test))\n",
    "      \n",
    "      \n",
    "\n",
    "\n",
    "  # return the scores at each epoch\n",
    "  return f1_test_scores, f1_train_scores"
   ]
  },
  {
   "cell_type": "code",
   "execution_count": 12,
   "metadata": {
    "id": "orPJteUSSs0z"
   },
   "outputs": [],
   "source": [
    "# load pre-trained model from google drive and update the current model\n",
    "\n",
    "def load_model(model, path):\n",
    "  basepath = 'PROJECT_SA'\n",
    "  path = os.path.join(basepath, path)\n",
    "  checkpoint = torch.load(path)\n",
    "  model.load_state_dict(checkpoint)\n",
    "  model.eval() # to set dropout and batch normalization layers to evaluation "
   ]
  },
  {
   "cell_type": "code",
   "execution_count": 155,
   "metadata": {},
   "outputs": [
    {
     "name": "stdout",
     "output_type": "stream",
     "text": [
      "module.layer1.0.weight\n",
      "module.layer1.0.bias\n",
      "module.layer1.2.weight\n",
      "module.layer1.2.bias\n",
      "module.single_layer2_1.0.weight\n",
      "module.single_layer2_1.0.bias\n",
      "module.single_layer2_2.0.weight\n",
      "module.single_layer2_2.0.bias\n",
      "module.single_layer2_3.0.weight\n",
      "module.single_layer2_3.0.bias\n",
      "module.single_last_layer1.weight\n",
      "module.single_last_layer1.bias\n",
      "module.single_last_layer2.weight\n",
      "module.single_last_layer2.bias\n",
      "module.single_last_layer3.weight\n",
      "module.single_last_layer3.bias\n"
     ]
    }
   ],
   "source": [
    "for key,value in model.state_dict().copy().items():\n",
    "    print(key)"
   ]
  },
  {
   "cell_type": "code",
   "execution_count": 13,
   "metadata": {
    "id": "zyVjaxPSjRsu"
   },
   "outputs": [],
   "source": [
    "# to save the best tested model \n",
    "\n",
    "def save_best_model(model, path):\n",
    "    model_param = model.state_dict()\n",
    "    for key,value in model_param.copy().items():\n",
    "      if re.findall('single', key):\n",
    "        del model_param[str(key)]\n",
    "\n",
    "    basepath = 'PROJECT_SA'\n",
    "    path = os.path.join(basepath, path)\n",
    "\n",
    "    torch.save(model_param, path)"
   ]
  },
  {
   "cell_type": "markdown",
   "metadata": {
    "id": "yYfGuz_siWLZ"
   },
   "source": [
    "## 1. FEED FORWARD NN"
   ]
  },
  {
   "cell_type": "code",
   "execution_count": 15,
   "metadata": {
    "id": "nJuZRKBzO_ot"
   },
   "outputs": [],
   "source": [
    "import torch.nn as nn\n",
    "\n",
    "class FFNN_multitask(nn.Module):\n",
    "  def __init__(self):\n",
    "    super(FFNN_multitask, self).__init__()\n",
    " # batch_size * input variables # [500, 261]\n",
    "    \n",
    "    self.layer1 = nn.Sequential(\n",
    "        nn.Linear(261, 4000), # 500x261 and 130500x4000\n",
    "        nn.ReLU(),\n",
    "        nn.Linear(4000, 2000),\n",
    "        nn.ReLU()) \n",
    "\n",
    "    self.single_layer2_1 = nn.Sequential(\n",
    "    nn.Linear(2000, 1000),\n",
    "    nn.ReLU())\n",
    "\n",
    "    self.single_layer2_2 = nn.Sequential(\n",
    "    nn.Linear(2000, 1000),\n",
    "    nn.ReLU())\n",
    "\n",
    "    self.single_layer2_3 = nn.Sequential(\n",
    "    nn.Linear(2000, 1000),\n",
    "    nn.ReLU())\n",
    "\n",
    "    self.single_last_layer1 = nn.Linear(1000, 2) \n",
    "    self.single_last_layer2 = nn.Linear(1000, 2)\n",
    "    self.single_last_layer3 = nn.Linear(1000, 2)  \n",
    "\n",
    "    self.drop_out1 = nn.Dropout(p=0.3)\n",
    "    self.drop_out2 = nn.Dropout(p=0.4) \n",
    "\n",
    "  def forward(self, x):\n",
    "      \n",
    "      # first block in common\n",
    "    out = self.layer1(x)\n",
    "    out = self.drop_out1(out)\n",
    "\n",
    "      # single blocks for each label\n",
    "    out1 = self.single_layer2_1(out)\n",
    "    out1 = self.drop_out2(out1)\n",
    "    out1 = self.single_last_layer1(out1)\n",
    "\n",
    "    out2 = self.single_layer2_2(out) \n",
    "    out2 = self.drop_out2(out2)\n",
    "    out2 = self.single_last_layer2(out2)\n",
    "\n",
    "    out3 = self.single_layer2_3(out) \n",
    "    out3 = self.drop_out2(out3)\n",
    "    out3 = self.single_last_layer3(out3)\n",
    " \n",
    "    return out1, out2, out3"
   ]
  },
  {
   "cell_type": "markdown",
   "metadata": {
    "id": "xtVpQVOqi9Is"
   },
   "source": [
    "### Hyperparameters Tuning"
   ]
  },
  {
   "cell_type": "code",
   "execution_count": 16,
   "metadata": {
    "id": "zwlgBGNyignQ"
   },
   "outputs": [],
   "source": [
    "train_loader, test_loader = build_DataLoader(\n",
    "        data_path='dataset_cleansed_version.csv',\n",
    "        network_type='FFNN', \n",
    "        usage='hyper_tuning'\n",
    "    )"
   ]
  },
  {
   "cell_type": "code",
   "execution_count": 17,
   "metadata": {
    "colab": {
     "base_uri": "https://localhost:8080/"
    },
    "id": "5EmM5kVuk8A3",
    "outputId": "546c18ef-c2e7-4775-c494-e0e0361c0fa6",
    "scrolled": true
   },
   "outputs": [
    {
     "name": "stdout",
     "output_type": "stream",
     "text": [
      "Let's use 1 GPUs!\n"
     ]
    },
    {
     "data": {
      "text/plain": [
       "DataParallel(\n",
       "  (module): FFNN_multitask(\n",
       "    (layer1): Sequential(\n",
       "      (0): Linear(in_features=261, out_features=4000, bias=True)\n",
       "      (1): ReLU()\n",
       "      (2): Linear(in_features=4000, out_features=2000, bias=True)\n",
       "      (3): ReLU()\n",
       "    )\n",
       "    (single_layer2_1): Sequential(\n",
       "      (0): Linear(in_features=2000, out_features=1000, bias=True)\n",
       "      (1): ReLU()\n",
       "    )\n",
       "    (single_layer2_2): Sequential(\n",
       "      (0): Linear(in_features=2000, out_features=1000, bias=True)\n",
       "      (1): ReLU()\n",
       "    )\n",
       "    (single_layer2_3): Sequential(\n",
       "      (0): Linear(in_features=2000, out_features=1000, bias=True)\n",
       "      (1): ReLU()\n",
       "    )\n",
       "    (single_last_layer1): Linear(in_features=1000, out_features=2, bias=True)\n",
       "    (single_last_layer2): Linear(in_features=1000, out_features=2, bias=True)\n",
       "    (single_last_layer3): Linear(in_features=1000, out_features=2, bias=True)\n",
       "    (drop_out1): Dropout(p=0.3, inplace=False)\n",
       "    (drop_out2): Dropout(p=0.4, inplace=False)\n",
       "  )\n",
       ")"
      ]
     },
     "execution_count": 17,
     "metadata": {},
     "output_type": "execute_result"
    }
   ],
   "source": [
    "model=FFNN_multitask()\n",
    "\n",
    "if torch.cuda.device_count() >= 1:\n",
    "  print(\"Let's use\", torch.cuda.device_count(), \"GPUs!\")\n",
    "  model = nn.DataParallel(model)\n",
    "\n",
    "model.to(device)"
   ]
  },
  {
   "cell_type": "code",
   "execution_count": 18,
   "metadata": {
    "id": "yFMFNQ7Zi3CR"
   },
   "outputs": [],
   "source": [
    "num_epochs = 30\n",
    "criterion = nn.CrossEntropyLoss()"
   ]
  },
  {
   "cell_type": "code",
   "execution_count": 19,
   "metadata": {
    "colab": {
     "base_uri": "https://localhost:8080/",
     "height": 559,
     "referenced_widgets": [
      "8d314f331c5546f4a1282864b22ba329",
      "7ca8b621e5b445ae8a0963024ddc0a32",
      "5edebaf68aa8499394dbd81bbc370dad",
      "7b3c6455e0da4ce5aa5c6539c4d23c0b",
      "f7473e317c0646cba95e9a1a3d98c7c6",
      "50e0266e5a35458485313eca32ce7b9d",
      "7aaffd14b5d246f69c21d4cfb723cca7",
      "f52c7c6415d54f9eb673fd408f98a10e",
      "ecc5c4f810a44771936da0cbef99581e",
      "a422e14f827a450b96e8af2255e9e4bf",
      "64667ad48efe4a5791babecf1b2f0d37",
      "0fcd25f365364a7b846145f04a9fced6",
      "4349994353f24b9385d858518c0966dc",
      "1672c4b6898c4b3e9f7740169477fcee",
      "8db8858db7214e468a8e9afcdbf6e9a2",
      "7bf4114faae945d6abf14bea4301a541",
      "73f860b608014ca9aa9727d1fb27025b",
      "99bc2386d6d94a878944c1f32b193360",
      "30b1b66c3a8249d8a825cf7166fb869b",
      "0646ea6ea9c14236a68a9328deaba1a4",
      "c04c1cb4e68746c797f2d3c3e25b8737",
      "bf3a50a0e86b463fbbafd7aec5f4165e",
      "fd587c922a224681a9964eead04cb878",
      "4dc26b91240944d08187f6c909f7174a",
      "aff7b8b336ba4f41b5a0c196bae6224b",
      "1022fa848b4c45a4b155a4d4c58f86a1",
      "fb70dbfa418743eebc47bdc4233cee43",
      "e1f3c648bc4143d88cf781cfe6a7dd11",
      "848468371cc14781bc93bfbb5315e457",
      "0205cfa4a7d2444bbed2bae671c1936a",
      "2ac21822f0614c21b8ea151600fc2b5e",
      "c5b26750d1e9483a827943a97f313a24",
      "82867a3d6e024b6fba88bf124dbd10b9",
      "c9b98fe0b56d4b3c83d4bdf41636cebb",
      "259ee96f5679439b96ba77298f6f3533",
      "3282ece5908744c49749eed81304037a",
      "4a3aeb74174140e1adee2202777a3b43",
      "c5ff7b1ffcb24cfeb0d2eee7ec61176b",
      "dad677ed8c1a420fb07054c0e9ea8016",
      "3348c7b3fc624e9991ba7e8f47256a14",
      "8e1e1de8303d4acbb33e6fc8b0c121a6",
      "4c05e7c3717f4908866e04a98854d99b",
      "fc80a094d0c54520bc09a0ede028d5e4",
      "7bb303db5dc340559427d49e9329b74f",
      "3d5602ae97ca4cd3b089df4ff1fb1b44",
      "a32bf766bd9347028d31182e968691d6",
      "3deacf40722745229f45d5a066d670e7",
      "fb70942106a14758978d1a286ce4431b",
      "f126796ac82448c186d59e2058c74c38",
      "5eb2418c5c0a4a1c80360da943666d00",
      "db03b1638462468d986ec3411d243548",
      "3dd50a68dd85483c9491672fddf01469",
      "387274a4fb294a7fa44efe51e5312e58",
      "b5ad0e5f782143ffa8e9eb209365aa82",
      "0cdf2591f2304b0ab4430941fe469734",
      "0089e545bdae45e1be92e9291e1822ea",
      "20c67b023c314f459d83e74d1552987c",
      "c8e96d98a36f4a0e87bfab4fcdc734d3",
      "d0a93a667d32494884e0dc4509c23d6c",
      "6d5062101f604c37b742c05db0ae5ed7",
      "ced9ae55f15240d69704ccd9b7c6c3b0",
      "19df7d834fb945d2895d1e830c384452",
      "4f267cf2688143c7a0b43fb11d35d1ba",
      "de79b220860e49a2b95b79295cc3ed5d",
      "c0cf746b54024c47b07c74a9f92f36ea",
      "89f3c617916249fbbf39799267653dd8",
      "250ac763569f48949b5f3d4c29f85a66",
      "477301649ba94280887d6cff639ccd50",
      "85c44eeb249a4ea6846edc871811e9de",
      "d1f69fa601e543b48270e5451ee79acb",
      "48764457cd0a4561b0c18f92241f2cae",
      "1fac0f11109a4f4091662bdce1bdb63d",
      "750a066732ac4c7982f2e09304213818",
      "8049aba760c84f42b7bc02e742ed1afa",
      "bc07116ce5a942e89614969d1ad20d92",
      "82b096b92a0e4fa0a3f7ca20b263caa3",
      "62f02610636848ff927a8fe18d1b985f",
      "34606c824c9e4223a6c3d49e633583db",
      "67dc24be7b8941ddb72ad27a9e22b0a3",
      "5ef3f251c7824b46b9ed98e7b94f1be6",
      "8573753d4273422c8a2481a88ebfc43c",
      "5ac952142be14b728cf978ac353211c9",
      "97ab957b42b747e38507e29fcc19e301",
      "adbcaac760aa43ad96e6389519b0c2ac",
      "934cecc81b734fbb8e7f596bd60de3b0",
      "18d3d2a128a7456aa8b49f34df5a637d",
      "d382e280b18842f6bfb3eb233af05fad",
      "5d1206039ab445c78aa9fec83fcde5ac"
     ]
    },
    "id": "VJ20gPbqarJ4",
    "outputId": "1cbc4af1-eb8a-4f41-bb3b-40e8991e9ca5"
   },
   "outputs": [
    {
     "name": "stderr",
     "output_type": "stream",
     "text": [
      "\u001b[32m[I 2021-05-20 14:29:07,007]\u001b[0m A new study created in memory with name: no-name-12a14d71-7d9f-428d-b49c-9ac725e6ed49\u001b[0m\n"
     ]
    },
    {
     "data": {
      "application/vnd.jupyter.widget-view+json": {
       "model_id": "11fd3b488b804e88ba7bb81835052b10",
       "version_major": 2,
       "version_minor": 0
      },
      "text/plain": [
       "Epochs:   0%|          | 0/30 [00:00<?, ?it/s]"
      ]
     },
     "metadata": {},
     "output_type": "display_data"
    },
    {
     "data": {
      "application/vnd.jupyter.widget-view+json": {
       "model_id": "cff0e00005be4e08b0094abd4dc4209b",
       "version_major": 2,
       "version_minor": 0
      },
      "text/plain": [
       "Passing dataset:   0%|          | 0/13842 [00:00<?, ?it/s]"
      ]
     },
     "metadata": {},
     "output_type": "display_data"
    },
    {
     "data": {
      "application/vnd.jupyter.widget-view+json": {
       "model_id": "0d50aee1c553413dad64bc3bcb7dfb9d",
       "version_major": 2,
       "version_minor": 0
      },
      "text/plain": [
       "Passing dataset:   0%|          | 0/13842 [00:00<?, ?it/s]"
      ]
     },
     "metadata": {},
     "output_type": "display_data"
    },
    {
     "data": {
      "application/vnd.jupyter.widget-view+json": {
       "model_id": "36d1c9502f7e4b7dabf5b5b3deb4122e",
       "version_major": 2,
       "version_minor": 0
      },
      "text/plain": [
       "Passing dataset:   0%|          | 0/13842 [00:00<?, ?it/s]"
      ]
     },
     "metadata": {},
     "output_type": "display_data"
    },
    {
     "data": {
      "application/vnd.jupyter.widget-view+json": {
       "model_id": "d9e931bee1ee41669a4bd5120195f3ad",
       "version_major": 2,
       "version_minor": 0
      },
      "text/plain": [
       "Passing dataset:   0%|          | 0/13842 [00:00<?, ?it/s]"
      ]
     },
     "metadata": {},
     "output_type": "display_data"
    },
    {
     "data": {
      "application/vnd.jupyter.widget-view+json": {
       "model_id": "0935da9211b44ccfa4e714a88734aaf0",
       "version_major": 2,
       "version_minor": 0
      },
      "text/plain": [
       "Passing dataset:   0%|          | 0/13842 [00:00<?, ?it/s]"
      ]
     },
     "metadata": {},
     "output_type": "display_data"
    },
    {
     "data": {
      "application/vnd.jupyter.widget-view+json": {
       "model_id": "30fef7d137cf40428bc6d9d501fbae16",
       "version_major": 2,
       "version_minor": 0
      },
      "text/plain": [
       "Passing dataset:   0%|          | 0/13842 [00:00<?, ?it/s]"
      ]
     },
     "metadata": {},
     "output_type": "display_data"
    },
    {
     "data": {
      "application/vnd.jupyter.widget-view+json": {
       "model_id": "bc53db68b4b9417eb39df113faa00e2a",
       "version_major": 2,
       "version_minor": 0
      },
      "text/plain": [
       "Passing dataset:   0%|          | 0/13842 [00:00<?, ?it/s]"
      ]
     },
     "metadata": {},
     "output_type": "display_data"
    },
    {
     "data": {
      "application/vnd.jupyter.widget-view+json": {
       "model_id": "0de9fa8cebf0405baca84929c0c2faf1",
       "version_major": 2,
       "version_minor": 0
      },
      "text/plain": [
       "Passing dataset:   0%|          | 0/13842 [00:00<?, ?it/s]"
      ]
     },
     "metadata": {},
     "output_type": "display_data"
    },
    {
     "data": {
      "application/vnd.jupyter.widget-view+json": {
       "model_id": "a32d08b53e32422c94211430c5212060",
       "version_major": 2,
       "version_minor": 0
      },
      "text/plain": [
       "Passing dataset:   0%|          | 0/13842 [00:00<?, ?it/s]"
      ]
     },
     "metadata": {},
     "output_type": "display_data"
    },
    {
     "data": {
      "application/vnd.jupyter.widget-view+json": {
       "model_id": "ffdef84c909b42388f31f74ca4df012f",
       "version_major": 2,
       "version_minor": 0
      },
      "text/plain": [
       "Passing dataset:   0%|          | 0/13842 [00:00<?, ?it/s]"
      ]
     },
     "metadata": {},
     "output_type": "display_data"
    },
    {
     "data": {
      "application/vnd.jupyter.widget-view+json": {
       "model_id": "b0cf695bb82544adb47e6bfab4e77e04",
       "version_major": 2,
       "version_minor": 0
      },
      "text/plain": [
       "Passing dataset:   0%|          | 0/13842 [00:00<?, ?it/s]"
      ]
     },
     "metadata": {},
     "output_type": "display_data"
    },
    {
     "data": {
      "application/vnd.jupyter.widget-view+json": {
       "model_id": "7c0401d8bc7d491abc7cbd11182bd638",
       "version_major": 2,
       "version_minor": 0
      },
      "text/plain": [
       "Passing dataset:   0%|          | 0/13842 [00:00<?, ?it/s]"
      ]
     },
     "metadata": {},
     "output_type": "display_data"
    },
    {
     "data": {
      "application/vnd.jupyter.widget-view+json": {
       "model_id": "ae7e99eb12904b6481f3b8c42575d5e4",
       "version_major": 2,
       "version_minor": 0
      },
      "text/plain": [
       "Passing dataset:   0%|          | 0/13842 [00:00<?, ?it/s]"
      ]
     },
     "metadata": {},
     "output_type": "display_data"
    },
    {
     "data": {
      "application/vnd.jupyter.widget-view+json": {
       "model_id": "17ad46160850415499feb1fafc6520fb",
       "version_major": 2,
       "version_minor": 0
      },
      "text/plain": [
       "Passing dataset:   0%|          | 0/13842 [00:00<?, ?it/s]"
      ]
     },
     "metadata": {},
     "output_type": "display_data"
    },
    {
     "data": {
      "application/vnd.jupyter.widget-view+json": {
       "model_id": "7018c65803ed41bfa22e0a46dbeb44be",
       "version_major": 2,
       "version_minor": 0
      },
      "text/plain": [
       "Passing dataset:   0%|          | 0/13842 [00:00<?, ?it/s]"
      ]
     },
     "metadata": {},
     "output_type": "display_data"
    },
    {
     "data": {
      "application/vnd.jupyter.widget-view+json": {
       "model_id": "52bc1af6ac374cb5bbf163addef70d9a",
       "version_major": 2,
       "version_minor": 0
      },
      "text/plain": [
       "Passing dataset:   0%|          | 0/13842 [00:00<?, ?it/s]"
      ]
     },
     "metadata": {},
     "output_type": "display_data"
    },
    {
     "data": {
      "application/vnd.jupyter.widget-view+json": {
       "model_id": "f3b9e592b08147458ca9bc2465198a92",
       "version_major": 2,
       "version_minor": 0
      },
      "text/plain": [
       "Passing dataset:   0%|          | 0/13842 [00:00<?, ?it/s]"
      ]
     },
     "metadata": {},
     "output_type": "display_data"
    },
    {
     "data": {
      "application/vnd.jupyter.widget-view+json": {
       "model_id": "a0f5437e480640b4928f18418c8f1655",
       "version_major": 2,
       "version_minor": 0
      },
      "text/plain": [
       "Passing dataset:   0%|          | 0/13842 [00:00<?, ?it/s]"
      ]
     },
     "metadata": {},
     "output_type": "display_data"
    },
    {
     "data": {
      "application/vnd.jupyter.widget-view+json": {
       "model_id": "a17d8afc2caa4bab85952d48f351bd55",
       "version_major": 2,
       "version_minor": 0
      },
      "text/plain": [
       "Passing dataset:   0%|          | 0/13842 [00:00<?, ?it/s]"
      ]
     },
     "metadata": {},
     "output_type": "display_data"
    },
    {
     "data": {
      "application/vnd.jupyter.widget-view+json": {
       "model_id": "fc0b2e335aea4149803e7813183951e3",
       "version_major": 2,
       "version_minor": 0
      },
      "text/plain": [
       "Passing dataset:   0%|          | 0/13842 [00:00<?, ?it/s]"
      ]
     },
     "metadata": {},
     "output_type": "display_data"
    },
    {
     "data": {
      "application/vnd.jupyter.widget-view+json": {
       "model_id": "510772bf79b743c7885da981f447fb8b",
       "version_major": 2,
       "version_minor": 0
      },
      "text/plain": [
       "Passing dataset:   0%|          | 0/13842 [00:00<?, ?it/s]"
      ]
     },
     "metadata": {},
     "output_type": "display_data"
    },
    {
     "data": {
      "application/vnd.jupyter.widget-view+json": {
       "model_id": "ae28fd3fb2494f4e84df4d70346f218b",
       "version_major": 2,
       "version_minor": 0
      },
      "text/plain": [
       "Passing dataset:   0%|          | 0/13842 [00:00<?, ?it/s]"
      ]
     },
     "metadata": {},
     "output_type": "display_data"
    },
    {
     "data": {
      "application/vnd.jupyter.widget-view+json": {
       "model_id": "dcc991f3e74e483996b82dfa576caf94",
       "version_major": 2,
       "version_minor": 0
      },
      "text/plain": [
       "Passing dataset:   0%|          | 0/13842 [00:00<?, ?it/s]"
      ]
     },
     "metadata": {},
     "output_type": "display_data"
    },
    {
     "data": {
      "application/vnd.jupyter.widget-view+json": {
       "model_id": "fcdd7cedebe9404f9fa9b9f46b3c249b",
       "version_major": 2,
       "version_minor": 0
      },
      "text/plain": [
       "Passing dataset:   0%|          | 0/13842 [00:00<?, ?it/s]"
      ]
     },
     "metadata": {},
     "output_type": "display_data"
    },
    {
     "data": {
      "application/vnd.jupyter.widget-view+json": {
       "model_id": "db185d9c47b24e7cad346d2b65e0a470",
       "version_major": 2,
       "version_minor": 0
      },
      "text/plain": [
       "Passing dataset:   0%|          | 0/13842 [00:00<?, ?it/s]"
      ]
     },
     "metadata": {},
     "output_type": "display_data"
    },
    {
     "data": {
      "application/vnd.jupyter.widget-view+json": {
       "model_id": "ee5f734b65c44876a0dc2bb873debb10",
       "version_major": 2,
       "version_minor": 0
      },
      "text/plain": [
       "Passing dataset:   0%|          | 0/13842 [00:00<?, ?it/s]"
      ]
     },
     "metadata": {},
     "output_type": "display_data"
    },
    {
     "data": {
      "application/vnd.jupyter.widget-view+json": {
       "model_id": "2c6e857740974981be030d0cfa81c494",
       "version_major": 2,
       "version_minor": 0
      },
      "text/plain": [
       "Passing dataset:   0%|          | 0/13842 [00:00<?, ?it/s]"
      ]
     },
     "metadata": {},
     "output_type": "display_data"
    },
    {
     "data": {
      "application/vnd.jupyter.widget-view+json": {
       "model_id": "7a8043904ae14035a1b2356063074959",
       "version_major": 2,
       "version_minor": 0
      },
      "text/plain": [
       "Passing dataset:   0%|          | 0/13842 [00:00<?, ?it/s]"
      ]
     },
     "metadata": {},
     "output_type": "display_data"
    },
    {
     "data": {
      "application/vnd.jupyter.widget-view+json": {
       "model_id": "871981d9c5564bdd9d1b98b283463f2c",
       "version_major": 2,
       "version_minor": 0
      },
      "text/plain": [
       "Passing dataset:   0%|          | 0/13842 [00:00<?, ?it/s]"
      ]
     },
     "metadata": {},
     "output_type": "display_data"
    },
    {
     "data": {
      "application/vnd.jupyter.widget-view+json": {
       "model_id": "0a4b0c706ec04d66b69e3dfae541b03e",
       "version_major": 2,
       "version_minor": 0
      },
      "text/plain": [
       "Passing dataset:   0%|          | 0/13842 [00:00<?, ?it/s]"
      ]
     },
     "metadata": {},
     "output_type": "display_data"
    },
    {
     "name": "stderr",
     "output_type": "stream",
     "text": [
      "\u001b[32m[I 2021-05-21 00:52:57,496]\u001b[0m Trial 0 finished with value: 2.593005354483164 and parameters: {'optimizer': 'RMSprop', 'lr': 0.0003091193417317815}. Best is trial 0 with value: 2.593005354483164.\u001b[0m\n",
      "/opt/conda/lib/python3.7/site-packages/optuna/structs.py:18: FutureWarning: `structs` is deprecated. Classes have moved to the following modules. `structs.StudyDirection`->`study.StudyDirection`, `structs.StudySummary`->`study.StudySummary`, `structs.FrozenTrial`->`trial.FrozenTrial`, `structs.TrialState`->`trial.TrialState`, `structs.TrialPruned`->`exceptions.TrialPruned`.\n",
      "  warnings.warn(_message, FutureWarning)\n"
     ]
    },
    {
     "name": "stdout",
     "output_type": "stream",
     "text": [
      "Study statistics: \n",
      "  Number of finished trials:  1\n",
      "  Number of pruned trials:  0\n",
      "  Number of complete trials:  1\n",
      "Best trial:\n",
      "  Value:  2.593005354483164\n",
      "  Params: \n",
      "    optimizer: RMSprop\n",
      "    lr: 0.0003091193417317815\n"
     ]
    }
   ],
   "source": [
    "param_search = Param_Search(model, train_loader, test_loader,\n",
    "            criterion, num_epochs, n_trials=1, study_name='hp_FFNN')\n",
    "\n",
    "param_search.run_trial()"
   ]
  },
  {
   "cell_type": "code",
   "execution_count": 20,
   "metadata": {},
   "outputs": [],
   "source": [
    "best_model_FFNN_hp = param_search.save_best_model('best_model_FFNN_hp.pt')"
   ]
  },
  {
   "cell_type": "markdown",
   "metadata": {
    "id": "4zRQ1M_xjBFD"
   },
   "source": [
    "### Model Testing"
   ]
  },
  {
   "cell_type": "code",
   "execution_count": null,
   "metadata": {
    "id": "xiNJ0IVIjoBU"
   },
   "outputs": [],
   "source": [
    "train_loader, test_loader = build_DataLoader(\n",
    "        data_path='dataset_cleansed_version.csv',\n",
    "        network_type='FFNN', \n",
    "        usage='model_testing'\n",
    "    )"
   ]
  },
  {
   "cell_type": "code",
   "execution_count": null,
   "metadata": {
    "id": "m8OnzLrmlDmg"
   },
   "outputs": [],
   "source": [
    "model=FFNN_multitask()\n",
    "\n",
    "if torch.cuda.device_count() > 1:\n",
    "  print(\"Let's use\", torch.cuda.device_count(), \"GPUs!\")\n",
    "  model = nn.DataParallel(model)\n",
    "\n",
    "model.to(device)"
   ]
  },
  {
   "cell_type": "code",
   "execution_count": null,
   "metadata": {
    "id": "CEy-Y9CTjpgM"
   },
   "outputs": [],
   "source": [
    "num_epochs = 30\n",
    "criterion = nn.CrossEntropyLoss()"
   ]
  },
  {
   "cell_type": "code",
   "execution_count": null,
   "metadata": {
    "id": "IU280ZITjx9b"
   },
   "outputs": [],
   "source": [
    "best_lr = 0.0003091193417317815\n",
    "optimizer = optim.RMSprop(model.parameters(), lr=best_lr)"
   ]
  },
  {
   "cell_type": "code",
   "execution_count": null,
   "metadata": {
    "id": "s9ha7eDkj4cH"
   },
   "outputs": [],
   "source": [
    "F1_train, F1_test = fit(model, train_loader, test_loader,\n",
    "                        criterion, optimizer, num_epochs, filename_path='ffnn_testing.pt', verbose=True)\n",
    "\n",
    "#save_best_model(model, 'best_model_FFNN_test.pt')"
   ]
  },
  {
   "cell_type": "markdown",
   "metadata": {
    "id": "8U1IwcavN8Sq"
   },
   "source": [
    "## 2. CONVOLUTIONAL NN "
   ]
  },
  {
   "cell_type": "code",
   "execution_count": 14,
   "metadata": {
    "id": "smBINMx9kXfE"
   },
   "outputs": [],
   "source": [
    "import torch.nn as nn\n",
    "\n",
    "class CNN_multitask(nn.Module):\n",
    "  def __init__(self, fc_layer_size):\n",
    "    super(CNN_multitask, self).__init__()\n",
    "    self.fc_layer_size = fc_layer_size \n",
    "    \n",
    "    self.layer1 = nn.Sequential(\n",
    "            nn.Conv1d(1, 32, kernel_size=15, stride=2, padding=1), #The average word length in English language is 4.7 characters.\n",
    "            nn.BatchNorm1d(32), \n",
    "            nn.ReLU(),\n",
    "            nn.MaxPool1d(kernel_size=10, stride=2))\n",
    "\n",
    "    self.layer2 = nn.Sequential(\n",
    "            nn.Conv1d(32, 32, kernel_size=15, stride=2, padding=1),\n",
    "            nn.BatchNorm1d(32),\n",
    "            nn.ReLU(),\n",
    "            nn.MaxPool1d(kernel_size=10, stride=2))\n",
    "    \n",
    "    self.single_layer3_1 = nn.Sequential(\n",
    "            nn.Conv1d(32, 64, kernel_size=15, stride=2, padding=1),\n",
    "            nn.BatchNorm1d(64),\n",
    "            nn.ReLU(),\n",
    "            nn.MaxPool1d(kernel_size=10, stride=2))\n",
    "    \n",
    "    self.single_layer3_2 = nn.Sequential(\n",
    "            nn.Conv1d(32, 64, kernel_size=15, stride=2, padding=1),\n",
    "            nn.BatchNorm1d(64),\n",
    "            nn.ReLU(),\n",
    "            nn.MaxPool1d(kernel_size=10, stride=2))\n",
    "    \n",
    "    self.single_layer3_3 = nn.Sequential(\n",
    "            nn.Conv1d(32, 64, kernel_size=15, stride=2, padding=1),\n",
    "            nn.BatchNorm1d(64),\n",
    "            nn.ReLU(),\n",
    "            nn.MaxPool1d(kernel_size=10, stride=2))\n",
    "        \n",
    "    self.drop_out1 = nn.Dropout(p=0.3)\n",
    "    self.drop_out2 = nn.Dropout(p=0.4)\n",
    "    self.drop_out3 = nn.Dropout(p=0.5)\n",
    "    \n",
    "    self.single_last_layer1_1 = nn.Linear(self.fc_layer_size, 1000) \n",
    "    self.single_last_layer2_1 = nn.Linear(1000, 5)\n",
    "\n",
    "    self.single_last_layer1_2 = nn.Linear(self.fc_layer_size, 1000) \n",
    "    self.single_last_layer2_2 = nn.Linear(1000, 5)\n",
    "\n",
    "    self.single_last_layer1_3 = nn.Linear(self.fc_layer_size, 1000) \n",
    "    self.single_last_layer2_3 = nn.Linear(1000, 5)\n",
    "\n",
    "\n",
    "  def forward(self, x):\n",
    "      \n",
    "      # first blocks in common\n",
    "    out = self.layer1(x)\n",
    "    out = self.drop_out1(out)\n",
    "    out = self.layer2(out)\n",
    "    out = self.drop_out2(out)\n",
    "\n",
    "      # single blocks for each label\n",
    "    out1 = self.single_layer3_1(out)\n",
    "    out1 = self.drop_out3(out1)\n",
    "    out1 = out1.reshape(out1.size(0), -1) \n",
    "    out1 = self.single_last_layer1_1(out1)\n",
    "    out1 = self.single_last_layer2_1(out1)\n",
    "\n",
    "    out2 = self.single_layer3_2(out) \n",
    "    out2 = self.drop_out2(out2)\n",
    "    out2 = out2.reshape(out2.size(0), -1) \n",
    "    out2 = self.single_last_layer1_2(out2)\n",
    "    out2 = self.single_last_layer2_2(out2)\n",
    "\n",
    "    out3 = self.single_layer3_3(out) \n",
    "    out3 = self.drop_out3(out3)\n",
    "    out3 = out3.reshape(out3.size(0), -1) \n",
    "    out3 = self.single_last_layer1_3(out3)\n",
    "    out3 = self.single_last_layer2_3(out3)\n",
    "\n",
    " \n",
    "    return out1, out2, out3"
   ]
  },
  {
   "cell_type": "markdown",
   "metadata": {
    "id": "movYZC7Klqn3"
   },
   "source": [
    "### Hyperparameters Tuning"
   ]
  },
  {
   "cell_type": "code",
   "execution_count": 15,
   "metadata": {
    "id": "sAD9S5fgltFD"
   },
   "outputs": [],
   "source": [
    "train_loader, test_loader = build_DataLoader(\n",
    "        data_path='dataset_cleansed_version.csv',\n",
    "        network_type='CNN', \n",
    "        usage='hyper_tuning'\n",
    "    )"
   ]
  },
  {
   "cell_type": "code",
   "execution_count": 132,
   "metadata": {},
   "outputs": [
    {
     "name": "stdout",
     "output_type": "stream",
     "text": [
      "layer1.0.weight\n",
      "layer1.0.bias\n",
      "layer1.1.weight\n",
      "layer1.1.bias\n",
      "layer1.1.running_mean\n",
      "layer1.1.running_var\n",
      "layer1.1.num_batches_tracked\n",
      "layer2.0.weight\n",
      "layer2.0.bias\n",
      "layer2.1.weight\n",
      "layer2.1.bias\n",
      "layer2.1.running_mean\n",
      "layer2.1.running_var\n",
      "layer2.1.num_batches_tracked\n",
      "single_layer3_1.0.weight\n",
      "single_layer3_1.0.bias\n",
      "single_layer3_1.1.weight\n",
      "single_layer3_1.1.bias\n",
      "single_layer3_1.1.running_mean\n",
      "single_layer3_1.1.running_var\n",
      "single_layer3_1.1.num_batches_tracked\n",
      "single_layer3_2.0.weight\n",
      "single_layer3_2.0.bias\n",
      "single_layer3_2.1.weight\n",
      "single_layer3_2.1.bias\n",
      "single_layer3_2.1.running_mean\n",
      "single_layer3_2.1.running_var\n",
      "single_layer3_2.1.num_batches_tracked\n",
      "single_layer3_3.0.weight\n",
      "single_layer3_3.0.bias\n",
      "single_layer3_3.1.weight\n",
      "single_layer3_3.1.bias\n",
      "single_layer3_3.1.running_mean\n",
      "single_layer3_3.1.running_var\n",
      "single_layer3_3.1.num_batches_tracked\n",
      "single_last_layer1_1.weight\n",
      "single_last_layer1_1.bias\n",
      "single_last_layer2_1.weight\n",
      "single_last_layer2_1.bias\n",
      "single_last_layer1_2.weight\n",
      "single_last_layer1_2.bias\n",
      "single_last_layer2_2.weight\n",
      "single_last_layer2_2.bias\n",
      "single_last_layer1_3.weight\n",
      "single_last_layer1_3.bias\n",
      "single_last_layer2_3.weight\n",
      "single_last_layer2_3.bias\n"
     ]
    }
   ],
   "source": [
    "for key,value in model.state_dict().copy().items():\n",
    "    print(key)"
   ]
  },
  {
   "cell_type": "code",
   "execution_count": 18,
   "metadata": {
    "id": "C6ebZRrilH8P"
   },
   "outputs": [
    {
     "data": {
      "text/plain": [
       "CNN_multitask(\n",
       "  (layer1): Sequential(\n",
       "    (0): Conv1d(1, 32, kernel_size=(15,), stride=(2,), padding=(1,))\n",
       "    (1): BatchNorm1d(32, eps=1e-05, momentum=0.1, affine=True, track_running_stats=True)\n",
       "    (2): ReLU()\n",
       "    (3): MaxPool1d(kernel_size=10, stride=2, padding=0, dilation=1, ceil_mode=False)\n",
       "  )\n",
       "  (layer2): Sequential(\n",
       "    (0): Conv1d(32, 32, kernel_size=(15,), stride=(2,), padding=(1,))\n",
       "    (1): BatchNorm1d(32, eps=1e-05, momentum=0.1, affine=True, track_running_stats=True)\n",
       "    (2): ReLU()\n",
       "    (3): MaxPool1d(kernel_size=10, stride=2, padding=0, dilation=1, ceil_mode=False)\n",
       "  )\n",
       "  (single_layer3_1): Sequential(\n",
       "    (0): Conv1d(32, 64, kernel_size=(15,), stride=(2,), padding=(1,))\n",
       "    (1): BatchNorm1d(64, eps=1e-05, momentum=0.1, affine=True, track_running_stats=True)\n",
       "    (2): ReLU()\n",
       "    (3): MaxPool1d(kernel_size=10, stride=2, padding=0, dilation=1, ceil_mode=False)\n",
       "  )\n",
       "  (single_layer3_2): Sequential(\n",
       "    (0): Conv1d(32, 64, kernel_size=(15,), stride=(2,), padding=(1,))\n",
       "    (1): BatchNorm1d(64, eps=1e-05, momentum=0.1, affine=True, track_running_stats=True)\n",
       "    (2): ReLU()\n",
       "    (3): MaxPool1d(kernel_size=10, stride=2, padding=0, dilation=1, ceil_mode=False)\n",
       "  )\n",
       "  (single_layer3_3): Sequential(\n",
       "    (0): Conv1d(32, 64, kernel_size=(15,), stride=(2,), padding=(1,))\n",
       "    (1): BatchNorm1d(64, eps=1e-05, momentum=0.1, affine=True, track_running_stats=True)\n",
       "    (2): ReLU()\n",
       "    (3): MaxPool1d(kernel_size=10, stride=2, padding=0, dilation=1, ceil_mode=False)\n",
       "  )\n",
       "  (drop_out1): Dropout(p=0.3, inplace=False)\n",
       "  (drop_out2): Dropout(p=0.4, inplace=False)\n",
       "  (drop_out3): Dropout(p=0.5, inplace=False)\n",
       "  (single_last_layer1_1): Linear(in_features=7936, out_features=1000, bias=True)\n",
       "  (single_last_layer2_1): Linear(in_features=1000, out_features=5, bias=True)\n",
       "  (single_last_layer1_2): Linear(in_features=7936, out_features=1000, bias=True)\n",
       "  (single_last_layer2_2): Linear(in_features=1000, out_features=5, bias=True)\n",
       "  (single_last_layer1_3): Linear(in_features=7936, out_features=1000, bias=True)\n",
       "  (single_last_layer2_3): Linear(in_features=1000, out_features=5, bias=True)\n",
       ")"
      ]
     },
     "execution_count": 18,
     "metadata": {},
     "output_type": "execute_result"
    }
   ],
   "source": [
    "model=CNN_multitask(fc_layer_size=7936)\n",
    "\n",
    "if torch.cuda.device_count() >= 1:\n",
    "  print(\"Let's use\", torch.cuda.device_count(), \"GPUs!\")\n",
    "  model = nn.DataParallel(model)\n",
    "\n",
    "model.to(device)"
   ]
  },
  {
   "cell_type": "code",
   "execution_count": 17,
   "metadata": {
    "id": "KHhVOHciltFE"
   },
   "outputs": [],
   "source": [
    "num_epochs = 30\n",
    "criterion = nn.CrossEntropyLoss()"
   ]
  },
  {
   "cell_type": "code",
   "execution_count": null,
   "metadata": {
    "id": "pZgeX3O0ltFF"
   },
   "outputs": [
    {
     "name": "stderr",
     "output_type": "stream",
     "text": [
      "\u001b[32m[I 2021-05-21 00:53:39,094]\u001b[0m A new study created in memory with name: no-name-627df471-00cf-49db-829d-b091a86dd604\u001b[0m\n"
     ]
    },
    {
     "data": {
      "application/vnd.jupyter.widget-view+json": {
       "model_id": "aae7c78003cf40f9afa606329afbf1cc",
       "version_major": 2,
       "version_minor": 0
      },
      "text/plain": [
       "Epochs:   0%|          | 0/30 [00:00<?, ?it/s]"
      ]
     },
     "metadata": {},
     "output_type": "display_data"
    },
    {
     "data": {
      "application/vnd.jupyter.widget-view+json": {
       "model_id": "e3fafcfe7b7c427497ecbf005adc455c",
       "version_major": 2,
       "version_minor": 0
      },
      "text/plain": [
       "Passing dataset:   0%|          | 0/13842 [00:00<?, ?it/s]"
      ]
     },
     "metadata": {},
     "output_type": "display_data"
    },
    {
     "data": {
      "application/vnd.jupyter.widget-view+json": {
       "model_id": "bcd5f6a5b889454bae43171aa7616e38",
       "version_major": 2,
       "version_minor": 0
      },
      "text/plain": [
       "Passing dataset:   0%|          | 0/13842 [00:00<?, ?it/s]"
      ]
     },
     "metadata": {},
     "output_type": "display_data"
    },
    {
     "data": {
      "application/vnd.jupyter.widget-view+json": {
       "model_id": "7edb0490ec664d4da80e84f6f1cf62a4",
       "version_major": 2,
       "version_minor": 0
      },
      "text/plain": [
       "Passing dataset:   0%|          | 0/13842 [00:00<?, ?it/s]"
      ]
     },
     "metadata": {},
     "output_type": "display_data"
    },
    {
     "data": {
      "application/vnd.jupyter.widget-view+json": {
       "model_id": "627badcf68dd4fbab17b7b9c403e905d",
       "version_major": 2,
       "version_minor": 0
      },
      "text/plain": [
       "Passing dataset:   0%|          | 0/13842 [00:00<?, ?it/s]"
      ]
     },
     "metadata": {},
     "output_type": "display_data"
    },
    {
     "data": {
      "application/vnd.jupyter.widget-view+json": {
       "model_id": "413b0c44a5da49ed9520cb33e2735987",
       "version_major": 2,
       "version_minor": 0
      },
      "text/plain": [
       "Passing dataset:   0%|          | 0/13842 [00:00<?, ?it/s]"
      ]
     },
     "metadata": {},
     "output_type": "display_data"
    },
    {
     "data": {
      "application/vnd.jupyter.widget-view+json": {
       "model_id": "fe59468a385c48618bb7b8350ff7b2f1",
       "version_major": 2,
       "version_minor": 0
      },
      "text/plain": [
       "Passing dataset:   0%|          | 0/13842 [00:00<?, ?it/s]"
      ]
     },
     "metadata": {},
     "output_type": "display_data"
    }
   ],
   "source": [
    "param_search = Param_Search(model, train_loader, test_loader,\n",
    "            criterion, num_epochs, n_trials=1,study_name='hp_CNN')\n",
    "\n",
    "param_search.run_trial()"
   ]
  },
  {
   "cell_type": "code",
   "execution_count": null,
   "metadata": {},
   "outputs": [],
   "source": [
    "best_model_CNN_hp = param_search.save_best_model('best_model_CNN_hp.pt')"
   ]
  },
  {
   "cell_type": "markdown",
   "metadata": {
    "id": "_2khyp-PltFF"
   },
   "source": [
    "### Model Testing"
   ]
  },
  {
   "cell_type": "code",
   "execution_count": null,
   "metadata": {
    "id": "Cm7HmRKdltFF"
   },
   "outputs": [],
   "source": [
    "train_loader, test_loader = build_DataLoader(\n",
    "        data_path='dataset_cleansed_version.csv',\n",
    "        network_type='CNN', \n",
    "        usage='model_testing'\n",
    "    )"
   ]
  },
  {
   "cell_type": "code",
   "execution_count": null,
   "metadata": {
    "id": "2iFBir57lL_6"
   },
   "outputs": [],
   "source": [
    "model=CNN_multitask()\n",
    "\n",
    "if torch.cuda.device_count() >= 1:\n",
    "  print(\"Let's use\", torch.cuda.device_count(), \"GPUs!\")\n",
    "  model = nn.DataParallel(model)\n",
    "\n",
    "model.to(device)"
   ]
  },
  {
   "cell_type": "code",
   "execution_count": null,
   "metadata": {
    "id": "sZkVYPVMltFG"
   },
   "outputs": [],
   "source": [
    "num_epochs = 50\n",
    "criterion = nn.CrossEntropyLoss()"
   ]
  },
  {
   "cell_type": "code",
   "execution_count": null,
   "metadata": {
    "id": "-Tkonc-fltFG"
   },
   "outputs": [],
   "source": [
    "best_lr = 0.6363636255264282\n",
    "optimizer = optim.RMSprop(model.parameters(), lr=best_lr)"
   ]
  },
  {
   "cell_type": "code",
   "execution_count": null,
   "metadata": {
    "id": "nLTooE5tltFG"
   },
   "outputs": [],
   "source": [
    "F1_test = fit(model, loader_train, loader_test, \n",
    "                        criterion, optimizer, num_epochs, verbose=True)\n",
    "\n",
    "save_best_model(model, 'best_model_CNN_test.pt')"
   ]
  },
  {
   "cell_type": "markdown",
   "metadata": {
    "id": "MEWAbhTsN_6m"
   },
   "source": [
    "## 3. EMBEDDING + CONVOLUTIONAL NN "
   ]
  },
  {
   "cell_type": "markdown",
   "metadata": {
    "id": "BTu_gXDjmCCN"
   },
   "source": [
    "### Hyperparameters Tuning"
   ]
  },
  {
   "cell_type": "code",
   "execution_count": null,
   "metadata": {
    "id": "njjvAFbCmCCO"
   },
   "outputs": [],
   "source": [
    "train_loader, test_loader = build_DataLoader(\n",
    "        data_path='dataset_cleansed_version.csv',\n",
    "        network_type='ENC_CNN', \n",
    "        usage='hyper_tuning'\n",
    "    )"
   ]
  },
  {
   "cell_type": "code",
   "execution_count": null,
   "metadata": {
    "id": "vhV5iInxlQi_"
   },
   "outputs": [],
   "source": [
    "model=CNN_multitask()\n",
    "\n",
    "if torch.cuda.device_count() >= 1:\n",
    "  print(\"Let's use\", torch.cuda.device_count(), \"GPUs!\")\n",
    "  model = nn.DataParallel(model)\n",
    "\n",
    "model.to(device)"
   ]
  },
  {
   "cell_type": "code",
   "execution_count": null,
   "metadata": {
    "id": "nmUjguFVmCCP"
   },
   "outputs": [],
   "source": [
    "num_epochs = 50\n",
    "criterion = nn.CrossEntropyLoss()"
   ]
  },
  {
   "cell_type": "code",
   "execution_count": null,
   "metadata": {
    "id": "qBrR0MYbmCCP"
   },
   "outputs": [],
   "source": [
    "param_search = Param_Search(model, train_loader, test_loader,\n",
    "            criterion, num_epochs, n_trials=2, study_name='hp_ENC_CNN')\n",
    "\n",
    "param_search.run_trial()\n",
    "best_model_ENC_CNN_hp = param_search.save_best_model('best_model_ENC_CNN_hp.pt')"
   ]
  },
  {
   "cell_type": "markdown",
   "metadata": {
    "id": "zh5OiS6UmCCQ"
   },
   "source": [
    "### Model Testing"
   ]
  },
  {
   "cell_type": "code",
   "execution_count": null,
   "metadata": {
    "id": "6N2NZKXymCCQ"
   },
   "outputs": [],
   "source": [
    "train_loader, test_loader = build_DataLoader(\n",
    "        data_path='dataset_cleansed_version.csv',\n",
    "        network_type='ENC_CNN', \n",
    "        usage='model_testing'\n",
    "    )"
   ]
  },
  {
   "cell_type": "code",
   "execution_count": null,
   "metadata": {
    "id": "HJFSfFfzlTRm"
   },
   "outputs": [],
   "source": [
    "model=CNN_multitask()\n",
    "\n",
    "if torch.cuda.device_count() >= 1:\n",
    "  print(\"Let's use\", torch.cuda.device_count(), \"GPUs!\")\n",
    "  model = nn.DataParallel(model)\n",
    "\n",
    "model.to(device)"
   ]
  },
  {
   "cell_type": "code",
   "execution_count": null,
   "metadata": {
    "id": "w7EiwyXHmCCQ"
   },
   "outputs": [],
   "source": [
    "num_epochs = 50\n",
    "criterion = nn.CrossEntropyLoss()"
   ]
  },
  {
   "cell_type": "code",
   "execution_count": null,
   "metadata": {
    "id": "t7wheml_mCCQ"
   },
   "outputs": [],
   "source": [
    "best_lr = 0.6363636255264282\n",
    "optimizer = optim.RMSprop(model.parameters(), lr=best_lr)"
   ]
  },
  {
   "cell_type": "code",
   "execution_count": null,
   "metadata": {
    "id": "t5qWqp2NmCCQ"
   },
   "outputs": [],
   "source": [
    "F1_test = fit(model, loader_train, loader_test, \n",
    "                        criterion, optimizer, num_epochs, verbose=True)\n",
    "\n",
    "save_best_model(model, 'best_model_ENC_CNN_test.pt')"
   ]
  },
  {
   "cell_type": "markdown",
   "metadata": {},
   "source": [
    "## 4. MULTIMODAL NN"
   ]
  },
  {
   "cell_type": "code",
   "execution_count": null,
   "metadata": {},
   "outputs": [],
   "source": [
    "import optuna\n",
    "import torch.nn as nn\n",
    "#import thop\n",
    "import torch.optim as optim\n",
    "import pickle\n",
    "import re\n",
    "\n",
    "class Param_Search_Multimodal():\n",
    "\n",
    "  def __init__(self, \n",
    "               model, \n",
    "               train_loader, \n",
    "               test_loader,\n",
    "               criterion,\n",
    "               num_epochs,\n",
    "               n_trials=4,\n",
    "               study_name):\n",
    "    self.model = model\n",
    "    self.train_loader = train_loader\n",
    "    self.test_loader = test_loader\n",
    "    self.criterion = criterion\n",
    "    self.num_epochs = num_epochs\n",
    "    self.n_trials = n_trials\n",
    "    self.study_name = study_name\n",
    "    self.best_model = None\n",
    "\n",
    "  def objective(self, trial):\n",
    "\n",
    "    # Generate the model.\n",
    "    model = self.model\n",
    "\n",
    "    # Generate the optimizers.\n",
    "    optimizer_name = trial.suggest_categorical(\"optimizer\", [\"Adam\", \"RMSprop\"])\n",
    "    lr = trial.suggest_loguniform(\"lr\", 1e-5, 1e-1)\n",
    "    optimizer = getattr(optim, optimizer_name)(model.parameters(), lr=lr)\n",
    "\n",
    "    model = model.double()\n",
    "    \n",
    "    for epoch in tqdm(range(1, num_epochs + 1)):\n",
    "    # keep-track-of-training-and-validation-loss\n",
    "      train_loss = 0.0\n",
    "      test_loss = 0.0\n",
    "      f1_test = 0.0\n",
    "    \n",
    "    # training-the-model\n",
    "      model.train()\n",
    "      for load1, load2, load3 in tqdm(self.train_loaders, desc='Passing dataset'):\n",
    "        x_1, target1, target2, target3 = load1\n",
    "        x_2, _, _, _ = load2\n",
    "        x_3, _, _, _ = load3\n",
    "\n",
    "        # clear-the-gradients-of-all-optimized-variables\n",
    "        optimizer.zero_grad()\n",
    "        # forward-pass: compute-predicted-outputs-by-passing-inputs-to-the-model\n",
    "        output1, output2, output3 = model([x_1.double(), x_2.double(), x_3.double()])\n",
    "        # calculate-the-batch-loss\n",
    "        loss = self.criterion(output1, target1) + self.criterion(output2, target2) + self.criterion(output3, target3)\n",
    "        # backward-pass: compute-gradient-of-the-loss-wrt-model-parameters\n",
    "        loss.backward()\n",
    "        # perform-a-ingle-optimization-step (parameter-update)\n",
    "        optimizer.step()\n",
    "        # update-training-loss\n",
    "        train_loss += loss.item() \n",
    "            \n",
    "        \n",
    "    # validate-the-model\n",
    "      model.eval()\n",
    "      for load1, load2, load3 in self.test_loaders:\n",
    "        x_1, target1, target2, target3 = load1\n",
    "        x_2, _,_,_ = load2\n",
    "        x_3, _,_,_ = load3\n",
    "\n",
    "        output1, output2, output3 = model([x_1.double(), x_2.double(), x_3.double()]\n",
    "        loss = self.criterion(output1, target1) + self.criterion(output2, target2) + self.criterion(output3, target3)\n",
    "        # update-average-validation-loss \n",
    "        test_loss += loss.item() \n",
    "\n",
    "        f1_test = (( F1(output1,target1) + F1(output2,target2) + F1(output3,target3) )/3)*len(target1)\n",
    "\n",
    "      f1_test /= len(self.test_loader)\n",
    "    \n",
    "      trial.report(f1_test, epoch)\n",
    "\n",
    "    # save all models\n",
    "    with open(\"{}.pickle\".format(trial.number), \"wb\") as fout:\n",
    "      pickle.dump(model, fout)\n",
    "        \n",
    "    return f1_test\n",
    "\n",
    "\n",
    "\n",
    "  def run_trial(self):\n",
    "\n",
    "    # use sqlite backend to save the study\n",
    "    study = optuna.create_study(study_name=self.study_name, direction=\"maximize\", \n",
    "                                storage='sqlite:///SA_optuna_tuning.db', load_if_exists=True)\n",
    "\n",
    "    study.optimize(self.objective, n_trials=self.n_trials)\n",
    "    pruned_trials = [t for t in study.trials if t.state == optuna.structs.TrialState.PRUNED]\n",
    "    complete_trials = [t for t in study.trials if t.state == optuna.structs.TrialState.COMPLETE]\n",
    "\n",
    "    print(\"Study statistics: \")\n",
    "    print(\"  Number of finished trials: \", len(study.trials))\n",
    "    print(\"  Number of pruned trials: \", len(pruned_trials))\n",
    "    print(\"  Number of complete trials: \", len(complete_trials))\n",
    "\n",
    "    print(\"Best trial:\")\n",
    "    trial = study.best_trial\n",
    "\n",
    "    print(\"  Value: \", trial.value)\n",
    "\n",
    "    print(\"  Params: \")\n",
    "    for key, value in trial.params.items():\n",
    "      print(\"    {}: {}\".format(key, value))\n",
    "    \n",
    "    with open('PROJECT_SA/params_best_model_FFNN_hp', 'wb') as f:\n",
    "      pickle.dump(trial.params, f)\n",
    "\n",
    "    with open(\"{}.pickle\".format(study.best_trial.number), \"rb\") as fin:\n",
    "      best_model = pickle.load(fin)\n",
    "    \n",
    "    # store only best model\n",
    "    self.best_model = best_model\n",
    "\n",
    "  def save_best_model(self, path):\n",
    "    # remove last layers of the model\n",
    "    model_param = self.best_model.state_dict()\n",
    "    \n",
    "    for key,value in model_param.copy().items():\n",
    "      if re.findall('single', key):\n",
    "        del model_param[str(key)]\n",
    "\n",
    "    # save model with best hyperparameters on google drive\n",
    "    basepath = 'PROJECT_SA'\n",
    "    path = os.path.join(basepath, path)\n",
    "\n",
    "    torch.save(model_param, path)\n",
    "\n",
    "    return model_param\n",
    "\n"
   ]
  },
  {
   "cell_type": "code",
   "execution_count": null,
   "metadata": {},
   "outputs": [],
   "source": [
    "from tqdm.auto import tqdm\n",
    "\n",
    "def fit_multimodal(\n",
    "    model, \n",
    "    train_loaders, \n",
    "    test_loaders, \n",
    "    criterion, \n",
    "    optimizer, \n",
    "    num_epochs,\n",
    "    filename_path,\n",
    "    verbose=True\n",
    "        ): \n",
    "\n",
    "# keeping-track-of-losses \n",
    "  train_losses = []\n",
    "  test_losses = []\n",
    "  f1_train_scores = []\n",
    "  f1_test_scores = []\n",
    "\n",
    "  model = model.double()\n",
    "\n",
    "  for epoch in tqdm(range(1, num_epochs + 1)):\n",
    "    # keep-track-of-training-and-validation-loss\n",
    "    train_loss = 0.0\n",
    "    test_loss = 0.0\n",
    "    \n",
    "    f1_train = 0.0\n",
    "    f1_test = 0.0\n",
    "      \n",
    "    PATH = os.path.join(basepath, filename_path)\n",
    "    \n",
    "    if os.path.exists(PATH):\n",
    "      checkpoint = torch.load(PATH)\n",
    "      model.load_state_dict(checkpoint)\n",
    "\n",
    "    else:\n",
    "    # training-the-model\n",
    "      model.train()\n",
    "      for load1, load2, load3 in tqdm(train_loaders, desc='Training model'):\n",
    "        x_1, target1, target2, target3 = load1\n",
    "        x_2, _,_,_ = load2\n",
    "        x_3, _,_,_ = load3\n",
    "\n",
    "       #  assert label_left == label_central and label_left == label_right\n",
    "\n",
    "        # clear-the-gradients-of-all-optimized-variables\n",
    "        optimizer.zero_grad()\n",
    "        # forward-pass: compute-predicted-outputs-by-passing-inputs-to-the-model\n",
    "        output1, output2, output3 = model([x_1.double(), x_2.double(), x_3.double()])\n",
    "        # calculate-the-batch-loss\n",
    "        loss = criterion(output1, target1) + criterion(output2, target2) + criterion(output3, target3)\n",
    "        # backward-pass: compute-gradient-of-the-loss-wrt-model-parameters\n",
    "        loss.backward()\n",
    "        # perform-a-ingle-optimization-step (parameter-update)\n",
    "        optimizer.step()\n",
    "        # update-training-loss\n",
    "        train_loss += loss.item() \n",
    "\n",
    "        f1_train = (( F1(output1,target1) + F1(output2,target2) + F1(output3,target3) )/3)*len(target1)\n",
    "          #accuracy_train = accuracy(output, target)\n",
    "\n",
    "        \n",
    "    # validate-the-model\n",
    "    model.eval()\n",
    "    for load1, load2, load3 in tqdm(test_loaders, desc='Testing model'):\n",
    "      x_1, target1, target2, target3 = load1\n",
    "      x_2, _,_,_ = load2\n",
    "      x_3, _,_,_ = load3\n",
    "\n",
    "      #  assert label_left == label_central and label_left == label_right\n",
    "      output1, output2, output3 = model([x_1.double(), x_2.double(), x_3.double()])\n",
    "      loss = criterion(output1, target1) + criterion(output2, target2) + criterion(output3, target3)\n",
    "      # update-average-validation-loss \n",
    "      test_loss += loss.item() \n",
    "      f1_test = (( F1(output1,target1) + F1(output2,target2) + F1(output3,target3) )/3)*len(target1)\n",
    "  \n",
    "\n",
    "    # calculate-average-losses\n",
    "    train_losses.append(train_loss)\n",
    "    test_losses.append(test_loss)\n",
    "    \n",
    "    f1_train /= len(train_loader)\n",
    "    f1_test /= len(test_loader)\n",
    "    \n",
    "    f1_train_scores.append(f1_train)    \n",
    "    f1_test_scores.append(f1_test)\n",
    "    \n",
    "    # save the model at each epoch\n",
    "    model_param = model.state_dict()\n",
    "    path = os.path.join(basepath, filename_path)\n",
    "    torch.save(model_param, path)\n",
    "\n",
    "    # print-training/validation-statistics \n",
    "    if verbose == True:\n",
    "      print('Epoch: {} \\tTraining Loss: {:.6f} \\tTest Loss: {:.6f} \\tTraining F1 Score : {:.6f} \\tTest F1 Score: {:.6f}'.format(\n",
    "      epoch, train_loss, test_loss, f1_train, f1_test))\n",
    "\n",
    "  # return the scores at each epoch\n",
    "  return f1_test_scores, f1_train_scores"
   ]
  },
  {
   "cell_type": "code",
   "execution_count": null,
   "metadata": {},
   "outputs": [],
   "source": [
    "import torch.nn as nn\n",
    "\n",
    "class FFNN_multitask_pre(nn.Module):\n",
    "  def __init__(self):\n",
    "    super(FFNN_multitask, self).__init__()\n",
    " # batch_size * input variables # [500, 261]\n",
    "    \n",
    "    self.layer1 = nn.Sequential(\n",
    "        nn.Linear(261, 4000), # 500x261 and 130500x4000\n",
    "        nn.ReLU(),\n",
    "        nn.Linear(4000, 2000),\n",
    "        nn.ReLU()) \n",
    "\n",
    "    self.drop_out1 = nn.Dropout(p=0.3)\n",
    "\n",
    "  def forward(self, x):\n",
    "      \n",
    "      # first block in common\n",
    "    out = self.layer1(x)\n",
    "    out = self.drop_out1(out)\n",
    "    out = out.reshape(out.size(0), -1) \n",
    " \n",
    "    return out"
   ]
  },
  {
   "cell_type": "code",
   "execution_count": null,
   "metadata": {},
   "outputs": [],
   "source": [
    "import torch.nn as nn\n",
    "\n",
    "class CNN_multitask_pre(nn.Module):\n",
    "  def __init__(self):\n",
    "    super(CNN_multitask, self).__init__()\n",
    "    \n",
    "    self.layer1 = nn.Sequential(\n",
    "            nn.Conv2d(2, 32, kernel_size=5, stride=1, padding=2), #The average word length in English language is 4.7 characters.\n",
    "            nn.BatchNorm2d(32), \n",
    "            nn.ReLU(),\n",
    "            nn.MaxPool2d(kernel_size=3, stride=2))\n",
    "\n",
    "    self.layer2 = nn.Sequential(\n",
    "            nn.Conv2d(32, 32, kernel_size=5, stride=1, padding=2),\n",
    "            nn.BatchNorm2d(32),\n",
    "            nn.ReLU(),\n",
    "            nn.MaxPool2d(kernel_size=3, stride=2))\n",
    "        \n",
    "    self.drop_out1 = nn.Dropout(p=0.3)\n",
    "    self.drop_out2 = nn.Dropout(p=0.4)\n",
    "\n",
    "\n",
    "  def forward(self, x):\n",
    "      \n",
    "      # first blocks in common\n",
    "    out = self.layer1(x)\n",
    "    out = self.drop_out1(out)\n",
    "    out = self.layer2(out)\n",
    "    out = self.drop_out2(out)\n",
    "    out = out.reshape(out.size(0), -1) \n",
    " \n",
    "    return out"
   ]
  },
  {
   "cell_type": "code",
   "execution_count": null,
   "metadata": {},
   "outputs": [],
   "source": [
    "import torch.nn as nn\n",
    "import torch.optim as optim\n",
    "\n",
    "\n",
    "class MultimodalMultitask_NN(nn.Module):\n",
    "  def __init__(self, device, n_classes, hyperparameters_tuning=False, args=None):\n",
    "    super(MultimodalMultitask_NN, self).__init__()\n",
    "    #Like in other object-oriented languages, it allows you to call \n",
    "    #methods of the superclass in your subclass. The primary use case of \n",
    "    #this is to extend the functionality of the inherited method.\n",
    "    \n",
    "    # input parameters\n",
    "    self.device = device\n",
    "    self.n_classes = n_classes\n",
    "    self.args = args\n",
    "    self.hyperparameters_tuning = hyperparameters_tuning\n",
    "\n",
    "    \n",
    "    # VGG convolutional neural network\n",
    "    self.FFNN_multitask = FFNN_multitask_pre()\n",
    "    self.CNN_multitask = CNN_multitask_pre()\n",
    "    self.ENC_CNN_multitask = ENC_CNN_multitask_pre()\n",
    "\n",
    "    # load previously trained models to find optimal hyperparameters\n",
    "    if self.hyperparameters_tuning:\n",
    "      load_model(self.FFNN_multitask, 'best_model_FFNN_hp.pt')\n",
    "      load_model(self.CNN_multitask, 'best_model_CNN_hp.pt')\n",
    "      load_model(self.ENC_CNN_multitask, 'best_model_ENC_CNN_hp.pt')\n",
    "    \n",
    "    # load previously trained models for final testing\n",
    "    else:\n",
    "      load_model(self.FFNN_multitask, 'best_model_FFNN_test.pt')\n",
    "      load_model(self.CNN_multitask, 'best_model_CNN_test.pt')\n",
    "      load_model(self.ENC_CNN_multitask, 'best_model_ENC_CNN_test.pt')\n",
    "\n",
    "    # freeze layers\n",
    "    for param in self.FFNN_multitask.parameters():\n",
    "      param.requires_grad = False\n",
    "    for param in self.CNN_multitask.parameters():\n",
    "      param.requires_grad = False\n",
    "    for param in self.ENC_CNN_multitask.parameters():\n",
    "      param.requires_grad = False\n",
    "      \n",
    "    #self.pre_output_size = (5*64*16) #5120\n",
    "\n",
    "    # post concat layers\n",
    "\n",
    "    self.post_layer1 = nn.Sequential(\n",
    "        nn.Linear(261, 4000), # 500x261 and 130500x4000\n",
    "        nn.ReLU()) \n",
    "\n",
    "    self.single_post_layer2_1 = nn.Sequential(\n",
    "    nn.Linear(2000, 1000),\n",
    "    nn.ReLU())\n",
    "\n",
    "    self.single_post_layer2_2 = nn.Sequential(\n",
    "    nn.Linear(2000, 1000),\n",
    "    nn.ReLU())\n",
    "\n",
    "    self.single_post_layer2_3 = nn.Sequential(\n",
    "    nn.Linear(2000, 1000),\n",
    "    nn.ReLU())\n",
    "\n",
    "    self.single_post_last_layer1 = nn.Linear(1000, 2) \n",
    "    self.single_post_last_layer2 = nn.Linear(1000, 2)\n",
    "    self.single_post_last_layer3 = nn.Linear(1000, 2)  \n",
    "\n",
    "    self.drop_out1 = nn.Dropout(p=0.3)\n",
    "    self.drop_out2 = nn.Dropout(p=0.4) \n",
    "\n",
    "  \n",
    "  def forward(self, x):\n",
    "\n",
    "    x_1, x_2, x_3 = x\n",
    "\n",
    "    out_1 = self.FFNN_multitask(x_1)\n",
    "    out_2 = self.CNN_multitask(x_2)\n",
    "    out_3 = self.ENC_CNN_multitask(x_3)\n",
    "\n",
    "    \n",
    "    # concat layer\n",
    "    out = torch.cat((out_1, out_2, out_3), dim=1)\n",
    "\n",
    "    # final layer in common\n",
    "    out = self.post_layer1(out)\n",
    "    out = self.drop_out1(out)\n",
    "\n",
    "    # final single layers\n",
    "    out1 = self.single_post_layer2_1(out)\n",
    "    out1 = self.drop_out2(out1)\n",
    "    out1 = self.single_post_last_layer1(out1)\n",
    "\n",
    "    out2 = self.single_post_layer2_2(out)\n",
    "    out2 = self.drop_out2(out2)\n",
    "    out2 = self.single_post_last_layer2(out2)\n",
    "\n",
    "    out3 = self.single_post_layer2_3(out)\n",
    "    out3 = self.drop_out2(out3)\n",
    "    out3 = self.single_post_last_layer3(out3)\n",
    "\n",
    "    # output softmax\n",
    "    return out1, out2, out3\n",
    "    \n",
    "   # return nn.functional.log_softmax(output, dim=-1) #not needed since it's already applied\n",
    "   #by cross-entropy loss"
   ]
  },
  {
   "cell_type": "markdown",
   "metadata": {},
   "source": [
    "### Hyperparameters tuning"
   ]
  },
  {
   "cell_type": "code",
   "execution_count": null,
   "metadata": {},
   "outputs": [],
   "source": [
    "train_loader_1, test_loader_1 = build_DataLoader(\n",
    "        data_path='dataset_cleansed_version.csv',\n",
    "        network_type='FFNN', \n",
    "        usage='hyper_tuning'\n",
    "    )\n",
    "\n",
    "train_loader_2, test_loader_2 = build_DataLoader(\n",
    "        data_path='dataset_cleansed_version.csv',\n",
    "        network_type='CNN', \n",
    "        usage='hyper_tuning'\n",
    "    )\n",
    "\n",
    "train_loader_3, test_loader_3 = build_DataLoader(\n",
    "        data_path='dataset_cleansed_version.csv',\n",
    "        network_type='ENC_CNN', \n",
    "        usage='hyper_tuning'\n",
    "    )"
   ]
  },
  {
   "cell_type": "code",
   "execution_count": null,
   "metadata": {},
   "outputs": [],
   "source": [
    "model=MultimodalMultitask_NN(fc_layer_size=3840)\n",
    "\n",
    "if torch.cuda.device_count() >= 1:\n",
    "  print(\"Let's use\", torch.cuda.device_count(), \"GPUs!\")\n",
    "  model = nn.DataParallel(model)\n",
    "\n",
    "model.to(device)"
   ]
  },
  {
   "cell_type": "code",
   "execution_count": null,
   "metadata": {},
   "outputs": [],
   "source": [
    "num_epochs = 1\n",
    "criterion = nn.CrossEntropyLoss()"
   ]
  },
  {
   "cell_type": "code",
   "execution_count": null,
   "metadata": {},
   "outputs": [],
   "source": [
    "param_search = Param_Search_Multimodal(\n",
    "    model, \n",
    "    zip(train_loader_1, train_loader_2, train_loader_3), \n",
    "    zip(test_loader_1, test_loader_2, test_loader_3),\n",
    "    criterion, \n",
    "    num_epochs, \n",
    "    n_trials=1,\n",
    "    study_name='hp_MM'\n",
    "    )\n",
    "\n",
    "param_search.run_trial()\n",
    "best_model_MM_hp = grid_search.save_best_model('best_model_MM_hp.pt', network_type='MM')"
   ]
  },
  {
   "cell_type": "markdown",
   "metadata": {},
   "source": [
    "### Model Testing"
   ]
  },
  {
   "cell_type": "code",
   "execution_count": null,
   "metadata": {},
   "outputs": [],
   "source": [
    "train_loader_1, test_loader_1 = build_DataLoader(\n",
    "        data_path='dataset_cleansed_version.csv',\n",
    "        network_type='FFNN', \n",
    "        usage='model_testing'\n",
    "    )\n",
    "\n",
    "train_loader_2, test_loader_2 = build_DataLoader(\n",
    "        data_path='dataset_cleansed_version.csv',\n",
    "        network_type='CNN', \n",
    "        usage='model_testing'\n",
    "    )\n",
    "\n",
    "train_loader_3, test_loader_3 = build_DataLoader(\n",
    "        data_path='dataset_cleansed_version.csv',\n",
    "        network_type='ENC_CNN', \n",
    "        usage='model_testing'\n",
    "    )"
   ]
  },
  {
   "cell_type": "code",
   "execution_count": null,
   "metadata": {},
   "outputs": [],
   "source": [
    "num_epochs = 1\n",
    "criterion = nn.CrossEntropyLoss()"
   ]
  },
  {
   "cell_type": "code",
   "execution_count": 54,
   "metadata": {},
   "outputs": [],
   "source": [
    "import sqlite3\n",
    "engine = create_engine('sqlite:///SA_optuna_tuning.db')\n",
    "\n",
    "study_name = 'example-study'  # Unique identifier of the study.\n",
    "study = optuna.create_study(study_name=study_name, storage='sqlite:///SA_optuna_tuning.db', load_if_exists=True))"
   ]
  },
  {
   "cell_type": "code",
   "execution_count": 55,
   "metadata": {},
   "outputs": [],
   "source": []
  },
  {
   "cell_type": "code",
   "execution_count": null,
   "metadata": {},
   "outputs": [],
   "source": []
  }
 ],
 "metadata": {
  "accelerator": "GPU",
  "colab": {
   "collapsed_sections": [
    "siH6x1pAG7Sd",
    "RrNPwlwXtGT9",
    "lnqCQkSztGUL"
   ],
   "name": "Sentiment Analysis project.ipynb",
   "provenance": [],
   "toc_visible": true
  },
  "environment": {
   "name": "pytorch-gpu.1-8.m69",
   "type": "gcloud",
   "uri": "gcr.io/deeplearning-platform-release/pytorch-gpu.1-8:m69"
  },
  "kernelspec": {
   "display_name": "Python 3",
   "language": "python",
   "name": "python3"
  },
  "language_info": {
   "codemirror_mode": {
    "name": "ipython",
    "version": 3
   },
   "file_extension": ".py",
   "mimetype": "text/x-python",
   "name": "python",
   "nbconvert_exporter": "python",
   "pygments_lexer": "ipython3",
   "version": "3.7.10"
  },
  "latex_envs": {
   "LaTeX_envs_menu_present": true,
   "autoclose": false,
   "autocomplete": true,
   "bibliofile": "biblio.bib",
   "cite_by": "apalike",
   "current_citInitial": 1,
   "eqLabelWithNumbers": true,
   "eqNumInitial": 1,
   "hotkeys": {
    "equation": "Ctrl-E",
    "itemize": "Ctrl-I"
   },
   "labels_anchors": false,
   "latex_user_defs": false,
   "report_style_numbering": false,
   "user_envs_cfg": false
  },
  "widgets": {
   "application/vnd.jupyter.widget-state+json": {
    "0089e545bdae45e1be92e9291e1822ea": {
     "model_module": "@jupyter-widgets/base",
     "model_name": "LayoutModel",
     "state": {
      "_model_module": "@jupyter-widgets/base",
      "_model_module_version": "1.2.0",
      "_model_name": "LayoutModel",
      "_view_count": null,
      "_view_module": "@jupyter-widgets/base",
      "_view_module_version": "1.2.0",
      "_view_name": "LayoutView",
      "align_content": null,
      "align_items": null,
      "align_self": null,
      "border": null,
      "bottom": null,
      "display": null,
      "flex": null,
      "flex_flow": null,
      "grid_area": null,
      "grid_auto_columns": null,
      "grid_auto_flow": null,
      "grid_auto_rows": null,
      "grid_column": null,
      "grid_gap": null,
      "grid_row": null,
      "grid_template_areas": null,
      "grid_template_columns": null,
      "grid_template_rows": null,
      "height": null,
      "justify_content": null,
      "justify_items": null,
      "left": null,
      "margin": null,
      "max_height": null,
      "max_width": null,
      "min_height": null,
      "min_width": null,
      "object_fit": null,
      "object_position": null,
      "order": null,
      "overflow": null,
      "overflow_x": null,
      "overflow_y": null,
      "padding": null,
      "right": null,
      "top": null,
      "visibility": null,
      "width": null
     }
    },
    "012e0e5ac2ec4fada291b58249c7d6c2": {
     "model_module": "@jupyter-widgets/controls",
     "model_name": "ProgressStyleModel",
     "state": {
      "_model_module": "@jupyter-widgets/controls",
      "_model_module_version": "1.5.0",
      "_model_name": "ProgressStyleModel",
      "_view_count": null,
      "_view_module": "@jupyter-widgets/base",
      "_view_module_version": "1.2.0",
      "_view_name": "StyleView",
      "bar_color": null,
      "description_width": "initial"
     }
    },
    "0205cfa4a7d2444bbed2bae671c1936a": {
     "model_module": "@jupyter-widgets/base",
     "model_name": "LayoutModel",
     "state": {
      "_model_module": "@jupyter-widgets/base",
      "_model_module_version": "1.2.0",
      "_model_name": "LayoutModel",
      "_view_count": null,
      "_view_module": "@jupyter-widgets/base",
      "_view_module_version": "1.2.0",
      "_view_name": "LayoutView",
      "align_content": null,
      "align_items": null,
      "align_self": null,
      "border": null,
      "bottom": null,
      "display": null,
      "flex": null,
      "flex_flow": null,
      "grid_area": null,
      "grid_auto_columns": null,
      "grid_auto_flow": null,
      "grid_auto_rows": null,
      "grid_column": null,
      "grid_gap": null,
      "grid_row": null,
      "grid_template_areas": null,
      "grid_template_columns": null,
      "grid_template_rows": null,
      "height": null,
      "justify_content": null,
      "justify_items": null,
      "left": null,
      "margin": null,
      "max_height": null,
      "max_width": null,
      "min_height": null,
      "min_width": null,
      "object_fit": null,
      "object_position": null,
      "order": null,
      "overflow": null,
      "overflow_x": null,
      "overflow_y": null,
      "padding": null,
      "right": null,
      "top": null,
      "visibility": null,
      "width": null
     }
    },
    "0646ea6ea9c14236a68a9328deaba1a4": {
     "model_module": "@jupyter-widgets/controls",
     "model_name": "HTMLModel",
     "state": {
      "_dom_classes": [],
      "_model_module": "@jupyter-widgets/controls",
      "_model_module_version": "1.5.0",
      "_model_name": "HTMLModel",
      "_view_count": null,
      "_view_module": "@jupyter-widgets/controls",
      "_view_module_version": "1.5.0",
      "_view_name": "HTMLView",
      "description": "",
      "description_tooltip": null,
      "layout": "IPY_MODEL_4dc26b91240944d08187f6c909f7174a",
      "placeholder": "​",
      "style": "IPY_MODEL_fd587c922a224681a9964eead04cb878",
      "value": " 13842/13842 [20:53&lt;00:00, 11.04it/s]"
     }
    },
    "0cdf2591f2304b0ab4430941fe469734": {
     "model_module": "@jupyter-widgets/controls",
     "model_name": "DescriptionStyleModel",
     "state": {
      "_model_module": "@jupyter-widgets/controls",
      "_model_module_version": "1.5.0",
      "_model_name": "DescriptionStyleModel",
      "_view_count": null,
      "_view_module": "@jupyter-widgets/base",
      "_view_module_version": "1.2.0",
      "_view_name": "StyleView",
      "description_width": ""
     }
    },
    "0fcd25f365364a7b846145f04a9fced6": {
     "model_module": "@jupyter-widgets/controls",
     "model_name": "HTMLModel",
     "state": {
      "_dom_classes": [],
      "_model_module": "@jupyter-widgets/controls",
      "_model_module_version": "1.5.0",
      "_model_name": "HTMLModel",
      "_view_count": null,
      "_view_module": "@jupyter-widgets/controls",
      "_view_module_version": "1.5.0",
      "_view_name": "HTMLView",
      "description": "",
      "description_tooltip": null,
      "layout": "IPY_MODEL_7bf4114faae945d6abf14bea4301a541",
      "placeholder": "​",
      "style": "IPY_MODEL_8db8858db7214e468a8e9afcdbf6e9a2",
      "value": " 13842/13842 [21:25&lt;00:00, 10.77it/s]"
     }
    },
    "1022fa848b4c45a4b155a4d4c58f86a1": {
     "model_module": "@jupyter-widgets/base",
     "model_name": "LayoutModel",
     "state": {
      "_model_module": "@jupyter-widgets/base",
      "_model_module_version": "1.2.0",
      "_model_name": "LayoutModel",
      "_view_count": null,
      "_view_module": "@jupyter-widgets/base",
      "_view_module_version": "1.2.0",
      "_view_name": "LayoutView",
      "align_content": null,
      "align_items": null,
      "align_self": null,
      "border": null,
      "bottom": null,
      "display": null,
      "flex": null,
      "flex_flow": null,
      "grid_area": null,
      "grid_auto_columns": null,
      "grid_auto_flow": null,
      "grid_auto_rows": null,
      "grid_column": null,
      "grid_gap": null,
      "grid_row": null,
      "grid_template_areas": null,
      "grid_template_columns": null,
      "grid_template_rows": null,
      "height": null,
      "justify_content": null,
      "justify_items": null,
      "left": null,
      "margin": null,
      "max_height": null,
      "max_width": null,
      "min_height": null,
      "min_width": null,
      "object_fit": null,
      "object_position": null,
      "order": null,
      "overflow": null,
      "overflow_x": null,
      "overflow_y": null,
      "padding": null,
      "right": null,
      "top": null,
      "visibility": null,
      "width": null
     }
    },
    "1672c4b6898c4b3e9f7740169477fcee": {
     "model_module": "@jupyter-widgets/base",
     "model_name": "LayoutModel",
     "state": {
      "_model_module": "@jupyter-widgets/base",
      "_model_module_version": "1.2.0",
      "_model_name": "LayoutModel",
      "_view_count": null,
      "_view_module": "@jupyter-widgets/base",
      "_view_module_version": "1.2.0",
      "_view_name": "LayoutView",
      "align_content": null,
      "align_items": null,
      "align_self": null,
      "border": null,
      "bottom": null,
      "display": null,
      "flex": null,
      "flex_flow": null,
      "grid_area": null,
      "grid_auto_columns": null,
      "grid_auto_flow": null,
      "grid_auto_rows": null,
      "grid_column": null,
      "grid_gap": null,
      "grid_row": null,
      "grid_template_areas": null,
      "grid_template_columns": null,
      "grid_template_rows": null,
      "height": null,
      "justify_content": null,
      "justify_items": null,
      "left": null,
      "margin": null,
      "max_height": null,
      "max_width": null,
      "min_height": null,
      "min_width": null,
      "object_fit": null,
      "object_position": null,
      "order": null,
      "overflow": null,
      "overflow_x": null,
      "overflow_y": null,
      "padding": null,
      "right": null,
      "top": null,
      "visibility": null,
      "width": null
     }
    },
    "18d3d2a128a7456aa8b49f34df5a637d": {
     "model_module": "@jupyter-widgets/base",
     "model_name": "LayoutModel",
     "state": {
      "_model_module": "@jupyter-widgets/base",
      "_model_module_version": "1.2.0",
      "_model_name": "LayoutModel",
      "_view_count": null,
      "_view_module": "@jupyter-widgets/base",
      "_view_module_version": "1.2.0",
      "_view_name": "LayoutView",
      "align_content": null,
      "align_items": null,
      "align_self": null,
      "border": null,
      "bottom": null,
      "display": null,
      "flex": null,
      "flex_flow": null,
      "grid_area": null,
      "grid_auto_columns": null,
      "grid_auto_flow": null,
      "grid_auto_rows": null,
      "grid_column": null,
      "grid_gap": null,
      "grid_row": null,
      "grid_template_areas": null,
      "grid_template_columns": null,
      "grid_template_rows": null,
      "height": null,
      "justify_content": null,
      "justify_items": null,
      "left": null,
      "margin": null,
      "max_height": null,
      "max_width": null,
      "min_height": null,
      "min_width": null,
      "object_fit": null,
      "object_position": null,
      "order": null,
      "overflow": null,
      "overflow_x": null,
      "overflow_y": null,
      "padding": null,
      "right": null,
      "top": null,
      "visibility": null,
      "width": null
     }
    },
    "19df7d834fb945d2895d1e830c384452": {
     "model_module": "@jupyter-widgets/base",
     "model_name": "LayoutModel",
     "state": {
      "_model_module": "@jupyter-widgets/base",
      "_model_module_version": "1.2.0",
      "_model_name": "LayoutModel",
      "_view_count": null,
      "_view_module": "@jupyter-widgets/base",
      "_view_module_version": "1.2.0",
      "_view_name": "LayoutView",
      "align_content": null,
      "align_items": null,
      "align_self": null,
      "border": null,
      "bottom": null,
      "display": null,
      "flex": null,
      "flex_flow": null,
      "grid_area": null,
      "grid_auto_columns": null,
      "grid_auto_flow": null,
      "grid_auto_rows": null,
      "grid_column": null,
      "grid_gap": null,
      "grid_row": null,
      "grid_template_areas": null,
      "grid_template_columns": null,
      "grid_template_rows": null,
      "height": null,
      "justify_content": null,
      "justify_items": null,
      "left": null,
      "margin": null,
      "max_height": null,
      "max_width": null,
      "min_height": null,
      "min_width": null,
      "object_fit": null,
      "object_position": null,
      "order": null,
      "overflow": null,
      "overflow_x": null,
      "overflow_y": null,
      "padding": null,
      "right": null,
      "top": null,
      "visibility": null,
      "width": null
     }
    },
    "1fac0f11109a4f4091662bdce1bdb63d": {
     "model_module": "@jupyter-widgets/base",
     "model_name": "LayoutModel",
     "state": {
      "_model_module": "@jupyter-widgets/base",
      "_model_module_version": "1.2.0",
      "_model_name": "LayoutModel",
      "_view_count": null,
      "_view_module": "@jupyter-widgets/base",
      "_view_module_version": "1.2.0",
      "_view_name": "LayoutView",
      "align_content": null,
      "align_items": null,
      "align_self": null,
      "border": null,
      "bottom": null,
      "display": null,
      "flex": null,
      "flex_flow": null,
      "grid_area": null,
      "grid_auto_columns": null,
      "grid_auto_flow": null,
      "grid_auto_rows": null,
      "grid_column": null,
      "grid_gap": null,
      "grid_row": null,
      "grid_template_areas": null,
      "grid_template_columns": null,
      "grid_template_rows": null,
      "height": null,
      "justify_content": null,
      "justify_items": null,
      "left": null,
      "margin": null,
      "max_height": null,
      "max_width": null,
      "min_height": null,
      "min_width": null,
      "object_fit": null,
      "object_position": null,
      "order": null,
      "overflow": null,
      "overflow_x": null,
      "overflow_y": null,
      "padding": null,
      "right": null,
      "top": null,
      "visibility": null,
      "width": null
     }
    },
    "20c67b023c314f459d83e74d1552987c": {
     "model_module": "@jupyter-widgets/controls",
     "model_name": "HBoxModel",
     "state": {
      "_dom_classes": [],
      "_model_module": "@jupyter-widgets/controls",
      "_model_module_version": "1.5.0",
      "_model_name": "HBoxModel",
      "_view_count": null,
      "_view_module": "@jupyter-widgets/controls",
      "_view_module_version": "1.5.0",
      "_view_name": "HBoxView",
      "box_style": "",
      "children": [
       "IPY_MODEL_d0a93a667d32494884e0dc4509c23d6c",
       "IPY_MODEL_6d5062101f604c37b742c05db0ae5ed7"
      ],
      "layout": "IPY_MODEL_c8e96d98a36f4a0e87bfab4fcdc734d3"
     }
    },
    "250ac763569f48949b5f3d4c29f85a66": {
     "model_module": "@jupyter-widgets/controls",
     "model_name": "FloatProgressModel",
     "state": {
      "_dom_classes": [],
      "_model_module": "@jupyter-widgets/controls",
      "_model_module_version": "1.5.0",
      "_model_name": "FloatProgressModel",
      "_view_count": null,
      "_view_module": "@jupyter-widgets/controls",
      "_view_module_version": "1.5.0",
      "_view_name": "ProgressView",
      "bar_style": "success",
      "description": "Passing dataset: 100%",
      "description_tooltip": null,
      "layout": "IPY_MODEL_d1f69fa601e543b48270e5451ee79acb",
      "max": 13842,
      "min": 0,
      "orientation": "horizontal",
      "style": "IPY_MODEL_85c44eeb249a4ea6846edc871811e9de",
      "value": 13842
     }
    },
    "259ee96f5679439b96ba77298f6f3533": {
     "model_module": "@jupyter-widgets/controls",
     "model_name": "FloatProgressModel",
     "state": {
      "_dom_classes": [],
      "_model_module": "@jupyter-widgets/controls",
      "_model_module_version": "1.5.0",
      "_model_name": "FloatProgressModel",
      "_view_count": null,
      "_view_module": "@jupyter-widgets/controls",
      "_view_module_version": "1.5.0",
      "_view_name": "ProgressView",
      "bar_style": "success",
      "description": "Passing dataset: 100%",
      "description_tooltip": null,
      "layout": "IPY_MODEL_c5ff7b1ffcb24cfeb0d2eee7ec61176b",
      "max": 13842,
      "min": 0,
      "orientation": "horizontal",
      "style": "IPY_MODEL_4a3aeb74174140e1adee2202777a3b43",
      "value": 13842
     }
    },
    "26320fde959f4656b5d455064bc6da50": {
     "model_module": "@jupyter-widgets/base",
     "model_name": "LayoutModel",
     "state": {
      "_model_module": "@jupyter-widgets/base",
      "_model_module_version": "1.2.0",
      "_model_name": "LayoutModel",
      "_view_count": null,
      "_view_module": "@jupyter-widgets/base",
      "_view_module_version": "1.2.0",
      "_view_name": "LayoutView",
      "align_content": null,
      "align_items": null,
      "align_self": null,
      "border": null,
      "bottom": null,
      "display": null,
      "flex": null,
      "flex_flow": null,
      "grid_area": null,
      "grid_auto_columns": null,
      "grid_auto_flow": null,
      "grid_auto_rows": null,
      "grid_column": null,
      "grid_gap": null,
      "grid_row": null,
      "grid_template_areas": null,
      "grid_template_columns": null,
      "grid_template_rows": null,
      "height": null,
      "justify_content": null,
      "justify_items": null,
      "left": null,
      "margin": null,
      "max_height": null,
      "max_width": null,
      "min_height": null,
      "min_width": null,
      "object_fit": null,
      "object_position": null,
      "order": null,
      "overflow": null,
      "overflow_x": null,
      "overflow_y": null,
      "padding": null,
      "right": null,
      "top": null,
      "visibility": null,
      "width": null
     }
    },
    "2ac21822f0614c21b8ea151600fc2b5e": {
     "model_module": "@jupyter-widgets/controls",
     "model_name": "DescriptionStyleModel",
     "state": {
      "_model_module": "@jupyter-widgets/controls",
      "_model_module_version": "1.5.0",
      "_model_name": "DescriptionStyleModel",
      "_view_count": null,
      "_view_module": "@jupyter-widgets/base",
      "_view_module_version": "1.2.0",
      "_view_name": "StyleView",
      "description_width": ""
     }
    },
    "30b1b66c3a8249d8a825cf7166fb869b": {
     "model_module": "@jupyter-widgets/controls",
     "model_name": "FloatProgressModel",
     "state": {
      "_dom_classes": [],
      "_model_module": "@jupyter-widgets/controls",
      "_model_module_version": "1.5.0",
      "_model_name": "FloatProgressModel",
      "_view_count": null,
      "_view_module": "@jupyter-widgets/controls",
      "_view_module_version": "1.5.0",
      "_view_name": "ProgressView",
      "bar_style": "success",
      "description": "Passing dataset: 100%",
      "description_tooltip": null,
      "layout": "IPY_MODEL_bf3a50a0e86b463fbbafd7aec5f4165e",
      "max": 13842,
      "min": 0,
      "orientation": "horizontal",
      "style": "IPY_MODEL_c04c1cb4e68746c797f2d3c3e25b8737",
      "value": 13842
     }
    },
    "3282ece5908744c49749eed81304037a": {
     "model_module": "@jupyter-widgets/controls",
     "model_name": "HTMLModel",
     "state": {
      "_dom_classes": [],
      "_model_module": "@jupyter-widgets/controls",
      "_model_module_version": "1.5.0",
      "_model_name": "HTMLModel",
      "_view_count": null,
      "_view_module": "@jupyter-widgets/controls",
      "_view_module_version": "1.5.0",
      "_view_name": "HTMLView",
      "description": "",
      "description_tooltip": null,
      "layout": "IPY_MODEL_3348c7b3fc624e9991ba7e8f47256a14",
      "placeholder": "​",
      "style": "IPY_MODEL_dad677ed8c1a420fb07054c0e9ea8016",
      "value": " 13842/13842 [21:48&lt;00:00, 10.58it/s]"
     }
    },
    "3348c7b3fc624e9991ba7e8f47256a14": {
     "model_module": "@jupyter-widgets/base",
     "model_name": "LayoutModel",
     "state": {
      "_model_module": "@jupyter-widgets/base",
      "_model_module_version": "1.2.0",
      "_model_name": "LayoutModel",
      "_view_count": null,
      "_view_module": "@jupyter-widgets/base",
      "_view_module_version": "1.2.0",
      "_view_name": "LayoutView",
      "align_content": null,
      "align_items": null,
      "align_self": null,
      "border": null,
      "bottom": null,
      "display": null,
      "flex": null,
      "flex_flow": null,
      "grid_area": null,
      "grid_auto_columns": null,
      "grid_auto_flow": null,
      "grid_auto_rows": null,
      "grid_column": null,
      "grid_gap": null,
      "grid_row": null,
      "grid_template_areas": null,
      "grid_template_columns": null,
      "grid_template_rows": null,
      "height": null,
      "justify_content": null,
      "justify_items": null,
      "left": null,
      "margin": null,
      "max_height": null,
      "max_width": null,
      "min_height": null,
      "min_width": null,
      "object_fit": null,
      "object_position": null,
      "order": null,
      "overflow": null,
      "overflow_x": null,
      "overflow_y": null,
      "padding": null,
      "right": null,
      "top": null,
      "visibility": null,
      "width": null
     }
    },
    "34606c824c9e4223a6c3d49e633583db": {
     "model_module": "@jupyter-widgets/base",
     "model_name": "LayoutModel",
     "state": {
      "_model_module": "@jupyter-widgets/base",
      "_model_module_version": "1.2.0",
      "_model_name": "LayoutModel",
      "_view_count": null,
      "_view_module": "@jupyter-widgets/base",
      "_view_module_version": "1.2.0",
      "_view_name": "LayoutView",
      "align_content": null,
      "align_items": null,
      "align_self": null,
      "border": null,
      "bottom": null,
      "display": null,
      "flex": null,
      "flex_flow": null,
      "grid_area": null,
      "grid_auto_columns": null,
      "grid_auto_flow": null,
      "grid_auto_rows": null,
      "grid_column": null,
      "grid_gap": null,
      "grid_row": null,
      "grid_template_areas": null,
      "grid_template_columns": null,
      "grid_template_rows": null,
      "height": null,
      "justify_content": null,
      "justify_items": null,
      "left": null,
      "margin": null,
      "max_height": null,
      "max_width": null,
      "min_height": null,
      "min_width": null,
      "object_fit": null,
      "object_position": null,
      "order": null,
      "overflow": null,
      "overflow_x": null,
      "overflow_y": null,
      "padding": null,
      "right": null,
      "top": null,
      "visibility": null,
      "width": null
     }
    },
    "387274a4fb294a7fa44efe51e5312e58": {
     "model_module": "@jupyter-widgets/controls",
     "model_name": "ProgressStyleModel",
     "state": {
      "_model_module": "@jupyter-widgets/controls",
      "_model_module_version": "1.5.0",
      "_model_name": "ProgressStyleModel",
      "_view_count": null,
      "_view_module": "@jupyter-widgets/base",
      "_view_module_version": "1.2.0",
      "_view_name": "StyleView",
      "bar_color": null,
      "description_width": "initial"
     }
    },
    "3d5602ae97ca4cd3b089df4ff1fb1b44": {
     "model_module": "@jupyter-widgets/controls",
     "model_name": "ProgressStyleModel",
     "state": {
      "_model_module": "@jupyter-widgets/controls",
      "_model_module_version": "1.5.0",
      "_model_name": "ProgressStyleModel",
      "_view_count": null,
      "_view_module": "@jupyter-widgets/base",
      "_view_module_version": "1.2.0",
      "_view_name": "StyleView",
      "bar_color": null,
      "description_width": "initial"
     }
    },
    "3dd50a68dd85483c9491672fddf01469": {
     "model_module": "@jupyter-widgets/controls",
     "model_name": "HTMLModel",
     "state": {
      "_dom_classes": [],
      "_model_module": "@jupyter-widgets/controls",
      "_model_module_version": "1.5.0",
      "_model_name": "HTMLModel",
      "_view_count": null,
      "_view_module": "@jupyter-widgets/controls",
      "_view_module_version": "1.5.0",
      "_view_name": "HTMLView",
      "description": "",
      "description_tooltip": null,
      "layout": "IPY_MODEL_0089e545bdae45e1be92e9291e1822ea",
      "placeholder": "​",
      "style": "IPY_MODEL_0cdf2591f2304b0ab4430941fe469734",
      "value": " 13842/13842 [22:41&lt;00:00, 10.16it/s]"
     }
    },
    "3deacf40722745229f45d5a066d670e7": {
     "model_module": "@jupyter-widgets/controls",
     "model_name": "DescriptionStyleModel",
     "state": {
      "_model_module": "@jupyter-widgets/controls",
      "_model_module_version": "1.5.0",
      "_model_name": "DescriptionStyleModel",
      "_view_count": null,
      "_view_module": "@jupyter-widgets/base",
      "_view_module_version": "1.2.0",
      "_view_name": "StyleView",
      "description_width": ""
     }
    },
    "4349994353f24b9385d858518c0966dc": {
     "model_module": "@jupyter-widgets/controls",
     "model_name": "ProgressStyleModel",
     "state": {
      "_model_module": "@jupyter-widgets/controls",
      "_model_module_version": "1.5.0",
      "_model_name": "ProgressStyleModel",
      "_view_count": null,
      "_view_module": "@jupyter-widgets/base",
      "_view_module_version": "1.2.0",
      "_view_name": "StyleView",
      "bar_color": null,
      "description_width": "initial"
     }
    },
    "477301649ba94280887d6cff639ccd50": {
     "model_module": "@jupyter-widgets/controls",
     "model_name": "HTMLModel",
     "state": {
      "_dom_classes": [],
      "_model_module": "@jupyter-widgets/controls",
      "_model_module_version": "1.5.0",
      "_model_name": "HTMLModel",
      "_view_count": null,
      "_view_module": "@jupyter-widgets/controls",
      "_view_module_version": "1.5.0",
      "_view_name": "HTMLView",
      "description": "",
      "description_tooltip": null,
      "layout": "IPY_MODEL_1fac0f11109a4f4091662bdce1bdb63d",
      "placeholder": "​",
      "style": "IPY_MODEL_48764457cd0a4561b0c18f92241f2cae",
      "value": " 13842/13842 [21:28&lt;00:00, 10.74it/s]"
     }
    },
    "47ff5ab2104a40cca61e7c9faac8d537": {
     "model_module": "@jupyter-widgets/controls",
     "model_name": "DescriptionStyleModel",
     "state": {
      "_model_module": "@jupyter-widgets/controls",
      "_model_module_version": "1.5.0",
      "_model_name": "DescriptionStyleModel",
      "_view_count": null,
      "_view_module": "@jupyter-widgets/base",
      "_view_module_version": "1.2.0",
      "_view_name": "StyleView",
      "description_width": ""
     }
    },
    "48764457cd0a4561b0c18f92241f2cae": {
     "model_module": "@jupyter-widgets/controls",
     "model_name": "DescriptionStyleModel",
     "state": {
      "_model_module": "@jupyter-widgets/controls",
      "_model_module_version": "1.5.0",
      "_model_name": "DescriptionStyleModel",
      "_view_count": null,
      "_view_module": "@jupyter-widgets/base",
      "_view_module_version": "1.2.0",
      "_view_name": "StyleView",
      "description_width": ""
     }
    },
    "4a3aeb74174140e1adee2202777a3b43": {
     "model_module": "@jupyter-widgets/controls",
     "model_name": "ProgressStyleModel",
     "state": {
      "_model_module": "@jupyter-widgets/controls",
      "_model_module_version": "1.5.0",
      "_model_name": "ProgressStyleModel",
      "_view_count": null,
      "_view_module": "@jupyter-widgets/base",
      "_view_module_version": "1.2.0",
      "_view_name": "StyleView",
      "bar_color": null,
      "description_width": "initial"
     }
    },
    "4c05e7c3717f4908866e04a98854d99b": {
     "model_module": "@jupyter-widgets/base",
     "model_name": "LayoutModel",
     "state": {
      "_model_module": "@jupyter-widgets/base",
      "_model_module_version": "1.2.0",
      "_model_name": "LayoutModel",
      "_view_count": null,
      "_view_module": "@jupyter-widgets/base",
      "_view_module_version": "1.2.0",
      "_view_name": "LayoutView",
      "align_content": null,
      "align_items": null,
      "align_self": null,
      "border": null,
      "bottom": null,
      "display": null,
      "flex": null,
      "flex_flow": null,
      "grid_area": null,
      "grid_auto_columns": null,
      "grid_auto_flow": null,
      "grid_auto_rows": null,
      "grid_column": null,
      "grid_gap": null,
      "grid_row": null,
      "grid_template_areas": null,
      "grid_template_columns": null,
      "grid_template_rows": null,
      "height": null,
      "justify_content": null,
      "justify_items": null,
      "left": null,
      "margin": null,
      "max_height": null,
      "max_width": null,
      "min_height": null,
      "min_width": null,
      "object_fit": null,
      "object_position": null,
      "order": null,
      "overflow": null,
      "overflow_x": null,
      "overflow_y": null,
      "padding": null,
      "right": null,
      "top": null,
      "visibility": null,
      "width": null
     }
    },
    "4dc26b91240944d08187f6c909f7174a": {
     "model_module": "@jupyter-widgets/base",
     "model_name": "LayoutModel",
     "state": {
      "_model_module": "@jupyter-widgets/base",
      "_model_module_version": "1.2.0",
      "_model_name": "LayoutModel",
      "_view_count": null,
      "_view_module": "@jupyter-widgets/base",
      "_view_module_version": "1.2.0",
      "_view_name": "LayoutView",
      "align_content": null,
      "align_items": null,
      "align_self": null,
      "border": null,
      "bottom": null,
      "display": null,
      "flex": null,
      "flex_flow": null,
      "grid_area": null,
      "grid_auto_columns": null,
      "grid_auto_flow": null,
      "grid_auto_rows": null,
      "grid_column": null,
      "grid_gap": null,
      "grid_row": null,
      "grid_template_areas": null,
      "grid_template_columns": null,
      "grid_template_rows": null,
      "height": null,
      "justify_content": null,
      "justify_items": null,
      "left": null,
      "margin": null,
      "max_height": null,
      "max_width": null,
      "min_height": null,
      "min_width": null,
      "object_fit": null,
      "object_position": null,
      "order": null,
      "overflow": null,
      "overflow_x": null,
      "overflow_y": null,
      "padding": null,
      "right": null,
      "top": null,
      "visibility": null,
      "width": null
     }
    },
    "4f267cf2688143c7a0b43fb11d35d1ba": {
     "model_module": "@jupyter-widgets/controls",
     "model_name": "DescriptionStyleModel",
     "state": {
      "_model_module": "@jupyter-widgets/controls",
      "_model_module_version": "1.5.0",
      "_model_name": "DescriptionStyleModel",
      "_view_count": null,
      "_view_module": "@jupyter-widgets/base",
      "_view_module_version": "1.2.0",
      "_view_name": "StyleView",
      "description_width": ""
     }
    },
    "50e0266e5a35458485313eca32ce7b9d": {
     "model_module": "@jupyter-widgets/base",
     "model_name": "LayoutModel",
     "state": {
      "_model_module": "@jupyter-widgets/base",
      "_model_module_version": "1.2.0",
      "_model_name": "LayoutModel",
      "_view_count": null,
      "_view_module": "@jupyter-widgets/base",
      "_view_module_version": "1.2.0",
      "_view_name": "LayoutView",
      "align_content": null,
      "align_items": null,
      "align_self": null,
      "border": null,
      "bottom": null,
      "display": null,
      "flex": null,
      "flex_flow": null,
      "grid_area": null,
      "grid_auto_columns": null,
      "grid_auto_flow": null,
      "grid_auto_rows": null,
      "grid_column": null,
      "grid_gap": null,
      "grid_row": null,
      "grid_template_areas": null,
      "grid_template_columns": null,
      "grid_template_rows": null,
      "height": null,
      "justify_content": null,
      "justify_items": null,
      "left": null,
      "margin": null,
      "max_height": null,
      "max_width": null,
      "min_height": null,
      "min_width": null,
      "object_fit": null,
      "object_position": null,
      "order": null,
      "overflow": null,
      "overflow_x": null,
      "overflow_y": null,
      "padding": null,
      "right": null,
      "top": null,
      "visibility": null,
      "width": null
     }
    },
    "56a00e4a01544d7fb702aa0e6ebbdaec": {
     "model_module": "@jupyter-widgets/controls",
     "model_name": "HTMLModel",
     "state": {
      "_dom_classes": [],
      "_model_module": "@jupyter-widgets/controls",
      "_model_module_version": "1.5.0",
      "_model_name": "HTMLModel",
      "_view_count": null,
      "_view_module": "@jupyter-widgets/controls",
      "_view_module_version": "1.5.0",
      "_view_name": "HTMLView",
      "description": "",
      "description_tooltip": null,
      "layout": "IPY_MODEL_26320fde959f4656b5d455064bc6da50",
      "placeholder": "​",
      "style": "IPY_MODEL_a1a7093621f24a38b23a08b1a40d279d",
      "value": " 9/9 [00:33&lt;00:00,  3.71s/it]"
     }
    },
    "5ac952142be14b728cf978ac353211c9": {
     "model_module": "@jupyter-widgets/base",
     "model_name": "LayoutModel",
     "state": {
      "_model_module": "@jupyter-widgets/base",
      "_model_module_version": "1.2.0",
      "_model_name": "LayoutModel",
      "_view_count": null,
      "_view_module": "@jupyter-widgets/base",
      "_view_module_version": "1.2.0",
      "_view_name": "LayoutView",
      "align_content": null,
      "align_items": null,
      "align_self": null,
      "border": null,
      "bottom": null,
      "display": null,
      "flex": null,
      "flex_flow": null,
      "grid_area": null,
      "grid_auto_columns": null,
      "grid_auto_flow": null,
      "grid_auto_rows": null,
      "grid_column": null,
      "grid_gap": null,
      "grid_row": null,
      "grid_template_areas": null,
      "grid_template_columns": null,
      "grid_template_rows": null,
      "height": null,
      "justify_content": null,
      "justify_items": null,
      "left": null,
      "margin": null,
      "max_height": null,
      "max_width": null,
      "min_height": null,
      "min_width": null,
      "object_fit": null,
      "object_position": null,
      "order": null,
      "overflow": null,
      "overflow_x": null,
      "overflow_y": null,
      "padding": null,
      "right": null,
      "top": null,
      "visibility": null,
      "width": null
     }
    },
    "5d1206039ab445c78aa9fec83fcde5ac": {
     "model_module": "@jupyter-widgets/base",
     "model_name": "LayoutModel",
     "state": {
      "_model_module": "@jupyter-widgets/base",
      "_model_module_version": "1.2.0",
      "_model_name": "LayoutModel",
      "_view_count": null,
      "_view_module": "@jupyter-widgets/base",
      "_view_module_version": "1.2.0",
      "_view_name": "LayoutView",
      "align_content": null,
      "align_items": null,
      "align_self": null,
      "border": null,
      "bottom": null,
      "display": null,
      "flex": null,
      "flex_flow": null,
      "grid_area": null,
      "grid_auto_columns": null,
      "grid_auto_flow": null,
      "grid_auto_rows": null,
      "grid_column": null,
      "grid_gap": null,
      "grid_row": null,
      "grid_template_areas": null,
      "grid_template_columns": null,
      "grid_template_rows": null,
      "height": null,
      "justify_content": null,
      "justify_items": null,
      "left": null,
      "margin": null,
      "max_height": null,
      "max_width": null,
      "min_height": null,
      "min_width": null,
      "object_fit": null,
      "object_position": null,
      "order": null,
      "overflow": null,
      "overflow_x": null,
      "overflow_y": null,
      "padding": null,
      "right": null,
      "top": null,
      "visibility": null,
      "width": null
     }
    },
    "5eb2418c5c0a4a1c80360da943666d00": {
     "model_module": "@jupyter-widgets/base",
     "model_name": "LayoutModel",
     "state": {
      "_model_module": "@jupyter-widgets/base",
      "_model_module_version": "1.2.0",
      "_model_name": "LayoutModel",
      "_view_count": null,
      "_view_module": "@jupyter-widgets/base",
      "_view_module_version": "1.2.0",
      "_view_name": "LayoutView",
      "align_content": null,
      "align_items": null,
      "align_self": null,
      "border": null,
      "bottom": null,
      "display": null,
      "flex": null,
      "flex_flow": null,
      "grid_area": null,
      "grid_auto_columns": null,
      "grid_auto_flow": null,
      "grid_auto_rows": null,
      "grid_column": null,
      "grid_gap": null,
      "grid_row": null,
      "grid_template_areas": null,
      "grid_template_columns": null,
      "grid_template_rows": null,
      "height": null,
      "justify_content": null,
      "justify_items": null,
      "left": null,
      "margin": null,
      "max_height": null,
      "max_width": null,
      "min_height": null,
      "min_width": null,
      "object_fit": null,
      "object_position": null,
      "order": null,
      "overflow": null,
      "overflow_x": null,
      "overflow_y": null,
      "padding": null,
      "right": null,
      "top": null,
      "visibility": null,
      "width": null
     }
    },
    "5edebaf68aa8499394dbd81bbc370dad": {
     "model_module": "@jupyter-widgets/controls",
     "model_name": "FloatProgressModel",
     "state": {
      "_dom_classes": [],
      "_model_module": "@jupyter-widgets/controls",
      "_model_module_version": "1.5.0",
      "_model_name": "FloatProgressModel",
      "_view_count": null,
      "_view_module": "@jupyter-widgets/controls",
      "_view_module_version": "1.5.0",
      "_view_name": "ProgressView",
      "bar_style": "",
      "description": "Epochs:  30%",
      "description_tooltip": null,
      "layout": "IPY_MODEL_50e0266e5a35458485313eca32ce7b9d",
      "max": 30,
      "min": 0,
      "orientation": "horizontal",
      "style": "IPY_MODEL_f7473e317c0646cba95e9a1a3d98c7c6",
      "value": 9
     }
    },
    "5ef3f251c7824b46b9ed98e7b94f1be6": {
     "model_module": "@jupyter-widgets/base",
     "model_name": "LayoutModel",
     "state": {
      "_model_module": "@jupyter-widgets/base",
      "_model_module_version": "1.2.0",
      "_model_name": "LayoutModel",
      "_view_count": null,
      "_view_module": "@jupyter-widgets/base",
      "_view_module_version": "1.2.0",
      "_view_name": "LayoutView",
      "align_content": null,
      "align_items": null,
      "align_self": null,
      "border": null,
      "bottom": null,
      "display": null,
      "flex": null,
      "flex_flow": null,
      "grid_area": null,
      "grid_auto_columns": null,
      "grid_auto_flow": null,
      "grid_auto_rows": null,
      "grid_column": null,
      "grid_gap": null,
      "grid_row": null,
      "grid_template_areas": null,
      "grid_template_columns": null,
      "grid_template_rows": null,
      "height": null,
      "justify_content": null,
      "justify_items": null,
      "left": null,
      "margin": null,
      "max_height": null,
      "max_width": null,
      "min_height": null,
      "min_width": null,
      "object_fit": null,
      "object_position": null,
      "order": null,
      "overflow": null,
      "overflow_x": null,
      "overflow_y": null,
      "padding": null,
      "right": null,
      "top": null,
      "visibility": null,
      "width": null
     }
    },
    "62f02610636848ff927a8fe18d1b985f": {
     "model_module": "@jupyter-widgets/controls",
     "model_name": "ProgressStyleModel",
     "state": {
      "_model_module": "@jupyter-widgets/controls",
      "_model_module_version": "1.5.0",
      "_model_name": "ProgressStyleModel",
      "_view_count": null,
      "_view_module": "@jupyter-widgets/base",
      "_view_module_version": "1.2.0",
      "_view_name": "StyleView",
      "bar_color": null,
      "description_width": "initial"
     }
    },
    "64667ad48efe4a5791babecf1b2f0d37": {
     "model_module": "@jupyter-widgets/controls",
     "model_name": "FloatProgressModel",
     "state": {
      "_dom_classes": [],
      "_model_module": "@jupyter-widgets/controls",
      "_model_module_version": "1.5.0",
      "_model_name": "FloatProgressModel",
      "_view_count": null,
      "_view_module": "@jupyter-widgets/controls",
      "_view_module_version": "1.5.0",
      "_view_name": "ProgressView",
      "bar_style": "success",
      "description": "Passing dataset: 100%",
      "description_tooltip": null,
      "layout": "IPY_MODEL_1672c4b6898c4b3e9f7740169477fcee",
      "max": 13842,
      "min": 0,
      "orientation": "horizontal",
      "style": "IPY_MODEL_4349994353f24b9385d858518c0966dc",
      "value": 13842
     }
    },
    "67dc24be7b8941ddb72ad27a9e22b0a3": {
     "model_module": "@jupyter-widgets/controls",
     "model_name": "DescriptionStyleModel",
     "state": {
      "_model_module": "@jupyter-widgets/controls",
      "_model_module_version": "1.5.0",
      "_model_name": "DescriptionStyleModel",
      "_view_count": null,
      "_view_module": "@jupyter-widgets/base",
      "_view_module_version": "1.2.0",
      "_view_name": "StyleView",
      "description_width": ""
     }
    },
    "6d5062101f604c37b742c05db0ae5ed7": {
     "model_module": "@jupyter-widgets/controls",
     "model_name": "HTMLModel",
     "state": {
      "_dom_classes": [],
      "_model_module": "@jupyter-widgets/controls",
      "_model_module_version": "1.5.0",
      "_model_name": "HTMLModel",
      "_view_count": null,
      "_view_module": "@jupyter-widgets/controls",
      "_view_module_version": "1.5.0",
      "_view_name": "HTMLView",
      "description": "",
      "description_tooltip": null,
      "layout": "IPY_MODEL_de79b220860e49a2b95b79295cc3ed5d",
      "placeholder": "​",
      "style": "IPY_MODEL_4f267cf2688143c7a0b43fb11d35d1ba",
      "value": " 13842/13842 [22:03&lt;00:00, 10.46it/s]"
     }
    },
    "73f860b608014ca9aa9727d1fb27025b": {
     "model_module": "@jupyter-widgets/controls",
     "model_name": "HBoxModel",
     "state": {
      "_dom_classes": [],
      "_model_module": "@jupyter-widgets/controls",
      "_model_module_version": "1.5.0",
      "_model_name": "HBoxModel",
      "_view_count": null,
      "_view_module": "@jupyter-widgets/controls",
      "_view_module_version": "1.5.0",
      "_view_name": "HBoxView",
      "box_style": "",
      "children": [
       "IPY_MODEL_30b1b66c3a8249d8a825cf7166fb869b",
       "IPY_MODEL_0646ea6ea9c14236a68a9328deaba1a4"
      ],
      "layout": "IPY_MODEL_99bc2386d6d94a878944c1f32b193360"
     }
    },
    "750a066732ac4c7982f2e09304213818": {
     "model_module": "@jupyter-widgets/controls",
     "model_name": "HBoxModel",
     "state": {
      "_dom_classes": [],
      "_model_module": "@jupyter-widgets/controls",
      "_model_module_version": "1.5.0",
      "_model_name": "HBoxModel",
      "_view_count": null,
      "_view_module": "@jupyter-widgets/controls",
      "_view_module_version": "1.5.0",
      "_view_name": "HBoxView",
      "box_style": "",
      "children": [
       "IPY_MODEL_bc07116ce5a942e89614969d1ad20d92",
       "IPY_MODEL_82b096b92a0e4fa0a3f7ca20b263caa3"
      ],
      "layout": "IPY_MODEL_8049aba760c84f42b7bc02e742ed1afa"
     }
    },
    "7aaffd14b5d246f69c21d4cfb723cca7": {
     "model_module": "@jupyter-widgets/controls",
     "model_name": "DescriptionStyleModel",
     "state": {
      "_model_module": "@jupyter-widgets/controls",
      "_model_module_version": "1.5.0",
      "_model_name": "DescriptionStyleModel",
      "_view_count": null,
      "_view_module": "@jupyter-widgets/base",
      "_view_module_version": "1.2.0",
      "_view_name": "StyleView",
      "description_width": ""
     }
    },
    "7b3c6455e0da4ce5aa5c6539c4d23c0b": {
     "model_module": "@jupyter-widgets/controls",
     "model_name": "HTMLModel",
     "state": {
      "_dom_classes": [],
      "_model_module": "@jupyter-widgets/controls",
      "_model_module_version": "1.5.0",
      "_model_name": "HTMLModel",
      "_view_count": null,
      "_view_module": "@jupyter-widgets/controls",
      "_view_module_version": "1.5.0",
      "_view_name": "HTMLView",
      "description": "",
      "description_tooltip": null,
      "layout": "IPY_MODEL_f52c7c6415d54f9eb673fd408f98a10e",
      "placeholder": "​",
      "style": "IPY_MODEL_7aaffd14b5d246f69c21d4cfb723cca7",
      "value": " 9/30 [3:26:05&lt;8:01:26, 1375.55s/it]"
     }
    },
    "7bb303db5dc340559427d49e9329b74f": {
     "model_module": "@jupyter-widgets/controls",
     "model_name": "HTMLModel",
     "state": {
      "_dom_classes": [],
      "_model_module": "@jupyter-widgets/controls",
      "_model_module_version": "1.5.0",
      "_model_name": "HTMLModel",
      "_view_count": null,
      "_view_module": "@jupyter-widgets/controls",
      "_view_module_version": "1.5.0",
      "_view_name": "HTMLView",
      "description": "",
      "description_tooltip": null,
      "layout": "IPY_MODEL_fb70942106a14758978d1a286ce4431b",
      "placeholder": "​",
      "style": "IPY_MODEL_3deacf40722745229f45d5a066d670e7",
      "value": " 13842/13842 [21:17&lt;00:00, 10.83it/s]"
     }
    },
    "7bf4114faae945d6abf14bea4301a541": {
     "model_module": "@jupyter-widgets/base",
     "model_name": "LayoutModel",
     "state": {
      "_model_module": "@jupyter-widgets/base",
      "_model_module_version": "1.2.0",
      "_model_name": "LayoutModel",
      "_view_count": null,
      "_view_module": "@jupyter-widgets/base",
      "_view_module_version": "1.2.0",
      "_view_name": "LayoutView",
      "align_content": null,
      "align_items": null,
      "align_self": null,
      "border": null,
      "bottom": null,
      "display": null,
      "flex": null,
      "flex_flow": null,
      "grid_area": null,
      "grid_auto_columns": null,
      "grid_auto_flow": null,
      "grid_auto_rows": null,
      "grid_column": null,
      "grid_gap": null,
      "grid_row": null,
      "grid_template_areas": null,
      "grid_template_columns": null,
      "grid_template_rows": null,
      "height": null,
      "justify_content": null,
      "justify_items": null,
      "left": null,
      "margin": null,
      "max_height": null,
      "max_width": null,
      "min_height": null,
      "min_width": null,
      "object_fit": null,
      "object_position": null,
      "order": null,
      "overflow": null,
      "overflow_x": null,
      "overflow_y": null,
      "padding": null,
      "right": null,
      "top": null,
      "visibility": null,
      "width": null
     }
    },
    "7ca8b621e5b445ae8a0963024ddc0a32": {
     "model_module": "@jupyter-widgets/base",
     "model_name": "LayoutModel",
     "state": {
      "_model_module": "@jupyter-widgets/base",
      "_model_module_version": "1.2.0",
      "_model_name": "LayoutModel",
      "_view_count": null,
      "_view_module": "@jupyter-widgets/base",
      "_view_module_version": "1.2.0",
      "_view_name": "LayoutView",
      "align_content": null,
      "align_items": null,
      "align_self": null,
      "border": null,
      "bottom": null,
      "display": null,
      "flex": null,
      "flex_flow": null,
      "grid_area": null,
      "grid_auto_columns": null,
      "grid_auto_flow": null,
      "grid_auto_rows": null,
      "grid_column": null,
      "grid_gap": null,
      "grid_row": null,
      "grid_template_areas": null,
      "grid_template_columns": null,
      "grid_template_rows": null,
      "height": null,
      "justify_content": null,
      "justify_items": null,
      "left": null,
      "margin": null,
      "max_height": null,
      "max_width": null,
      "min_height": null,
      "min_width": null,
      "object_fit": null,
      "object_position": null,
      "order": null,
      "overflow": null,
      "overflow_x": null,
      "overflow_y": null,
      "padding": null,
      "right": null,
      "top": null,
      "visibility": null,
      "width": null
     }
    },
    "7f86c3bdfa904690881b60f3381fcb19": {
     "model_module": "@jupyter-widgets/base",
     "model_name": "LayoutModel",
     "state": {
      "_model_module": "@jupyter-widgets/base",
      "_model_module_version": "1.2.0",
      "_model_name": "LayoutModel",
      "_view_count": null,
      "_view_module": "@jupyter-widgets/base",
      "_view_module_version": "1.2.0",
      "_view_name": "LayoutView",
      "align_content": null,
      "align_items": null,
      "align_self": null,
      "border": null,
      "bottom": null,
      "display": null,
      "flex": null,
      "flex_flow": null,
      "grid_area": null,
      "grid_auto_columns": null,
      "grid_auto_flow": null,
      "grid_auto_rows": null,
      "grid_column": null,
      "grid_gap": null,
      "grid_row": null,
      "grid_template_areas": null,
      "grid_template_columns": null,
      "grid_template_rows": null,
      "height": null,
      "justify_content": null,
      "justify_items": null,
      "left": null,
      "margin": null,
      "max_height": null,
      "max_width": null,
      "min_height": null,
      "min_width": null,
      "object_fit": null,
      "object_position": null,
      "order": null,
      "overflow": null,
      "overflow_x": null,
      "overflow_y": null,
      "padding": null,
      "right": null,
      "top": null,
      "visibility": null,
      "width": null
     }
    },
    "8049aba760c84f42b7bc02e742ed1afa": {
     "model_module": "@jupyter-widgets/base",
     "model_name": "LayoutModel",
     "state": {
      "_model_module": "@jupyter-widgets/base",
      "_model_module_version": "1.2.0",
      "_model_name": "LayoutModel",
      "_view_count": null,
      "_view_module": "@jupyter-widgets/base",
      "_view_module_version": "1.2.0",
      "_view_name": "LayoutView",
      "align_content": null,
      "align_items": null,
      "align_self": null,
      "border": null,
      "bottom": null,
      "display": null,
      "flex": null,
      "flex_flow": null,
      "grid_area": null,
      "grid_auto_columns": null,
      "grid_auto_flow": null,
      "grid_auto_rows": null,
      "grid_column": null,
      "grid_gap": null,
      "grid_row": null,
      "grid_template_areas": null,
      "grid_template_columns": null,
      "grid_template_rows": null,
      "height": null,
      "justify_content": null,
      "justify_items": null,
      "left": null,
      "margin": null,
      "max_height": null,
      "max_width": null,
      "min_height": null,
      "min_width": null,
      "object_fit": null,
      "object_position": null,
      "order": null,
      "overflow": null,
      "overflow_x": null,
      "overflow_y": null,
      "padding": null,
      "right": null,
      "top": null,
      "visibility": null,
      "width": null
     }
    },
    "82867a3d6e024b6fba88bf124dbd10b9": {
     "model_module": "@jupyter-widgets/controls",
     "model_name": "HBoxModel",
     "state": {
      "_dom_classes": [],
      "_model_module": "@jupyter-widgets/controls",
      "_model_module_version": "1.5.0",
      "_model_name": "HBoxModel",
      "_view_count": null,
      "_view_module": "@jupyter-widgets/controls",
      "_view_module_version": "1.5.0",
      "_view_name": "HBoxView",
      "box_style": "",
      "children": [
       "IPY_MODEL_259ee96f5679439b96ba77298f6f3533",
       "IPY_MODEL_3282ece5908744c49749eed81304037a"
      ],
      "layout": "IPY_MODEL_c9b98fe0b56d4b3c83d4bdf41636cebb"
     }
    },
    "82b096b92a0e4fa0a3f7ca20b263caa3": {
     "model_module": "@jupyter-widgets/controls",
     "model_name": "HTMLModel",
     "state": {
      "_dom_classes": [],
      "_model_module": "@jupyter-widgets/controls",
      "_model_module_version": "1.5.0",
      "_model_name": "HTMLModel",
      "_view_count": null,
      "_view_module": "@jupyter-widgets/controls",
      "_view_module_version": "1.5.0",
      "_view_name": "HTMLView",
      "description": "",
      "description_tooltip": null,
      "layout": "IPY_MODEL_5ef3f251c7824b46b9ed98e7b94f1be6",
      "placeholder": "​",
      "style": "IPY_MODEL_67dc24be7b8941ddb72ad27a9e22b0a3",
      "value": " 13842/13842 [21:06&lt;00:00, 10.93it/s]"
     }
    },
    "848468371cc14781bc93bfbb5315e457": {
     "model_module": "@jupyter-widgets/controls",
     "model_name": "ProgressStyleModel",
     "state": {
      "_model_module": "@jupyter-widgets/controls",
      "_model_module_version": "1.5.0",
      "_model_name": "ProgressStyleModel",
      "_view_count": null,
      "_view_module": "@jupyter-widgets/base",
      "_view_module_version": "1.2.0",
      "_view_name": "StyleView",
      "bar_color": null,
      "description_width": "initial"
     }
    },
    "8573753d4273422c8a2481a88ebfc43c": {
     "model_module": "@jupyter-widgets/controls",
     "model_name": "HBoxModel",
     "state": {
      "_dom_classes": [],
      "_model_module": "@jupyter-widgets/controls",
      "_model_module_version": "1.5.0",
      "_model_name": "HBoxModel",
      "_view_count": null,
      "_view_module": "@jupyter-widgets/controls",
      "_view_module_version": "1.5.0",
      "_view_name": "HBoxView",
      "box_style": "",
      "children": [
       "IPY_MODEL_97ab957b42b747e38507e29fcc19e301",
       "IPY_MODEL_adbcaac760aa43ad96e6389519b0c2ac"
      ],
      "layout": "IPY_MODEL_5ac952142be14b728cf978ac353211c9"
     }
    },
    "85c44eeb249a4ea6846edc871811e9de": {
     "model_module": "@jupyter-widgets/controls",
     "model_name": "ProgressStyleModel",
     "state": {
      "_model_module": "@jupyter-widgets/controls",
      "_model_module_version": "1.5.0",
      "_model_name": "ProgressStyleModel",
      "_view_count": null,
      "_view_module": "@jupyter-widgets/base",
      "_view_module_version": "1.2.0",
      "_view_name": "StyleView",
      "bar_color": null,
      "description_width": "initial"
     }
    },
    "89f3c617916249fbbf39799267653dd8": {
     "model_module": "@jupyter-widgets/base",
     "model_name": "LayoutModel",
     "state": {
      "_model_module": "@jupyter-widgets/base",
      "_model_module_version": "1.2.0",
      "_model_name": "LayoutModel",
      "_view_count": null,
      "_view_module": "@jupyter-widgets/base",
      "_view_module_version": "1.2.0",
      "_view_name": "LayoutView",
      "align_content": null,
      "align_items": null,
      "align_self": null,
      "border": null,
      "bottom": null,
      "display": null,
      "flex": null,
      "flex_flow": null,
      "grid_area": null,
      "grid_auto_columns": null,
      "grid_auto_flow": null,
      "grid_auto_rows": null,
      "grid_column": null,
      "grid_gap": null,
      "grid_row": null,
      "grid_template_areas": null,
      "grid_template_columns": null,
      "grid_template_rows": null,
      "height": null,
      "justify_content": null,
      "justify_items": null,
      "left": null,
      "margin": null,
      "max_height": null,
      "max_width": null,
      "min_height": null,
      "min_width": null,
      "object_fit": null,
      "object_position": null,
      "order": null,
      "overflow": null,
      "overflow_x": null,
      "overflow_y": null,
      "padding": null,
      "right": null,
      "top": null,
      "visibility": null,
      "width": null
     }
    },
    "8c422275ab734cde8d47b53b06223c40": {
     "model_module": "@jupyter-widgets/controls",
     "model_name": "ProgressStyleModel",
     "state": {
      "_model_module": "@jupyter-widgets/controls",
      "_model_module_version": "1.5.0",
      "_model_name": "ProgressStyleModel",
      "_view_count": null,
      "_view_module": "@jupyter-widgets/base",
      "_view_module_version": "1.2.0",
      "_view_name": "StyleView",
      "bar_color": null,
      "description_width": "initial"
     }
    },
    "8d314f331c5546f4a1282864b22ba329": {
     "model_module": "@jupyter-widgets/controls",
     "model_name": "HBoxModel",
     "state": {
      "_dom_classes": [],
      "_model_module": "@jupyter-widgets/controls",
      "_model_module_version": "1.5.0",
      "_model_name": "HBoxModel",
      "_view_count": null,
      "_view_module": "@jupyter-widgets/controls",
      "_view_module_version": "1.5.0",
      "_view_name": "HBoxView",
      "box_style": "",
      "children": [
       "IPY_MODEL_5edebaf68aa8499394dbd81bbc370dad",
       "IPY_MODEL_7b3c6455e0da4ce5aa5c6539c4d23c0b"
      ],
      "layout": "IPY_MODEL_7ca8b621e5b445ae8a0963024ddc0a32"
     }
    },
    "8daac3ffb6b040c8888be75abb6f5a3b": {
     "model_module": "@jupyter-widgets/controls",
     "model_name": "HBoxModel",
     "state": {
      "_dom_classes": [],
      "_model_module": "@jupyter-widgets/controls",
      "_model_module_version": "1.5.0",
      "_model_name": "HBoxModel",
      "_view_count": null,
      "_view_module": "@jupyter-widgets/controls",
      "_view_module_version": "1.5.0",
      "_view_name": "HBoxView",
      "box_style": "",
      "children": [
       "IPY_MODEL_d24aa2e541e0471d9225877db3d7b3da",
       "IPY_MODEL_ed4d8e6dae8542bdb24c5cfb299d0e93"
      ],
      "layout": "IPY_MODEL_9bceefc8e3cd409daa6a3d47b9b4ac04"
     }
    },
    "8db8858db7214e468a8e9afcdbf6e9a2": {
     "model_module": "@jupyter-widgets/controls",
     "model_name": "DescriptionStyleModel",
     "state": {
      "_model_module": "@jupyter-widgets/controls",
      "_model_module_version": "1.5.0",
      "_model_name": "DescriptionStyleModel",
      "_view_count": null,
      "_view_module": "@jupyter-widgets/base",
      "_view_module_version": "1.2.0",
      "_view_name": "StyleView",
      "description_width": ""
     }
    },
    "8e1e1de8303d4acbb33e6fc8b0c121a6": {
     "model_module": "@jupyter-widgets/controls",
     "model_name": "HBoxModel",
     "state": {
      "_dom_classes": [],
      "_model_module": "@jupyter-widgets/controls",
      "_model_module_version": "1.5.0",
      "_model_name": "HBoxModel",
      "_view_count": null,
      "_view_module": "@jupyter-widgets/controls",
      "_view_module_version": "1.5.0",
      "_view_name": "HBoxView",
      "box_style": "",
      "children": [
       "IPY_MODEL_fc80a094d0c54520bc09a0ede028d5e4",
       "IPY_MODEL_7bb303db5dc340559427d49e9329b74f"
      ],
      "layout": "IPY_MODEL_4c05e7c3717f4908866e04a98854d99b"
     }
    },
    "8ef00da3dcca4f6c91a4124180c7823d": {
     "model_module": "@jupyter-widgets/base",
     "model_name": "LayoutModel",
     "state": {
      "_model_module": "@jupyter-widgets/base",
      "_model_module_version": "1.2.0",
      "_model_name": "LayoutModel",
      "_view_count": null,
      "_view_module": "@jupyter-widgets/base",
      "_view_module_version": "1.2.0",
      "_view_name": "LayoutView",
      "align_content": null,
      "align_items": null,
      "align_self": null,
      "border": null,
      "bottom": null,
      "display": null,
      "flex": null,
      "flex_flow": null,
      "grid_area": null,
      "grid_auto_columns": null,
      "grid_auto_flow": null,
      "grid_auto_rows": null,
      "grid_column": null,
      "grid_gap": null,
      "grid_row": null,
      "grid_template_areas": null,
      "grid_template_columns": null,
      "grid_template_rows": null,
      "height": null,
      "justify_content": null,
      "justify_items": null,
      "left": null,
      "margin": null,
      "max_height": null,
      "max_width": null,
      "min_height": null,
      "min_width": null,
      "object_fit": null,
      "object_position": null,
      "order": null,
      "overflow": null,
      "overflow_x": null,
      "overflow_y": null,
      "padding": null,
      "right": null,
      "top": null,
      "visibility": null,
      "width": null
     }
    },
    "934cecc81b734fbb8e7f596bd60de3b0": {
     "model_module": "@jupyter-widgets/controls",
     "model_name": "ProgressStyleModel",
     "state": {
      "_model_module": "@jupyter-widgets/controls",
      "_model_module_version": "1.5.0",
      "_model_name": "ProgressStyleModel",
      "_view_count": null,
      "_view_module": "@jupyter-widgets/base",
      "_view_module_version": "1.2.0",
      "_view_name": "StyleView",
      "bar_color": null,
      "description_width": "initial"
     }
    },
    "97ab957b42b747e38507e29fcc19e301": {
     "model_module": "@jupyter-widgets/controls",
     "model_name": "FloatProgressModel",
     "state": {
      "_dom_classes": [],
      "_model_module": "@jupyter-widgets/controls",
      "_model_module_version": "1.5.0",
      "_model_name": "FloatProgressModel",
      "_view_count": null,
      "_view_module": "@jupyter-widgets/controls",
      "_view_module_version": "1.5.0",
      "_view_name": "ProgressView",
      "bar_style": "",
      "description": "Passing dataset:   2%",
      "description_tooltip": null,
      "layout": "IPY_MODEL_18d3d2a128a7456aa8b49f34df5a637d",
      "max": 13842,
      "min": 0,
      "orientation": "horizontal",
      "style": "IPY_MODEL_934cecc81b734fbb8e7f596bd60de3b0",
      "value": 234
     }
    },
    "99bc2386d6d94a878944c1f32b193360": {
     "model_module": "@jupyter-widgets/base",
     "model_name": "LayoutModel",
     "state": {
      "_model_module": "@jupyter-widgets/base",
      "_model_module_version": "1.2.0",
      "_model_name": "LayoutModel",
      "_view_count": null,
      "_view_module": "@jupyter-widgets/base",
      "_view_module_version": "1.2.0",
      "_view_name": "LayoutView",
      "align_content": null,
      "align_items": null,
      "align_self": null,
      "border": null,
      "bottom": null,
      "display": null,
      "flex": null,
      "flex_flow": null,
      "grid_area": null,
      "grid_auto_columns": null,
      "grid_auto_flow": null,
      "grid_auto_rows": null,
      "grid_column": null,
      "grid_gap": null,
      "grid_row": null,
      "grid_template_areas": null,
      "grid_template_columns": null,
      "grid_template_rows": null,
      "height": null,
      "justify_content": null,
      "justify_items": null,
      "left": null,
      "margin": null,
      "max_height": null,
      "max_width": null,
      "min_height": null,
      "min_width": null,
      "object_fit": null,
      "object_position": null,
      "order": null,
      "overflow": null,
      "overflow_x": null,
      "overflow_y": null,
      "padding": null,
      "right": null,
      "top": null,
      "visibility": null,
      "width": null
     }
    },
    "9bceefc8e3cd409daa6a3d47b9b4ac04": {
     "model_module": "@jupyter-widgets/base",
     "model_name": "LayoutModel",
     "state": {
      "_model_module": "@jupyter-widgets/base",
      "_model_module_version": "1.2.0",
      "_model_name": "LayoutModel",
      "_view_count": null,
      "_view_module": "@jupyter-widgets/base",
      "_view_module_version": "1.2.0",
      "_view_name": "LayoutView",
      "align_content": null,
      "align_items": null,
      "align_self": null,
      "border": null,
      "bottom": null,
      "display": null,
      "flex": null,
      "flex_flow": null,
      "grid_area": null,
      "grid_auto_columns": null,
      "grid_auto_flow": null,
      "grid_auto_rows": null,
      "grid_column": null,
      "grid_gap": null,
      "grid_row": null,
      "grid_template_areas": null,
      "grid_template_columns": null,
      "grid_template_rows": null,
      "height": null,
      "justify_content": null,
      "justify_items": null,
      "left": null,
      "margin": null,
      "max_height": null,
      "max_width": null,
      "min_height": null,
      "min_width": null,
      "object_fit": null,
      "object_position": null,
      "order": null,
      "overflow": null,
      "overflow_x": null,
      "overflow_y": null,
      "padding": null,
      "right": null,
      "top": null,
      "visibility": null,
      "width": null
     }
    },
    "a1a7093621f24a38b23a08b1a40d279d": {
     "model_module": "@jupyter-widgets/controls",
     "model_name": "DescriptionStyleModel",
     "state": {
      "_model_module": "@jupyter-widgets/controls",
      "_model_module_version": "1.5.0",
      "_model_name": "DescriptionStyleModel",
      "_view_count": null,
      "_view_module": "@jupyter-widgets/base",
      "_view_module_version": "1.2.0",
      "_view_name": "StyleView",
      "description_width": ""
     }
    },
    "a32bf766bd9347028d31182e968691d6": {
     "model_module": "@jupyter-widgets/base",
     "model_name": "LayoutModel",
     "state": {
      "_model_module": "@jupyter-widgets/base",
      "_model_module_version": "1.2.0",
      "_model_name": "LayoutModel",
      "_view_count": null,
      "_view_module": "@jupyter-widgets/base",
      "_view_module_version": "1.2.0",
      "_view_name": "LayoutView",
      "align_content": null,
      "align_items": null,
      "align_self": null,
      "border": null,
      "bottom": null,
      "display": null,
      "flex": null,
      "flex_flow": null,
      "grid_area": null,
      "grid_auto_columns": null,
      "grid_auto_flow": null,
      "grid_auto_rows": null,
      "grid_column": null,
      "grid_gap": null,
      "grid_row": null,
      "grid_template_areas": null,
      "grid_template_columns": null,
      "grid_template_rows": null,
      "height": null,
      "justify_content": null,
      "justify_items": null,
      "left": null,
      "margin": null,
      "max_height": null,
      "max_width": null,
      "min_height": null,
      "min_width": null,
      "object_fit": null,
      "object_position": null,
      "order": null,
      "overflow": null,
      "overflow_x": null,
      "overflow_y": null,
      "padding": null,
      "right": null,
      "top": null,
      "visibility": null,
      "width": null
     }
    },
    "a422e14f827a450b96e8af2255e9e4bf": {
     "model_module": "@jupyter-widgets/base",
     "model_name": "LayoutModel",
     "state": {
      "_model_module": "@jupyter-widgets/base",
      "_model_module_version": "1.2.0",
      "_model_name": "LayoutModel",
      "_view_count": null,
      "_view_module": "@jupyter-widgets/base",
      "_view_module_version": "1.2.0",
      "_view_name": "LayoutView",
      "align_content": null,
      "align_items": null,
      "align_self": null,
      "border": null,
      "bottom": null,
      "display": null,
      "flex": null,
      "flex_flow": null,
      "grid_area": null,
      "grid_auto_columns": null,
      "grid_auto_flow": null,
      "grid_auto_rows": null,
      "grid_column": null,
      "grid_gap": null,
      "grid_row": null,
      "grid_template_areas": null,
      "grid_template_columns": null,
      "grid_template_rows": null,
      "height": null,
      "justify_content": null,
      "justify_items": null,
      "left": null,
      "margin": null,
      "max_height": null,
      "max_width": null,
      "min_height": null,
      "min_width": null,
      "object_fit": null,
      "object_position": null,
      "order": null,
      "overflow": null,
      "overflow_x": null,
      "overflow_y": null,
      "padding": null,
      "right": null,
      "top": null,
      "visibility": null,
      "width": null
     }
    },
    "adbcaac760aa43ad96e6389519b0c2ac": {
     "model_module": "@jupyter-widgets/controls",
     "model_name": "HTMLModel",
     "state": {
      "_dom_classes": [],
      "_model_module": "@jupyter-widgets/controls",
      "_model_module_version": "1.5.0",
      "_model_name": "HTMLModel",
      "_view_count": null,
      "_view_module": "@jupyter-widgets/controls",
      "_view_module_version": "1.5.0",
      "_view_name": "HTMLView",
      "description": "",
      "description_tooltip": null,
      "layout": "IPY_MODEL_5d1206039ab445c78aa9fec83fcde5ac",
      "placeholder": "​",
      "style": "IPY_MODEL_d382e280b18842f6bfb3eb233af05fad",
      "value": " 234/13842 [00:21&lt;20:32, 11.04it/s]"
     }
    },
    "aff7b8b336ba4f41b5a0c196bae6224b": {
     "model_module": "@jupyter-widgets/controls",
     "model_name": "HBoxModel",
     "state": {
      "_dom_classes": [],
      "_model_module": "@jupyter-widgets/controls",
      "_model_module_version": "1.5.0",
      "_model_name": "HBoxModel",
      "_view_count": null,
      "_view_module": "@jupyter-widgets/controls",
      "_view_module_version": "1.5.0",
      "_view_name": "HBoxView",
      "box_style": "",
      "children": [
       "IPY_MODEL_fb70dbfa418743eebc47bdc4233cee43",
       "IPY_MODEL_e1f3c648bc4143d88cf781cfe6a7dd11"
      ],
      "layout": "IPY_MODEL_1022fa848b4c45a4b155a4d4c58f86a1"
     }
    },
    "b4cf68560b2e4b559d90eeebd3e3727a": {
     "model_module": "@jupyter-widgets/controls",
     "model_name": "HBoxModel",
     "state": {
      "_dom_classes": [],
      "_model_module": "@jupyter-widgets/controls",
      "_model_module_version": "1.5.0",
      "_model_name": "HBoxModel",
      "_view_count": null,
      "_view_module": "@jupyter-widgets/controls",
      "_view_module_version": "1.5.0",
      "_view_name": "HBoxView",
      "box_style": "",
      "children": [
       "IPY_MODEL_c20213321d5245f387cfc9b908bc1631",
       "IPY_MODEL_56a00e4a01544d7fb702aa0e6ebbdaec"
      ],
      "layout": "IPY_MODEL_c903cc64bda14432995865b6588b8096"
     }
    },
    "b5ad0e5f782143ffa8e9eb209365aa82": {
     "model_module": "@jupyter-widgets/base",
     "model_name": "LayoutModel",
     "state": {
      "_model_module": "@jupyter-widgets/base",
      "_model_module_version": "1.2.0",
      "_model_name": "LayoutModel",
      "_view_count": null,
      "_view_module": "@jupyter-widgets/base",
      "_view_module_version": "1.2.0",
      "_view_name": "LayoutView",
      "align_content": null,
      "align_items": null,
      "align_self": null,
      "border": null,
      "bottom": null,
      "display": null,
      "flex": null,
      "flex_flow": null,
      "grid_area": null,
      "grid_auto_columns": null,
      "grid_auto_flow": null,
      "grid_auto_rows": null,
      "grid_column": null,
      "grid_gap": null,
      "grid_row": null,
      "grid_template_areas": null,
      "grid_template_columns": null,
      "grid_template_rows": null,
      "height": null,
      "justify_content": null,
      "justify_items": null,
      "left": null,
      "margin": null,
      "max_height": null,
      "max_width": null,
      "min_height": null,
      "min_width": null,
      "object_fit": null,
      "object_position": null,
      "order": null,
      "overflow": null,
      "overflow_x": null,
      "overflow_y": null,
      "padding": null,
      "right": null,
      "top": null,
      "visibility": null,
      "width": null
     }
    },
    "bc07116ce5a942e89614969d1ad20d92": {
     "model_module": "@jupyter-widgets/controls",
     "model_name": "FloatProgressModel",
     "state": {
      "_dom_classes": [],
      "_model_module": "@jupyter-widgets/controls",
      "_model_module_version": "1.5.0",
      "_model_name": "FloatProgressModel",
      "_view_count": null,
      "_view_module": "@jupyter-widgets/controls",
      "_view_module_version": "1.5.0",
      "_view_name": "ProgressView",
      "bar_style": "success",
      "description": "Passing dataset: 100%",
      "description_tooltip": null,
      "layout": "IPY_MODEL_34606c824c9e4223a6c3d49e633583db",
      "max": 13842,
      "min": 0,
      "orientation": "horizontal",
      "style": "IPY_MODEL_62f02610636848ff927a8fe18d1b985f",
      "value": 13842
     }
    },
    "bf3a50a0e86b463fbbafd7aec5f4165e": {
     "model_module": "@jupyter-widgets/base",
     "model_name": "LayoutModel",
     "state": {
      "_model_module": "@jupyter-widgets/base",
      "_model_module_version": "1.2.0",
      "_model_name": "LayoutModel",
      "_view_count": null,
      "_view_module": "@jupyter-widgets/base",
      "_view_module_version": "1.2.0",
      "_view_name": "LayoutView",
      "align_content": null,
      "align_items": null,
      "align_self": null,
      "border": null,
      "bottom": null,
      "display": null,
      "flex": null,
      "flex_flow": null,
      "grid_area": null,
      "grid_auto_columns": null,
      "grid_auto_flow": null,
      "grid_auto_rows": null,
      "grid_column": null,
      "grid_gap": null,
      "grid_row": null,
      "grid_template_areas": null,
      "grid_template_columns": null,
      "grid_template_rows": null,
      "height": null,
      "justify_content": null,
      "justify_items": null,
      "left": null,
      "margin": null,
      "max_height": null,
      "max_width": null,
      "min_height": null,
      "min_width": null,
      "object_fit": null,
      "object_position": null,
      "order": null,
      "overflow": null,
      "overflow_x": null,
      "overflow_y": null,
      "padding": null,
      "right": null,
      "top": null,
      "visibility": null,
      "width": null
     }
    },
    "c04c1cb4e68746c797f2d3c3e25b8737": {
     "model_module": "@jupyter-widgets/controls",
     "model_name": "ProgressStyleModel",
     "state": {
      "_model_module": "@jupyter-widgets/controls",
      "_model_module_version": "1.5.0",
      "_model_name": "ProgressStyleModel",
      "_view_count": null,
      "_view_module": "@jupyter-widgets/base",
      "_view_module_version": "1.2.0",
      "_view_name": "StyleView",
      "bar_color": null,
      "description_width": "initial"
     }
    },
    "c0cf746b54024c47b07c74a9f92f36ea": {
     "model_module": "@jupyter-widgets/controls",
     "model_name": "HBoxModel",
     "state": {
      "_dom_classes": [],
      "_model_module": "@jupyter-widgets/controls",
      "_model_module_version": "1.5.0",
      "_model_name": "HBoxModel",
      "_view_count": null,
      "_view_module": "@jupyter-widgets/controls",
      "_view_module_version": "1.5.0",
      "_view_name": "HBoxView",
      "box_style": "",
      "children": [
       "IPY_MODEL_250ac763569f48949b5f3d4c29f85a66",
       "IPY_MODEL_477301649ba94280887d6cff639ccd50"
      ],
      "layout": "IPY_MODEL_89f3c617916249fbbf39799267653dd8"
     }
    },
    "c20213321d5245f387cfc9b908bc1631": {
     "model_module": "@jupyter-widgets/controls",
     "model_name": "FloatProgressModel",
     "state": {
      "_dom_classes": [],
      "_model_module": "@jupyter-widgets/controls",
      "_model_module_version": "1.5.0",
      "_model_name": "FloatProgressModel",
      "_view_count": null,
      "_view_module": "@jupyter-widgets/controls",
      "_view_module_version": "1.5.0",
      "_view_name": "ProgressView",
      "bar_style": "success",
      "description": "100%",
      "description_tooltip": null,
      "layout": "IPY_MODEL_c7be550e974a487d8ae2398e03be8a7a",
      "max": 9,
      "min": 0,
      "orientation": "horizontal",
      "style": "IPY_MODEL_012e0e5ac2ec4fada291b58249c7d6c2",
      "value": 9
     }
    },
    "c5b26750d1e9483a827943a97f313a24": {
     "model_module": "@jupyter-widgets/base",
     "model_name": "LayoutModel",
     "state": {
      "_model_module": "@jupyter-widgets/base",
      "_model_module_version": "1.2.0",
      "_model_name": "LayoutModel",
      "_view_count": null,
      "_view_module": "@jupyter-widgets/base",
      "_view_module_version": "1.2.0",
      "_view_name": "LayoutView",
      "align_content": null,
      "align_items": null,
      "align_self": null,
      "border": null,
      "bottom": null,
      "display": null,
      "flex": null,
      "flex_flow": null,
      "grid_area": null,
      "grid_auto_columns": null,
      "grid_auto_flow": null,
      "grid_auto_rows": null,
      "grid_column": null,
      "grid_gap": null,
      "grid_row": null,
      "grid_template_areas": null,
      "grid_template_columns": null,
      "grid_template_rows": null,
      "height": null,
      "justify_content": null,
      "justify_items": null,
      "left": null,
      "margin": null,
      "max_height": null,
      "max_width": null,
      "min_height": null,
      "min_width": null,
      "object_fit": null,
      "object_position": null,
      "order": null,
      "overflow": null,
      "overflow_x": null,
      "overflow_y": null,
      "padding": null,
      "right": null,
      "top": null,
      "visibility": null,
      "width": null
     }
    },
    "c5ff7b1ffcb24cfeb0d2eee7ec61176b": {
     "model_module": "@jupyter-widgets/base",
     "model_name": "LayoutModel",
     "state": {
      "_model_module": "@jupyter-widgets/base",
      "_model_module_version": "1.2.0",
      "_model_name": "LayoutModel",
      "_view_count": null,
      "_view_module": "@jupyter-widgets/base",
      "_view_module_version": "1.2.0",
      "_view_name": "LayoutView",
      "align_content": null,
      "align_items": null,
      "align_self": null,
      "border": null,
      "bottom": null,
      "display": null,
      "flex": null,
      "flex_flow": null,
      "grid_area": null,
      "grid_auto_columns": null,
      "grid_auto_flow": null,
      "grid_auto_rows": null,
      "grid_column": null,
      "grid_gap": null,
      "grid_row": null,
      "grid_template_areas": null,
      "grid_template_columns": null,
      "grid_template_rows": null,
      "height": null,
      "justify_content": null,
      "justify_items": null,
      "left": null,
      "margin": null,
      "max_height": null,
      "max_width": null,
      "min_height": null,
      "min_width": null,
      "object_fit": null,
      "object_position": null,
      "order": null,
      "overflow": null,
      "overflow_x": null,
      "overflow_y": null,
      "padding": null,
      "right": null,
      "top": null,
      "visibility": null,
      "width": null
     }
    },
    "c7be550e974a487d8ae2398e03be8a7a": {
     "model_module": "@jupyter-widgets/base",
     "model_name": "LayoutModel",
     "state": {
      "_model_module": "@jupyter-widgets/base",
      "_model_module_version": "1.2.0",
      "_model_name": "LayoutModel",
      "_view_count": null,
      "_view_module": "@jupyter-widgets/base",
      "_view_module_version": "1.2.0",
      "_view_name": "LayoutView",
      "align_content": null,
      "align_items": null,
      "align_self": null,
      "border": null,
      "bottom": null,
      "display": null,
      "flex": null,
      "flex_flow": null,
      "grid_area": null,
      "grid_auto_columns": null,
      "grid_auto_flow": null,
      "grid_auto_rows": null,
      "grid_column": null,
      "grid_gap": null,
      "grid_row": null,
      "grid_template_areas": null,
      "grid_template_columns": null,
      "grid_template_rows": null,
      "height": null,
      "justify_content": null,
      "justify_items": null,
      "left": null,
      "margin": null,
      "max_height": null,
      "max_width": null,
      "min_height": null,
      "min_width": null,
      "object_fit": null,
      "object_position": null,
      "order": null,
      "overflow": null,
      "overflow_x": null,
      "overflow_y": null,
      "padding": null,
      "right": null,
      "top": null,
      "visibility": null,
      "width": null
     }
    },
    "c8e96d98a36f4a0e87bfab4fcdc734d3": {
     "model_module": "@jupyter-widgets/base",
     "model_name": "LayoutModel",
     "state": {
      "_model_module": "@jupyter-widgets/base",
      "_model_module_version": "1.2.0",
      "_model_name": "LayoutModel",
      "_view_count": null,
      "_view_module": "@jupyter-widgets/base",
      "_view_module_version": "1.2.0",
      "_view_name": "LayoutView",
      "align_content": null,
      "align_items": null,
      "align_self": null,
      "border": null,
      "bottom": null,
      "display": null,
      "flex": null,
      "flex_flow": null,
      "grid_area": null,
      "grid_auto_columns": null,
      "grid_auto_flow": null,
      "grid_auto_rows": null,
      "grid_column": null,
      "grid_gap": null,
      "grid_row": null,
      "grid_template_areas": null,
      "grid_template_columns": null,
      "grid_template_rows": null,
      "height": null,
      "justify_content": null,
      "justify_items": null,
      "left": null,
      "margin": null,
      "max_height": null,
      "max_width": null,
      "min_height": null,
      "min_width": null,
      "object_fit": null,
      "object_position": null,
      "order": null,
      "overflow": null,
      "overflow_x": null,
      "overflow_y": null,
      "padding": null,
      "right": null,
      "top": null,
      "visibility": null,
      "width": null
     }
    },
    "c903cc64bda14432995865b6588b8096": {
     "model_module": "@jupyter-widgets/base",
     "model_name": "LayoutModel",
     "state": {
      "_model_module": "@jupyter-widgets/base",
      "_model_module_version": "1.2.0",
      "_model_name": "LayoutModel",
      "_view_count": null,
      "_view_module": "@jupyter-widgets/base",
      "_view_module_version": "1.2.0",
      "_view_name": "LayoutView",
      "align_content": null,
      "align_items": null,
      "align_self": null,
      "border": null,
      "bottom": null,
      "display": null,
      "flex": null,
      "flex_flow": null,
      "grid_area": null,
      "grid_auto_columns": null,
      "grid_auto_flow": null,
      "grid_auto_rows": null,
      "grid_column": null,
      "grid_gap": null,
      "grid_row": null,
      "grid_template_areas": null,
      "grid_template_columns": null,
      "grid_template_rows": null,
      "height": null,
      "justify_content": null,
      "justify_items": null,
      "left": null,
      "margin": null,
      "max_height": null,
      "max_width": null,
      "min_height": null,
      "min_width": null,
      "object_fit": null,
      "object_position": null,
      "order": null,
      "overflow": null,
      "overflow_x": null,
      "overflow_y": null,
      "padding": null,
      "right": null,
      "top": null,
      "visibility": null,
      "width": null
     }
    },
    "c9b98fe0b56d4b3c83d4bdf41636cebb": {
     "model_module": "@jupyter-widgets/base",
     "model_name": "LayoutModel",
     "state": {
      "_model_module": "@jupyter-widgets/base",
      "_model_module_version": "1.2.0",
      "_model_name": "LayoutModel",
      "_view_count": null,
      "_view_module": "@jupyter-widgets/base",
      "_view_module_version": "1.2.0",
      "_view_name": "LayoutView",
      "align_content": null,
      "align_items": null,
      "align_self": null,
      "border": null,
      "bottom": null,
      "display": null,
      "flex": null,
      "flex_flow": null,
      "grid_area": null,
      "grid_auto_columns": null,
      "grid_auto_flow": null,
      "grid_auto_rows": null,
      "grid_column": null,
      "grid_gap": null,
      "grid_row": null,
      "grid_template_areas": null,
      "grid_template_columns": null,
      "grid_template_rows": null,
      "height": null,
      "justify_content": null,
      "justify_items": null,
      "left": null,
      "margin": null,
      "max_height": null,
      "max_width": null,
      "min_height": null,
      "min_width": null,
      "object_fit": null,
      "object_position": null,
      "order": null,
      "overflow": null,
      "overflow_x": null,
      "overflow_y": null,
      "padding": null,
      "right": null,
      "top": null,
      "visibility": null,
      "width": null
     }
    },
    "ced9ae55f15240d69704ccd9b7c6c3b0": {
     "model_module": "@jupyter-widgets/controls",
     "model_name": "ProgressStyleModel",
     "state": {
      "_model_module": "@jupyter-widgets/controls",
      "_model_module_version": "1.5.0",
      "_model_name": "ProgressStyleModel",
      "_view_count": null,
      "_view_module": "@jupyter-widgets/base",
      "_view_module_version": "1.2.0",
      "_view_name": "StyleView",
      "bar_color": null,
      "description_width": "initial"
     }
    },
    "d0a93a667d32494884e0dc4509c23d6c": {
     "model_module": "@jupyter-widgets/controls",
     "model_name": "FloatProgressModel",
     "state": {
      "_dom_classes": [],
      "_model_module": "@jupyter-widgets/controls",
      "_model_module_version": "1.5.0",
      "_model_name": "FloatProgressModel",
      "_view_count": null,
      "_view_module": "@jupyter-widgets/controls",
      "_view_module_version": "1.5.0",
      "_view_name": "ProgressView",
      "bar_style": "success",
      "description": "Passing dataset: 100%",
      "description_tooltip": null,
      "layout": "IPY_MODEL_19df7d834fb945d2895d1e830c384452",
      "max": 13842,
      "min": 0,
      "orientation": "horizontal",
      "style": "IPY_MODEL_ced9ae55f15240d69704ccd9b7c6c3b0",
      "value": 13842
     }
    },
    "d1f69fa601e543b48270e5451ee79acb": {
     "model_module": "@jupyter-widgets/base",
     "model_name": "LayoutModel",
     "state": {
      "_model_module": "@jupyter-widgets/base",
      "_model_module_version": "1.2.0",
      "_model_name": "LayoutModel",
      "_view_count": null,
      "_view_module": "@jupyter-widgets/base",
      "_view_module_version": "1.2.0",
      "_view_name": "LayoutView",
      "align_content": null,
      "align_items": null,
      "align_self": null,
      "border": null,
      "bottom": null,
      "display": null,
      "flex": null,
      "flex_flow": null,
      "grid_area": null,
      "grid_auto_columns": null,
      "grid_auto_flow": null,
      "grid_auto_rows": null,
      "grid_column": null,
      "grid_gap": null,
      "grid_row": null,
      "grid_template_areas": null,
      "grid_template_columns": null,
      "grid_template_rows": null,
      "height": null,
      "justify_content": null,
      "justify_items": null,
      "left": null,
      "margin": null,
      "max_height": null,
      "max_width": null,
      "min_height": null,
      "min_width": null,
      "object_fit": null,
      "object_position": null,
      "order": null,
      "overflow": null,
      "overflow_x": null,
      "overflow_y": null,
      "padding": null,
      "right": null,
      "top": null,
      "visibility": null,
      "width": null
     }
    },
    "d24aa2e541e0471d9225877db3d7b3da": {
     "model_module": "@jupyter-widgets/controls",
     "model_name": "FloatProgressModel",
     "state": {
      "_dom_classes": [],
      "_model_module": "@jupyter-widgets/controls",
      "_model_module_version": "1.5.0",
      "_model_name": "FloatProgressModel",
      "_view_count": null,
      "_view_module": "@jupyter-widgets/controls",
      "_view_module_version": "1.5.0",
      "_view_name": "ProgressView",
      "bar_style": "success",
      "description": "100%",
      "description_tooltip": null,
      "layout": "IPY_MODEL_8ef00da3dcca4f6c91a4124180c7823d",
      "max": 9,
      "min": 0,
      "orientation": "horizontal",
      "style": "IPY_MODEL_8c422275ab734cde8d47b53b06223c40",
      "value": 9
     }
    },
    "d382e280b18842f6bfb3eb233af05fad": {
     "model_module": "@jupyter-widgets/controls",
     "model_name": "DescriptionStyleModel",
     "state": {
      "_model_module": "@jupyter-widgets/controls",
      "_model_module_version": "1.5.0",
      "_model_name": "DescriptionStyleModel",
      "_view_count": null,
      "_view_module": "@jupyter-widgets/base",
      "_view_module_version": "1.2.0",
      "_view_name": "StyleView",
      "description_width": ""
     }
    },
    "dad677ed8c1a420fb07054c0e9ea8016": {
     "model_module": "@jupyter-widgets/controls",
     "model_name": "DescriptionStyleModel",
     "state": {
      "_model_module": "@jupyter-widgets/controls",
      "_model_module_version": "1.5.0",
      "_model_name": "DescriptionStyleModel",
      "_view_count": null,
      "_view_module": "@jupyter-widgets/base",
      "_view_module_version": "1.2.0",
      "_view_name": "StyleView",
      "description_width": ""
     }
    },
    "db03b1638462468d986ec3411d243548": {
     "model_module": "@jupyter-widgets/controls",
     "model_name": "FloatProgressModel",
     "state": {
      "_dom_classes": [],
      "_model_module": "@jupyter-widgets/controls",
      "_model_module_version": "1.5.0",
      "_model_name": "FloatProgressModel",
      "_view_count": null,
      "_view_module": "@jupyter-widgets/controls",
      "_view_module_version": "1.5.0",
      "_view_name": "ProgressView",
      "bar_style": "success",
      "description": "Passing dataset: 100%",
      "description_tooltip": null,
      "layout": "IPY_MODEL_b5ad0e5f782143ffa8e9eb209365aa82",
      "max": 13842,
      "min": 0,
      "orientation": "horizontal",
      "style": "IPY_MODEL_387274a4fb294a7fa44efe51e5312e58",
      "value": 13842
     }
    },
    "de79b220860e49a2b95b79295cc3ed5d": {
     "model_module": "@jupyter-widgets/base",
     "model_name": "LayoutModel",
     "state": {
      "_model_module": "@jupyter-widgets/base",
      "_model_module_version": "1.2.0",
      "_model_name": "LayoutModel",
      "_view_count": null,
      "_view_module": "@jupyter-widgets/base",
      "_view_module_version": "1.2.0",
      "_view_name": "LayoutView",
      "align_content": null,
      "align_items": null,
      "align_self": null,
      "border": null,
      "bottom": null,
      "display": null,
      "flex": null,
      "flex_flow": null,
      "grid_area": null,
      "grid_auto_columns": null,
      "grid_auto_flow": null,
      "grid_auto_rows": null,
      "grid_column": null,
      "grid_gap": null,
      "grid_row": null,
      "grid_template_areas": null,
      "grid_template_columns": null,
      "grid_template_rows": null,
      "height": null,
      "justify_content": null,
      "justify_items": null,
      "left": null,
      "margin": null,
      "max_height": null,
      "max_width": null,
      "min_height": null,
      "min_width": null,
      "object_fit": null,
      "object_position": null,
      "order": null,
      "overflow": null,
      "overflow_x": null,
      "overflow_y": null,
      "padding": null,
      "right": null,
      "top": null,
      "visibility": null,
      "width": null
     }
    },
    "e1f3c648bc4143d88cf781cfe6a7dd11": {
     "model_module": "@jupyter-widgets/controls",
     "model_name": "HTMLModel",
     "state": {
      "_dom_classes": [],
      "_model_module": "@jupyter-widgets/controls",
      "_model_module_version": "1.5.0",
      "_model_name": "HTMLModel",
      "_view_count": null,
      "_view_module": "@jupyter-widgets/controls",
      "_view_module_version": "1.5.0",
      "_view_name": "HTMLView",
      "description": "",
      "description_tooltip": null,
      "layout": "IPY_MODEL_c5b26750d1e9483a827943a97f313a24",
      "placeholder": "​",
      "style": "IPY_MODEL_2ac21822f0614c21b8ea151600fc2b5e",
      "value": " 13842/13842 [20:38&lt;00:00, 11.17it/s]"
     }
    },
    "ecc5c4f810a44771936da0cbef99581e": {
     "model_module": "@jupyter-widgets/controls",
     "model_name": "HBoxModel",
     "state": {
      "_dom_classes": [],
      "_model_module": "@jupyter-widgets/controls",
      "_model_module_version": "1.5.0",
      "_model_name": "HBoxModel",
      "_view_count": null,
      "_view_module": "@jupyter-widgets/controls",
      "_view_module_version": "1.5.0",
      "_view_name": "HBoxView",
      "box_style": "",
      "children": [
       "IPY_MODEL_64667ad48efe4a5791babecf1b2f0d37",
       "IPY_MODEL_0fcd25f365364a7b846145f04a9fced6"
      ],
      "layout": "IPY_MODEL_a422e14f827a450b96e8af2255e9e4bf"
     }
    },
    "ed4d8e6dae8542bdb24c5cfb299d0e93": {
     "model_module": "@jupyter-widgets/controls",
     "model_name": "HTMLModel",
     "state": {
      "_dom_classes": [],
      "_model_module": "@jupyter-widgets/controls",
      "_model_module_version": "1.5.0",
      "_model_name": "HTMLModel",
      "_view_count": null,
      "_view_module": "@jupyter-widgets/controls",
      "_view_module_version": "1.5.0",
      "_view_name": "HTMLView",
      "description": "",
      "description_tooltip": null,
      "layout": "IPY_MODEL_7f86c3bdfa904690881b60f3381fcb19",
      "placeholder": "​",
      "style": "IPY_MODEL_47ff5ab2104a40cca61e7c9faac8d537",
      "value": " 9/9 [00:17&lt;00:00,  1.95s/it]"
     }
    },
    "f126796ac82448c186d59e2058c74c38": {
     "model_module": "@jupyter-widgets/controls",
     "model_name": "HBoxModel",
     "state": {
      "_dom_classes": [],
      "_model_module": "@jupyter-widgets/controls",
      "_model_module_version": "1.5.0",
      "_model_name": "HBoxModel",
      "_view_count": null,
      "_view_module": "@jupyter-widgets/controls",
      "_view_module_version": "1.5.0",
      "_view_name": "HBoxView",
      "box_style": "",
      "children": [
       "IPY_MODEL_db03b1638462468d986ec3411d243548",
       "IPY_MODEL_3dd50a68dd85483c9491672fddf01469"
      ],
      "layout": "IPY_MODEL_5eb2418c5c0a4a1c80360da943666d00"
     }
    },
    "f52c7c6415d54f9eb673fd408f98a10e": {
     "model_module": "@jupyter-widgets/base",
     "model_name": "LayoutModel",
     "state": {
      "_model_module": "@jupyter-widgets/base",
      "_model_module_version": "1.2.0",
      "_model_name": "LayoutModel",
      "_view_count": null,
      "_view_module": "@jupyter-widgets/base",
      "_view_module_version": "1.2.0",
      "_view_name": "LayoutView",
      "align_content": null,
      "align_items": null,
      "align_self": null,
      "border": null,
      "bottom": null,
      "display": null,
      "flex": null,
      "flex_flow": null,
      "grid_area": null,
      "grid_auto_columns": null,
      "grid_auto_flow": null,
      "grid_auto_rows": null,
      "grid_column": null,
      "grid_gap": null,
      "grid_row": null,
      "grid_template_areas": null,
      "grid_template_columns": null,
      "grid_template_rows": null,
      "height": null,
      "justify_content": null,
      "justify_items": null,
      "left": null,
      "margin": null,
      "max_height": null,
      "max_width": null,
      "min_height": null,
      "min_width": null,
      "object_fit": null,
      "object_position": null,
      "order": null,
      "overflow": null,
      "overflow_x": null,
      "overflow_y": null,
      "padding": null,
      "right": null,
      "top": null,
      "visibility": null,
      "width": null
     }
    },
    "f7473e317c0646cba95e9a1a3d98c7c6": {
     "model_module": "@jupyter-widgets/controls",
     "model_name": "ProgressStyleModel",
     "state": {
      "_model_module": "@jupyter-widgets/controls",
      "_model_module_version": "1.5.0",
      "_model_name": "ProgressStyleModel",
      "_view_count": null,
      "_view_module": "@jupyter-widgets/base",
      "_view_module_version": "1.2.0",
      "_view_name": "StyleView",
      "bar_color": null,
      "description_width": "initial"
     }
    },
    "fb70942106a14758978d1a286ce4431b": {
     "model_module": "@jupyter-widgets/base",
     "model_name": "LayoutModel",
     "state": {
      "_model_module": "@jupyter-widgets/base",
      "_model_module_version": "1.2.0",
      "_model_name": "LayoutModel",
      "_view_count": null,
      "_view_module": "@jupyter-widgets/base",
      "_view_module_version": "1.2.0",
      "_view_name": "LayoutView",
      "align_content": null,
      "align_items": null,
      "align_self": null,
      "border": null,
      "bottom": null,
      "display": null,
      "flex": null,
      "flex_flow": null,
      "grid_area": null,
      "grid_auto_columns": null,
      "grid_auto_flow": null,
      "grid_auto_rows": null,
      "grid_column": null,
      "grid_gap": null,
      "grid_row": null,
      "grid_template_areas": null,
      "grid_template_columns": null,
      "grid_template_rows": null,
      "height": null,
      "justify_content": null,
      "justify_items": null,
      "left": null,
      "margin": null,
      "max_height": null,
      "max_width": null,
      "min_height": null,
      "min_width": null,
      "object_fit": null,
      "object_position": null,
      "order": null,
      "overflow": null,
      "overflow_x": null,
      "overflow_y": null,
      "padding": null,
      "right": null,
      "top": null,
      "visibility": null,
      "width": null
     }
    },
    "fb70dbfa418743eebc47bdc4233cee43": {
     "model_module": "@jupyter-widgets/controls",
     "model_name": "FloatProgressModel",
     "state": {
      "_dom_classes": [],
      "_model_module": "@jupyter-widgets/controls",
      "_model_module_version": "1.5.0",
      "_model_name": "FloatProgressModel",
      "_view_count": null,
      "_view_module": "@jupyter-widgets/controls",
      "_view_module_version": "1.5.0",
      "_view_name": "ProgressView",
      "bar_style": "success",
      "description": "Passing dataset: 100%",
      "description_tooltip": null,
      "layout": "IPY_MODEL_0205cfa4a7d2444bbed2bae671c1936a",
      "max": 13842,
      "min": 0,
      "orientation": "horizontal",
      "style": "IPY_MODEL_848468371cc14781bc93bfbb5315e457",
      "value": 13842
     }
    },
    "fc80a094d0c54520bc09a0ede028d5e4": {
     "model_module": "@jupyter-widgets/controls",
     "model_name": "FloatProgressModel",
     "state": {
      "_dom_classes": [],
      "_model_module": "@jupyter-widgets/controls",
      "_model_module_version": "1.5.0",
      "_model_name": "FloatProgressModel",
      "_view_count": null,
      "_view_module": "@jupyter-widgets/controls",
      "_view_module_version": "1.5.0",
      "_view_name": "ProgressView",
      "bar_style": "success",
      "description": "Passing dataset: 100%",
      "description_tooltip": null,
      "layout": "IPY_MODEL_a32bf766bd9347028d31182e968691d6",
      "max": 13842,
      "min": 0,
      "orientation": "horizontal",
      "style": "IPY_MODEL_3d5602ae97ca4cd3b089df4ff1fb1b44",
      "value": 13842
     }
    },
    "fd587c922a224681a9964eead04cb878": {
     "model_module": "@jupyter-widgets/controls",
     "model_name": "DescriptionStyleModel",
     "state": {
      "_model_module": "@jupyter-widgets/controls",
      "_model_module_version": "1.5.0",
      "_model_name": "DescriptionStyleModel",
      "_view_count": null,
      "_view_module": "@jupyter-widgets/base",
      "_view_module_version": "1.2.0",
      "_view_name": "StyleView",
      "description_width": ""
     }
    }
   }
  }
 },
 "nbformat": 4,
 "nbformat_minor": 4
}
